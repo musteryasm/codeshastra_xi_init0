{
  "cells": [
    {
      "cell_type": "code",
      "execution_count": 1,
      "metadata": {
        "colab": {
          "base_uri": "https://localhost:8080/"
        },
        "id": "YXLfA8aDnt3i",
        "outputId": "dc25d2d4-5d09-4bc6-fa0a-42ebba17a59f"
      },
      "outputs": [
        {
          "name": "stdout",
          "output_type": "stream",
          "text": [
            "  Preparing metadata (setup.py) ... \u001b[?25l\u001b[?25hdone\n",
            "\u001b[2K   \u001b[90m━━━━━━━━━━━━━━━━━━━━━━━━━━━━━━━━━━━━━━━━\u001b[0m \u001b[32m1.0/1.0 MB\u001b[0m \u001b[31m21.0 MB/s\u001b[0m eta \u001b[36m0:00:00\u001b[0m\n",
            "\u001b[2K   \u001b[90m━━━━━━━━━━━━━━━━━━━━━━━━━━━━━━━━━━━━━━━━\u001b[0m \u001b[32m2.5/2.5 MB\u001b[0m \u001b[31m40.7 MB/s\u001b[0m eta \u001b[36m0:00:00\u001b[0m\n",
            "\u001b[2K   \u001b[90m━━━━━━━━━━━━━━━━━━━━━━━━━━━━━━━━━━━━━━━━\u001b[0m \u001b[32m61.3/61.3 kB\u001b[0m \u001b[31m3.6 MB/s\u001b[0m eta \u001b[36m0:00:00\u001b[0m\n",
            "\u001b[2K   \u001b[90m━━━━━━━━━━━━━━━━━━━━━━━━━━━━━━━━━━━━━━━━\u001b[0m \u001b[32m209.2/209.2 kB\u001b[0m \u001b[31m14.7 MB/s\u001b[0m eta \u001b[36m0:00:00\u001b[0m\n",
            "\u001b[2K   \u001b[90m━━━━━━━━━━━━━━━━━━━━━━━━━━━━━━━━━━━━━━━━\u001b[0m \u001b[32m312.3/312.3 kB\u001b[0m \u001b[31m16.4 MB/s\u001b[0m eta \u001b[36m0:00:00\u001b[0m\n",
            "\u001b[2K   \u001b[90m━━━━━━━━━━━━━━━━━━━━━━━━━━━━━━━━━━━━━━━━\u001b[0m \u001b[32m1.2/1.2 MB\u001b[0m \u001b[31m31.3 MB/s\u001b[0m eta \u001b[36m0:00:00\u001b[0m\n",
            "\u001b[2K   \u001b[90m━━━━━━━━━━━━━━━━━━━━━━━━━━━━━━━━━━━━━━━━\u001b[0m \u001b[32m15.7/15.7 MB\u001b[0m \u001b[31m12.3 MB/s\u001b[0m eta \u001b[36m0:00:00\u001b[0m\n",
            "\u001b[2K   \u001b[90m━━━━━━━━━━━━━━━━━━━━━━━━━━━━━━━━━━━━━━━━\u001b[0m \u001b[32m423.3/423.3 kB\u001b[0m \u001b[31m26.7 MB/s\u001b[0m eta \u001b[36m0:00:00\u001b[0m\n",
            "\u001b[2K   \u001b[90m━━━━━━━━━━━━━━━━━━━━━━━━━━━━━━━━━━━━━━━━\u001b[0m \u001b[32m50.9/50.9 kB\u001b[0m \u001b[31m3.3 MB/s\u001b[0m eta \u001b[36m0:00:00\u001b[0m\n",
            "\u001b[2K   \u001b[90m━━━━━━━━━━━━━━━━━━━━━━━━━━━━━━━━━━━━━━━━\u001b[0m \u001b[32m1.6/1.6 MB\u001b[0m \u001b[31m54.1 MB/s\u001b[0m eta \u001b[36m0:00:00\u001b[0m\n",
            "\u001b[?25h  Building wheel for wikipedia (setup.py) ... \u001b[?25l\u001b[?25hdone\n"
          ]
        }
      ],
      "source": [
        "%pip install --upgrade --quiet  langchain langchain-community langchain-openai langchain-experimental neo4j wikipedia tiktoken yfiles_jupyter_graphs"
      ]
    },
    {
      "cell_type": "code",
      "execution_count": 2,
      "metadata": {
        "colab": {
          "base_uri": "https://localhost:8080/"
        },
        "id": "IGslUOXv2r56",
        "outputId": "6b4f5351-c4fc-4795-96aa-1afa1e76d369"
      },
      "outputs": [
        {
          "name": "stdout",
          "output_type": "stream",
          "text": [
            "Collecting pypdf\n",
            "  Downloading pypdf-5.4.0-py3-none-any.whl.metadata (7.3 kB)\n",
            "Downloading pypdf-5.4.0-py3-none-any.whl (302 kB)\n",
            "\u001b[2K   \u001b[90m━━━━━━━━━━━━━━━━━━━━━━━━━━━━━━━━━━━━━━━━\u001b[0m \u001b[32m302.3/302.3 kB\u001b[0m \u001b[31m10.4 MB/s\u001b[0m eta \u001b[36m0:00:00\u001b[0m\n",
            "\u001b[?25hInstalling collected packages: pypdf\n",
            "Successfully installed pypdf-5.4.0\n"
          ]
        }
      ],
      "source": [
        "pip install pypdf"
      ]
    },
    {
      "cell_type": "code",
      "execution_count": 3,
      "metadata": {
        "id": "kwrpXtDLv-SS"
      },
      "outputs": [],
      "source": [
        "from langchain_core.runnables import (\n",
        "    RunnableBranch,\n",
        "    RunnableLambda,\n",
        "    RunnableParallel,\n",
        "    RunnablePassthrough,\n",
        ")"
      ]
    },
    {
      "cell_type": "code",
      "execution_count": 4,
      "metadata": {
        "id": "s2mX4YSJwPxn"
      },
      "outputs": [],
      "source": [
        "from langchain_core.prompts import ChatPromptTemplate\n",
        "from langchain_core.prompts.prompt import PromptTemplate"
      ]
    },
    {
      "cell_type": "code",
      "execution_count": null,
      "metadata": {
        "id": "VqxUXV-JwUeo"
      },
      "outputs": [],
      "source": [
        "from google.colab import userdata\n"
      ]
    },
    {
      "cell_type": "code",
      "execution_count": 6,
      "metadata": {
        "id": "QLCM3GRiwUbn"
      },
      "outputs": [],
      "source": [
        "from typing import Tuple, List, Optional"
      ]
    },
    {
      "cell_type": "code",
      "execution_count": 7,
      "metadata": {
        "id": "S-Hgkef3wUY1"
      },
      "outputs": [],
      "source": [
        "from langchain_core.messages import AIMessage, HumanMessage\n",
        "from langchain_core.output_parsers import StrOutputParser"
      ]
    },
    {
      "cell_type": "code",
      "execution_count": 8,
      "metadata": {
        "id": "AFCV4up3wUV8"
      },
      "outputs": [],
      "source": [
        "from langchain_core.runnables import ConfigurableField"
      ]
    },
    {
      "cell_type": "code",
      "execution_count": 9,
      "metadata": {
        "id": "0FCM750UwwSU"
      },
      "outputs": [],
      "source": [
        "from yfiles_jupyter_graphs import GraphWidget\n",
        "from neo4j import GraphDatabase"
      ]
    },
    {
      "cell_type": "code",
      "execution_count": 10,
      "metadata": {
        "id": "e-ZTvMqiwwP3"
      },
      "outputs": [],
      "source": [
        "import os"
      ]
    },
    {
      "cell_type": "code",
      "execution_count": 11,
      "metadata": {
        "id": "KSTezmsRw1WO"
      },
      "outputs": [],
      "source": [
        "try:\n",
        "  import google.colab\n",
        "  from google.colab import output\n",
        "  output.enable_custom_widget_manager()\n",
        "except:\n",
        "  pass"
      ]
    },
    {
      "cell_type": "code",
      "execution_count": 12,
      "metadata": {
        "id": "GJQG-dfNw1S2"
      },
      "outputs": [],
      "source": [
        "from langchain_community.vectorstores import Neo4jVector"
      ]
    },
    {
      "cell_type": "code",
      "execution_count": null,
      "metadata": {
        "id": "UwGqMxGT31dl"
      },
      "outputs": [],
      "source": []
    },
    {
      "cell_type": "code",
      "execution_count": 14,
      "metadata": {
        "id": "2soU_2k24XgF"
      },
      "outputs": [],
      "source": [
        "os.environ[\"OPENAI_API_KEY\"] = OPENAI_API_KEY\n",
        "os.environ[\"NEO4J_URI\"] = NEO4J_URI\n",
        "os.environ[\"NEO4J_USERNAME\"] = NEO4J_USERNAME\n",
        "os.environ[\"NEO4J_PASSWORD\"] = NEO4J_PASSWORD"
      ]
    },
    {
      "cell_type": "code",
      "execution_count": 15,
      "metadata": {
        "id": "NEsCvhwqxHaK"
      },
      "outputs": [],
      "source": [
        "from langchain_community.graphs import Neo4jGraph"
      ]
    },
    {
      "cell_type": "code",
      "execution_count": 16,
      "metadata": {
        "colab": {
          "base_uri": "https://localhost:8080/"
        },
        "id": "GC5WB591xHSX",
        "outputId": "7d82513e-612b-4ec8-b1ab-755c873e5258"
      },
      "outputs": [
        {
          "name": "stderr",
          "output_type": "stream",
          "text": [
            "<ipython-input-16-6e7385464d00>:1: LangChainDeprecationWarning: The class `Neo4jGraph` was deprecated in LangChain 0.3.8 and will be removed in 1.0. An updated version of the class exists in the :class:`~langchain-neo4j package and should be used instead. To use it run `pip install -U :class:`~langchain-neo4j` and import as `from :class:`~langchain_neo4j import Neo4jGraph``.\n",
            "  graph = Neo4jGraph()\n"
          ]
        }
      ],
      "source": [
        "graph = Neo4jGraph()"
      ]
    },
    {
      "cell_type": "code",
      "execution_count": 17,
      "metadata": {
        "id": "AbATEYVC5GQg"
      },
      "outputs": [],
      "source": [
        "import pandas as pd\n",
        "\n",
        "df = pd.read_csv(\"/content/invo_10.csv\", low_memory=False)\n",
        "\n",
        "\n"
      ]
    },
    {
      "cell_type": "code",
      "execution_count": 18,
      "metadata": {
        "id": "d1zvZVnt6ngg"
      },
      "outputs": [],
      "source": [
        "\n",
        "from langchain_core.documents import Document\n",
        "from langchain.text_splitter import TokenTextSplitter\n",
        "\n",
        "\n",
        "\n",
        "# Convert each row to a single string and wrap in Document\n",
        "documents = []\n",
        "for i, row in df.iterrows():\n",
        "    row_text = \" | \".join([f\"{col}: {row[col]}\" for col in df.columns])\n",
        "    documents.append(Document(page_content=row_text))\n",
        "\n",
        "# Split documents into smaller chunks\n",
        "text_splitter = TokenTextSplitter(chunk_size=512, chunk_overlap=24)\n",
        "chunked_documents = text_splitter.split_documents(documents)\n"
      ]
    },
    {
      "cell_type": "code",
      "execution_count": 19,
      "metadata": {
        "colab": {
          "base_uri": "https://localhost:8080/"
        },
        "id": "D9_AA6N4AYPf",
        "outputId": "721237d0-925b-4cd6-fd54-dae699ea4ddb"
      },
      "outputs": [
        {
          "data": {
            "text/plain": [
              "[Document(metadata={}, page_content='Date: 04-10-2024 | Timestamp: 2024-10-04 18:53:25 UTC | Invoice_No_: C1984 | Payment_Type: Cash | Order_Type: Dine In | Area: Garden Table | Item_Name: Exotic Stir Fried Vegetable | Price: 795 | Qty_: 1.0 | Sub_Total: 795.0 | Discount: 0.0 | Tax: 79.6 | Final_Total: 874.6 | Status: Complimentary | Table_No_: G 5 | Server_Name: TAPASH | Covers: 3 | Variation: nan | Category: ORIENTAL STARTER | HSN: nan | Phone: 9843950806 | Name: PHOTO SHOOT | Address: nan | GST: nan | Assign_To: nan | Non_Taxable: 0.0 | CGST_Rate: 2.5 | CGST_Amount: 19.9 | SGST_Rate: 2.5 | SGST_Amount: 19.9 | VAT_Rate: 10 | VAT_Amount: 0.0 | Service_Charge_Rate: 5 | Service_Charge_Amount: 39.8 | Date_z: nan | Invoice_Date_z: nan | Aggregator_Order_No_z: nan | PoS_Invoice_No_z: nan | Order_From_z: nan | Outlet_Name_z: nan | Petpooja_Identifier_z: nan | Order_Type_z: nan | Customer_Name_z: nan | Customer_Phone_z: 9843950806 | Payment_Type_z: nan | Delivery_status_z: nan | Status_z: nan | My_amount_z: nan | Aggregator_Discount_z: nan | Outlet_Discount_z: nan | Delivery_Charges_z: nan | Container_Charges_z: nan | CGST_z: nan | SGST_z: nan | IGST_z: nan | Total_z: nan | Order_Acceptance_Time_z: nan | Order_Delivery_Time_z: nan | Reason_z: nan | Online_Tax_Calculated_z: nan | GST_Paid_by_Merchant_z: nan | GST_Paid_by_Ecommerce_z: nan'),\n",
              " Document(metadata={}, page_content='aid_by_Merchant_z: nan | GST_Paid_by_Ecommerce_z: nan | Restaurant_ID_z: 950806 | Client_Sharing_Code_z: nan | Identifier_z: nan | Order_ID_z: nan | Order_Status_z: nan | Received_Time_z: nan | Accepted_Time_z: nan | Mark_Ready_Time_z: nan | Rider_Arrival_Time_z: nan | Picked_up_Time_z: nan | Delivered_Time_z: nan | Cancelled_Time_z: nan | Date_s: nan | Invoice_Date_s: nan | Aggregator_Order_No_s: nan | PoS_Invoice_No_s: nan | Order_From_s: nan | Outlet_Name_s: nan | Petpooja_Identifier_s: nan | Order_Type_s: nan | Customer_Name_s: nan | Customer_Phone_s: 9843950806 | Payment_Type_s: nan | Delivery_status_s: nan | Status_s: nan | My_amount_s: nan | Aggregator_Discount_s: nan | Outlet_Discount_s: nan | Delivery_Charges_s: nan | Container_Charges_s: nan | CGST_s: nan | SGST_s: nan | IGST_s: nan | Total_s: nan | Order_Acceptance_Time_s: nan | Order_Delivery_Time_s: nan | Reason_s: nan | Online_Tax_Calculated_s: nan | GST_Paid_by_Merchant_s: nan | GST_Paid_by_Ecommerce_s: nan | Restaurant_ID_s: 950806 | Client_Sharing_Code_s: nan | Identifier_s: nan | Order_ID_s: nan | Order_Status_s: nan | Received_Time_s: nan | Accepted_Time_s: nan | Mark_Ready_Time_s: nan | Rider_Arrival_Time_s: nan | Picked_up_Time_s: nan | Delivered_Time_s: nan | Cancelled_Time_s: nan | Customer_Name_ff: nan | Date_of'),\n",
              " Document(metadata={}, page_content='s: nan | Cancelled_Time_s: nan | Customer_Name_ff: nan | Date_of_Birth_ff: nan | Date_of_Anniversary_ff: nan | Customer_Phone_ff: nan | From__ff: nan | Customer_Email_ff: nan | Invoice_Id_ff: nan | Table_No_ff: nan | Order_Type_ff: nan | Answer_ff: nan | Created_ff: nan | Customer_Name_sf: nan | Date_of_Birth_sf: nan | Date_of_Anniversary_sf: nan | Customer_Phone_sf: nan | From__sf: nan | Customer_Email_sf: nan | Invoice_Id_sf: nan | Table_No_sf: nan | Order_Type_sf: nan | Answer_sf: nan | Created_sf: nan | PAX: nan | Biller_BSR: nan | First_Print_Date_BSR: nan | Last_Settlement_Date_BSR: nan | Duration__In_Minutes_BSR: nan | Settled_By_BSR: nan | area_co: nan | order_cancel_reason_co: nan | Cancelled_Invoice_Total_co: nan | Discount_Order_Type_DSR: nan | Biller_Name: nan | Discount_DSR: nan | Reason_DSR: nan | Food_Preparation_Time_Z: nan | Food_Preparation_Time_S: nan | Zomato_Delivery_Time: nan | Swiggy_Delivery_Time: nan | amount_from: nan | amount_to: nan | modified_by: nan | modify_comment: nan | electron_pos: nan | bill_no: nan | invoice_no: nan | date_orap: nan | has_anomaly: No | anomaly_priority: nan | anomaly_payment_mismatch: 0 | anomaly_missing_payment_info: 0 | anomaly_multiple_payment_types: 0 | anomaly_tax_calculation_mismatch: 0 | anomaly_zero_tax_on_taxable: 0 | anomaly_large_order_modification: 0 | anomaly_modification_without_comment: 0 | anomaly_zomato_invoice_mismatch: 0 | anomaly_swiggy_'),\n",
              " Document(metadata={}, page_content=': 0 | anomaly_zomato_invoice_mismatch: 0 | anomaly_swiggy_invoice_mismatch: 0 | anomaly_long_zomato_prep_time: 0 | anomaly_long_swiggy_prep_time: 0 | anomaly_zomato_missing_delivery_time: 0 | anomaly_swiggy_missing_delivery_time: 0 | anomaly_high_discount: 0 | anomaly_discount_without_reason: 0 | anomaly_zomato_status_mismatch: 0 | anomaly_swiggy_status_mismatch: 0 | anomaly_extreme_settlement_time: 0 | anomaly_unusual_settlement_time: 0 | anomaly_long_bill_settlement: 0 | anomaly_missing_server_name: 0 | anomaly_zomato_missing_customer: 0 | anomaly_swiggy_missing_customer: 0 | anomaly_suspicious_pax: 0 | anomaly_price_inconsistency: 0 | pattern_risk: Low Risk | reason_pattern_risk: is_cash'),\n",
              " Document(metadata={}, page_content='Date: 29-03-2025 | Timestamp: 2025-03-29 22:45:03 UTC | Invoice_No_: 22351 | Payment_Type: Other [ZOMATO PAY] | Order_Type: Dine In | Area: Dine in | Item_Name: Shirely Temple | Price: 365 | Qty_: 1.0 | Sub_Total: 365.0 | Discount: 0.0 | Tax: 18.2 | Final_Total: 383.2 | Status: Success | Table_No_: 30 | Server_Name: SANDEEP | Covers: 9 | Variation: nan | Category: BAR MOCKTAIL | HSN: nan | Phone: 9844043557 | Name: YASH PAREKH | Address: nan | GST: nan | Assign_To: SANDEEP | Non_Taxable: 0.0 | CGST_Rate: 2.5 | CGST_Amount: 9.1 | SGST_Rate: 2.5 | SGST_Amount: 9.1 | VAT_Rate: 10 | VAT_Amount: 0.0 | Service_Charge_Rate: 5 | Service_Charge_Amount: 0.0 | Date_z: nan | Invoice_Date_z: nan | Aggregator_Order_No_z: nan | PoS_Invoice_No_z: nan | Order_From_z: nan | Outlet_Name_z: nan | Petpooja_Identifier_z: nan | Order_Type_z: nan | Customer_Name_z: nan | Customer_Phone_z: 9844043557 | Payment_Type_z: nan | Delivery_status_z: nan | Status_z: nan | My_amount_z: nan | Aggregator_Discount_z: nan | Outlet_Discount_z: nan | Delivery_Charges_z: nan | Container_Charges_z: nan | CGST_z: nan | SGST_z: nan | IGST_z: nan | Total_z: nan | Order_Acceptance_Time_z: nan | Order_Delivery_Time_z: nan | Reason_z: nan | Online_Tax_Calculated_z: nan | GST_Paid_by_Merchant_z: nan | GST_Paid_by_E'),\n",
              " Document(metadata={}, page_content=' nan | GST_Paid_by_Merchant_z: nan | GST_Paid_by_Ecommerce_z: nan | Restaurant_ID_z: 43557 | Client_Sharing_Code_z: nan | Identifier_z: nan | Order_ID_z: nan | Order_Status_z: nan | Received_Time_z: nan | Accepted_Time_z: nan | Mark_Ready_Time_z: nan | Rider_Arrival_Time_z: nan | Picked_up_Time_z: nan | Delivered_Time_z: nan | Cancelled_Time_z: nan | Date_s: nan | Invoice_Date_s: nan | Aggregator_Order_No_s: nan | PoS_Invoice_No_s: nan | Order_From_s: nan | Outlet_Name_s: nan | Petpooja_Identifier_s: nan | Order_Type_s: nan | Customer_Name_s: nan | Customer_Phone_s: 9844043557 | Payment_Type_s: nan | Delivery_status_s: nan | Status_s: nan | My_amount_s: nan | Aggregator_Discount_s: nan | Outlet_Discount_s: nan | Delivery_Charges_s: nan | Container_Charges_s: nan | CGST_s: nan | SGST_s: nan | IGST_s: nan | Total_s: nan | Order_Acceptance_Time_s: nan | Order_Delivery_Time_s: nan | Reason_s: nan | Online_Tax_Calculated_s: nan | GST_Paid_by_Merchant_s: nan | GST_Paid_by_Ecommerce_s: nan | Restaurant_ID_s: 43557 | Client_Sharing_Code_s: nan | Identifier_s: nan | Order_ID_s: nan | Order_Status_s: nan | Received_Time_s: nan | Accepted_Time_s: nan | Mark_Ready_Time_s: nan | Rider_Arrival_Time_s: nan | Picked_up_Time_s: nan | Delivered_Time_s: nan | Cancelled_Time_s: nan | Customer_Name_ff:'),\n",
              " Document(metadata={}, page_content=' Delivered_Time_s: nan | Cancelled_Time_s: nan | Customer_Name_ff: nan | Date_of_Birth_ff: nan | Date_of_Anniversary_ff: nan | Customer_Phone_ff: nan | From__ff: nan | Customer_Email_ff: nan | Invoice_Id_ff: nan | Table_No_ff: nan | Order_Type_ff: nan | Answer_ff: nan | Created_ff: nan | Customer_Name_sf: nan | Date_of_Birth_sf: nan | Date_of_Anniversary_sf: nan | Customer_Phone_sf: nan | From__sf: nan | Customer_Email_sf: nan | Invoice_Id_sf: nan | Table_No_sf: nan | Order_Type_sf: nan | Answer_sf: nan | Created_sf: nan | PAX: nan | Biller_BSR: SANDEEP | First_Print_Date_BSR: 2025-03-29 22:45:04 UTC | Last_Settlement_Date_BSR: 2025-03-29 22:54:05 UTC | Duration__In_Minutes_BSR: 9.0 | Settled_By_BSR: vijay ( | area_co: nan | order_cancel_reason_co: nan | Cancelled_Invoice_Total_co: nan | Discount_Order_Type_DSR: nan | Biller_Name: nan | Discount_DSR: nan | Reason_DSR: nan | Food_Preparation_Time_Z: nan | Food_Preparation_Time_S: nan | Zomato_Delivery_Time: nan | Swiggy_Delivery_Time: nan | amount_from: 9801.0 | amount_to: 9335.0 | modified_by: vijay ( | modify_comment: removed sc | electron_pos: 2025-03-29 22:46:42 UTC | bill_no: F22351 | invoice_no: 22351.0 | date_orap: 2025-03-29 22:45:03 UTC | has_anomaly: No | anomaly_priority: nan | anomaly_payment_mismatch: 0 | anomaly_missing_payment_info: 0 | anomaly_multiple_payment_types: 0 | anomaly_'),\n",
              " Document(metadata={}, page_content=' 0 | anomaly_missing_payment_info: 0 | anomaly_multiple_payment_types: 0 | anomaly_tax_calculation_mismatch: 0 | anomaly_zero_tax_on_taxable: 0 | anomaly_large_order_modification: 0 | anomaly_modification_without_comment: 0 | anomaly_zomato_invoice_mismatch: 0 | anomaly_swiggy_invoice_mismatch: 0 | anomaly_long_zomato_prep_time: 0 | anomaly_long_swiggy_prep_time: 0 | anomaly_zomato_missing_delivery_time: 0 | anomaly_swiggy_missing_delivery_time: 0 | anomaly_high_discount: 0 | anomaly_discount_without_reason: 0 | anomaly_zomato_status_mismatch: 0 | anomaly_swiggy_status_mismatch: 0 | anomaly_extreme_settlement_time: 0 | anomaly_unusual_settlement_time: 0 | anomaly_long_bill_settlement: 0 | anomaly_missing_server_name: 0 | anomaly_zomato_missing_customer: 0 | anomaly_swiggy_missing_customer: 0 | anomaly_suspicious_pax: 0 | anomaly_price_inconsistency: 0 | pattern_risk: Low Risk | reason_pattern_risk: nan'),\n",
              " Document(metadata={}, page_content='Date: 30-08-2024 | Timestamp: 2024-08-30 22:13:37 UTC | Invoice_No_: 8847 | Payment_Type: CARD | Order_Type: Dine In | Area: Garden Table | Item_Name: WONTON (VEG) | Price: 765 | Qty_: 1.0 | Sub_Total: 765.0 | Discount: 0.0 | Tax: 76.5 | Final_Total: 841.5 | Status: Success | Table_No_: G 5 | Server_Name: TANMOY  | Covers: 6 | Variation: VEG | Category: ORIENTAL STARTER | HSN: nan | Phone: 9819872420 | Name: radhika | Address: nan | GST: nan | Assign_To: TANMOY  | Non_Taxable: 0.0 | CGST_Rate: 2.5 | CGST_Amount: 19.1 | SGST_Rate: 2.5 | SGST_Amount: 19.1 | VAT_Rate: 10 | VAT_Amount: 0.0 | Service_Charge_Rate: 5 | Service_Charge_Amount: 38.3 | Date_z: nan | Invoice_Date_z: nan | Aggregator_Order_No_z: nan | PoS_Invoice_No_z: nan | Order_From_z: nan | Outlet_Name_z: nan | Petpooja_Identifier_z: nan | Order_Type_z: nan | Customer_Name_z: nan | Customer_Phone_z: 9819872420 | Payment_Type_z: nan | Delivery_status_z: nan | Status_z: nan | My_amount_z: nan | Aggregator_Discount_z: nan | Outlet_Discount_z: nan | Delivery_Charges_z: nan | Container_Charges_z: nan | CGST_z: nan | SGST_z: nan | IGST_z: nan | Total_z: nan | Order_Acceptance_Time_z: nan | Order_Delivery_Time_z: nan | Reason_z: nan | Online_Tax_Calculated_z: nan | GST_Paid_by_Merchant_z: nan | GST_Paid_by_Ecommerce'),\n",
              " Document(metadata={}, page_content=' | GST_Paid_by_Merchant_z: nan | GST_Paid_by_Ecommerce_z: nan | Restaurant_ID_z: 872420 | Client_Sharing_Code_z: nan | Identifier_z: nan | Order_ID_z: nan | Order_Status_z: nan | Received_Time_z: nan | Accepted_Time_z: nan | Mark_Ready_Time_z: nan | Rider_Arrival_Time_z: nan | Picked_up_Time_z: nan | Delivered_Time_z: nan | Cancelled_Time_z: nan | Date_s: nan | Invoice_Date_s: nan | Aggregator_Order_No_s: nan | PoS_Invoice_No_s: nan | Order_From_s: nan | Outlet_Name_s: nan | Petpooja_Identifier_s: nan | Order_Type_s: nan | Customer_Name_s: nan | Customer_Phone_s: 9819872420 | Payment_Type_s: nan | Delivery_status_s: nan | Status_s: nan | My_amount_s: nan | Aggregator_Discount_s: nan | Outlet_Discount_s: nan | Delivery_Charges_s: nan | Container_Charges_s: nan | CGST_s: nan | SGST_s: nan | IGST_s: nan | Total_s: nan | Order_Acceptance_Time_s: nan | Order_Delivery_Time_s: nan | Reason_s: nan | Online_Tax_Calculated_s: nan | GST_Paid_by_Merchant_s: nan | GST_Paid_by_Ecommerce_s: nan | Restaurant_ID_s: 872420 | Client_Sharing_Code_s: nan | Identifier_s: nan | Order_ID_s: nan | Order_Status_s: nan | Received_Time_s: nan | Accepted_Time_s: nan | Mark_Ready_Time_s: nan | Rider_Arrival_Time_s: nan | Picked_up_Time_s: nan | Delivered_Time_s: nan | Cancelled_Time_s: nan | Customer_Name_ff:'),\n",
              " Document(metadata={}, page_content=' Delivered_Time_s: nan | Cancelled_Time_s: nan | Customer_Name_ff: nan | Date_of_Birth_ff: nan | Date_of_Anniversary_ff: nan | Customer_Phone_ff: nan | From__ff: nan | Customer_Email_ff: nan | Invoice_Id_ff: nan | Table_No_ff: nan | Order_Type_ff: nan | Answer_ff: nan | Created_ff: nan | Customer_Name_sf: nan | Date_of_Birth_sf: nan | Date_of_Anniversary_sf: nan | Customer_Phone_sf: nan | From__sf: nan | Customer_Email_sf: nan | Invoice_Id_sf: nan | Table_No_sf: nan | Order_Type_sf: nan | Answer_sf: nan | Created_sf: nan | PAX: nan | Biller_BSR: TANMOY  | First_Print_Date_BSR: 2024-08-30 22:13:38 UTC | Last_Settlement_Date_BSR: 2024-08-30 22:15:44 UTC | Duration__In_Minutes_BSR: 2.0 | Settled_By_BSR: vijay ( | area_co: nan | order_cancel_reason_co: nan | Cancelled_Invoice_Total_co: nan | Discount_Order_Type_DSR: nan | Biller_Name: nan | Discount_DSR: nan | Reason_DSR: nan | Food_Preparation_Time_Z: nan | Food_Preparation_Time_S: nan | Zomato_Delivery_Time: nan | Swiggy_Delivery_Time: nan | amount_from: nan | amount_to: nan | modified_by: nan | modify_comment: nan | electron_pos: nan | bill_no: nan | invoice_no: nan | date_orap: nan | has_anomaly: No | anomaly_priority: nan | anomaly_payment_mismatch: 0 | anomaly_missing_payment_info: 0 | anomaly_multiple_payment_types: 0 | anomaly_tax_calculation_mismatch: 0 | anomaly_zero_tax_on_taxable: 0 | anomaly_large_order_modification:'),\n",
              " Document(metadata={}, page_content=' 0 | anomaly_zero_tax_on_taxable: 0 | anomaly_large_order_modification: 0 | anomaly_modification_without_comment: 0 | anomaly_zomato_invoice_mismatch: 0 | anomaly_swiggy_invoice_mismatch: 0 | anomaly_long_zomato_prep_time: 0 | anomaly_long_swiggy_prep_time: 0 | anomaly_zomato_missing_delivery_time: 0 | anomaly_swiggy_missing_delivery_time: 0 | anomaly_high_discount: 0 | anomaly_discount_without_reason: 0 | anomaly_zomato_status_mismatch: 0 | anomaly_swiggy_status_mismatch: 0 | anomaly_extreme_settlement_time: 0 | anomaly_unusual_settlement_time: 0 | anomaly_long_bill_settlement: 0 | anomaly_missing_server_name: 0 | anomaly_zomato_missing_customer: 0 | anomaly_swiggy_missing_customer: 0 | anomaly_suspicious_pax: 0 | anomaly_price_inconsistency: 0 | pattern_risk: Low Risk | reason_pattern_risk: is_card_payment'),\n",
              " Document(metadata={}, page_content='Date: 30-10-2024 | Timestamp: 2024-10-30 15:25:36 UTC | Invoice_No_: 12615 | Payment_Type: CARD | Order_Type: Dine In | Area: Dine in | Item_Name: Exotic Stir Fried Vegetable | Price: 795 | Qty_: 1.0 | Sub_Total: 795.0 | Discount: 0.0 | Tax: 79.6 | Final_Total: 874.6 | Status: Success | Table_No_: 15 | Server_Name: TANMOY  | Covers: 5 | Variation: nan | Category: ORIENTAL STARTER | HSN: nan | Phone: 9813566106 | Name: DR RAJSHREE | Address: nan | GST: nan | Assign_To: TANMOY  | Non_Taxable: 0.0 | CGST_Rate: 2.5 | CGST_Amount: 19.9 | SGST_Rate: 2.5 | SGST_Amount: 19.9 | VAT_Rate: 10 | VAT_Amount: 0.0 | Service_Charge_Rate: 5 | Service_Charge_Amount: 39.8 | Date_z: nan | Invoice_Date_z: nan | Aggregator_Order_No_z: nan | PoS_Invoice_No_z: nan | Order_From_z: nan | Outlet_Name_z: nan | Petpooja_Identifier_z: nan | Order_Type_z: nan | Customer_Name_z: nan | Customer_Phone_z: 9813566106 | Payment_Type_z: nan | Delivery_status_z: nan | Status_z: nan | My_amount_z: nan | Aggregator_Discount_z: nan | Outlet_Discount_z: nan | Delivery_Charges_z: nan | Container_Charges_z: nan | CGST_z: nan | SGST_z: nan | IGST_z: nan | Total_z: nan | Order_Acceptance_Time_z: nan | Order_Delivery_Time_z: nan | Reason_z: nan | Online_Tax_Calculated_z: nan | GST_Paid_by_Merchant_z: nan | GST_Paid_by_Ecommerce'),\n",
              " Document(metadata={}, page_content=' | GST_Paid_by_Merchant_z: nan | GST_Paid_by_Ecommerce_z: nan | Restaurant_ID_z: 566106 | Client_Sharing_Code_z: nan | Identifier_z: nan | Order_ID_z: nan | Order_Status_z: nan | Received_Time_z: nan | Accepted_Time_z: nan | Mark_Ready_Time_z: nan | Rider_Arrival_Time_z: nan | Picked_up_Time_z: nan | Delivered_Time_z: nan | Cancelled_Time_z: nan | Date_s: nan | Invoice_Date_s: nan | Aggregator_Order_No_s: nan | PoS_Invoice_No_s: nan | Order_From_s: nan | Outlet_Name_s: nan | Petpooja_Identifier_s: nan | Order_Type_s: nan | Customer_Name_s: nan | Customer_Phone_s: 9813566106 | Payment_Type_s: nan | Delivery_status_s: nan | Status_s: nan | My_amount_s: nan | Aggregator_Discount_s: nan | Outlet_Discount_s: nan | Delivery_Charges_s: nan | Container_Charges_s: nan | CGST_s: nan | SGST_s: nan | IGST_s: nan | Total_s: nan | Order_Acceptance_Time_s: nan | Order_Delivery_Time_s: nan | Reason_s: nan | Online_Tax_Calculated_s: nan | GST_Paid_by_Merchant_s: nan | GST_Paid_by_Ecommerce_s: nan | Restaurant_ID_s: 566106 | Client_Sharing_Code_s: nan | Identifier_s: nan | Order_ID_s: nan | Order_Status_s: nan | Received_Time_s: nan | Accepted_Time_s: nan | Mark_Ready_Time_s: nan | Rider_Arrival_Time_s: nan | Picked_up_Time_s: nan | Delivered_Time_s: nan | Cancelled_Time_s: nan | Customer_Name_ff:'),\n",
              " Document(metadata={}, page_content=' Delivered_Time_s: nan | Cancelled_Time_s: nan | Customer_Name_ff: nan | Date_of_Birth_ff: nan | Date_of_Anniversary_ff: nan | Customer_Phone_ff: nan | From__ff: nan | Customer_Email_ff: nan | Invoice_Id_ff: nan | Table_No_ff: nan | Order_Type_ff: nan | Answer_ff: nan | Created_ff: nan | Customer_Name_sf: nan | Date_of_Birth_sf: nan | Date_of_Anniversary_sf: nan | Customer_Phone_sf: nan | From__sf: nan | Customer_Email_sf: nan | Invoice_Id_sf: nan | Table_No_sf: nan | Order_Type_sf: nan | Answer_sf: nan | Created_sf: nan | PAX: nan | Biller_BSR: TANMOY  | First_Print_Date_BSR: 2024-10-30 15:25:37 UTC | Last_Settlement_Date_BSR: 2024-10-30 15:42:08 UTC | Duration__In_Minutes_BSR: 16.0 | Settled_By_BSR: vijay ( | area_co: nan | order_cancel_reason_co: nan | Cancelled_Invoice_Total_co: nan | Discount_Order_Type_DSR: nan | Biller_Name: nan | Discount_DSR: nan | Reason_DSR: nan | Food_Preparation_Time_Z: nan | Food_Preparation_Time_S: nan | Zomato_Delivery_Time: nan | Swiggy_Delivery_Time: nan | amount_from: nan | amount_to: nan | modified_by: nan | modify_comment: nan | electron_pos: nan | bill_no: nan | invoice_no: nan | date_orap: nan | has_anomaly: Yes | anomaly_priority: Medium | anomaly_payment_mismatch: 0 | anomaly_missing_payment_info: 0 | anomaly_multiple_payment_types: 0 | anomaly_tax_calculation_mismatch: 0 | anomaly_zero_tax_on_taxable: 0 | anomaly_large_order_modification:'),\n",
              " Document(metadata={}, page_content=' 0 | anomaly_zero_tax_on_taxable: 0 | anomaly_large_order_modification: 0 | anomaly_modification_without_comment: 0 | anomaly_zomato_invoice_mismatch: 0 | anomaly_swiggy_invoice_mismatch: 0 | anomaly_long_zomato_prep_time: 0 | anomaly_long_swiggy_prep_time: 0 | anomaly_zomato_missing_delivery_time: 0 | anomaly_swiggy_missing_delivery_time: 0 | anomaly_high_discount: 0 | anomaly_discount_without_reason: 0 | anomaly_zomato_status_mismatch: 0 | anomaly_swiggy_status_mismatch: 0 | anomaly_extreme_settlement_time: 0 | anomaly_unusual_settlement_time: 1 | anomaly_long_bill_settlement: 0 | anomaly_missing_server_name: 0 | anomaly_zomato_missing_customer: 0 | anomaly_swiggy_missing_customer: 0 | anomaly_suspicious_pax: 0 | anomaly_price_inconsistency: 0 | pattern_risk: Low Risk | reason_pattern_risk: is_card_payment'),\n",
              " Document(metadata={}, page_content='Date: 03-08-2024 | Timestamp: 2024-08-04 00:29:02 UTC | Invoice_No_: 2005 | Payment_Type: Cash | Order_Type: Dine In | Area: Dine in | Item_Name: GLENLIVET - 12 YEARS | Price: 950 | Qty_: 2.0 | Sub_Total: 1900.0 | Discount: 0.0 | Tax: 285.0 | Final_Total: 2185.0 | Status: Success | Table_No_: 12 | Server_Name: vijay s | Covers: 3 | Variation: nan | Category: BAR MALT WHISKY | HSN: nan | Phone: 9881860034 | Name: nan | Address: nan | GST: 27ABDFR9342Q1ZE | Assign_To: UMESH B | Non_Taxable: 0.0 | CGST_Rate: 2.5 | CGST_Amount: 0.0 | SGST_Rate: 2.5 | SGST_Amount: 0.0 | VAT_Rate: 10 | VAT_Amount: 190.0 | Service_Charge_Rate: 5 | Service_Charge_Amount: 95.0 | Date_z: nan | Invoice_Date_z: nan | Aggregator_Order_No_z: nan | PoS_Invoice_No_z: nan | Order_From_z: nan | Outlet_Name_z: nan | Petpooja_Identifier_z: nan | Order_Type_z: nan | Customer_Name_z: nan | Customer_Phone_z: 9881860034 | Payment_Type_z: nan | Delivery_status_z: nan | Status_z: nan | My_amount_z: nan | Aggregator_Discount_z: nan | Outlet_Discount_z: nan | Delivery_Charges_z: nan | Container_Charges_z: nan | CGST_z: nan | SGST_z: nan | IGST_z: nan | Total_z: nan | Order_Acceptance_Time_z: nan | Order_Delivery_Time_z: nan | Reason_z: nan | Online_Tax_Calculated_z: nan | GST_Paid_by_Merchant_z: nan | GST_Paid_'),\n",
              " Document(metadata={}, page_content='_z: nan | GST_Paid_by_Merchant_z: nan | GST_Paid_by_Ecommerce_z: nan | Restaurant_ID_z: 860034 | Client_Sharing_Code_z: nan | Identifier_z: nan | Order_ID_z: nan | Order_Status_z: nan | Received_Time_z: nan | Accepted_Time_z: nan | Mark_Ready_Time_z: nan | Rider_Arrival_Time_z: nan | Picked_up_Time_z: nan | Delivered_Time_z: nan | Cancelled_Time_z: nan | Date_s: nan | Invoice_Date_s: nan | Aggregator_Order_No_s: nan | PoS_Invoice_No_s: nan | Order_From_s: nan | Outlet_Name_s: nan | Petpooja_Identifier_s: nan | Order_Type_s: nan | Customer_Name_s: nan | Customer_Phone_s: 9881860034 | Payment_Type_s: nan | Delivery_status_s: nan | Status_s: nan | My_amount_s: nan | Aggregator_Discount_s: nan | Outlet_Discount_s: nan | Delivery_Charges_s: nan | Container_Charges_s: nan | CGST_s: nan | SGST_s: nan | IGST_s: nan | Total_s: nan | Order_Acceptance_Time_s: nan | Order_Delivery_Time_s: nan | Reason_s: nan | Online_Tax_Calculated_s: nan | GST_Paid_by_Merchant_s: nan | GST_Paid_by_Ecommerce_s: nan | Restaurant_ID_s: 860034 | Client_Sharing_Code_s: nan | Identifier_s: nan | Order_ID_s: nan | Order_Status_s: nan | Received_Time_s: nan | Accepted_Time_s: nan | Mark_Ready_Time_s: nan | Rider_Arrival_Time_s: nan | Picked_up_Time_s: nan | Delivered_Time_s: nan | Cancelled_Time_s: nan | Customer'),\n",
              " Document(metadata={}, page_content='_s: nan | Delivered_Time_s: nan | Cancelled_Time_s: nan | Customer_Name_ff: nan | Date_of_Birth_ff: nan | Date_of_Anniversary_ff: nan | Customer_Phone_ff: nan | From__ff: nan | Customer_Email_ff: nan | Invoice_Id_ff: nan | Table_No_ff: nan | Order_Type_ff: nan | Answer_ff: nan | Created_ff: nan | Customer_Name_sf: nan | Date_of_Birth_sf: nan | Date_of_Anniversary_sf: nan | Customer_Phone_sf: nan | From__sf: nan | Customer_Email_sf: nan | Invoice_Id_sf: nan | Table_No_sf: nan | Order_Type_sf: nan | Answer_sf: nan | Created_sf: nan | PAX: nan | Biller_BSR: vijay ( | First_Print_Date_BSR: 2024-08-04 00:29:02 UTC | Last_Settlement_Date_BSR: 2024-08-04 00:38:16 UTC | Duration__In_Minutes_BSR: 9.0 | Settled_By_BSR: vijay ( | area_co: nan | order_cancel_reason_co: nan | Cancelled_Invoice_Total_co: nan | Discount_Order_Type_DSR: nan | Biller_Name: nan | Discount_DSR: nan | Reason_DSR: nan | Food_Preparation_Time_Z: nan | Food_Preparation_Time_S: nan | Zomato_Delivery_Time: nan | Swiggy_Delivery_Time: nan | amount_from: nan | amount_to: nan | modified_by: nan | modify_comment: nan | electron_pos: nan | bill_no: nan | invoice_no: nan | date_orap: nan | has_anomaly: No | anomaly_priority: nan | anomaly_payment_mismatch: 0 | anomaly_missing_payment_info: 0 | anomaly_multiple_payment_types: 0 | anomaly_tax_calculation_mismatch: 0 | anomaly_zero_tax_on_taxable: 0 | anomaly_large_order'),\n",
              " Document(metadata={}, page_content='mismatch: 0 | anomaly_zero_tax_on_taxable: 0 | anomaly_large_order_modification: 0 | anomaly_modification_without_comment: 0 | anomaly_zomato_invoice_mismatch: 0 | anomaly_swiggy_invoice_mismatch: 0 | anomaly_long_zomato_prep_time: 0 | anomaly_long_swiggy_prep_time: 0 | anomaly_zomato_missing_delivery_time: 0 | anomaly_swiggy_missing_delivery_time: 0 | anomaly_high_discount: 0 | anomaly_discount_without_reason: 0 | anomaly_zomato_status_mismatch: 0 | anomaly_swiggy_status_mismatch: 0 | anomaly_extreme_settlement_time: 0 | anomaly_unusual_settlement_time: 0 | anomaly_long_bill_settlement: 0 | anomaly_missing_server_name: 0 | anomaly_zomato_missing_customer: 0 | anomaly_swiggy_missing_customer: 0 | anomaly_suspicious_pax: 0 | anomaly_price_inconsistency: 0 | pattern_risk: High Risk | reason_pattern_risk: is_cash, is_odd_hour, is_high_value'),\n",
              " Document(metadata={}, page_content='Date: 04-10-2024 | Timestamp: 2024-10-04 18:53:25 UTC | Invoice_No_: C1984 | Payment_Type: Cash | Order_Type: Dine In | Area: Garden Table | Item_Name: HAKKA NOODLES (VEG) | Price: 765 | Qty_: 1.0 | Sub_Total: 765.0 | Discount: 0.0 | Tax: 76.5 | Final_Total: 841.5 | Status: Complimentary | Table_No_: G 5 | Server_Name: TAPASH | Covers: 3 | Variation: VEG | Category: ORIENTAL RICE & NOODLES | HSN: nan | Phone: 9843950806 | Name: PHOTO SHOOT | Address: nan | GST: nan | Assign_To: nan | Non_Taxable: 0.0 | CGST_Rate: 2.5 | CGST_Amount: 19.1 | SGST_Rate: 2.5 | SGST_Amount: 19.1 | VAT_Rate: 10 | VAT_Amount: 0.0 | Service_Charge_Rate: 5 | Service_Charge_Amount: 38.3 | Date_z: nan | Invoice_Date_z: nan | Aggregator_Order_No_z: nan | PoS_Invoice_No_z: nan | Order_From_z: nan | Outlet_Name_z: nan | Petpooja_Identifier_z: nan | Order_Type_z: nan | Customer_Name_z: nan | Customer_Phone_z: 9843950806 | Payment_Type_z: nan | Delivery_status_z: nan | Status_z: nan | My_amount_z: nan | Aggregator_Discount_z: nan | Outlet_Discount_z: nan | Delivery_Charges_z: nan | Container_Charges_z: nan | CGST_z: nan | SGST_z: nan | IGST_z: nan | Total_z: nan | Order_Acceptance_Time_z: nan | Order_Delivery_Time_z: nan | Reason_z: nan | Online_Tax_Calculated_z: nan | GST_Paid_by_Merchant_z: nan | GST_Paid'),\n",
              " Document(metadata={}, page_content='culated_z: nan | GST_Paid_by_Merchant_z: nan | GST_Paid_by_Ecommerce_z: nan | Restaurant_ID_z: 950806 | Client_Sharing_Code_z: nan | Identifier_z: nan | Order_ID_z: nan | Order_Status_z: nan | Received_Time_z: nan | Accepted_Time_z: nan | Mark_Ready_Time_z: nan | Rider_Arrival_Time_z: nan | Picked_up_Time_z: nan | Delivered_Time_z: nan | Cancelled_Time_z: nan | Date_s: nan | Invoice_Date_s: nan | Aggregator_Order_No_s: nan | PoS_Invoice_No_s: nan | Order_From_s: nan | Outlet_Name_s: nan | Petpooja_Identifier_s: nan | Order_Type_s: nan | Customer_Name_s: nan | Customer_Phone_s: 9843950806 | Payment_Type_s: nan | Delivery_status_s: nan | Status_s: nan | My_amount_s: nan | Aggregator_Discount_s: nan | Outlet_Discount_s: nan | Delivery_Charges_s: nan | Container_Charges_s: nan | CGST_s: nan | SGST_s: nan | IGST_s: nan | Total_s: nan | Order_Acceptance_Time_s: nan | Order_Delivery_Time_s: nan | Reason_s: nan | Online_Tax_Calculated_s: nan | GST_Paid_by_Merchant_s: nan | GST_Paid_by_Ecommerce_s: nan | Restaurant_ID_s: 950806 | Client_Sharing_Code_s: nan | Identifier_s: nan | Order_ID_s: nan | Order_Status_s: nan | Received_Time_s: nan | Accepted_Time_s: nan | Mark_Ready_Time_s: nan | Rider_Arrival_Time_s: nan | Picked_up_Time_s: nan | Delivered_Time_s: nan | Cancelled_Time_s: nan | Customer_'),\n",
              " Document(metadata={}, page_content='s: nan | Delivered_Time_s: nan | Cancelled_Time_s: nan | Customer_Name_ff: nan | Date_of_Birth_ff: nan | Date_of_Anniversary_ff: nan | Customer_Phone_ff: nan | From__ff: nan | Customer_Email_ff: nan | Invoice_Id_ff: nan | Table_No_ff: nan | Order_Type_ff: nan | Answer_ff: nan | Created_ff: nan | Customer_Name_sf: nan | Date_of_Birth_sf: nan | Date_of_Anniversary_sf: nan | Customer_Phone_sf: nan | From__sf: nan | Customer_Email_sf: nan | Invoice_Id_sf: nan | Table_No_sf: nan | Order_Type_sf: nan | Answer_sf: nan | Created_sf: nan | PAX: nan | Biller_BSR: nan | First_Print_Date_BSR: nan | Last_Settlement_Date_BSR: nan | Duration__In_Minutes_BSR: nan | Settled_By_BSR: nan | area_co: nan | order_cancel_reason_co: nan | Cancelled_Invoice_Total_co: nan | Discount_Order_Type_DSR: nan | Biller_Name: nan | Discount_DSR: nan | Reason_DSR: nan | Food_Preparation_Time_Z: nan | Food_Preparation_Time_S: nan | Zomato_Delivery_Time: nan | Swiggy_Delivery_Time: nan | amount_from: nan | amount_to: nan | modified_by: nan | modify_comment: nan | electron_pos: nan | bill_no: nan | invoice_no: nan | date_orap: nan | has_anomaly: No | anomaly_priority: nan | anomaly_payment_mismatch: 0 | anomaly_missing_payment_info: 0 | anomaly_multiple_payment_types: 0 | anomaly_tax_calculation_mismatch: 0 | anomaly_zero_tax_on_taxable: 0 | anomaly_large_order_modification: 0 | anomaly_modification_without_comment: 0 | anomaly_zomato_invoice_mismatch'),\n",
              " Document(metadata={}, page_content=' | anomaly_modification_without_comment: 0 | anomaly_zomato_invoice_mismatch: 0 | anomaly_swiggy_invoice_mismatch: 0 | anomaly_long_zomato_prep_time: 0 | anomaly_long_swiggy_prep_time: 0 | anomaly_zomato_missing_delivery_time: 0 | anomaly_swiggy_missing_delivery_time: 0 | anomaly_high_discount: 0 | anomaly_discount_without_reason: 0 | anomaly_zomato_status_mismatch: 0 | anomaly_swiggy_status_mismatch: 0 | anomaly_extreme_settlement_time: 0 | anomaly_unusual_settlement_time: 0 | anomaly_long_bill_settlement: 0 | anomaly_missing_server_name: 0 | anomaly_zomato_missing_customer: 0 | anomaly_swiggy_missing_customer: 0 | anomaly_suspicious_pax: 0 | anomaly_price_inconsistency: 0 | pattern_risk: Low Risk | reason_pattern_risk: is_cash'),\n",
              " Document(metadata={}, page_content='Date: 30-10-2024 | Timestamp: 2024-10-30 15:25:36 UTC | Invoice_No_: 12615 | Payment_Type: CARD | Order_Type: Dine In | Area: Dine in | Item_Name: ROASTED MASALA PAPAD | Price: 90 | Qty_: 1.0 | Sub_Total: 90.0 | Discount: 0.0 | Tax: 9.1 | Final_Total: 99.1 | Status: Success | Table_No_: 15 | Server_Name: TANMOY  | Covers: 5 | Variation: nan | Category: PANTRY SALAD , RAITA & MORE | HSN: nan | Phone: 9813566106 | Name: DR RAJSHREE | Address: nan | GST: nan | Assign_To: TANMOY  | Non_Taxable: 0.0 | CGST_Rate: 2.5 | CGST_Amount: 2.3 | SGST_Rate: 2.5 | SGST_Amount: 2.3 | VAT_Rate: 10 | VAT_Amount: 0.0 | Service_Charge_Rate: 5 | Service_Charge_Amount: 4.5 | Date_z: nan | Invoice_Date_z: nan | Aggregator_Order_No_z: nan | PoS_Invoice_No_z: nan | Order_From_z: nan | Outlet_Name_z: nan | Petpooja_Identifier_z: nan | Order_Type_z: nan | Customer_Name_z: nan | Customer_Phone_z: 9813566106 | Payment_Type_z: nan | Delivery_status_z: nan | Status_z: nan | My_amount_z: nan | Aggregator_Discount_z: nan | Outlet_Discount_z: nan | Delivery_Charges_z: nan | Container_Charges_z: nan | CGST_z: nan | SGST_z: nan | IGST_z: nan | Total_z: nan | Order_Acceptance_Time_z: nan | Order_Delivery_Time_z: nan | Reason_z: nan | Online_Tax_Calculated_z: nan | GST_Paid_by_Merchant_z: nan | GST_Paid'),\n",
              " Document(metadata={}, page_content='culated_z: nan | GST_Paid_by_Merchant_z: nan | GST_Paid_by_Ecommerce_z: nan | Restaurant_ID_z: 566106 | Client_Sharing_Code_z: nan | Identifier_z: nan | Order_ID_z: nan | Order_Status_z: nan | Received_Time_z: nan | Accepted_Time_z: nan | Mark_Ready_Time_z: nan | Rider_Arrival_Time_z: nan | Picked_up_Time_z: nan | Delivered_Time_z: nan | Cancelled_Time_z: nan | Date_s: nan | Invoice_Date_s: nan | Aggregator_Order_No_s: nan | PoS_Invoice_No_s: nan | Order_From_s: nan | Outlet_Name_s: nan | Petpooja_Identifier_s: nan | Order_Type_s: nan | Customer_Name_s: nan | Customer_Phone_s: 9813566106 | Payment_Type_s: nan | Delivery_status_s: nan | Status_s: nan | My_amount_s: nan | Aggregator_Discount_s: nan | Outlet_Discount_s: nan | Delivery_Charges_s: nan | Container_Charges_s: nan | CGST_s: nan | SGST_s: nan | IGST_s: nan | Total_s: nan | Order_Acceptance_Time_s: nan | Order_Delivery_Time_s: nan | Reason_s: nan | Online_Tax_Calculated_s: nan | GST_Paid_by_Merchant_s: nan | GST_Paid_by_Ecommerce_s: nan | Restaurant_ID_s: 566106 | Client_Sharing_Code_s: nan | Identifier_s: nan | Order_ID_s: nan | Order_Status_s: nan | Received_Time_s: nan | Accepted_Time_s: nan | Mark_Ready_Time_s: nan | Rider_Arrival_Time_s: nan | Picked_up_Time_s: nan | Delivered_Time_s: nan | Cancelled_Time_s: nan | Customer'),\n",
              " Document(metadata={}, page_content='_s: nan | Delivered_Time_s: nan | Cancelled_Time_s: nan | Customer_Name_ff: nan | Date_of_Birth_ff: nan | Date_of_Anniversary_ff: nan | Customer_Phone_ff: nan | From__ff: nan | Customer_Email_ff: nan | Invoice_Id_ff: nan | Table_No_ff: nan | Order_Type_ff: nan | Answer_ff: nan | Created_ff: nan | Customer_Name_sf: nan | Date_of_Birth_sf: nan | Date_of_Anniversary_sf: nan | Customer_Phone_sf: nan | From__sf: nan | Customer_Email_sf: nan | Invoice_Id_sf: nan | Table_No_sf: nan | Order_Type_sf: nan | Answer_sf: nan | Created_sf: nan | PAX: nan | Biller_BSR: TANMOY  | First_Print_Date_BSR: 2024-10-30 15:25:37 UTC | Last_Settlement_Date_BSR: 2024-10-30 15:42:08 UTC | Duration__In_Minutes_BSR: 16.0 | Settled_By_BSR: vijay ( | area_co: nan | order_cancel_reason_co: nan | Cancelled_Invoice_Total_co: nan | Discount_Order_Type_DSR: nan | Biller_Name: nan | Discount_DSR: nan | Reason_DSR: nan | Food_Preparation_Time_Z: nan | Food_Preparation_Time_S: nan | Zomato_Delivery_Time: nan | Swiggy_Delivery_Time: nan | amount_from: nan | amount_to: nan | modified_by: nan | modify_comment: nan | electron_pos: nan | bill_no: nan | invoice_no: nan | date_orap: nan | has_anomaly: Yes | anomaly_priority: Medium | anomaly_payment_mismatch: 0 | anomaly_missing_payment_info: 0 | anomaly_multiple_payment_types: 0 | anomaly_tax_calculation_mismatch: 0 | anomaly_zero_tax_on_taxable: 0 | anomaly_large_'),\n",
              " Document(metadata={}, page_content='_mismatch: 0 | anomaly_zero_tax_on_taxable: 0 | anomaly_large_order_modification: 0 | anomaly_modification_without_comment: 0 | anomaly_zomato_invoice_mismatch: 0 | anomaly_swiggy_invoice_mismatch: 0 | anomaly_long_zomato_prep_time: 0 | anomaly_long_swiggy_prep_time: 0 | anomaly_zomato_missing_delivery_time: 0 | anomaly_swiggy_missing_delivery_time: 0 | anomaly_high_discount: 0 | anomaly_discount_without_reason: 0 | anomaly_zomato_status_mismatch: 0 | anomaly_swiggy_status_mismatch: 0 | anomaly_extreme_settlement_time: 0 | anomaly_unusual_settlement_time: 1 | anomaly_long_bill_settlement: 0 | anomaly_missing_server_name: 0 | anomaly_zomato_missing_customer: 0 | anomaly_swiggy_missing_customer: 0 | anomaly_suspicious_pax: 0 | anomaly_price_inconsistency: 0 | pattern_risk: Low Risk | reason_pattern_risk: is_card_payment'),\n",
              " Document(metadata={}, page_content='Date: 29-03-2025 | Timestamp: 2025-03-29 22:45:03 UTC | Invoice_No_: 22351 | Payment_Type: Other [ZOMATO PAY] | Order_Type: Dine In | Area: Dine in | Item_Name: Bhara Hua Aloo | Price: 795 | Qty_: 2.0 | Sub_Total: 1590.0 | Discount: 0.0 | Tax: 79.6 | Final_Total: 1669.6 | Status: Success | Table_No_: 30 | Server_Name: SANDEEP | Covers: 9 | Variation: nan | Category: TANDOOR STARTER | HSN: nan | Phone: 9844043557 | Name: YASH PAREKH | Address: nan | GST: nan | Assign_To: SANDEEP | Non_Taxable: 0.0 | CGST_Rate: 2.5 | CGST_Amount: 39.8 | SGST_Rate: 2.5 | SGST_Amount: 39.8 | VAT_Rate: 10 | VAT_Amount: 0.0 | Service_Charge_Rate: 5 | Service_Charge_Amount: 0.0 | Date_z: nan | Invoice_Date_z: nan | Aggregator_Order_No_z: nan | PoS_Invoice_No_z: nan | Order_From_z: nan | Outlet_Name_z: nan | Petpooja_Identifier_z: nan | Order_Type_z: nan | Customer_Name_z: nan | Customer_Phone_z: 9844043557 | Payment_Type_z: nan | Delivery_status_z: nan | Status_z: nan | My_amount_z: nan | Aggregator_Discount_z: nan | Outlet_Discount_z: nan | Delivery_Charges_z: nan | Container_Charges_z: nan | CGST_z: nan | SGST_z: nan | IGST_z: nan | Total_z: nan | Order_Acceptance_Time_z: nan | Order_Delivery_Time_z: nan | Reason_z: nan | Online_Tax_Calculated_z: nan | GST_Paid_by_Merchant_z: nan | GST_P'),\n",
              " Document(metadata={}, page_content='Calculated_z: nan | GST_Paid_by_Merchant_z: nan | GST_Paid_by_Ecommerce_z: nan | Restaurant_ID_z: 43557 | Client_Sharing_Code_z: nan | Identifier_z: nan | Order_ID_z: nan | Order_Status_z: nan | Received_Time_z: nan | Accepted_Time_z: nan | Mark_Ready_Time_z: nan | Rider_Arrival_Time_z: nan | Picked_up_Time_z: nan | Delivered_Time_z: nan | Cancelled_Time_z: nan | Date_s: nan | Invoice_Date_s: nan | Aggregator_Order_No_s: nan | PoS_Invoice_No_s: nan | Order_From_s: nan | Outlet_Name_s: nan | Petpooja_Identifier_s: nan | Order_Type_s: nan | Customer_Name_s: nan | Customer_Phone_s: 9844043557 | Payment_Type_s: nan | Delivery_status_s: nan | Status_s: nan | My_amount_s: nan | Aggregator_Discount_s: nan | Outlet_Discount_s: nan | Delivery_Charges_s: nan | Container_Charges_s: nan | CGST_s: nan | SGST_s: nan | IGST_s: nan | Total_s: nan | Order_Acceptance_Time_s: nan | Order_Delivery_Time_s: nan | Reason_s: nan | Online_Tax_Calculated_s: nan | GST_Paid_by_Merchant_s: nan | GST_Paid_by_Ecommerce_s: nan | Restaurant_ID_s: 43557 | Client_Sharing_Code_s: nan | Identifier_s: nan | Order_ID_s: nan | Order_Status_s: nan | Received_Time_s: nan | Accepted_Time_s: nan | Mark_Ready_Time_s: nan | Rider_Arrival_Time_s: nan | Picked_up_Time_s: nan | Delivered_Time_s: nan | Cancelled_Time_s: nan | Customer'),\n",
              " Document(metadata={}, page_content='_s: nan | Delivered_Time_s: nan | Cancelled_Time_s: nan | Customer_Name_ff: nan | Date_of_Birth_ff: nan | Date_of_Anniversary_ff: nan | Customer_Phone_ff: nan | From__ff: nan | Customer_Email_ff: nan | Invoice_Id_ff: nan | Table_No_ff: nan | Order_Type_ff: nan | Answer_ff: nan | Created_ff: nan | Customer_Name_sf: nan | Date_of_Birth_sf: nan | Date_of_Anniversary_sf: nan | Customer_Phone_sf: nan | From__sf: nan | Customer_Email_sf: nan | Invoice_Id_sf: nan | Table_No_sf: nan | Order_Type_sf: nan | Answer_sf: nan | Created_sf: nan | PAX: nan | Biller_BSR: SANDEEP | First_Print_Date_BSR: 2025-03-29 22:45:04 UTC | Last_Settlement_Date_BSR: 2025-03-29 22:54:05 UTC | Duration__In_Minutes_BSR: 9.0 | Settled_By_BSR: vijay ( | area_co: nan | order_cancel_reason_co: nan | Cancelled_Invoice_Total_co: nan | Discount_Order_Type_DSR: nan | Biller_Name: nan | Discount_DSR: nan | Reason_DSR: nan | Food_Preparation_Time_Z: nan | Food_Preparation_Time_S: nan | Zomato_Delivery_Time: nan | Swiggy_Delivery_Time: nan | amount_from: 9801.0 | amount_to: 9335.0 | modified_by: vijay ( | modify_comment: removed sc | electron_pos: 2025-03-29 22:46:42 UTC | bill_no: F22351 | invoice_no: 22351.0 | date_orap: 2025-03-29 22:45:03 UTC | has_anomaly: No | anomaly_priority: nan | anomaly_payment_mismatch: 0 | anomaly_missing_payment_info: 0 | anomaly_multiple_payment_types'),\n",
              " Document(metadata={}, page_content='_mismatch: 0 | anomaly_missing_payment_info: 0 | anomaly_multiple_payment_types: 0 | anomaly_tax_calculation_mismatch: 0 | anomaly_zero_tax_on_taxable: 0 | anomaly_large_order_modification: 0 | anomaly_modification_without_comment: 0 | anomaly_zomato_invoice_mismatch: 0 | anomaly_swiggy_invoice_mismatch: 0 | anomaly_long_zomato_prep_time: 0 | anomaly_long_swiggy_prep_time: 0 | anomaly_zomato_missing_delivery_time: 0 | anomaly_swiggy_missing_delivery_time: 0 | anomaly_high_discount: 0 | anomaly_discount_without_reason: 0 | anomaly_zomato_status_mismatch: 0 | anomaly_swiggy_status_mismatch: 0 | anomaly_extreme_settlement_time: 0 | anomaly_unusual_settlement_time: 0 | anomaly_long_bill_settlement: 0 | anomaly_missing_server_name: 0 | anomaly_zomato_missing_customer: 0 | anomaly_swiggy_missing_customer: 0 | anomaly_suspicious_pax: 0 | anomaly_price_inconsistency: 0 | pattern_risk: Low Risk | reason_pattern_risk: is_high_value'),\n",
              " Document(metadata={}, page_content='Date: 30-08-2024 | Timestamp: 2024-08-30 22:13:37 UTC | Invoice_No_: 8847 | Payment_Type: CARD | Order_Type: Dine In | Area: Garden Table | Item_Name: Diwani Handi | Price: 795 | Qty_: 1.0 | Sub_Total: 795.0 | Discount: 0.0 | Tax: 79.6 | Final_Total: 874.6 | Status: Success | Table_No_: G 5 | Server_Name: TANMOY  | Covers: 6 | Variation: nan | Category: INDIAN MAIN COURSE | HSN: nan | Phone: 9819872420 | Name: radhika | Address: nan | GST: nan | Assign_To: TANMOY  | Non_Taxable: 0.0 | CGST_Rate: 2.5 | CGST_Amount: 19.9 | SGST_Rate: 2.5 | SGST_Amount: 19.9 | VAT_Rate: 10 | VAT_Amount: 0.0 | Service_Charge_Rate: 5 | Service_Charge_Amount: 39.8 | Date_z: nan | Invoice_Date_z: nan | Aggregator_Order_No_z: nan | PoS_Invoice_No_z: nan | Order_From_z: nan | Outlet_Name_z: nan | Petpooja_Identifier_z: nan | Order_Type_z: nan | Customer_Name_z: nan | Customer_Phone_z: 9819872420 | Payment_Type_z: nan | Delivery_status_z: nan | Status_z: nan | My_amount_z: nan | Aggregator_Discount_z: nan | Outlet_Discount_z: nan | Delivery_Charges_z: nan | Container_Charges_z: nan | CGST_z: nan | SGST_z: nan | IGST_z: nan | Total_z: nan | Order_Acceptance_Time_z: nan | Order_Delivery_Time_z: nan | Reason_z: nan | Online_Tax_Calculated_z: nan | GST_Paid_by_Merchant_z: nan | GST_Paid_by_Ecommerce_z'),\n",
              " Document(metadata={}, page_content='_Paid_by_Merchant_z: nan | GST_Paid_by_Ecommerce_z: nan | Restaurant_ID_z: 872420 | Client_Sharing_Code_z: nan | Identifier_z: nan | Order_ID_z: nan | Order_Status_z: nan | Received_Time_z: nan | Accepted_Time_z: nan | Mark_Ready_Time_z: nan | Rider_Arrival_Time_z: nan | Picked_up_Time_z: nan | Delivered_Time_z: nan | Cancelled_Time_z: nan | Date_s: nan | Invoice_Date_s: nan | Aggregator_Order_No_s: nan | PoS_Invoice_No_s: nan | Order_From_s: nan | Outlet_Name_s: nan | Petpooja_Identifier_s: nan | Order_Type_s: nan | Customer_Name_s: nan | Customer_Phone_s: 9819872420 | Payment_Type_s: nan | Delivery_status_s: nan | Status_s: nan | My_amount_s: nan | Aggregator_Discount_s: nan | Outlet_Discount_s: nan | Delivery_Charges_s: nan | Container_Charges_s: nan | CGST_s: nan | SGST_s: nan | IGST_s: nan | Total_s: nan | Order_Acceptance_Time_s: nan | Order_Delivery_Time_s: nan | Reason_s: nan | Online_Tax_Calculated_s: nan | GST_Paid_by_Merchant_s: nan | GST_Paid_by_Ecommerce_s: nan | Restaurant_ID_s: 872420 | Client_Sharing_Code_s: nan | Identifier_s: nan | Order_ID_s: nan | Order_Status_s: nan | Received_Time_s: nan | Accepted_Time_s: nan | Mark_Ready_Time_s: nan | Rider_Arrival_Time_s: nan | Picked_up_Time_s: nan | Delivered_Time_s: nan | Cancelled_Time_s: nan | Customer_Name_ff: nan |'),\n",
              " Document(metadata={}, page_content='_Time_s: nan | Cancelled_Time_s: nan | Customer_Name_ff: nan | Date_of_Birth_ff: nan | Date_of_Anniversary_ff: nan | Customer_Phone_ff: nan | From__ff: nan | Customer_Email_ff: nan | Invoice_Id_ff: nan | Table_No_ff: nan | Order_Type_ff: nan | Answer_ff: nan | Created_ff: nan | Customer_Name_sf: nan | Date_of_Birth_sf: nan | Date_of_Anniversary_sf: nan | Customer_Phone_sf: nan | From__sf: nan | Customer_Email_sf: nan | Invoice_Id_sf: nan | Table_No_sf: nan | Order_Type_sf: nan | Answer_sf: nan | Created_sf: nan | PAX: nan | Biller_BSR: TANMOY  | First_Print_Date_BSR: 2024-08-30 22:13:38 UTC | Last_Settlement_Date_BSR: 2024-08-30 22:15:44 UTC | Duration__In_Minutes_BSR: 2.0 | Settled_By_BSR: vijay ( | area_co: nan | order_cancel_reason_co: nan | Cancelled_Invoice_Total_co: nan | Discount_Order_Type_DSR: nan | Biller_Name: nan | Discount_DSR: nan | Reason_DSR: nan | Food_Preparation_Time_Z: nan | Food_Preparation_Time_S: nan | Zomato_Delivery_Time: nan | Swiggy_Delivery_Time: nan | amount_from: nan | amount_to: nan | modified_by: nan | modify_comment: nan | electron_pos: nan | bill_no: nan | invoice_no: nan | date_orap: nan | has_anomaly: No | anomaly_priority: nan | anomaly_payment_mismatch: 0 | anomaly_missing_payment_info: 0 | anomaly_multiple_payment_types: 0 | anomaly_tax_calculation_mismatch: 0 | anomaly_zero_tax_on_taxable: 0 | anomaly_large_order_modification: 0 |'),\n",
              " Document(metadata={}, page_content=' anomaly_zero_tax_on_taxable: 0 | anomaly_large_order_modification: 0 | anomaly_modification_without_comment: 0 | anomaly_zomato_invoice_mismatch: 0 | anomaly_swiggy_invoice_mismatch: 0 | anomaly_long_zomato_prep_time: 0 | anomaly_long_swiggy_prep_time: 0 | anomaly_zomato_missing_delivery_time: 0 | anomaly_swiggy_missing_delivery_time: 0 | anomaly_high_discount: 0 | anomaly_discount_without_reason: 0 | anomaly_zomato_status_mismatch: 0 | anomaly_swiggy_status_mismatch: 0 | anomaly_extreme_settlement_time: 0 | anomaly_unusual_settlement_time: 0 | anomaly_long_bill_settlement: 0 | anomaly_missing_server_name: 0 | anomaly_zomato_missing_customer: 0 | anomaly_swiggy_missing_customer: 0 | anomaly_suspicious_pax: 0 | anomaly_price_inconsistency: 0 | pattern_risk: Low Risk | reason_pattern_risk: is_card_payment'),\n",
              " Document(metadata={}, page_content='Date: 30-08-2024 | Timestamp: 2024-08-30 22:13:37 UTC | Invoice_No_: 8847 | Payment_Type: CARD | Order_Type: Dine In | Area: Garden Table | Item_Name: Bottled Water | Price: 0 | Qty_: 1.0 | Sub_Total: 0.0 | Discount: 0.0 | Tax: 0.0 | Final_Total: 0.0 | Status: Success | Table_No_: G 5 | Server_Name: TANMOY  | Covers: 6 | Variation: nan | Category: Complementary | HSN: nan | Phone: 9819872420 | Name: radhika | Address: nan | GST: nan | Assign_To: TANMOY  | Non_Taxable: 0.0 | CGST_Rate: 2.5 | CGST_Amount: 0.0 | SGST_Rate: 2.5 | SGST_Amount: 0.0 | VAT_Rate: 10 | VAT_Amount: 0.0 | Service_Charge_Rate: 5 | Service_Charge_Amount: 0.0 | Date_z: nan | Invoice_Date_z: nan | Aggregator_Order_No_z: nan | PoS_Invoice_No_z: nan | Order_From_z: nan | Outlet_Name_z: nan | Petpooja_Identifier_z: nan | Order_Type_z: nan | Customer_Name_z: nan | Customer_Phone_z: 9819872420 | Payment_Type_z: nan | Delivery_status_z: nan | Status_z: nan | My_amount_z: nan | Aggregator_Discount_z: nan | Outlet_Discount_z: nan | Delivery_Charges_z: nan | Container_Charges_z: nan | CGST_z: nan | SGST_z: nan | IGST_z: nan | Total_z: nan | Order_Acceptance_Time_z: nan | Order_Delivery_Time_z: nan | Reason_z: nan | Online_Tax_Calculated_z: nan | GST_Paid_by_Merchant_z: nan | GST_Paid_by_Ecommerce_z: nan | Restaurant_ID_z'),\n",
              " Document(metadata={}, page_content='_z: nan | GST_Paid_by_Ecommerce_z: nan | Restaurant_ID_z: 872420 | Client_Sharing_Code_z: nan | Identifier_z: nan | Order_ID_z: nan | Order_Status_z: nan | Received_Time_z: nan | Accepted_Time_z: nan | Mark_Ready_Time_z: nan | Rider_Arrival_Time_z: nan | Picked_up_Time_z: nan | Delivered_Time_z: nan | Cancelled_Time_z: nan | Date_s: nan | Invoice_Date_s: nan | Aggregator_Order_No_s: nan | PoS_Invoice_No_s: nan | Order_From_s: nan | Outlet_Name_s: nan | Petpooja_Identifier_s: nan | Order_Type_s: nan | Customer_Name_s: nan | Customer_Phone_s: 9819872420 | Payment_Type_s: nan | Delivery_status_s: nan | Status_s: nan | My_amount_s: nan | Aggregator_Discount_s: nan | Outlet_Discount_s: nan | Delivery_Charges_s: nan | Container_Charges_s: nan | CGST_s: nan | SGST_s: nan | IGST_s: nan | Total_s: nan | Order_Acceptance_Time_s: nan | Order_Delivery_Time_s: nan | Reason_s: nan | Online_Tax_Calculated_s: nan | GST_Paid_by_Merchant_s: nan | GST_Paid_by_Ecommerce_s: nan | Restaurant_ID_s: 872420 | Client_Sharing_Code_s: nan | Identifier_s: nan | Order_ID_s: nan | Order_Status_s: nan | Received_Time_s: nan | Accepted_Time_s: nan | Mark_Ready_Time_s: nan | Rider_Arrival_Time_s: nan | Picked_up_Time_s: nan | Delivered_Time_s: nan | Cancelled_Time_s: nan | Customer_Name_ff: nan | Date_of_Birth_ff:'),\n",
              " Document(metadata={}, page_content='lled_Time_s: nan | Customer_Name_ff: nan | Date_of_Birth_ff: nan | Date_of_Anniversary_ff: nan | Customer_Phone_ff: nan | From__ff: nan | Customer_Email_ff: nan | Invoice_Id_ff: nan | Table_No_ff: nan | Order_Type_ff: nan | Answer_ff: nan | Created_ff: nan | Customer_Name_sf: nan | Date_of_Birth_sf: nan | Date_of_Anniversary_sf: nan | Customer_Phone_sf: nan | From__sf: nan | Customer_Email_sf: nan | Invoice_Id_sf: nan | Table_No_sf: nan | Order_Type_sf: nan | Answer_sf: nan | Created_sf: nan | PAX: nan | Biller_BSR: TANMOY  | First_Print_Date_BSR: 2024-08-30 22:13:38 UTC | Last_Settlement_Date_BSR: 2024-08-30 22:15:44 UTC | Duration__In_Minutes_BSR: 2.0 | Settled_By_BSR: vijay ( | area_co: nan | order_cancel_reason_co: nan | Cancelled_Invoice_Total_co: nan | Discount_Order_Type_DSR: nan | Biller_Name: nan | Discount_DSR: nan | Reason_DSR: nan | Food_Preparation_Time_Z: nan | Food_Preparation_Time_S: nan | Zomato_Delivery_Time: nan | Swiggy_Delivery_Time: nan | amount_from: nan | amount_to: nan | modified_by: nan | modify_comment: nan | electron_pos: nan | bill_no: nan | invoice_no: nan | date_orap: nan | has_anomaly: Yes | anomaly_priority: Low | anomaly_payment_mismatch: 0 | anomaly_missing_payment_info: 0 | anomaly_multiple_payment_types: 0 | anomaly_tax_calculation_mismatch: 0 | anomaly_zero_tax_on_taxable: 0 | anomaly_large_order_modification: 0 | anomaly_modification_without_comment'),\n",
              " Document(metadata={}, page_content='taxable: 0 | anomaly_large_order_modification: 0 | anomaly_modification_without_comment: 0 | anomaly_zomato_invoice_mismatch: 0 | anomaly_swiggy_invoice_mismatch: 0 | anomaly_long_zomato_prep_time: 0 | anomaly_long_swiggy_prep_time: 0 | anomaly_zomato_missing_delivery_time: 0 | anomaly_swiggy_missing_delivery_time: 0 | anomaly_high_discount: 0 | anomaly_discount_without_reason: 0 | anomaly_zomato_status_mismatch: 0 | anomaly_swiggy_status_mismatch: 0 | anomaly_extreme_settlement_time: 0 | anomaly_unusual_settlement_time: 0 | anomaly_long_bill_settlement: 0 | anomaly_missing_server_name: 0 | anomaly_zomato_missing_customer: 0 | anomaly_swiggy_missing_customer: 0 | anomaly_suspicious_pax: 0 | anomaly_price_inconsistency: 1 | pattern_risk: Low Risk | reason_pattern_risk: is_card_payment'),\n",
              " Document(metadata={}, page_content='Date: 29-03-2025 | Timestamp: 2025-03-29 22:45:03 UTC | Invoice_No_: 22351 | Payment_Type: Other [ZOMATO PAY] | Order_Type: Dine In | Area: Dine in | Item_Name: Butter Paratha | Price: 135 | Qty_: 1.0 | Sub_Total: 135.0 | Discount: 0.0 | Tax: 6.8 | Final_Total: 141.8 | Status: Success | Table_No_: 30 | Server_Name: SANDEEP | Covers: 9 | Variation: nan | Category: TANDOOR BREADS | HSN: nan | Phone: 9844043557 | Name: YASH PAREKH | Address: nan | GST: nan | Assign_To: SANDEEP | Non_Taxable: 0.0 | CGST_Rate: 2.5 | CGST_Amount: 3.4 | SGST_Rate: 2.5 | SGST_Amount: 3.4 | VAT_Rate: 10 | VAT_Amount: 0.0 | Service_Charge_Rate: 5 | Service_Charge_Amount: 0.0 | Date_z: nan | Invoice_Date_z: nan | Aggregator_Order_No_z: nan | PoS_Invoice_No_z: nan | Order_From_z: nan | Outlet_Name_z: nan | Petpooja_Identifier_z: nan | Order_Type_z: nan | Customer_Name_z: nan | Customer_Phone_z: 9844043557 | Payment_Type_z: nan | Delivery_status_z: nan | Status_z: nan | My_amount_z: nan | Aggregator_Discount_z: nan | Outlet_Discount_z: nan | Delivery_Charges_z: nan | Container_Charges_z: nan | CGST_z: nan | SGST_z: nan | IGST_z: nan | Total_z: nan | Order_Acceptance_Time_z: nan | Order_Delivery_Time_z: nan | Reason_z: nan | Online_Tax_Calculated_z: nan | GST_Paid_by_Merchant_z: nan | GST_Paid_by_'),\n",
              " Document(metadata={}, page_content=': nan | GST_Paid_by_Merchant_z: nan | GST_Paid_by_Ecommerce_z: nan | Restaurant_ID_z: 43557 | Client_Sharing_Code_z: nan | Identifier_z: nan | Order_ID_z: nan | Order_Status_z: nan | Received_Time_z: nan | Accepted_Time_z: nan | Mark_Ready_Time_z: nan | Rider_Arrival_Time_z: nan | Picked_up_Time_z: nan | Delivered_Time_z: nan | Cancelled_Time_z: nan | Date_s: nan | Invoice_Date_s: nan | Aggregator_Order_No_s: nan | PoS_Invoice_No_s: nan | Order_From_s: nan | Outlet_Name_s: nan | Petpooja_Identifier_s: nan | Order_Type_s: nan | Customer_Name_s: nan | Customer_Phone_s: 9844043557 | Payment_Type_s: nan | Delivery_status_s: nan | Status_s: nan | My_amount_s: nan | Aggregator_Discount_s: nan | Outlet_Discount_s: nan | Delivery_Charges_s: nan | Container_Charges_s: nan | CGST_s: nan | SGST_s: nan | IGST_s: nan | Total_s: nan | Order_Acceptance_Time_s: nan | Order_Delivery_Time_s: nan | Reason_s: nan | Online_Tax_Calculated_s: nan | GST_Paid_by_Merchant_s: nan | GST_Paid_by_Ecommerce_s: nan | Restaurant_ID_s: 43557 | Client_Sharing_Code_s: nan | Identifier_s: nan | Order_ID_s: nan | Order_Status_s: nan | Received_Time_s: nan | Accepted_Time_s: nan | Mark_Ready_Time_s: nan | Rider_Arrival_Time_s: nan | Picked_up_Time_s: nan | Delivered_Time_s: nan | Cancelled_Time_s: nan | Customer_Name_ff'),\n",
              " Document(metadata={}, page_content=' | Delivered_Time_s: nan | Cancelled_Time_s: nan | Customer_Name_ff: nan | Date_of_Birth_ff: nan | Date_of_Anniversary_ff: nan | Customer_Phone_ff: nan | From__ff: nan | Customer_Email_ff: nan | Invoice_Id_ff: nan | Table_No_ff: nan | Order_Type_ff: nan | Answer_ff: nan | Created_ff: nan | Customer_Name_sf: nan | Date_of_Birth_sf: nan | Date_of_Anniversary_sf: nan | Customer_Phone_sf: nan | From__sf: nan | Customer_Email_sf: nan | Invoice_Id_sf: nan | Table_No_sf: nan | Order_Type_sf: nan | Answer_sf: nan | Created_sf: nan | PAX: nan | Biller_BSR: SANDEEP | First_Print_Date_BSR: 2025-03-29 22:45:04 UTC | Last_Settlement_Date_BSR: 2025-03-29 22:54:05 UTC | Duration__In_Minutes_BSR: 9.0 | Settled_By_BSR: vijay ( | area_co: nan | order_cancel_reason_co: nan | Cancelled_Invoice_Total_co: nan | Discount_Order_Type_DSR: nan | Biller_Name: nan | Discount_DSR: nan | Reason_DSR: nan | Food_Preparation_Time_Z: nan | Food_Preparation_Time_S: nan | Zomato_Delivery_Time: nan | Swiggy_Delivery_Time: nan | amount_from: 9801.0 | amount_to: 9335.0 | modified_by: vijay ( | modify_comment: removed sc | electron_pos: 2025-03-29 22:46:42 UTC | bill_no: F22351 | invoice_no: 22351.0 | date_orap: 2025-03-29 22:45:03 UTC | has_anomaly: No | anomaly_priority: nan | anomaly_payment_mismatch: 0 | anomaly_missing_payment_info: 0 | anomaly_multiple_payment_types: 0 | anomaly'),\n",
              " Document(metadata={}, page_content=': 0 | anomaly_missing_payment_info: 0 | anomaly_multiple_payment_types: 0 | anomaly_tax_calculation_mismatch: 0 | anomaly_zero_tax_on_taxable: 0 | anomaly_large_order_modification: 0 | anomaly_modification_without_comment: 0 | anomaly_zomato_invoice_mismatch: 0 | anomaly_swiggy_invoice_mismatch: 0 | anomaly_long_zomato_prep_time: 0 | anomaly_long_swiggy_prep_time: 0 | anomaly_zomato_missing_delivery_time: 0 | anomaly_swiggy_missing_delivery_time: 0 | anomaly_high_discount: 0 | anomaly_discount_without_reason: 0 | anomaly_zomato_status_mismatch: 0 | anomaly_swiggy_status_mismatch: 0 | anomaly_extreme_settlement_time: 0 | anomaly_unusual_settlement_time: 0 | anomaly_long_bill_settlement: 0 | anomaly_missing_server_name: 0 | anomaly_zomato_missing_customer: 0 | anomaly_swiggy_missing_customer: 0 | anomaly_suspicious_pax: 0 | anomaly_price_inconsistency: 0 | pattern_risk: Low Risk | reason_pattern_risk: nan'),\n",
              " Document(metadata={}, page_content='Date: 04-10-2024 | Timestamp: 2024-10-04 18:53:25 UTC | Invoice_No_: C1984 | Payment_Type: Cash | Order_Type: Dine In | Area: Garden Table | Item_Name: Manchow Soup (CHICKEN) | Price: 365 | Qty_: 1.0 | Sub_Total: 365.0 | Discount: 0.0 | Tax: 36.5 | Final_Total: 401.5 | Status: Complimentary | Table_No_: G 5 | Server_Name: TAPASH | Covers: 3 | Variation: CHICKEN | Category: ORIENTAL SOUPS | HSN: nan | Phone: 9843950806 | Name: PHOTO SHOOT | Address: nan | GST: nan | Assign_To: nan | Non_Taxable: 0.0 | CGST_Rate: 2.5 | CGST_Amount: 9.1 | SGST_Rate: 2.5 | SGST_Amount: 9.1 | VAT_Rate: 10 | VAT_Amount: 0.0 | Service_Charge_Rate: 5 | Service_Charge_Amount: 18.3 | Date_z: nan | Invoice_Date_z: nan | Aggregator_Order_No_z: nan | PoS_Invoice_No_z: nan | Order_From_z: nan | Outlet_Name_z: nan | Petpooja_Identifier_z: nan | Order_Type_z: nan | Customer_Name_z: nan | Customer_Phone_z: 9843950806 | Payment_Type_z: nan | Delivery_status_z: nan | Status_z: nan | My_amount_z: nan | Aggregator_Discount_z: nan | Outlet_Discount_z: nan | Delivery_Charges_z: nan | Container_Charges_z: nan | CGST_z: nan | SGST_z: nan | IGST_z: nan | Total_z: nan | Order_Acceptance_Time_z: nan | Order_Delivery_Time_z: nan | Reason_z: nan | Online_Tax_Calculated_z: nan | GST_Paid_by_Merchant_z: nan | GST_Paid_by_Ecommerce_z'),\n",
              " Document(metadata={}, page_content='_Paid_by_Merchant_z: nan | GST_Paid_by_Ecommerce_z: nan | Restaurant_ID_z: 950806 | Client_Sharing_Code_z: nan | Identifier_z: nan | Order_ID_z: nan | Order_Status_z: nan | Received_Time_z: nan | Accepted_Time_z: nan | Mark_Ready_Time_z: nan | Rider_Arrival_Time_z: nan | Picked_up_Time_z: nan | Delivered_Time_z: nan | Cancelled_Time_z: nan | Date_s: nan | Invoice_Date_s: nan | Aggregator_Order_No_s: nan | PoS_Invoice_No_s: nan | Order_From_s: nan | Outlet_Name_s: nan | Petpooja_Identifier_s: nan | Order_Type_s: nan | Customer_Name_s: nan | Customer_Phone_s: 9843950806 | Payment_Type_s: nan | Delivery_status_s: nan | Status_s: nan | My_amount_s: nan | Aggregator_Discount_s: nan | Outlet_Discount_s: nan | Delivery_Charges_s: nan | Container_Charges_s: nan | CGST_s: nan | SGST_s: nan | IGST_s: nan | Total_s: nan | Order_Acceptance_Time_s: nan | Order_Delivery_Time_s: nan | Reason_s: nan | Online_Tax_Calculated_s: nan | GST_Paid_by_Merchant_s: nan | GST_Paid_by_Ecommerce_s: nan | Restaurant_ID_s: 950806 | Client_Sharing_Code_s: nan | Identifier_s: nan | Order_ID_s: nan | Order_Status_s: nan | Received_Time_s: nan | Accepted_Time_s: nan | Mark_Ready_Time_s: nan | Rider_Arrival_Time_s: nan | Picked_up_Time_s: nan | Delivered_Time_s: nan | Cancelled_Time_s: nan | Customer_Name_ff: nan | Date'),\n",
              " Document(metadata={}, page_content='Time_s: nan | Cancelled_Time_s: nan | Customer_Name_ff: nan | Date_of_Birth_ff: nan | Date_of_Anniversary_ff: nan | Customer_Phone_ff: nan | From__ff: nan | Customer_Email_ff: nan | Invoice_Id_ff: nan | Table_No_ff: nan | Order_Type_ff: nan | Answer_ff: nan | Created_ff: nan | Customer_Name_sf: nan | Date_of_Birth_sf: nan | Date_of_Anniversary_sf: nan | Customer_Phone_sf: nan | From__sf: nan | Customer_Email_sf: nan | Invoice_Id_sf: nan | Table_No_sf: nan | Order_Type_sf: nan | Answer_sf: nan | Created_sf: nan | PAX: nan | Biller_BSR: nan | First_Print_Date_BSR: nan | Last_Settlement_Date_BSR: nan | Duration__In_Minutes_BSR: nan | Settled_By_BSR: nan | area_co: nan | order_cancel_reason_co: nan | Cancelled_Invoice_Total_co: nan | Discount_Order_Type_DSR: nan | Biller_Name: nan | Discount_DSR: nan | Reason_DSR: nan | Food_Preparation_Time_Z: nan | Food_Preparation_Time_S: nan | Zomato_Delivery_Time: nan | Swiggy_Delivery_Time: nan | amount_from: nan | amount_to: nan | modified_by: nan | modify_comment: nan | electron_pos: nan | bill_no: nan | invoice_no: nan | date_orap: nan | has_anomaly: No | anomaly_priority: nan | anomaly_payment_mismatch: 0 | anomaly_missing_payment_info: 0 | anomaly_multiple_payment_types: 0 | anomaly_tax_calculation_mismatch: 0 | anomaly_zero_tax_on_taxable: 0 | anomaly_large_order_modification: 0 | anomaly_modification_without_comment: 0 | anomaly_zomato_invoice_mismatch: 0 | anomaly_swig'),\n",
              " Document(metadata={}, page_content='_comment: 0 | anomaly_zomato_invoice_mismatch: 0 | anomaly_swiggy_invoice_mismatch: 0 | anomaly_long_zomato_prep_time: 0 | anomaly_long_swiggy_prep_time: 0 | anomaly_zomato_missing_delivery_time: 0 | anomaly_swiggy_missing_delivery_time: 0 | anomaly_high_discount: 0 | anomaly_discount_without_reason: 0 | anomaly_zomato_status_mismatch: 0 | anomaly_swiggy_status_mismatch: 0 | anomaly_extreme_settlement_time: 0 | anomaly_unusual_settlement_time: 0 | anomaly_long_bill_settlement: 0 | anomaly_missing_server_name: 0 | anomaly_zomato_missing_customer: 0 | anomaly_swiggy_missing_customer: 0 | anomaly_suspicious_pax: 0 | anomaly_price_inconsistency: 0 | pattern_risk: Low Risk | reason_pattern_risk: is_cash'),\n",
              " Document(metadata={}, page_content='Date: 30-08-2024 | Timestamp: 2024-08-30 22:13:37 UTC | Invoice_No_: 8847 | Payment_Type: CARD | Order_Type: Dine In | Area: Garden Table | Item_Name: BUTTER GARLIC NAAN | Price: 165 | Qty_: 1.0 | Sub_Total: 165.0 | Discount: 0.0 | Tax: 16.5 | Final_Total: 181.5 | Status: Success | Table_No_: G 5 | Server_Name: TANMOY  | Covers: 6 | Variation: nan | Category: TANDOOR BREADS | HSN: nan | Phone: 9819872420 | Name: radhika | Address: nan | GST: nan | Assign_To: TANMOY  | Non_Taxable: 0.0 | CGST_Rate: 2.5 | CGST_Amount: 4.1 | SGST_Rate: 2.5 | SGST_Amount: 4.1 | VAT_Rate: 10 | VAT_Amount: 0.0 | Service_Charge_Rate: 5 | Service_Charge_Amount: 8.3 | Date_z: nan | Invoice_Date_z: nan | Aggregator_Order_No_z: nan | PoS_Invoice_No_z: nan | Order_From_z: nan | Outlet_Name_z: nan | Petpooja_Identifier_z: nan | Order_Type_z: nan | Customer_Name_z: nan | Customer_Phone_z: 9819872420 | Payment_Type_z: nan | Delivery_status_z: nan | Status_z: nan | My_amount_z: nan | Aggregator_Discount_z: nan | Outlet_Discount_z: nan | Delivery_Charges_z: nan | Container_Charges_z: nan | CGST_z: nan | SGST_z: nan | IGST_z: nan | Total_z: nan | Order_Acceptance_Time_z: nan | Order_Delivery_Time_z: nan | Reason_z: nan | Online_Tax_Calculated_z: nan | GST_Paid_by_Merchant_z: nan | GST_Paid_by_Ecommerce_'),\n",
              " Document(metadata={}, page_content=' GST_Paid_by_Merchant_z: nan | GST_Paid_by_Ecommerce_z: nan | Restaurant_ID_z: 872420 | Client_Sharing_Code_z: nan | Identifier_z: nan | Order_ID_z: nan | Order_Status_z: nan | Received_Time_z: nan | Accepted_Time_z: nan | Mark_Ready_Time_z: nan | Rider_Arrival_Time_z: nan | Picked_up_Time_z: nan | Delivered_Time_z: nan | Cancelled_Time_z: nan | Date_s: nan | Invoice_Date_s: nan | Aggregator_Order_No_s: nan | PoS_Invoice_No_s: nan | Order_From_s: nan | Outlet_Name_s: nan | Petpooja_Identifier_s: nan | Order_Type_s: nan | Customer_Name_s: nan | Customer_Phone_s: 9819872420 | Payment_Type_s: nan | Delivery_status_s: nan | Status_s: nan | My_amount_s: nan | Aggregator_Discount_s: nan | Outlet_Discount_s: nan | Delivery_Charges_s: nan | Container_Charges_s: nan | CGST_s: nan | SGST_s: nan | IGST_s: nan | Total_s: nan | Order_Acceptance_Time_s: nan | Order_Delivery_Time_s: nan | Reason_s: nan | Online_Tax_Calculated_s: nan | GST_Paid_by_Merchant_s: nan | GST_Paid_by_Ecommerce_s: nan | Restaurant_ID_s: 872420 | Client_Sharing_Code_s: nan | Identifier_s: nan | Order_ID_s: nan | Order_Status_s: nan | Received_Time_s: nan | Accepted_Time_s: nan | Mark_Ready_Time_s: nan | Rider_Arrival_Time_s: nan | Picked_up_Time_s: nan | Delivered_Time_s: nan | Cancelled_Time_s: nan | Customer_Name_ff: nan'),\n",
              " Document(metadata={}, page_content='ivered_Time_s: nan | Cancelled_Time_s: nan | Customer_Name_ff: nan | Date_of_Birth_ff: nan | Date_of_Anniversary_ff: nan | Customer_Phone_ff: nan | From__ff: nan | Customer_Email_ff: nan | Invoice_Id_ff: nan | Table_No_ff: nan | Order_Type_ff: nan | Answer_ff: nan | Created_ff: nan | Customer_Name_sf: nan | Date_of_Birth_sf: nan | Date_of_Anniversary_sf: nan | Customer_Phone_sf: nan | From__sf: nan | Customer_Email_sf: nan | Invoice_Id_sf: nan | Table_No_sf: nan | Order_Type_sf: nan | Answer_sf: nan | Created_sf: nan | PAX: nan | Biller_BSR: TANMOY  | First_Print_Date_BSR: 2024-08-30 22:13:38 UTC | Last_Settlement_Date_BSR: 2024-08-30 22:15:44 UTC | Duration__In_Minutes_BSR: 2.0 | Settled_By_BSR: vijay ( | area_co: nan | order_cancel_reason_co: nan | Cancelled_Invoice_Total_co: nan | Discount_Order_Type_DSR: nan | Biller_Name: nan | Discount_DSR: nan | Reason_DSR: nan | Food_Preparation_Time_Z: nan | Food_Preparation_Time_S: nan | Zomato_Delivery_Time: nan | Swiggy_Delivery_Time: nan | amount_from: nan | amount_to: nan | modified_by: nan | modify_comment: nan | electron_pos: nan | bill_no: nan | invoice_no: nan | date_orap: nan | has_anomaly: No | anomaly_priority: nan | anomaly_payment_mismatch: 0 | anomaly_missing_payment_info: 0 | anomaly_multiple_payment_types: 0 | anomaly_tax_calculation_mismatch: 0 | anomaly_zero_tax_on_taxable: 0 | anomaly_large_order_modification: 0'),\n",
              " Document(metadata={}, page_content=' | anomaly_zero_tax_on_taxable: 0 | anomaly_large_order_modification: 0 | anomaly_modification_without_comment: 0 | anomaly_zomato_invoice_mismatch: 0 | anomaly_swiggy_invoice_mismatch: 0 | anomaly_long_zomato_prep_time: 0 | anomaly_long_swiggy_prep_time: 0 | anomaly_zomato_missing_delivery_time: 0 | anomaly_swiggy_missing_delivery_time: 0 | anomaly_high_discount: 0 | anomaly_discount_without_reason: 0 | anomaly_zomato_status_mismatch: 0 | anomaly_swiggy_status_mismatch: 0 | anomaly_extreme_settlement_time: 0 | anomaly_unusual_settlement_time: 0 | anomaly_long_bill_settlement: 0 | anomaly_missing_server_name: 0 | anomaly_zomato_missing_customer: 0 | anomaly_swiggy_missing_customer: 0 | anomaly_suspicious_pax: 0 | anomaly_price_inconsistency: 0 | pattern_risk: Low Risk | reason_pattern_risk: is_card_payment'),\n",
              " Document(metadata={}, page_content='Date: 29-03-2025 | Timestamp: 2025-03-29 22:45:03 UTC | Invoice_No_: 22351 | Payment_Type: Other [ZOMATO PAY] | Order_Type: Dine In | Area: Dine in | Item_Name: Paneer Khurchan | Price: 795 | Qty_: 2.0 | Sub_Total: 1590.0 | Discount: 0.0 | Tax: 79.6 | Final_Total: 1669.6 | Status: Success | Table_No_: 30 | Server_Name: SANDEEP | Covers: 9 | Variation: nan | Category: INDIAN MAIN COURSE | HSN: nan | Phone: 9844043557 | Name: YASH PAREKH | Address: nan | GST: nan | Assign_To: SANDEEP | Non_Taxable: 0.0 | CGST_Rate: 2.5 | CGST_Amount: 39.8 | SGST_Rate: 2.5 | SGST_Amount: 39.8 | VAT_Rate: 10 | VAT_Amount: 0.0 | Service_Charge_Rate: 5 | Service_Charge_Amount: 0.0 | Date_z: nan | Invoice_Date_z: nan | Aggregator_Order_No_z: nan | PoS_Invoice_No_z: nan | Order_From_z: nan | Outlet_Name_z: nan | Petpooja_Identifier_z: nan | Order_Type_z: nan | Customer_Name_z: nan | Customer_Phone_z: 9844043557 | Payment_Type_z: nan | Delivery_status_z: nan | Status_z: nan | My_amount_z: nan | Aggregator_Discount_z: nan | Outlet_Discount_z: nan | Delivery_Charges_z: nan | Container_Charges_z: nan | CGST_z: nan | SGST_z: nan | IGST_z: nan | Total_z: nan | Order_Acceptance_Time_z: nan | Order_Delivery_Time_z: nan | Reason_z: nan | Online_Tax_Calculated_z: nan | GST_Paid_by_Merchant_z: nan | GST_'),\n",
              " Document(metadata={}, page_content='_Calculated_z: nan | GST_Paid_by_Merchant_z: nan | GST_Paid_by_Ecommerce_z: nan | Restaurant_ID_z: 43557 | Client_Sharing_Code_z: nan | Identifier_z: nan | Order_ID_z: nan | Order_Status_z: nan | Received_Time_z: nan | Accepted_Time_z: nan | Mark_Ready_Time_z: nan | Rider_Arrival_Time_z: nan | Picked_up_Time_z: nan | Delivered_Time_z: nan | Cancelled_Time_z: nan | Date_s: nan | Invoice_Date_s: nan | Aggregator_Order_No_s: nan | PoS_Invoice_No_s: nan | Order_From_s: nan | Outlet_Name_s: nan | Petpooja_Identifier_s: nan | Order_Type_s: nan | Customer_Name_s: nan | Customer_Phone_s: 9844043557 | Payment_Type_s: nan | Delivery_status_s: nan | Status_s: nan | My_amount_s: nan | Aggregator_Discount_s: nan | Outlet_Discount_s: nan | Delivery_Charges_s: nan | Container_Charges_s: nan | CGST_s: nan | SGST_s: nan | IGST_s: nan | Total_s: nan | Order_Acceptance_Time_s: nan | Order_Delivery_Time_s: nan | Reason_s: nan | Online_Tax_Calculated_s: nan | GST_Paid_by_Merchant_s: nan | GST_Paid_by_Ecommerce_s: nan | Restaurant_ID_s: 43557 | Client_Sharing_Code_s: nan | Identifier_s: nan | Order_ID_s: nan | Order_Status_s: nan | Received_Time_s: nan | Accepted_Time_s: nan | Mark_Ready_Time_s: nan | Rider_Arrival_Time_s: nan | Picked_up_Time_s: nan | Delivered_Time_s: nan | Cancelled_Time_s: nan |'),\n",
              " Document(metadata={}, page_content='Time_s: nan | Delivered_Time_s: nan | Cancelled_Time_s: nan | Customer_Name_ff: nan | Date_of_Birth_ff: nan | Date_of_Anniversary_ff: nan | Customer_Phone_ff: nan | From__ff: nan | Customer_Email_ff: nan | Invoice_Id_ff: nan | Table_No_ff: nan | Order_Type_ff: nan | Answer_ff: nan | Created_ff: nan | Customer_Name_sf: nan | Date_of_Birth_sf: nan | Date_of_Anniversary_sf: nan | Customer_Phone_sf: nan | From__sf: nan | Customer_Email_sf: nan | Invoice_Id_sf: nan | Table_No_sf: nan | Order_Type_sf: nan | Answer_sf: nan | Created_sf: nan | PAX: nan | Biller_BSR: SANDEEP | First_Print_Date_BSR: 2025-03-29 22:45:04 UTC | Last_Settlement_Date_BSR: 2025-03-29 22:54:05 UTC | Duration__In_Minutes_BSR: 9.0 | Settled_By_BSR: vijay ( | area_co: nan | order_cancel_reason_co: nan | Cancelled_Invoice_Total_co: nan | Discount_Order_Type_DSR: nan | Biller_Name: nan | Discount_DSR: nan | Reason_DSR: nan | Food_Preparation_Time_Z: nan | Food_Preparation_Time_S: nan | Zomato_Delivery_Time: nan | Swiggy_Delivery_Time: nan | amount_from: 9801.0 | amount_to: 9335.0 | modified_by: vijay ( | modify_comment: removed sc | electron_pos: 2025-03-29 22:46:42 UTC | bill_no: F22351 | invoice_no: 22351.0 | date_orap: 2025-03-29 22:45:03 UTC | has_anomaly: No | anomaly_priority: nan | anomaly_payment_mismatch: 0 | anomaly_missing_payment_info: 0 | anomaly_multiple_payment_'),\n",
              " Document(metadata={}, page_content='payment_mismatch: 0 | anomaly_missing_payment_info: 0 | anomaly_multiple_payment_types: 0 | anomaly_tax_calculation_mismatch: 0 | anomaly_zero_tax_on_taxable: 0 | anomaly_large_order_modification: 0 | anomaly_modification_without_comment: 0 | anomaly_zomato_invoice_mismatch: 0 | anomaly_swiggy_invoice_mismatch: 0 | anomaly_long_zomato_prep_time: 0 | anomaly_long_swiggy_prep_time: 0 | anomaly_zomato_missing_delivery_time: 0 | anomaly_swiggy_missing_delivery_time: 0 | anomaly_high_discount: 0 | anomaly_discount_without_reason: 0 | anomaly_zomato_status_mismatch: 0 | anomaly_swiggy_status_mismatch: 0 | anomaly_extreme_settlement_time: 0 | anomaly_unusual_settlement_time: 0 | anomaly_long_bill_settlement: 0 | anomaly_missing_server_name: 0 | anomaly_zomato_missing_customer: 0 | anomaly_swiggy_missing_customer: 0 | anomaly_suspicious_pax: 0 | anomaly_price_inconsistency: 0 | pattern_risk: Low Risk | reason_pattern_risk: is_high_value'),\n",
              " Document(metadata={}, page_content='Date: 30-08-2024 | Timestamp: 2024-08-30 22:13:37 UTC | Invoice_No_: 8847 | Payment_Type: CARD | Order_Type: Dine In | Area: Garden Table | Item_Name: Bottled Water | Price: 0 | Qty_: 2.0 | Sub_Total: 0.0 | Discount: 0.0 | Tax: 0.0 | Final_Total: 0.0 | Status: Success | Table_No_: G 5 | Server_Name: TANMOY  | Covers: 6 | Variation: nan | Category: Complementary | HSN: nan | Phone: 9819872420 | Name: radhika | Address: nan | GST: nan | Assign_To: TANMOY  | Non_Taxable: 0.0 | CGST_Rate: 2.5 | CGST_Amount: 0.0 | SGST_Rate: 2.5 | SGST_Amount: 0.0 | VAT_Rate: 10 | VAT_Amount: 0.0 | Service_Charge_Rate: 5 | Service_Charge_Amount: 0.0 | Date_z: nan | Invoice_Date_z: nan | Aggregator_Order_No_z: nan | PoS_Invoice_No_z: nan | Order_From_z: nan | Outlet_Name_z: nan | Petpooja_Identifier_z: nan | Order_Type_z: nan | Customer_Name_z: nan | Customer_Phone_z: 9819872420 | Payment_Type_z: nan | Delivery_status_z: nan | Status_z: nan | My_amount_z: nan | Aggregator_Discount_z: nan | Outlet_Discount_z: nan | Delivery_Charges_z: nan | Container_Charges_z: nan | CGST_z: nan | SGST_z: nan | IGST_z: nan | Total_z: nan | Order_Acceptance_Time_z: nan | Order_Delivery_Time_z: nan | Reason_z: nan | Online_Tax_Calculated_z: nan | GST_Paid_by_Merchant_z: nan | GST_Paid_by_Ecommerce_z: nan | Restaurant_ID_z'),\n",
              " Document(metadata={}, page_content='_z: nan | GST_Paid_by_Ecommerce_z: nan | Restaurant_ID_z: 872420 | Client_Sharing_Code_z: nan | Identifier_z: nan | Order_ID_z: nan | Order_Status_z: nan | Received_Time_z: nan | Accepted_Time_z: nan | Mark_Ready_Time_z: nan | Rider_Arrival_Time_z: nan | Picked_up_Time_z: nan | Delivered_Time_z: nan | Cancelled_Time_z: nan | Date_s: nan | Invoice_Date_s: nan | Aggregator_Order_No_s: nan | PoS_Invoice_No_s: nan | Order_From_s: nan | Outlet_Name_s: nan | Petpooja_Identifier_s: nan | Order_Type_s: nan | Customer_Name_s: nan | Customer_Phone_s: 9819872420 | Payment_Type_s: nan | Delivery_status_s: nan | Status_s: nan | My_amount_s: nan | Aggregator_Discount_s: nan | Outlet_Discount_s: nan | Delivery_Charges_s: nan | Container_Charges_s: nan | CGST_s: nan | SGST_s: nan | IGST_s: nan | Total_s: nan | Order_Acceptance_Time_s: nan | Order_Delivery_Time_s: nan | Reason_s: nan | Online_Tax_Calculated_s: nan | GST_Paid_by_Merchant_s: nan | GST_Paid_by_Ecommerce_s: nan | Restaurant_ID_s: 872420 | Client_Sharing_Code_s: nan | Identifier_s: nan | Order_ID_s: nan | Order_Status_s: nan | Received_Time_s: nan | Accepted_Time_s: nan | Mark_Ready_Time_s: nan | Rider_Arrival_Time_s: nan | Picked_up_Time_s: nan | Delivered_Time_s: nan | Cancelled_Time_s: nan | Customer_Name_ff: nan | Date_of_Birth_ff:'),\n",
              " Document(metadata={}, page_content='lled_Time_s: nan | Customer_Name_ff: nan | Date_of_Birth_ff: nan | Date_of_Anniversary_ff: nan | Customer_Phone_ff: nan | From__ff: nan | Customer_Email_ff: nan | Invoice_Id_ff: nan | Table_No_ff: nan | Order_Type_ff: nan | Answer_ff: nan | Created_ff: nan | Customer_Name_sf: nan | Date_of_Birth_sf: nan | Date_of_Anniversary_sf: nan | Customer_Phone_sf: nan | From__sf: nan | Customer_Email_sf: nan | Invoice_Id_sf: nan | Table_No_sf: nan | Order_Type_sf: nan | Answer_sf: nan | Created_sf: nan | PAX: 6.0 | Biller_BSR: TANMOY  | First_Print_Date_BSR: 2024-08-30 22:13:38 UTC | Last_Settlement_Date_BSR: 2024-08-30 22:15:44 UTC | Duration__In_Minutes_BSR: 2.0 | Settled_By_BSR: vijay ( | area_co: nan | order_cancel_reason_co: nan | Cancelled_Invoice_Total_co: nan | Discount_Order_Type_DSR: nan | Biller_Name: nan | Discount_DSR: nan | Reason_DSR: nan | Food_Preparation_Time_Z: nan | Food_Preparation_Time_S: nan | Zomato_Delivery_Time: nan | Swiggy_Delivery_Time: nan | amount_from: nan | amount_to: nan | modified_by: nan | modify_comment: nan | electron_pos: nan | bill_no: nan | invoice_no: nan | date_orap: nan | has_anomaly: Yes | anomaly_priority: Low | anomaly_payment_mismatch: 0 | anomaly_missing_payment_info: 0 | anomaly_multiple_payment_types: 0 | anomaly_tax_calculation_mismatch: 0 | anomaly_zero_tax_on_taxable: 0 | anomaly_large_order_modification: 0 | anomaly_modification_without'),\n",
              " Document(metadata={}, page_content='on_taxable: 0 | anomaly_large_order_modification: 0 | anomaly_modification_without_comment: 0 | anomaly_zomato_invoice_mismatch: 0 | anomaly_swiggy_invoice_mismatch: 0 | anomaly_long_zomato_prep_time: 0 | anomaly_long_swiggy_prep_time: 0 | anomaly_zomato_missing_delivery_time: 0 | anomaly_swiggy_missing_delivery_time: 0 | anomaly_high_discount: 0 | anomaly_discount_without_reason: 0 | anomaly_zomato_status_mismatch: 0 | anomaly_swiggy_status_mismatch: 0 | anomaly_extreme_settlement_time: 0 | anomaly_unusual_settlement_time: 0 | anomaly_long_bill_settlement: 0 | anomaly_missing_server_name: 0 | anomaly_zomato_missing_customer: 0 | anomaly_swiggy_missing_customer: 0 | anomaly_suspicious_pax: 0 | anomaly_price_inconsistency: 1 | pattern_risk: Low Risk | reason_pattern_risk: is_card_payment'),\n",
              " Document(metadata={}, page_content='Date: 04-10-2024 | Timestamp: 2024-10-04 18:53:25 UTC | Invoice_No_: C1984 | Payment_Type: Cash | Order_Type: Dine In | Area: Garden Table | Item_Name: Bottled Water | Price: 0 | Qty_: 1.0 | Sub_Total: 0.0 | Discount: 0.0 | Tax: 0.0 | Final_Total: 0.0 | Status: Complimentary | Table_No_: G 5 | Server_Name: TAPASH | Covers: 3 | Variation: nan | Category: Complementary | HSN: nan | Phone: 9843950806 | Name: PHOTO SHOOT | Address: nan | GST: nan | Assign_To: nan | Non_Taxable: 0.0 | CGST_Rate: 2.5 | CGST_Amount: 0.0 | SGST_Rate: 2.5 | SGST_Amount: 0.0 | VAT_Rate: 10 | VAT_Amount: 0.0 | Service_Charge_Rate: 5 | Service_Charge_Amount: 0.0 | Date_z: nan | Invoice_Date_z: nan | Aggregator_Order_No_z: nan | PoS_Invoice_No_z: nan | Order_From_z: nan | Outlet_Name_z: nan | Petpooja_Identifier_z: nan | Order_Type_z: nan | Customer_Name_z: nan | Customer_Phone_z: 9843950806 | Payment_Type_z: nan | Delivery_status_z: nan | Status_z: nan | My_amount_z: nan | Aggregator_Discount_z: nan | Outlet_Discount_z: nan | Delivery_Charges_z: nan | Container_Charges_z: nan | CGST_z: nan | SGST_z: nan | IGST_z: nan | Total_z: nan | Order_Acceptance_Time_z: nan | Order_Delivery_Time_z: nan | Reason_z: nan | Online_Tax_Calculated_z: nan | GST_Paid_by_Merchant_z: nan | GST_Paid_by_Ecommerce_z: nan | Restaurant_ID_z: 950'),\n",
              " Document(metadata={}, page_content=': nan | GST_Paid_by_Ecommerce_z: nan | Restaurant_ID_z: 950806 | Client_Sharing_Code_z: nan | Identifier_z: nan | Order_ID_z: nan | Order_Status_z: nan | Received_Time_z: nan | Accepted_Time_z: nan | Mark_Ready_Time_z: nan | Rider_Arrival_Time_z: nan | Picked_up_Time_z: nan | Delivered_Time_z: nan | Cancelled_Time_z: nan | Date_s: nan | Invoice_Date_s: nan | Aggregator_Order_No_s: nan | PoS_Invoice_No_s: nan | Order_From_s: nan | Outlet_Name_s: nan | Petpooja_Identifier_s: nan | Order_Type_s: nan | Customer_Name_s: nan | Customer_Phone_s: 9843950806 | Payment_Type_s: nan | Delivery_status_s: nan | Status_s: nan | My_amount_s: nan | Aggregator_Discount_s: nan | Outlet_Discount_s: nan | Delivery_Charges_s: nan | Container_Charges_s: nan | CGST_s: nan | SGST_s: nan | IGST_s: nan | Total_s: nan | Order_Acceptance_Time_s: nan | Order_Delivery_Time_s: nan | Reason_s: nan | Online_Tax_Calculated_s: nan | GST_Paid_by_Merchant_s: nan | GST_Paid_by_Ecommerce_s: nan | Restaurant_ID_s: 950806 | Client_Sharing_Code_s: nan | Identifier_s: nan | Order_ID_s: nan | Order_Status_s: nan | Received_Time_s: nan | Accepted_Time_s: nan | Mark_Ready_Time_s: nan | Rider_Arrival_Time_s: nan | Picked_up_Time_s: nan | Delivered_Time_s: nan | Cancelled_Time_s: nan | Customer_Name_ff: nan | Date_of_Birth_ff: nan | Date'),\n",
              " Document(metadata={}, page_content='_s: nan | Customer_Name_ff: nan | Date_of_Birth_ff: nan | Date_of_Anniversary_ff: nan | Customer_Phone_ff: nan | From__ff: nan | Customer_Email_ff: nan | Invoice_Id_ff: nan | Table_No_ff: nan | Order_Type_ff: nan | Answer_ff: nan | Created_ff: nan | Customer_Name_sf: nan | Date_of_Birth_sf: nan | Date_of_Anniversary_sf: nan | Customer_Phone_sf: nan | From__sf: nan | Customer_Email_sf: nan | Invoice_Id_sf: nan | Table_No_sf: nan | Order_Type_sf: nan | Answer_sf: nan | Created_sf: nan | PAX: 3.0 | Biller_BSR: nan | First_Print_Date_BSR: nan | Last_Settlement_Date_BSR: nan | Duration__In_Minutes_BSR: nan | Settled_By_BSR: nan | area_co: nan | order_cancel_reason_co: nan | Cancelled_Invoice_Total_co: nan | Discount_Order_Type_DSR: nan | Biller_Name: nan | Discount_DSR: nan | Reason_DSR: nan | Food_Preparation_Time_Z: nan | Food_Preparation_Time_S: nan | Zomato_Delivery_Time: nan | Swiggy_Delivery_Time: nan | amount_from: nan | amount_to: nan | modified_by: nan | modify_comment: nan | electron_pos: nan | bill_no: nan | invoice_no: nan | date_orap: nan | has_anomaly: Yes | anomaly_priority: Low | anomaly_payment_mismatch: 0 | anomaly_missing_payment_info: 0 | anomaly_multiple_payment_types: 0 | anomaly_tax_calculation_mismatch: 0 | anomaly_zero_tax_on_taxable: 0 | anomaly_large_order_modification: 0 | anomaly_modification_without_comment: 0 | anomaly_zomato_invoice_mismatch: 0 | anomaly_swiggy_invoice_mismatch'),\n",
              " Document(metadata={}, page_content='omato_invoice_mismatch: 0 | anomaly_swiggy_invoice_mismatch: 0 | anomaly_long_zomato_prep_time: 0 | anomaly_long_swiggy_prep_time: 0 | anomaly_zomato_missing_delivery_time: 0 | anomaly_swiggy_missing_delivery_time: 0 | anomaly_high_discount: 0 | anomaly_discount_without_reason: 0 | anomaly_zomato_status_mismatch: 0 | anomaly_swiggy_status_mismatch: 0 | anomaly_extreme_settlement_time: 0 | anomaly_unusual_settlement_time: 0 | anomaly_long_bill_settlement: 0 | anomaly_missing_server_name: 0 | anomaly_zomato_missing_customer: 0 | anomaly_swiggy_missing_customer: 0 | anomaly_suspicious_pax: 0 | anomaly_price_inconsistency: 1 | pattern_risk: Low Risk | reason_pattern_risk: is_cash'),\n",
              " Document(metadata={}, page_content='Date: 30-10-2024 | Timestamp: 2024-10-30 15:25:36 UTC | Invoice_No_: 12615 | Payment_Type: CARD | Order_Type: Dine In | Area: Dine in | Item_Name: Hara Bhara Kabab | Price: 795 | Qty_: 1.0 | Sub_Total: 795.0 | Discount: 0.0 | Tax: 79.6 | Final_Total: 874.6 | Status: Success | Table_No_: 15 | Server_Name: TANMOY  | Covers: 5 | Variation: nan | Category: INDIAN STARTER & SOUP | HSN: nan | Phone: 9813566106 | Name: DR RAJSHREE | Address: nan | GST: nan | Assign_To: TANMOY  | Non_Taxable: 0.0 | CGST_Rate: 2.5 | CGST_Amount: 19.9 | SGST_Rate: 2.5 | SGST_Amount: 19.9 | VAT_Rate: 10 | VAT_Amount: 0.0 | Service_Charge_Rate: 5 | Service_Charge_Amount: 39.8 | Date_z: nan | Invoice_Date_z: nan | Aggregator_Order_No_z: nan | PoS_Invoice_No_z: nan | Order_From_z: nan | Outlet_Name_z: nan | Petpooja_Identifier_z: nan | Order_Type_z: nan | Customer_Name_z: nan | Customer_Phone_z: 9813566106 | Payment_Type_z: nan | Delivery_status_z: nan | Status_z: nan | My_amount_z: nan | Aggregator_Discount_z: nan | Outlet_Discount_z: nan | Delivery_Charges_z: nan | Container_Charges_z: nan | CGST_z: nan | SGST_z: nan | IGST_z: nan | Total_z: nan | Order_Acceptance_Time_z: nan | Order_Delivery_Time_z: nan | Reason_z: nan | Online_Tax_Calculated_z: nan | GST_Paid_by_Merchant_z: nan | GST_Paid_by_'),\n",
              " Document(metadata={}, page_content=': nan | GST_Paid_by_Merchant_z: nan | GST_Paid_by_Ecommerce_z: nan | Restaurant_ID_z: 566106 | Client_Sharing_Code_z: nan | Identifier_z: nan | Order_ID_z: nan | Order_Status_z: nan | Received_Time_z: nan | Accepted_Time_z: nan | Mark_Ready_Time_z: nan | Rider_Arrival_Time_z: nan | Picked_up_Time_z: nan | Delivered_Time_z: nan | Cancelled_Time_z: nan | Date_s: nan | Invoice_Date_s: nan | Aggregator_Order_No_s: nan | PoS_Invoice_No_s: nan | Order_From_s: nan | Outlet_Name_s: nan | Petpooja_Identifier_s: nan | Order_Type_s: nan | Customer_Name_s: nan | Customer_Phone_s: 9813566106 | Payment_Type_s: nan | Delivery_status_s: nan | Status_s: nan | My_amount_s: nan | Aggregator_Discount_s: nan | Outlet_Discount_s: nan | Delivery_Charges_s: nan | Container_Charges_s: nan | CGST_s: nan | SGST_s: nan | IGST_s: nan | Total_s: nan | Order_Acceptance_Time_s: nan | Order_Delivery_Time_s: nan | Reason_s: nan | Online_Tax_Calculated_s: nan | GST_Paid_by_Merchant_s: nan | GST_Paid_by_Ecommerce_s: nan | Restaurant_ID_s: 566106 | Client_Sharing_Code_s: nan | Identifier_s: nan | Order_ID_s: nan | Order_Status_s: nan | Received_Time_s: nan | Accepted_Time_s: nan | Mark_Ready_Time_s: nan | Rider_Arrival_Time_s: nan | Picked_up_Time_s: nan | Delivered_Time_s: nan | Cancelled_Time_s: nan | Customer_Name_'),\n",
              " Document(metadata={}, page_content=' nan | Delivered_Time_s: nan | Cancelled_Time_s: nan | Customer_Name_ff: nan | Date_of_Birth_ff: nan | Date_of_Anniversary_ff: nan | Customer_Phone_ff: nan | From__ff: nan | Customer_Email_ff: nan | Invoice_Id_ff: nan | Table_No_ff: nan | Order_Type_ff: nan | Answer_ff: nan | Created_ff: nan | Customer_Name_sf: nan | Date_of_Birth_sf: nan | Date_of_Anniversary_sf: nan | Customer_Phone_sf: nan | From__sf: nan | Customer_Email_sf: nan | Invoice_Id_sf: nan | Table_No_sf: nan | Order_Type_sf: nan | Answer_sf: nan | Created_sf: nan | PAX: nan | Biller_BSR: TANMOY  | First_Print_Date_BSR: 2024-10-30 15:25:37 UTC | Last_Settlement_Date_BSR: 2024-10-30 15:42:08 UTC | Duration__In_Minutes_BSR: 16.0 | Settled_By_BSR: vijay ( | area_co: nan | order_cancel_reason_co: nan | Cancelled_Invoice_Total_co: nan | Discount_Order_Type_DSR: nan | Biller_Name: nan | Discount_DSR: nan | Reason_DSR: nan | Food_Preparation_Time_Z: nan | Food_Preparation_Time_S: nan | Zomato_Delivery_Time: nan | Swiggy_Delivery_Time: nan | amount_from: nan | amount_to: nan | modified_by: nan | modify_comment: nan | electron_pos: nan | bill_no: nan | invoice_no: nan | date_orap: nan | has_anomaly: Yes | anomaly_priority: Medium | anomaly_payment_mismatch: 0 | anomaly_missing_payment_info: 0 | anomaly_multiple_payment_types: 0 | anomaly_tax_calculation_mismatch: 0 | anomaly_zero_tax_on_taxable: 0 | anomaly_large_order_mod'),\n",
              " Document(metadata={}, page_content='atch: 0 | anomaly_zero_tax_on_taxable: 0 | anomaly_large_order_modification: 0 | anomaly_modification_without_comment: 0 | anomaly_zomato_invoice_mismatch: 0 | anomaly_swiggy_invoice_mismatch: 0 | anomaly_long_zomato_prep_time: 0 | anomaly_long_swiggy_prep_time: 0 | anomaly_zomato_missing_delivery_time: 0 | anomaly_swiggy_missing_delivery_time: 0 | anomaly_high_discount: 0 | anomaly_discount_without_reason: 0 | anomaly_zomato_status_mismatch: 0 | anomaly_swiggy_status_mismatch: 0 | anomaly_extreme_settlement_time: 0 | anomaly_unusual_settlement_time: 1 | anomaly_long_bill_settlement: 0 | anomaly_missing_server_name: 0 | anomaly_zomato_missing_customer: 0 | anomaly_swiggy_missing_customer: 0 | anomaly_suspicious_pax: 0 | anomaly_price_inconsistency: 0 | pattern_risk: Low Risk | reason_pattern_risk: is_card_payment'),\n",
              " Document(metadata={}, page_content='Date: 04-10-2024 | Timestamp: 2024-10-04 18:53:25 UTC | Invoice_No_: C1984 | Payment_Type: Cash | Order_Type: Dine In | Area: Garden Table | Item_Name: Manchow Soup (VEG) | Price: 365 | Qty_: 1.0 | Sub_Total: 365.0 | Discount: 0.0 | Tax: 36.5 | Final_Total: 401.5 | Status: Complimentary | Table_No_: G 5 | Server_Name: TAPASH | Covers: 3 | Variation: VEG | Category: ORIENTAL SOUPS | HSN: nan | Phone: 9843950806 | Name: PHOTO SHOOT | Address: nan | GST: nan | Assign_To: nan | Non_Taxable: 0.0 | CGST_Rate: 2.5 | CGST_Amount: 9.1 | SGST_Rate: 2.5 | SGST_Amount: 9.1 | VAT_Rate: 10 | VAT_Amount: 0.0 | Service_Charge_Rate: 5 | Service_Charge_Amount: 18.3 | Date_z: nan | Invoice_Date_z: nan | Aggregator_Order_No_z: nan | PoS_Invoice_No_z: nan | Order_From_z: nan | Outlet_Name_z: nan | Petpooja_Identifier_z: nan | Order_Type_z: nan | Customer_Name_z: nan | Customer_Phone_z: 9843950806 | Payment_Type_z: nan | Delivery_status_z: nan | Status_z: nan | My_amount_z: nan | Aggregator_Discount_z: nan | Outlet_Discount_z: nan | Delivery_Charges_z: nan | Container_Charges_z: nan | CGST_z: nan | SGST_z: nan | IGST_z: nan | Total_z: nan | Order_Acceptance_Time_z: nan | Order_Delivery_Time_z: nan | Reason_z: nan | Online_Tax_Calculated_z: nan | GST_Paid_by_Merchant_z: nan | GST_Paid_by_Ecommerce_z: nan'),\n",
              " Document(metadata={}, page_content='aid_by_Merchant_z: nan | GST_Paid_by_Ecommerce_z: nan | Restaurant_ID_z: 950806 | Client_Sharing_Code_z: nan | Identifier_z: nan | Order_ID_z: nan | Order_Status_z: nan | Received_Time_z: nan | Accepted_Time_z: nan | Mark_Ready_Time_z: nan | Rider_Arrival_Time_z: nan | Picked_up_Time_z: nan | Delivered_Time_z: nan | Cancelled_Time_z: nan | Date_s: nan | Invoice_Date_s: nan | Aggregator_Order_No_s: nan | PoS_Invoice_No_s: nan | Order_From_s: nan | Outlet_Name_s: nan | Petpooja_Identifier_s: nan | Order_Type_s: nan | Customer_Name_s: nan | Customer_Phone_s: 9843950806 | Payment_Type_s: nan | Delivery_status_s: nan | Status_s: nan | My_amount_s: nan | Aggregator_Discount_s: nan | Outlet_Discount_s: nan | Delivery_Charges_s: nan | Container_Charges_s: nan | CGST_s: nan | SGST_s: nan | IGST_s: nan | Total_s: nan | Order_Acceptance_Time_s: nan | Order_Delivery_Time_s: nan | Reason_s: nan | Online_Tax_Calculated_s: nan | GST_Paid_by_Merchant_s: nan | GST_Paid_by_Ecommerce_s: nan | Restaurant_ID_s: 950806 | Client_Sharing_Code_s: nan | Identifier_s: nan | Order_ID_s: nan | Order_Status_s: nan | Received_Time_s: nan | Accepted_Time_s: nan | Mark_Ready_Time_s: nan | Rider_Arrival_Time_s: nan | Picked_up_Time_s: nan | Delivered_Time_s: nan | Cancelled_Time_s: nan | Customer_Name_ff: nan | Date_of'),\n",
              " Document(metadata={}, page_content='s: nan | Cancelled_Time_s: nan | Customer_Name_ff: nan | Date_of_Birth_ff: nan | Date_of_Anniversary_ff: nan | Customer_Phone_ff: nan | From__ff: nan | Customer_Email_ff: nan | Invoice_Id_ff: nan | Table_No_ff: nan | Order_Type_ff: nan | Answer_ff: nan | Created_ff: nan | Customer_Name_sf: nan | Date_of_Birth_sf: nan | Date_of_Anniversary_sf: nan | Customer_Phone_sf: nan | From__sf: nan | Customer_Email_sf: nan | Invoice_Id_sf: nan | Table_No_sf: nan | Order_Type_sf: nan | Answer_sf: nan | Created_sf: nan | PAX: nan | Biller_BSR: nan | First_Print_Date_BSR: nan | Last_Settlement_Date_BSR: nan | Duration__In_Minutes_BSR: nan | Settled_By_BSR: nan | area_co: nan | order_cancel_reason_co: nan | Cancelled_Invoice_Total_co: nan | Discount_Order_Type_DSR: nan | Biller_Name: nan | Discount_DSR: nan | Reason_DSR: nan | Food_Preparation_Time_Z: nan | Food_Preparation_Time_S: nan | Zomato_Delivery_Time: nan | Swiggy_Delivery_Time: nan | amount_from: nan | amount_to: nan | modified_by: nan | modify_comment: nan | electron_pos: nan | bill_no: nan | invoice_no: nan | date_orap: nan | has_anomaly: No | anomaly_priority: nan | anomaly_payment_mismatch: 0 | anomaly_missing_payment_info: 0 | anomaly_multiple_payment_types: 0 | anomaly_tax_calculation_mismatch: 0 | anomaly_zero_tax_on_taxable: 0 | anomaly_large_order_modification: 0 | anomaly_modification_without_comment: 0 | anomaly_zomato_invoice_mismatch: 0 | anomaly_swiggy_'),\n",
              " Document(metadata={}, page_content=': 0 | anomaly_zomato_invoice_mismatch: 0 | anomaly_swiggy_invoice_mismatch: 0 | anomaly_long_zomato_prep_time: 0 | anomaly_long_swiggy_prep_time: 0 | anomaly_zomato_missing_delivery_time: 0 | anomaly_swiggy_missing_delivery_time: 0 | anomaly_high_discount: 0 | anomaly_discount_without_reason: 0 | anomaly_zomato_status_mismatch: 0 | anomaly_swiggy_status_mismatch: 0 | anomaly_extreme_settlement_time: 0 | anomaly_unusual_settlement_time: 0 | anomaly_long_bill_settlement: 0 | anomaly_missing_server_name: 0 | anomaly_zomato_missing_customer: 0 | anomaly_swiggy_missing_customer: 0 | anomaly_suspicious_pax: 0 | anomaly_price_inconsistency: 0 | pattern_risk: Low Risk | reason_pattern_risk: is_cash'),\n",
              " Document(metadata={}, page_content='Date: 29-03-2025 | Timestamp: 2025-03-29 22:45:03 UTC | Invoice_No_: 22351 | Payment_Type: Other [ZOMATO PAY] | Order_Type: Dine In | Area: Dine in | Item_Name: Missi Roti | Price: 135 | Qty_: 1.0 | Sub_Total: 135.0 | Discount: 0.0 | Tax: 6.8 | Final_Total: 141.8 | Status: Success | Table_No_: 30 | Server_Name: SANDEEP | Covers: 9 | Variation: nan | Category: TANDOOR BREADS | HSN: nan | Phone: 9844043557 | Name: YASH PAREKH | Address: nan | GST: nan | Assign_To: SANDEEP | Non_Taxable: 0.0 | CGST_Rate: 2.5 | CGST_Amount: 3.4 | SGST_Rate: 2.5 | SGST_Amount: 3.4 | VAT_Rate: 10 | VAT_Amount: 0.0 | Service_Charge_Rate: 5 | Service_Charge_Amount: 0.0 | Date_z: nan | Invoice_Date_z: nan | Aggregator_Order_No_z: nan | PoS_Invoice_No_z: nan | Order_From_z: nan | Outlet_Name_z: nan | Petpooja_Identifier_z: nan | Order_Type_z: nan | Customer_Name_z: nan | Customer_Phone_z: 9844043557 | Payment_Type_z: nan | Delivery_status_z: nan | Status_z: nan | My_amount_z: nan | Aggregator_Discount_z: nan | Outlet_Discount_z: nan | Delivery_Charges_z: nan | Container_Charges_z: nan | CGST_z: nan | SGST_z: nan | IGST_z: nan | Total_z: nan | Order_Acceptance_Time_z: nan | Order_Delivery_Time_z: nan | Reason_z: nan | Online_Tax_Calculated_z: nan | GST_Paid_by_Merchant_z: nan | GST_Paid_by'),\n",
              " Document(metadata={}, page_content='z: nan | GST_Paid_by_Merchant_z: nan | GST_Paid_by_Ecommerce_z: nan | Restaurant_ID_z: 43557 | Client_Sharing_Code_z: nan | Identifier_z: nan | Order_ID_z: nan | Order_Status_z: nan | Received_Time_z: nan | Accepted_Time_z: nan | Mark_Ready_Time_z: nan | Rider_Arrival_Time_z: nan | Picked_up_Time_z: nan | Delivered_Time_z: nan | Cancelled_Time_z: nan | Date_s: nan | Invoice_Date_s: nan | Aggregator_Order_No_s: nan | PoS_Invoice_No_s: nan | Order_From_s: nan | Outlet_Name_s: nan | Petpooja_Identifier_s: nan | Order_Type_s: nan | Customer_Name_s: nan | Customer_Phone_s: 9844043557 | Payment_Type_s: nan | Delivery_status_s: nan | Status_s: nan | My_amount_s: nan | Aggregator_Discount_s: nan | Outlet_Discount_s: nan | Delivery_Charges_s: nan | Container_Charges_s: nan | CGST_s: nan | SGST_s: nan | IGST_s: nan | Total_s: nan | Order_Acceptance_Time_s: nan | Order_Delivery_Time_s: nan | Reason_s: nan | Online_Tax_Calculated_s: nan | GST_Paid_by_Merchant_s: nan | GST_Paid_by_Ecommerce_s: nan | Restaurant_ID_s: 43557 | Client_Sharing_Code_s: nan | Identifier_s: nan | Order_ID_s: nan | Order_Status_s: nan | Received_Time_s: nan | Accepted_Time_s: nan | Mark_Ready_Time_s: nan | Rider_Arrival_Time_s: nan | Picked_up_Time_s: nan | Delivered_Time_s: nan | Cancelled_Time_s: nan | Customer_Name_'),\n",
              " Document(metadata={}, page_content=' nan | Delivered_Time_s: nan | Cancelled_Time_s: nan | Customer_Name_ff: nan | Date_of_Birth_ff: nan | Date_of_Anniversary_ff: nan | Customer_Phone_ff: nan | From__ff: nan | Customer_Email_ff: nan | Invoice_Id_ff: nan | Table_No_ff: nan | Order_Type_ff: nan | Answer_ff: nan | Created_ff: nan | Customer_Name_sf: nan | Date_of_Birth_sf: nan | Date_of_Anniversary_sf: nan | Customer_Phone_sf: nan | From__sf: nan | Customer_Email_sf: nan | Invoice_Id_sf: nan | Table_No_sf: nan | Order_Type_sf: nan | Answer_sf: nan | Created_sf: nan | PAX: nan | Biller_BSR: SANDEEP | First_Print_Date_BSR: 2025-03-29 22:45:04 UTC | Last_Settlement_Date_BSR: 2025-03-29 22:54:05 UTC | Duration__In_Minutes_BSR: 9.0 | Settled_By_BSR: vijay ( | area_co: nan | order_cancel_reason_co: nan | Cancelled_Invoice_Total_co: nan | Discount_Order_Type_DSR: nan | Biller_Name: nan | Discount_DSR: nan | Reason_DSR: nan | Food_Preparation_Time_Z: nan | Food_Preparation_Time_S: nan | Zomato_Delivery_Time: nan | Swiggy_Delivery_Time: nan | amount_from: 9801.0 | amount_to: 9335.0 | modified_by: vijay ( | modify_comment: removed sc | electron_pos: 2025-03-29 22:46:42 UTC | bill_no: F22351 | invoice_no: 22351.0 | date_orap: 2025-03-29 22:45:03 UTC | has_anomaly: No | anomaly_priority: nan | anomaly_payment_mismatch: 0 | anomaly_missing_payment_info: 0 | anomaly_multiple_payment_types: 0 |'),\n",
              " Document(metadata={}, page_content='atch: 0 | anomaly_missing_payment_info: 0 | anomaly_multiple_payment_types: 0 | anomaly_tax_calculation_mismatch: 0 | anomaly_zero_tax_on_taxable: 0 | anomaly_large_order_modification: 0 | anomaly_modification_without_comment: 0 | anomaly_zomato_invoice_mismatch: 0 | anomaly_swiggy_invoice_mismatch: 0 | anomaly_long_zomato_prep_time: 0 | anomaly_long_swiggy_prep_time: 0 | anomaly_zomato_missing_delivery_time: 0 | anomaly_swiggy_missing_delivery_time: 0 | anomaly_high_discount: 0 | anomaly_discount_without_reason: 0 | anomaly_zomato_status_mismatch: 0 | anomaly_swiggy_status_mismatch: 0 | anomaly_extreme_settlement_time: 0 | anomaly_unusual_settlement_time: 0 | anomaly_long_bill_settlement: 0 | anomaly_missing_server_name: 0 | anomaly_zomato_missing_customer: 0 | anomaly_swiggy_missing_customer: 0 | anomaly_suspicious_pax: 0 | anomaly_price_inconsistency: 0 | pattern_risk: Low Risk | reason_pattern_risk: nan'),\n",
              " Document(metadata={}, page_content='Date: 04-10-2024 | Timestamp: 2024-10-04 18:53:25 UTC | Invoice_No_: C1984 | Payment_Type: Cash | Order_Type: Dine In | Area: Garden Table | Item_Name: Appam (2pc) | Price: 225 | Qty_: 1.0 | Sub_Total: 225.0 | Discount: 0.0 | Tax: 22.5 | Final_Total: 247.5 | Status: Complimentary | Table_No_: G 5 | Server_Name: TAPASH | Covers: 3 | Variation: nan | Category: COASTAL SPECIAL | HSN: nan | Phone: 9843950806 | Name: PHOTO SHOOT | Address: nan | GST: nan | Assign_To: nan | Non_Taxable: 0.0 | CGST_Rate: 2.5 | CGST_Amount: 5.6 | SGST_Rate: 2.5 | SGST_Amount: 5.6 | VAT_Rate: 10 | VAT_Amount: 0.0 | Service_Charge_Rate: 5 | Service_Charge_Amount: 11.3 | Date_z: nan | Invoice_Date_z: nan | Aggregator_Order_No_z: nan | PoS_Invoice_No_z: nan | Order_From_z: nan | Outlet_Name_z: nan | Petpooja_Identifier_z: nan | Order_Type_z: nan | Customer_Name_z: nan | Customer_Phone_z: 9843950806 | Payment_Type_z: nan | Delivery_status_z: nan | Status_z: nan | My_amount_z: nan | Aggregator_Discount_z: nan | Outlet_Discount_z: nan | Delivery_Charges_z: nan | Container_Charges_z: nan | CGST_z: nan | SGST_z: nan | IGST_z: nan | Total_z: nan | Order_Acceptance_Time_z: nan | Order_Delivery_Time_z: nan | Reason_z: nan | Online_Tax_Calculated_z: nan | GST_Paid_by_Merchant_z: nan | GST_Paid_by_Ecommerce_z: nan | Restaurant_ID'),\n",
              " Document(metadata={}, page_content='Merchant_z: nan | GST_Paid_by_Ecommerce_z: nan | Restaurant_ID_z: 950806 | Client_Sharing_Code_z: nan | Identifier_z: nan | Order_ID_z: nan | Order_Status_z: nan | Received_Time_z: nan | Accepted_Time_z: nan | Mark_Ready_Time_z: nan | Rider_Arrival_Time_z: nan | Picked_up_Time_z: nan | Delivered_Time_z: nan | Cancelled_Time_z: nan | Date_s: nan | Invoice_Date_s: nan | Aggregator_Order_No_s: nan | PoS_Invoice_No_s: nan | Order_From_s: nan | Outlet_Name_s: nan | Petpooja_Identifier_s: nan | Order_Type_s: nan | Customer_Name_s: nan | Customer_Phone_s: 9843950806 | Payment_Type_s: nan | Delivery_status_s: nan | Status_s: nan | My_amount_s: nan | Aggregator_Discount_s: nan | Outlet_Discount_s: nan | Delivery_Charges_s: nan | Container_Charges_s: nan | CGST_s: nan | SGST_s: nan | IGST_s: nan | Total_s: nan | Order_Acceptance_Time_s: nan | Order_Delivery_Time_s: nan | Reason_s: nan | Online_Tax_Calculated_s: nan | GST_Paid_by_Merchant_s: nan | GST_Paid_by_Ecommerce_s: nan | Restaurant_ID_s: 950806 | Client_Sharing_Code_s: nan | Identifier_s: nan | Order_ID_s: nan | Order_Status_s: nan | Received_Time_s: nan | Accepted_Time_s: nan | Mark_Ready_Time_s: nan | Rider_Arrival_Time_s: nan | Picked_up_Time_s: nan | Delivered_Time_s: nan | Cancelled_Time_s: nan | Customer_Name_ff: nan | Date_of_Birth_ff'),\n",
              " Document(metadata={}, page_content=' Cancelled_Time_s: nan | Customer_Name_ff: nan | Date_of_Birth_ff: nan | Date_of_Anniversary_ff: nan | Customer_Phone_ff: nan | From__ff: nan | Customer_Email_ff: nan | Invoice_Id_ff: nan | Table_No_ff: nan | Order_Type_ff: nan | Answer_ff: nan | Created_ff: nan | Customer_Name_sf: nan | Date_of_Birth_sf: nan | Date_of_Anniversary_sf: nan | Customer_Phone_sf: nan | From__sf: nan | Customer_Email_sf: nan | Invoice_Id_sf: nan | Table_No_sf: nan | Order_Type_sf: nan | Answer_sf: nan | Created_sf: nan | PAX: nan | Biller_BSR: nan | First_Print_Date_BSR: nan | Last_Settlement_Date_BSR: nan | Duration__In_Minutes_BSR: nan | Settled_By_BSR: nan | area_co: nan | order_cancel_reason_co: nan | Cancelled_Invoice_Total_co: nan | Discount_Order_Type_DSR: nan | Biller_Name: nan | Discount_DSR: nan | Reason_DSR: nan | Food_Preparation_Time_Z: nan | Food_Preparation_Time_S: nan | Zomato_Delivery_Time: nan | Swiggy_Delivery_Time: nan | amount_from: nan | amount_to: nan | modified_by: nan | modify_comment: nan | electron_pos: nan | bill_no: nan | invoice_no: nan | date_orap: nan | has_anomaly: No | anomaly_priority: nan | anomaly_payment_mismatch: 0 | anomaly_missing_payment_info: 0 | anomaly_multiple_payment_types: 0 | anomaly_tax_calculation_mismatch: 0 | anomaly_zero_tax_on_taxable: 0 | anomaly_large_order_modification: 0 | anomaly_modification_without_comment: 0 | anomaly_zomato_invoice_mismatch: 0 | anomaly_swiggy_invoice_m'),\n",
              " Document(metadata={}, page_content='_zomato_invoice_mismatch: 0 | anomaly_swiggy_invoice_mismatch: 0 | anomaly_long_zomato_prep_time: 0 | anomaly_long_swiggy_prep_time: 0 | anomaly_zomato_missing_delivery_time: 0 | anomaly_swiggy_missing_delivery_time: 0 | anomaly_high_discount: 0 | anomaly_discount_without_reason: 0 | anomaly_zomato_status_mismatch: 0 | anomaly_swiggy_status_mismatch: 0 | anomaly_extreme_settlement_time: 0 | anomaly_unusual_settlement_time: 0 | anomaly_long_bill_settlement: 0 | anomaly_missing_server_name: 0 | anomaly_zomato_missing_customer: 0 | anomaly_swiggy_missing_customer: 0 | anomaly_suspicious_pax: 0 | anomaly_price_inconsistency: 0 | pattern_risk: Low Risk | reason_pattern_risk: is_cash'),\n",
              " Document(metadata={}, page_content='Date: 30-10-2024 | Timestamp: 2024-10-30 15:25:36 UTC | Invoice_No_: 12615 | Payment_Type: CARD | Order_Type: Dine In | Area: Dine in | Item_Name: Chicken Kebabs (Murg Chatpata) | Price: 795 | Qty_: 1.0 | Sub_Total: 795.0 | Discount: 0.0 | Tax: 79.6 | Final_Total: 874.6 | Status: Success | Table_No_: 15 | Server_Name: TANMOY  | Covers: 5 | Variation: Murg Chatpata | Category: TANDOOR STARTER | HSN: nan | Phone: 9813566106 | Name: DR RAJSHREE | Address: nan | GST: nan | Assign_To: TANMOY  | Non_Taxable: 0.0 | CGST_Rate: 2.5 | CGST_Amount: 19.9 | SGST_Rate: 2.5 | SGST_Amount: 19.9 | VAT_Rate: 10 | VAT_Amount: 0.0 | Service_Charge_Rate: 5 | Service_Charge_Amount: 39.8 | Date_z: nan | Invoice_Date_z: nan | Aggregator_Order_No_z: nan | PoS_Invoice_No_z: nan | Order_From_z: nan | Outlet_Name_z: nan | Petpooja_Identifier_z: nan | Order_Type_z: nan | Customer_Name_z: nan | Customer_Phone_z: 9813566106 | Payment_Type_z: nan | Delivery_status_z: nan | Status_z: nan | My_amount_z: nan | Aggregator_Discount_z: nan | Outlet_Discount_z: nan | Delivery_Charges_z: nan | Container_Charges_z: nan | CGST_z: nan | SGST_z: nan | IGST_z: nan | Total_z: nan | Order_Acceptance_Time_z: nan | Order_Delivery_Time_z: nan | Reason_z: nan | Online_Tax_Calculated_z: nan | GST_Paid_by_Merchant_z: nan'),\n",
              " Document(metadata={}, page_content=' Online_Tax_Calculated_z: nan | GST_Paid_by_Merchant_z: nan | GST_Paid_by_Ecommerce_z: nan | Restaurant_ID_z: 566106 | Client_Sharing_Code_z: nan | Identifier_z: nan | Order_ID_z: nan | Order_Status_z: nan | Received_Time_z: nan | Accepted_Time_z: nan | Mark_Ready_Time_z: nan | Rider_Arrival_Time_z: nan | Picked_up_Time_z: nan | Delivered_Time_z: nan | Cancelled_Time_z: nan | Date_s: nan | Invoice_Date_s: nan | Aggregator_Order_No_s: nan | PoS_Invoice_No_s: nan | Order_From_s: nan | Outlet_Name_s: nan | Petpooja_Identifier_s: nan | Order_Type_s: nan | Customer_Name_s: nan | Customer_Phone_s: 9813566106 | Payment_Type_s: nan | Delivery_status_s: nan | Status_s: nan | My_amount_s: nan | Aggregator_Discount_s: nan | Outlet_Discount_s: nan | Delivery_Charges_s: nan | Container_Charges_s: nan | CGST_s: nan | SGST_s: nan | IGST_s: nan | Total_s: nan | Order_Acceptance_Time_s: nan | Order_Delivery_Time_s: nan | Reason_s: nan | Online_Tax_Calculated_s: nan | GST_Paid_by_Merchant_s: nan | GST_Paid_by_Ecommerce_s: nan | Restaurant_ID_s: 566106 | Client_Sharing_Code_s: nan | Identifier_s: nan | Order_ID_s: nan | Order_Status_s: nan | Received_Time_s: nan | Accepted_Time_s: nan | Mark_Ready_Time_s: nan | Rider_Arrival_Time_s: nan | Picked_up_Time_s: nan | Delivered_Time_s: nan | Cancelled_Time_'),\n",
              " Document(metadata={}, page_content='icked_up_Time_s: nan | Delivered_Time_s: nan | Cancelled_Time_s: nan | Customer_Name_ff: nan | Date_of_Birth_ff: nan | Date_of_Anniversary_ff: nan | Customer_Phone_ff: nan | From__ff: nan | Customer_Email_ff: nan | Invoice_Id_ff: nan | Table_No_ff: nan | Order_Type_ff: nan | Answer_ff: nan | Created_ff: nan | Customer_Name_sf: nan | Date_of_Birth_sf: nan | Date_of_Anniversary_sf: nan | Customer_Phone_sf: nan | From__sf: nan | Customer_Email_sf: nan | Invoice_Id_sf: nan | Table_No_sf: nan | Order_Type_sf: nan | Answer_sf: nan | Created_sf: nan | PAX: nan | Biller_BSR: TANMOY  | First_Print_Date_BSR: 2024-10-30 15:25:37 UTC | Last_Settlement_Date_BSR: 2024-10-30 15:42:08 UTC | Duration__In_Minutes_BSR: 16.0 | Settled_By_BSR: vijay ( | area_co: nan | order_cancel_reason_co: nan | Cancelled_Invoice_Total_co: nan | Discount_Order_Type_DSR: nan | Biller_Name: nan | Discount_DSR: nan | Reason_DSR: nan | Food_Preparation_Time_Z: nan | Food_Preparation_Time_S: nan | Zomato_Delivery_Time: nan | Swiggy_Delivery_Time: nan | amount_from: nan | amount_to: nan | modified_by: nan | modify_comment: nan | electron_pos: nan | bill_no: nan | invoice_no: nan | date_orap: nan | has_anomaly: Yes | anomaly_priority: Medium | anomaly_payment_mismatch: 0 | anomaly_missing_payment_info: 0 | anomaly_multiple_payment_types: 0 | anomaly_tax_calculation_mismatch: 0 | anomaly_zero_tax_on_taxable: 0'),\n",
              " Document(metadata={}, page_content='_tax_calculation_mismatch: 0 | anomaly_zero_tax_on_taxable: 0 | anomaly_large_order_modification: 0 | anomaly_modification_without_comment: 0 | anomaly_zomato_invoice_mismatch: 0 | anomaly_swiggy_invoice_mismatch: 0 | anomaly_long_zomato_prep_time: 0 | anomaly_long_swiggy_prep_time: 0 | anomaly_zomato_missing_delivery_time: 0 | anomaly_swiggy_missing_delivery_time: 0 | anomaly_high_discount: 0 | anomaly_discount_without_reason: 0 | anomaly_zomato_status_mismatch: 0 | anomaly_swiggy_status_mismatch: 0 | anomaly_extreme_settlement_time: 0 | anomaly_unusual_settlement_time: 1 | anomaly_long_bill_settlement: 0 | anomaly_missing_server_name: 0 | anomaly_zomato_missing_customer: 0 | anomaly_swiggy_missing_customer: 0 | anomaly_suspicious_pax: 0 | anomaly_price_inconsistency: 0 | pattern_risk: Low Risk | reason_pattern_risk: is_card_payment'),\n",
              " Document(metadata={}, page_content='Date: 30-08-2024 | Timestamp: 2024-08-30 22:13:37 UTC | Invoice_No_: 8847 | Payment_Type: CARD | Order_Type: Dine In | Area: Garden Table | Item_Name: Amritsari Dal | Price: 525 | Qty_: 1.0 | Sub_Total: 525.0 | Discount: 0.0 | Tax: 52.5 | Final_Total: 577.5 | Status: Success | Table_No_: G 5 | Server_Name: TANMOY  | Covers: 6 | Variation: nan | Category: INDIAN MAIN COURSE | HSN: nan | Phone: 9819872420 | Name: radhika | Address: nan | GST: nan | Assign_To: TANMOY  | Non_Taxable: 0.0 | CGST_Rate: 2.5 | CGST_Amount: 13.1 | SGST_Rate: 2.5 | SGST_Amount: 13.1 | VAT_Rate: 10 | VAT_Amount: 0.0 | Service_Charge_Rate: 5 | Service_Charge_Amount: 26.3 | Date_z: nan | Invoice_Date_z: nan | Aggregator_Order_No_z: nan | PoS_Invoice_No_z: nan | Order_From_z: nan | Outlet_Name_z: nan | Petpooja_Identifier_z: nan | Order_Type_z: nan | Customer_Name_z: nan | Customer_Phone_z: 9819872420 | Payment_Type_z: nan | Delivery_status_z: nan | Status_z: nan | My_amount_z: nan | Aggregator_Discount_z: nan | Outlet_Discount_z: nan | Delivery_Charges_z: nan | Container_Charges_z: nan | CGST_z: nan | SGST_z: nan | IGST_z: nan | Total_z: nan | Order_Acceptance_Time_z: nan | Order_Delivery_Time_z: nan | Reason_z: nan | Online_Tax_Calculated_z: nan | GST_Paid_by_Merchant_z: nan | GST_Paid_by_Ecommerce_z: nan'),\n",
              " Document(metadata={}, page_content='aid_by_Merchant_z: nan | GST_Paid_by_Ecommerce_z: nan | Restaurant_ID_z: 872420 | Client_Sharing_Code_z: nan | Identifier_z: nan | Order_ID_z: nan | Order_Status_z: nan | Received_Time_z: nan | Accepted_Time_z: nan | Mark_Ready_Time_z: nan | Rider_Arrival_Time_z: nan | Picked_up_Time_z: nan | Delivered_Time_z: nan | Cancelled_Time_z: nan | Date_s: nan | Invoice_Date_s: nan | Aggregator_Order_No_s: nan | PoS_Invoice_No_s: nan | Order_From_s: nan | Outlet_Name_s: nan | Petpooja_Identifier_s: nan | Order_Type_s: nan | Customer_Name_s: nan | Customer_Phone_s: 9819872420 | Payment_Type_s: nan | Delivery_status_s: nan | Status_s: nan | My_amount_s: nan | Aggregator_Discount_s: nan | Outlet_Discount_s: nan | Delivery_Charges_s: nan | Container_Charges_s: nan | CGST_s: nan | SGST_s: nan | IGST_s: nan | Total_s: nan | Order_Acceptance_Time_s: nan | Order_Delivery_Time_s: nan | Reason_s: nan | Online_Tax_Calculated_s: nan | GST_Paid_by_Merchant_s: nan | GST_Paid_by_Ecommerce_s: nan | Restaurant_ID_s: 872420 | Client_Sharing_Code_s: nan | Identifier_s: nan | Order_ID_s: nan | Order_Status_s: nan | Received_Time_s: nan | Accepted_Time_s: nan | Mark_Ready_Time_s: nan | Rider_Arrival_Time_s: nan | Picked_up_Time_s: nan | Delivered_Time_s: nan | Cancelled_Time_s: nan | Customer_Name_ff: nan | Date_'),\n",
              " Document(metadata={}, page_content='_s: nan | Cancelled_Time_s: nan | Customer_Name_ff: nan | Date_of_Birth_ff: nan | Date_of_Anniversary_ff: nan | Customer_Phone_ff: nan | From__ff: nan | Customer_Email_ff: nan | Invoice_Id_ff: nan | Table_No_ff: nan | Order_Type_ff: nan | Answer_ff: nan | Created_ff: nan | Customer_Name_sf: nan | Date_of_Birth_sf: nan | Date_of_Anniversary_sf: nan | Customer_Phone_sf: nan | From__sf: nan | Customer_Email_sf: nan | Invoice_Id_sf: nan | Table_No_sf: nan | Order_Type_sf: nan | Answer_sf: nan | Created_sf: nan | PAX: nan | Biller_BSR: TANMOY  | First_Print_Date_BSR: 2024-08-30 22:13:38 UTC | Last_Settlement_Date_BSR: 2024-08-30 22:15:44 UTC | Duration__In_Minutes_BSR: 2.0 | Settled_By_BSR: vijay ( | area_co: nan | order_cancel_reason_co: nan | Cancelled_Invoice_Total_co: nan | Discount_Order_Type_DSR: nan | Biller_Name: nan | Discount_DSR: nan | Reason_DSR: nan | Food_Preparation_Time_Z: nan | Food_Preparation_Time_S: nan | Zomato_Delivery_Time: nan | Swiggy_Delivery_Time: nan | amount_from: nan | amount_to: nan | modified_by: nan | modify_comment: nan | electron_pos: nan | bill_no: nan | invoice_no: nan | date_orap: nan | has_anomaly: No | anomaly_priority: nan | anomaly_payment_mismatch: 0 | anomaly_missing_payment_info: 0 | anomaly_multiple_payment_types: 0 | anomaly_tax_calculation_mismatch: 0 | anomaly_zero_tax_on_taxable: 0 | anomaly_large_order_modification: 0 | anomaly_'),\n",
              " Document(metadata={}, page_content='zero_tax_on_taxable: 0 | anomaly_large_order_modification: 0 | anomaly_modification_without_comment: 0 | anomaly_zomato_invoice_mismatch: 0 | anomaly_swiggy_invoice_mismatch: 0 | anomaly_long_zomato_prep_time: 0 | anomaly_long_swiggy_prep_time: 0 | anomaly_zomato_missing_delivery_time: 0 | anomaly_swiggy_missing_delivery_time: 0 | anomaly_high_discount: 0 | anomaly_discount_without_reason: 0 | anomaly_zomato_status_mismatch: 0 | anomaly_swiggy_status_mismatch: 0 | anomaly_extreme_settlement_time: 0 | anomaly_unusual_settlement_time: 0 | anomaly_long_bill_settlement: 0 | anomaly_missing_server_name: 0 | anomaly_zomato_missing_customer: 0 | anomaly_swiggy_missing_customer: 0 | anomaly_suspicious_pax: 0 | anomaly_price_inconsistency: 0 | pattern_risk: Low Risk | reason_pattern_risk: is_card_payment'),\n",
              " Document(metadata={}, page_content='Date: 30-08-2024 | Timestamp: 2024-08-30 22:13:37 UTC | Invoice_No_: 8847 | Payment_Type: CARD | Order_Type: Dine In | Area: Garden Table | Item_Name: Butter Roti | Price: 95 | Qty_: 1.0 | Sub_Total: 95.0 | Discount: 0.0 | Tax: 9.6 | Final_Total: 104.6 | Status: Success | Table_No_: G 5 | Server_Name: TANMOY  | Covers: 6 | Variation: nan | Category: TANDOOR BREADS | HSN: nan | Phone: 9819872420 | Name: radhika | Address: nan | GST: nan | Assign_To: TANMOY  | Non_Taxable: 0.0 | CGST_Rate: 2.5 | CGST_Amount: 2.4 | SGST_Rate: 2.5 | SGST_Amount: 2.4 | VAT_Rate: 10 | VAT_Amount: 0.0 | Service_Charge_Rate: 5 | Service_Charge_Amount: 4.8 | Date_z: nan | Invoice_Date_z: nan | Aggregator_Order_No_z: nan | PoS_Invoice_No_z: nan | Order_From_z: nan | Outlet_Name_z: nan | Petpooja_Identifier_z: nan | Order_Type_z: nan | Customer_Name_z: nan | Customer_Phone_z: 9819872420 | Payment_Type_z: nan | Delivery_status_z: nan | Status_z: nan | My_amount_z: nan | Aggregator_Discount_z: nan | Outlet_Discount_z: nan | Delivery_Charges_z: nan | Container_Charges_z: nan | CGST_z: nan | SGST_z: nan | IGST_z: nan | Total_z: nan | Order_Acceptance_Time_z: nan | Order_Delivery_Time_z: nan | Reason_z: nan | Online_Tax_Calculated_z: nan | GST_Paid_by_Merchant_z: nan | GST_Paid_by_Ecommerce_z: nan | Restaurant'),\n",
              " Document(metadata={}, page_content='by_Merchant_z: nan | GST_Paid_by_Ecommerce_z: nan | Restaurant_ID_z: 872420 | Client_Sharing_Code_z: nan | Identifier_z: nan | Order_ID_z: nan | Order_Status_z: nan | Received_Time_z: nan | Accepted_Time_z: nan | Mark_Ready_Time_z: nan | Rider_Arrival_Time_z: nan | Picked_up_Time_z: nan | Delivered_Time_z: nan | Cancelled_Time_z: nan | Date_s: nan | Invoice_Date_s: nan | Aggregator_Order_No_s: nan | PoS_Invoice_No_s: nan | Order_From_s: nan | Outlet_Name_s: nan | Petpooja_Identifier_s: nan | Order_Type_s: nan | Customer_Name_s: nan | Customer_Phone_s: 9819872420 | Payment_Type_s: nan | Delivery_status_s: nan | Status_s: nan | My_amount_s: nan | Aggregator_Discount_s: nan | Outlet_Discount_s: nan | Delivery_Charges_s: nan | Container_Charges_s: nan | CGST_s: nan | SGST_s: nan | IGST_s: nan | Total_s: nan | Order_Acceptance_Time_s: nan | Order_Delivery_Time_s: nan | Reason_s: nan | Online_Tax_Calculated_s: nan | GST_Paid_by_Merchant_s: nan | GST_Paid_by_Ecommerce_s: nan | Restaurant_ID_s: 872420 | Client_Sharing_Code_s: nan | Identifier_s: nan | Order_ID_s: nan | Order_Status_s: nan | Received_Time_s: nan | Accepted_Time_s: nan | Mark_Ready_Time_s: nan | Rider_Arrival_Time_s: nan | Picked_up_Time_s: nan | Delivered_Time_s: nan | Cancelled_Time_s: nan | Customer_Name_ff: nan | Date_of_'),\n",
              " Document(metadata={}, page_content=': nan | Cancelled_Time_s: nan | Customer_Name_ff: nan | Date_of_Birth_ff: nan | Date_of_Anniversary_ff: nan | Customer_Phone_ff: nan | From__ff: nan | Customer_Email_ff: nan | Invoice_Id_ff: nan | Table_No_ff: nan | Order_Type_ff: nan | Answer_ff: nan | Created_ff: nan | Customer_Name_sf: nan | Date_of_Birth_sf: nan | Date_of_Anniversary_sf: nan | Customer_Phone_sf: nan | From__sf: nan | Customer_Email_sf: nan | Invoice_Id_sf: nan | Table_No_sf: nan | Order_Type_sf: nan | Answer_sf: nan | Created_sf: nan | PAX: nan | Biller_BSR: TANMOY  | First_Print_Date_BSR: 2024-08-30 22:13:38 UTC | Last_Settlement_Date_BSR: 2024-08-30 22:15:44 UTC | Duration__In_Minutes_BSR: 2.0 | Settled_By_BSR: vijay ( | area_co: nan | order_cancel_reason_co: nan | Cancelled_Invoice_Total_co: nan | Discount_Order_Type_DSR: nan | Biller_Name: nan | Discount_DSR: nan | Reason_DSR: nan | Food_Preparation_Time_Z: nan | Food_Preparation_Time_S: nan | Zomato_Delivery_Time: nan | Swiggy_Delivery_Time: nan | amount_from: nan | amount_to: nan | modified_by: nan | modify_comment: nan | electron_pos: nan | bill_no: nan | invoice_no: nan | date_orap: nan | has_anomaly: No | anomaly_priority: nan | anomaly_payment_mismatch: 0 | anomaly_missing_payment_info: 0 | anomaly_multiple_payment_types: 0 | anomaly_tax_calculation_mismatch: 0 | anomaly_zero_tax_on_taxable: 0 | anomaly_large_order_modification: 0 | anomaly_modification'),\n",
              " Document(metadata={}, page_content='tax_on_taxable: 0 | anomaly_large_order_modification: 0 | anomaly_modification_without_comment: 0 | anomaly_zomato_invoice_mismatch: 0 | anomaly_swiggy_invoice_mismatch: 0 | anomaly_long_zomato_prep_time: 0 | anomaly_long_swiggy_prep_time: 0 | anomaly_zomato_missing_delivery_time: 0 | anomaly_swiggy_missing_delivery_time: 0 | anomaly_high_discount: 0 | anomaly_discount_without_reason: 0 | anomaly_zomato_status_mismatch: 0 | anomaly_swiggy_status_mismatch: 0 | anomaly_extreme_settlement_time: 0 | anomaly_unusual_settlement_time: 0 | anomaly_long_bill_settlement: 0 | anomaly_missing_server_name: 0 | anomaly_zomato_missing_customer: 0 | anomaly_swiggy_missing_customer: 0 | anomaly_suspicious_pax: 0 | anomaly_price_inconsistency: 0 | pattern_risk: Low Risk | reason_pattern_risk: is_card_payment'),\n",
              " Document(metadata={}, page_content='Date: 29-03-2025 | Timestamp: 2025-03-29 22:45:03 UTC | Invoice_No_: 22351 | Payment_Type: Other [ZOMATO PAY] | Order_Type: Dine In | Area: Dine in | Item_Name: Bhara Hua Aloo | Price: 795 | Qty_: 1.0 | Sub_Total: 795.0 | Discount: 0.0 | Tax: 39.8 | Final_Total: 834.8 | Status: Success | Table_No_: 30 | Server_Name: SANDEEP | Covers: 9 | Variation: nan | Category: TANDOOR STARTER | HSN: nan | Phone: 9844043557 | Name: YASH PAREKH | Address: nan | GST: nan | Assign_To: SANDEEP | Non_Taxable: 0.0 | CGST_Rate: 2.5 | CGST_Amount: 19.9 | SGST_Rate: 2.5 | SGST_Amount: 19.9 | VAT_Rate: 10 | VAT_Amount: 0.0 | Service_Charge_Rate: 5 | Service_Charge_Amount: 0.0 | Date_z: nan | Invoice_Date_z: nan | Aggregator_Order_No_z: nan | PoS_Invoice_No_z: nan | Order_From_z: nan | Outlet_Name_z: nan | Petpooja_Identifier_z: nan | Order_Type_z: nan | Customer_Name_z: nan | Customer_Phone_z: 9844043557 | Payment_Type_z: nan | Delivery_status_z: nan | Status_z: nan | My_amount_z: nan | Aggregator_Discount_z: nan | Outlet_Discount_z: nan | Delivery_Charges_z: nan | Container_Charges_z: nan | CGST_z: nan | SGST_z: nan | IGST_z: nan | Total_z: nan | Order_Acceptance_Time_z: nan | Order_Delivery_Time_z: nan | Reason_z: nan | Online_Tax_Calculated_z: nan | GST_Paid_by_Merchant_z: nan | GST_P'),\n",
              " Document(metadata={}, page_content='Calculated_z: nan | GST_Paid_by_Merchant_z: nan | GST_Paid_by_Ecommerce_z: nan | Restaurant_ID_z: 43557 | Client_Sharing_Code_z: nan | Identifier_z: nan | Order_ID_z: nan | Order_Status_z: nan | Received_Time_z: nan | Accepted_Time_z: nan | Mark_Ready_Time_z: nan | Rider_Arrival_Time_z: nan | Picked_up_Time_z: nan | Delivered_Time_z: nan | Cancelled_Time_z: nan | Date_s: nan | Invoice_Date_s: nan | Aggregator_Order_No_s: nan | PoS_Invoice_No_s: nan | Order_From_s: nan | Outlet_Name_s: nan | Petpooja_Identifier_s: nan | Order_Type_s: nan | Customer_Name_s: nan | Customer_Phone_s: 9844043557 | Payment_Type_s: nan | Delivery_status_s: nan | Status_s: nan | My_amount_s: nan | Aggregator_Discount_s: nan | Outlet_Discount_s: nan | Delivery_Charges_s: nan | Container_Charges_s: nan | CGST_s: nan | SGST_s: nan | IGST_s: nan | Total_s: nan | Order_Acceptance_Time_s: nan | Order_Delivery_Time_s: nan | Reason_s: nan | Online_Tax_Calculated_s: nan | GST_Paid_by_Merchant_s: nan | GST_Paid_by_Ecommerce_s: nan | Restaurant_ID_s: 43557 | Client_Sharing_Code_s: nan | Identifier_s: nan | Order_ID_s: nan | Order_Status_s: nan | Received_Time_s: nan | Accepted_Time_s: nan | Mark_Ready_Time_s: nan | Rider_Arrival_Time_s: nan | Picked_up_Time_s: nan | Delivered_Time_s: nan | Cancelled_Time_s: nan | Customer'),\n",
              " Document(metadata={}, page_content='_s: nan | Delivered_Time_s: nan | Cancelled_Time_s: nan | Customer_Name_ff: nan | Date_of_Birth_ff: nan | Date_of_Anniversary_ff: nan | Customer_Phone_ff: nan | From__ff: nan | Customer_Email_ff: nan | Invoice_Id_ff: nan | Table_No_ff: nan | Order_Type_ff: nan | Answer_ff: nan | Created_ff: nan | Customer_Name_sf: nan | Date_of_Birth_sf: nan | Date_of_Anniversary_sf: nan | Customer_Phone_sf: nan | From__sf: nan | Customer_Email_sf: nan | Invoice_Id_sf: nan | Table_No_sf: nan | Order_Type_sf: nan | Answer_sf: nan | Created_sf: nan | PAX: nan | Biller_BSR: SANDEEP | First_Print_Date_BSR: 2025-03-29 22:45:04 UTC | Last_Settlement_Date_BSR: 2025-03-29 22:54:05 UTC | Duration__In_Minutes_BSR: 9.0 | Settled_By_BSR: vijay ( | area_co: nan | order_cancel_reason_co: nan | Cancelled_Invoice_Total_co: nan | Discount_Order_Type_DSR: nan | Biller_Name: nan | Discount_DSR: nan | Reason_DSR: nan | Food_Preparation_Time_Z: nan | Food_Preparation_Time_S: nan | Zomato_Delivery_Time: nan | Swiggy_Delivery_Time: nan | amount_from: 9801.0 | amount_to: 9335.0 | modified_by: vijay ( | modify_comment: removed sc | electron_pos: 2025-03-29 22:46:42 UTC | bill_no: F22351 | invoice_no: 22351.0 | date_orap: 2025-03-29 22:45:03 UTC | has_anomaly: No | anomaly_priority: nan | anomaly_payment_mismatch: 0 | anomaly_missing_payment_info: 0 | anomaly_multiple_payment_types'),\n",
              " Document(metadata={}, page_content='_mismatch: 0 | anomaly_missing_payment_info: 0 | anomaly_multiple_payment_types: 0 | anomaly_tax_calculation_mismatch: 0 | anomaly_zero_tax_on_taxable: 0 | anomaly_large_order_modification: 0 | anomaly_modification_without_comment: 0 | anomaly_zomato_invoice_mismatch: 0 | anomaly_swiggy_invoice_mismatch: 0 | anomaly_long_zomato_prep_time: 0 | anomaly_long_swiggy_prep_time: 0 | anomaly_zomato_missing_delivery_time: 0 | anomaly_swiggy_missing_delivery_time: 0 | anomaly_high_discount: 0 | anomaly_discount_without_reason: 0 | anomaly_zomato_status_mismatch: 0 | anomaly_swiggy_status_mismatch: 0 | anomaly_extreme_settlement_time: 0 | anomaly_unusual_settlement_time: 0 | anomaly_long_bill_settlement: 0 | anomaly_missing_server_name: 0 | anomaly_zomato_missing_customer: 0 | anomaly_swiggy_missing_customer: 0 | anomaly_suspicious_pax: 0 | anomaly_price_inconsistency: 0 | pattern_risk: Low Risk | reason_pattern_risk: nan'),\n",
              " Document(metadata={}, page_content='Date: 30-10-2024 | Timestamp: 2024-10-30 15:25:36 UTC | Invoice_No_: 12615 | Payment_Type: CARD | Order_Type: Dine In | Area: Dine in | Item_Name: ROASTED PAPAD | Price: 70 | Qty_: 2.0 | Sub_Total: 140.0 | Discount: 0.0 | Tax: 14.0 | Final_Total: 154.0 | Status: Success | Table_No_: 15 | Server_Name: TANMOY  | Covers: 5 | Variation: nan | Category: PANTRY SALAD , RAITA & MORE | HSN: nan | Phone: 9813566106 | Name: DR RAJSHREE | Address: nan | GST: nan | Assign_To: TANMOY  | Non_Taxable: 0.0 | CGST_Rate: 2.5 | CGST_Amount: 3.5 | SGST_Rate: 2.5 | SGST_Amount: 3.5 | VAT_Rate: 10 | VAT_Amount: 0.0 | Service_Charge_Rate: 5 | Service_Charge_Amount: 7.0 | Date_z: nan | Invoice_Date_z: nan | Aggregator_Order_No_z: nan | PoS_Invoice_No_z: nan | Order_From_z: nan | Outlet_Name_z: nan | Petpooja_Identifier_z: nan | Order_Type_z: nan | Customer_Name_z: nan | Customer_Phone_z: 9813566106 | Payment_Type_z: nan | Delivery_status_z: nan | Status_z: nan | My_amount_z: nan | Aggregator_Discount_z: nan | Outlet_Discount_z: nan | Delivery_Charges_z: nan | Container_Charges_z: nan | CGST_z: nan | SGST_z: nan | IGST_z: nan | Total_z: nan | Order_Acceptance_Time_z: nan | Order_Delivery_Time_z: nan | Reason_z: nan | Online_Tax_Calculated_z: nan | GST_Paid_by_Merchant_z: nan | GST_Paid_by_'),\n",
              " Document(metadata={}, page_content=': nan | GST_Paid_by_Merchant_z: nan | GST_Paid_by_Ecommerce_z: nan | Restaurant_ID_z: 566106 | Client_Sharing_Code_z: nan | Identifier_z: nan | Order_ID_z: nan | Order_Status_z: nan | Received_Time_z: nan | Accepted_Time_z: nan | Mark_Ready_Time_z: nan | Rider_Arrival_Time_z: nan | Picked_up_Time_z: nan | Delivered_Time_z: nan | Cancelled_Time_z: nan | Date_s: nan | Invoice_Date_s: nan | Aggregator_Order_No_s: nan | PoS_Invoice_No_s: nan | Order_From_s: nan | Outlet_Name_s: nan | Petpooja_Identifier_s: nan | Order_Type_s: nan | Customer_Name_s: nan | Customer_Phone_s: 9813566106 | Payment_Type_s: nan | Delivery_status_s: nan | Status_s: nan | My_amount_s: nan | Aggregator_Discount_s: nan | Outlet_Discount_s: nan | Delivery_Charges_s: nan | Container_Charges_s: nan | CGST_s: nan | SGST_s: nan | IGST_s: nan | Total_s: nan | Order_Acceptance_Time_s: nan | Order_Delivery_Time_s: nan | Reason_s: nan | Online_Tax_Calculated_s: nan | GST_Paid_by_Merchant_s: nan | GST_Paid_by_Ecommerce_s: nan | Restaurant_ID_s: 566106 | Client_Sharing_Code_s: nan | Identifier_s: nan | Order_ID_s: nan | Order_Status_s: nan | Received_Time_s: nan | Accepted_Time_s: nan | Mark_Ready_Time_s: nan | Rider_Arrival_Time_s: nan | Picked_up_Time_s: nan | Delivered_Time_s: nan | Cancelled_Time_s: nan | Customer_Name_'),\n",
              " Document(metadata={}, page_content=' nan | Delivered_Time_s: nan | Cancelled_Time_s: nan | Customer_Name_ff: nan | Date_of_Birth_ff: nan | Date_of_Anniversary_ff: nan | Customer_Phone_ff: nan | From__ff: nan | Customer_Email_ff: nan | Invoice_Id_ff: nan | Table_No_ff: nan | Order_Type_ff: nan | Answer_ff: nan | Created_ff: nan | Customer_Name_sf: nan | Date_of_Birth_sf: nan | Date_of_Anniversary_sf: nan | Customer_Phone_sf: nan | From__sf: nan | Customer_Email_sf: nan | Invoice_Id_sf: nan | Table_No_sf: nan | Order_Type_sf: nan | Answer_sf: nan | Created_sf: nan | PAX: nan | Biller_BSR: TANMOY  | First_Print_Date_BSR: 2024-10-30 15:25:37 UTC | Last_Settlement_Date_BSR: 2024-10-30 15:42:08 UTC | Duration__In_Minutes_BSR: 16.0 | Settled_By_BSR: vijay ( | area_co: nan | order_cancel_reason_co: nan | Cancelled_Invoice_Total_co: nan | Discount_Order_Type_DSR: nan | Biller_Name: nan | Discount_DSR: nan | Reason_DSR: nan | Food_Preparation_Time_Z: nan | Food_Preparation_Time_S: nan | Zomato_Delivery_Time: nan | Swiggy_Delivery_Time: nan | amount_from: nan | amount_to: nan | modified_by: nan | modify_comment: nan | electron_pos: nan | bill_no: nan | invoice_no: nan | date_orap: nan | has_anomaly: Yes | anomaly_priority: Medium | anomaly_payment_mismatch: 0 | anomaly_missing_payment_info: 0 | anomaly_multiple_payment_types: 0 | anomaly_tax_calculation_mismatch: 0 | anomaly_zero_tax_on_taxable: 0 | anomaly_large_order_mod'),\n",
              " Document(metadata={}, page_content='atch: 0 | anomaly_zero_tax_on_taxable: 0 | anomaly_large_order_modification: 0 | anomaly_modification_without_comment: 0 | anomaly_zomato_invoice_mismatch: 0 | anomaly_swiggy_invoice_mismatch: 0 | anomaly_long_zomato_prep_time: 0 | anomaly_long_swiggy_prep_time: 0 | anomaly_zomato_missing_delivery_time: 0 | anomaly_swiggy_missing_delivery_time: 0 | anomaly_high_discount: 0 | anomaly_discount_without_reason: 0 | anomaly_zomato_status_mismatch: 0 | anomaly_swiggy_status_mismatch: 0 | anomaly_extreme_settlement_time: 0 | anomaly_unusual_settlement_time: 1 | anomaly_long_bill_settlement: 0 | anomaly_missing_server_name: 0 | anomaly_zomato_missing_customer: 0 | anomaly_swiggy_missing_customer: 0 | anomaly_suspicious_pax: 0 | anomaly_price_inconsistency: 0 | pattern_risk: Low Risk | reason_pattern_risk: is_card_payment'),\n",
              " Document(metadata={}, page_content='Date: 04-10-2024 | Timestamp: 2024-10-04 18:53:25 UTC | Invoice_No_: C1984 | Payment_Type: Cash | Order_Type: Dine In | Area: Garden Table | Item_Name: Dim Sum (CHICKEN) | Price: 725 | Qty_: 1.0 | Sub_Total: 725.0 | Discount: 0.0 | Tax: 72.5 | Final_Total: 797.5 | Status: Complimentary | Table_No_: G 5 | Server_Name: TAPASH | Covers: 3 | Variation: CHICKEN | Category: ORIENTAL STARTER | HSN: nan | Phone: 9843950806 | Name: PHOTO SHOOT | Address: nan | GST: nan | Assign_To: nan | Non_Taxable: 0.0 | CGST_Rate: 2.5 | CGST_Amount: 18.1 | SGST_Rate: 2.5 | SGST_Amount: 18.1 | VAT_Rate: 10 | VAT_Amount: 0.0 | Service_Charge_Rate: 5 | Service_Charge_Amount: 36.3 | Date_z: nan | Invoice_Date_z: nan | Aggregator_Order_No_z: nan | PoS_Invoice_No_z: nan | Order_From_z: nan | Outlet_Name_z: nan | Petpooja_Identifier_z: nan | Order_Type_z: nan | Customer_Name_z: nan | Customer_Phone_z: 9843950806 | Payment_Type_z: nan | Delivery_status_z: nan | Status_z: nan | My_amount_z: nan | Aggregator_Discount_z: nan | Outlet_Discount_z: nan | Delivery_Charges_z: nan | Container_Charges_z: nan | CGST_z: nan | SGST_z: nan | IGST_z: nan | Total_z: nan | Order_Acceptance_Time_z: nan | Order_Delivery_Time_z: nan | Reason_z: nan | Online_Tax_Calculated_z: nan | GST_Paid_by_Merchant_z: nan | GST_Paid_by_Ecommerce_'),\n",
              " Document(metadata={}, page_content=' GST_Paid_by_Merchant_z: nan | GST_Paid_by_Ecommerce_z: nan | Restaurant_ID_z: 950806 | Client_Sharing_Code_z: nan | Identifier_z: nan | Order_ID_z: nan | Order_Status_z: nan | Received_Time_z: nan | Accepted_Time_z: nan | Mark_Ready_Time_z: nan | Rider_Arrival_Time_z: nan | Picked_up_Time_z: nan | Delivered_Time_z: nan | Cancelled_Time_z: nan | Date_s: nan | Invoice_Date_s: nan | Aggregator_Order_No_s: nan | PoS_Invoice_No_s: nan | Order_From_s: nan | Outlet_Name_s: nan | Petpooja_Identifier_s: nan | Order_Type_s: nan | Customer_Name_s: nan | Customer_Phone_s: 9843950806 | Payment_Type_s: nan | Delivery_status_s: nan | Status_s: nan | My_amount_s: nan | Aggregator_Discount_s: nan | Outlet_Discount_s: nan | Delivery_Charges_s: nan | Container_Charges_s: nan | CGST_s: nan | SGST_s: nan | IGST_s: nan | Total_s: nan | Order_Acceptance_Time_s: nan | Order_Delivery_Time_s: nan | Reason_s: nan | Online_Tax_Calculated_s: nan | GST_Paid_by_Merchant_s: nan | GST_Paid_by_Ecommerce_s: nan | Restaurant_ID_s: 950806 | Client_Sharing_Code_s: nan | Identifier_s: nan | Order_ID_s: nan | Order_Status_s: nan | Received_Time_s: nan | Accepted_Time_s: nan | Mark_Ready_Time_s: nan | Rider_Arrival_Time_s: nan | Picked_up_Time_s: nan | Delivered_Time_s: nan | Cancelled_Time_s: nan | Customer_Name_ff: nan |'),\n",
              " Document(metadata={}, page_content='_Time_s: nan | Cancelled_Time_s: nan | Customer_Name_ff: nan | Date_of_Birth_ff: nan | Date_of_Anniversary_ff: nan | Customer_Phone_ff: nan | From__ff: nan | Customer_Email_ff: nan | Invoice_Id_ff: nan | Table_No_ff: nan | Order_Type_ff: nan | Answer_ff: nan | Created_ff: nan | Customer_Name_sf: nan | Date_of_Birth_sf: nan | Date_of_Anniversary_sf: nan | Customer_Phone_sf: nan | From__sf: nan | Customer_Email_sf: nan | Invoice_Id_sf: nan | Table_No_sf: nan | Order_Type_sf: nan | Answer_sf: nan | Created_sf: nan | PAX: nan | Biller_BSR: nan | First_Print_Date_BSR: nan | Last_Settlement_Date_BSR: nan | Duration__In_Minutes_BSR: nan | Settled_By_BSR: nan | area_co: nan | order_cancel_reason_co: nan | Cancelled_Invoice_Total_co: nan | Discount_Order_Type_DSR: nan | Biller_Name: nan | Discount_DSR: nan | Reason_DSR: nan | Food_Preparation_Time_Z: nan | Food_Preparation_Time_S: nan | Zomato_Delivery_Time: nan | Swiggy_Delivery_Time: nan | amount_from: nan | amount_to: nan | modified_by: nan | modify_comment: nan | electron_pos: nan | bill_no: nan | invoice_no: nan | date_orap: nan | has_anomaly: No | anomaly_priority: nan | anomaly_payment_mismatch: 0 | anomaly_missing_payment_info: 0 | anomaly_multiple_payment_types: 0 | anomaly_tax_calculation_mismatch: 0 | anomaly_zero_tax_on_taxable: 0 | anomaly_large_order_modification: 0 | anomaly_modification_without_comment: 0 | anomaly_zomato_invoice_mismatch: 0 | anomaly_sw'),\n",
              " Document(metadata={}, page_content='without_comment: 0 | anomaly_zomato_invoice_mismatch: 0 | anomaly_swiggy_invoice_mismatch: 0 | anomaly_long_zomato_prep_time: 0 | anomaly_long_swiggy_prep_time: 0 | anomaly_zomato_missing_delivery_time: 0 | anomaly_swiggy_missing_delivery_time: 0 | anomaly_high_discount: 0 | anomaly_discount_without_reason: 0 | anomaly_zomato_status_mismatch: 0 | anomaly_swiggy_status_mismatch: 0 | anomaly_extreme_settlement_time: 0 | anomaly_unusual_settlement_time: 0 | anomaly_long_bill_settlement: 0 | anomaly_missing_server_name: 0 | anomaly_zomato_missing_customer: 0 | anomaly_swiggy_missing_customer: 0 | anomaly_suspicious_pax: 0 | anomaly_price_inconsistency: 0 | pattern_risk: Low Risk | reason_pattern_risk: is_cash'),\n",
              " Document(metadata={}, page_content='Date: 30-10-2024 | Timestamp: 2024-10-30 15:25:36 UTC | Invoice_No_: 12615 | Payment_Type: CARD | Order_Type: Dine In | Area: Dine in | Item_Name: Jal Jeera | Price: 195 | Qty_: 1.0 | Sub_Total: 195.0 | Discount: 0.0 | Tax: 19.6 | Final_Total: 214.6 | Status: Success | Table_No_: 15 | Server_Name: TANMOY  | Covers: 5 | Variation: nan | Category: PANTRY APPETISER | HSN: nan | Phone: 9813566106 | Name: DR RAJSHREE | Address: nan | GST: nan | Assign_To: TANMOY  | Non_Taxable: 0.0 | CGST_Rate: 2.5 | CGST_Amount: 4.9 | SGST_Rate: 2.5 | SGST_Amount: 4.9 | VAT_Rate: 10 | VAT_Amount: 0.0 | Service_Charge_Rate: 5 | Service_Charge_Amount: 9.8 | Date_z: nan | Invoice_Date_z: nan | Aggregator_Order_No_z: nan | PoS_Invoice_No_z: nan | Order_From_z: nan | Outlet_Name_z: nan | Petpooja_Identifier_z: nan | Order_Type_z: nan | Customer_Name_z: nan | Customer_Phone_z: 9813566106 | Payment_Type_z: nan | Delivery_status_z: nan | Status_z: nan | My_amount_z: nan | Aggregator_Discount_z: nan | Outlet_Discount_z: nan | Delivery_Charges_z: nan | Container_Charges_z: nan | CGST_z: nan | SGST_z: nan | IGST_z: nan | Total_z: nan | Order_Acceptance_Time_z: nan | Order_Delivery_Time_z: nan | Reason_z: nan | Online_Tax_Calculated_z: nan | GST_Paid_by_Merchant_z: nan | GST_Paid_by_Ecommerce_z: nan |'),\n",
              " Document(metadata={}, page_content='_by_Merchant_z: nan | GST_Paid_by_Ecommerce_z: nan | Restaurant_ID_z: 566106 | Client_Sharing_Code_z: nan | Identifier_z: nan | Order_ID_z: nan | Order_Status_z: nan | Received_Time_z: nan | Accepted_Time_z: nan | Mark_Ready_Time_z: nan | Rider_Arrival_Time_z: nan | Picked_up_Time_z: nan | Delivered_Time_z: nan | Cancelled_Time_z: nan | Date_s: nan | Invoice_Date_s: nan | Aggregator_Order_No_s: nan | PoS_Invoice_No_s: nan | Order_From_s: nan | Outlet_Name_s: nan | Petpooja_Identifier_s: nan | Order_Type_s: nan | Customer_Name_s: nan | Customer_Phone_s: 9813566106 | Payment_Type_s: nan | Delivery_status_s: nan | Status_s: nan | My_amount_s: nan | Aggregator_Discount_s: nan | Outlet_Discount_s: nan | Delivery_Charges_s: nan | Container_Charges_s: nan | CGST_s: nan | SGST_s: nan | IGST_s: nan | Total_s: nan | Order_Acceptance_Time_s: nan | Order_Delivery_Time_s: nan | Reason_s: nan | Online_Tax_Calculated_s: nan | GST_Paid_by_Merchant_s: nan | GST_Paid_by_Ecommerce_s: nan | Restaurant_ID_s: 566106 | Client_Sharing_Code_s: nan | Identifier_s: nan | Order_ID_s: nan | Order_Status_s: nan | Received_Time_s: nan | Accepted_Time_s: nan | Mark_Ready_Time_s: nan | Rider_Arrival_Time_s: nan | Picked_up_Time_s: nan | Delivered_Time_s: nan | Cancelled_Time_s: nan | Customer_Name_ff: nan | Date_of'),\n",
              " Document(metadata={}, page_content='s: nan | Cancelled_Time_s: nan | Customer_Name_ff: nan | Date_of_Birth_ff: nan | Date_of_Anniversary_ff: nan | Customer_Phone_ff: nan | From__ff: nan | Customer_Email_ff: nan | Invoice_Id_ff: nan | Table_No_ff: nan | Order_Type_ff: nan | Answer_ff: nan | Created_ff: nan | Customer_Name_sf: nan | Date_of_Birth_sf: nan | Date_of_Anniversary_sf: nan | Customer_Phone_sf: nan | From__sf: nan | Customer_Email_sf: nan | Invoice_Id_sf: nan | Table_No_sf: nan | Order_Type_sf: nan | Answer_sf: nan | Created_sf: nan | PAX: nan | Biller_BSR: TANMOY  | First_Print_Date_BSR: 2024-10-30 15:25:37 UTC | Last_Settlement_Date_BSR: 2024-10-30 15:42:08 UTC | Duration__In_Minutes_BSR: 16.0 | Settled_By_BSR: vijay ( | area_co: nan | order_cancel_reason_co: nan | Cancelled_Invoice_Total_co: nan | Discount_Order_Type_DSR: nan | Biller_Name: nan | Discount_DSR: nan | Reason_DSR: nan | Food_Preparation_Time_Z: nan | Food_Preparation_Time_S: nan | Zomato_Delivery_Time: nan | Swiggy_Delivery_Time: nan | amount_from: nan | amount_to: nan | modified_by: nan | modify_comment: nan | electron_pos: nan | bill_no: nan | invoice_no: nan | date_orap: nan | has_anomaly: Yes | anomaly_priority: Medium | anomaly_payment_mismatch: 0 | anomaly_missing_payment_info: 0 | anomaly_multiple_payment_types: 0 | anomaly_tax_calculation_mismatch: 0 | anomaly_zero_tax_on_taxable: 0 | anomaly_large_order_modification: 0 | anomaly_mod'),\n",
              " Document(metadata={}, page_content='_tax_on_taxable: 0 | anomaly_large_order_modification: 0 | anomaly_modification_without_comment: 0 | anomaly_zomato_invoice_mismatch: 0 | anomaly_swiggy_invoice_mismatch: 0 | anomaly_long_zomato_prep_time: 0 | anomaly_long_swiggy_prep_time: 0 | anomaly_zomato_missing_delivery_time: 0 | anomaly_swiggy_missing_delivery_time: 0 | anomaly_high_discount: 0 | anomaly_discount_without_reason: 0 | anomaly_zomato_status_mismatch: 0 | anomaly_swiggy_status_mismatch: 0 | anomaly_extreme_settlement_time: 0 | anomaly_unusual_settlement_time: 1 | anomaly_long_bill_settlement: 0 | anomaly_missing_server_name: 0 | anomaly_zomato_missing_customer: 0 | anomaly_swiggy_missing_customer: 0 | anomaly_suspicious_pax: 0 | anomaly_price_inconsistency: 0 | pattern_risk: Low Risk | reason_pattern_risk: is_card_payment'),\n",
              " Document(metadata={}, page_content='Date: 03-08-2024 | Timestamp: 2024-08-04 00:29:02 UTC | Invoice_No_: 2005 | Payment_Type: Cash | Order_Type: Dine In | Area: Dine in | Item_Name: GLENLIVET - 12 YEARS | Price: 950 | Qty_: 2.0 | Sub_Total: 1900.0 | Discount: 0.0 | Tax: 285.0 | Final_Total: 2185.0 | Status: Success | Table_No_: 12 | Server_Name: vijay s | Covers: 3 | Variation: nan | Category: BAR MALT WHISKY | HSN: nan | Phone: 9881860034 | Name: nan | Address: nan | GST: 27ABDFR9342Q1ZE | Assign_To: UMESH B | Non_Taxable: 0.0 | CGST_Rate: 2.5 | CGST_Amount: 0.0 | SGST_Rate: 2.5 | SGST_Amount: 0.0 | VAT_Rate: 10 | VAT_Amount: 190.0 | Service_Charge_Rate: 5 | Service_Charge_Amount: 95.0 | Date_z: nan | Invoice_Date_z: nan | Aggregator_Order_No_z: nan | PoS_Invoice_No_z: nan | Order_From_z: nan | Outlet_Name_z: nan | Petpooja_Identifier_z: nan | Order_Type_z: nan | Customer_Name_z: nan | Customer_Phone_z: 9881860034 | Payment_Type_z: nan | Delivery_status_z: nan | Status_z: nan | My_amount_z: nan | Aggregator_Discount_z: nan | Outlet_Discount_z: nan | Delivery_Charges_z: nan | Container_Charges_z: nan | CGST_z: nan | SGST_z: nan | IGST_z: nan | Total_z: nan | Order_Acceptance_Time_z: nan | Order_Delivery_Time_z: nan | Reason_z: nan | Online_Tax_Calculated_z: nan | GST_Paid_by_Merchant_z: nan | GST_Paid_'),\n",
              " Document(metadata={}, page_content='_z: nan | GST_Paid_by_Merchant_z: nan | GST_Paid_by_Ecommerce_z: nan | Restaurant_ID_z: 860034 | Client_Sharing_Code_z: nan | Identifier_z: nan | Order_ID_z: nan | Order_Status_z: nan | Received_Time_z: nan | Accepted_Time_z: nan | Mark_Ready_Time_z: nan | Rider_Arrival_Time_z: nan | Picked_up_Time_z: nan | Delivered_Time_z: nan | Cancelled_Time_z: nan | Date_s: nan | Invoice_Date_s: nan | Aggregator_Order_No_s: nan | PoS_Invoice_No_s: nan | Order_From_s: nan | Outlet_Name_s: nan | Petpooja_Identifier_s: nan | Order_Type_s: nan | Customer_Name_s: nan | Customer_Phone_s: 9881860034 | Payment_Type_s: nan | Delivery_status_s: nan | Status_s: nan | My_amount_s: nan | Aggregator_Discount_s: nan | Outlet_Discount_s: nan | Delivery_Charges_s: nan | Container_Charges_s: nan | CGST_s: nan | SGST_s: nan | IGST_s: nan | Total_s: nan | Order_Acceptance_Time_s: nan | Order_Delivery_Time_s: nan | Reason_s: nan | Online_Tax_Calculated_s: nan | GST_Paid_by_Merchant_s: nan | GST_Paid_by_Ecommerce_s: nan | Restaurant_ID_s: 860034 | Client_Sharing_Code_s: nan | Identifier_s: nan | Order_ID_s: nan | Order_Status_s: nan | Received_Time_s: nan | Accepted_Time_s: nan | Mark_Ready_Time_s: nan | Rider_Arrival_Time_s: nan | Picked_up_Time_s: nan | Delivered_Time_s: nan | Cancelled_Time_s: nan | Customer'),\n",
              " Document(metadata={}, page_content='_s: nan | Delivered_Time_s: nan | Cancelled_Time_s: nan | Customer_Name_ff: nan | Date_of_Birth_ff: nan | Date_of_Anniversary_ff: nan | Customer_Phone_ff: nan | From__ff: nan | Customer_Email_ff: nan | Invoice_Id_ff: nan | Table_No_ff: nan | Order_Type_ff: nan | Answer_ff: nan | Created_ff: nan | Customer_Name_sf: nan | Date_of_Birth_sf: nan | Date_of_Anniversary_sf: nan | Customer_Phone_sf: nan | From__sf: nan | Customer_Email_sf: nan | Invoice_Id_sf: nan | Table_No_sf: nan | Order_Type_sf: nan | Answer_sf: nan | Created_sf: nan | PAX: nan | Biller_BSR: vijay ( | First_Print_Date_BSR: 2024-08-04 00:29:02 UTC | Last_Settlement_Date_BSR: 2024-08-04 00:38:16 UTC | Duration__In_Minutes_BSR: 9.0 | Settled_By_BSR: vijay ( | area_co: nan | order_cancel_reason_co: nan | Cancelled_Invoice_Total_co: nan | Discount_Order_Type_DSR: nan | Biller_Name: nan | Discount_DSR: nan | Reason_DSR: nan | Food_Preparation_Time_Z: nan | Food_Preparation_Time_S: nan | Zomato_Delivery_Time: nan | Swiggy_Delivery_Time: nan | amount_from: nan | amount_to: nan | modified_by: nan | modify_comment: nan | electron_pos: nan | bill_no: nan | invoice_no: nan | date_orap: nan | has_anomaly: No | anomaly_priority: nan | anomaly_payment_mismatch: 0 | anomaly_missing_payment_info: 0 | anomaly_multiple_payment_types: 0 | anomaly_tax_calculation_mismatch: 0 | anomaly_zero_tax_on_taxable: 0 | anomaly_large_order'),\n",
              " Document(metadata={}, page_content='mismatch: 0 | anomaly_zero_tax_on_taxable: 0 | anomaly_large_order_modification: 0 | anomaly_modification_without_comment: 0 | anomaly_zomato_invoice_mismatch: 0 | anomaly_swiggy_invoice_mismatch: 0 | anomaly_long_zomato_prep_time: 0 | anomaly_long_swiggy_prep_time: 0 | anomaly_zomato_missing_delivery_time: 0 | anomaly_swiggy_missing_delivery_time: 0 | anomaly_high_discount: 0 | anomaly_discount_without_reason: 0 | anomaly_zomato_status_mismatch: 0 | anomaly_swiggy_status_mismatch: 0 | anomaly_extreme_settlement_time: 0 | anomaly_unusual_settlement_time: 0 | anomaly_long_bill_settlement: 0 | anomaly_missing_server_name: 0 | anomaly_zomato_missing_customer: 0 | anomaly_swiggy_missing_customer: 0 | anomaly_suspicious_pax: 0 | anomaly_price_inconsistency: 0 | pattern_risk: High Risk | reason_pattern_risk: is_cash, is_odd_hour, is_high_value'),\n",
              " Document(metadata={}, page_content='Date: 05-05-2024 | Timestamp: 2024-05-05 21:06:53 UTC | Invoice_No_: 2005 | Payment_Type: Cash | Order_Type: Pick Up | Area: Parcel | Item_Name: HAKKA NOODLES (VEG) | Price: 765 | Qty_: 1.0 | Sub_Total: 765.0 | Discount: 0.0 | Tax: 38.2 | Final_Total: 803.2 | Status: Success | Table_No_: nan | Server_Name: TAPASH | Covers: 0 | Variation: VEG | Category: ORIENTAL RICE & NOODLES | HSN: nan | Phone: 9881860034 | Name: KARAN | Address: nan | GST: nan | Assign_To: SAFIK K | Non_Taxable: 0.0 | CGST_Rate: 2.5 | CGST_Amount: 19.1 | SGST_Rate: 2.5 | SGST_Amount: 19.1 | VAT_Rate: 10 | VAT_Amount: 0.0 | Service_Charge_Rate: 5 | Service_Charge_Amount: 0.0 | Date_z: nan | Invoice_Date_z: nan | Aggregator_Order_No_z: nan | PoS_Invoice_No_z: nan | Order_From_z: nan | Outlet_Name_z: nan | Petpooja_Identifier_z: nan | Order_Type_z: nan | Customer_Name_z: nan | Customer_Phone_z: 9881860034 | Payment_Type_z: nan | Delivery_status_z: nan | Status_z: nan | My_amount_z: nan | Aggregator_Discount_z: nan | Outlet_Discount_z: nan | Delivery_Charges_z: nan | Container_Charges_z: nan | CGST_z: nan | SGST_z: nan | IGST_z: nan | Total_z: nan | Order_Acceptance_Time_z: nan | Order_Delivery_Time_z: nan | Reason_z: nan | Online_Tax_Calculated_z: nan | GST_Paid_by_Merchant_z: nan | GST_Paid_by_'),\n",
              " Document(metadata={}, page_content=': nan | GST_Paid_by_Merchant_z: nan | GST_Paid_by_Ecommerce_z: nan | Restaurant_ID_z: 860034 | Client_Sharing_Code_z: nan | Identifier_z: nan | Order_ID_z: nan | Order_Status_z: nan | Received_Time_z: nan | Accepted_Time_z: nan | Mark_Ready_Time_z: nan | Rider_Arrival_Time_z: nan | Picked_up_Time_z: nan | Delivered_Time_z: nan | Cancelled_Time_z: nan | Date_s: nan | Invoice_Date_s: nan | Aggregator_Order_No_s: nan | PoS_Invoice_No_s: nan | Order_From_s: nan | Outlet_Name_s: nan | Petpooja_Identifier_s: nan | Order_Type_s: nan | Customer_Name_s: nan | Customer_Phone_s: 9881860034 | Payment_Type_s: nan | Delivery_status_s: nan | Status_s: nan | My_amount_s: nan | Aggregator_Discount_s: nan | Outlet_Discount_s: nan | Delivery_Charges_s: nan | Container_Charges_s: nan | CGST_s: nan | SGST_s: nan | IGST_s: nan | Total_s: nan | Order_Acceptance_Time_s: nan | Order_Delivery_Time_s: nan | Reason_s: nan | Online_Tax_Calculated_s: nan | GST_Paid_by_Merchant_s: nan | GST_Paid_by_Ecommerce_s: nan | Restaurant_ID_s: 860034 | Client_Sharing_Code_s: nan | Identifier_s: nan | Order_ID_s: nan | Order_Status_s: nan | Received_Time_s: nan | Accepted_Time_s: nan | Mark_Ready_Time_s: nan | Rider_Arrival_Time_s: nan | Picked_up_Time_s: nan | Delivered_Time_s: nan | Cancelled_Time_s: nan | Customer_Name'),\n",
              " Document(metadata={}, page_content=': nan | Delivered_Time_s: nan | Cancelled_Time_s: nan | Customer_Name_ff: nan | Date_of_Birth_ff: nan | Date_of_Anniversary_ff: nan | Customer_Phone_ff: nan | From__ff: nan | Customer_Email_ff: nan | Invoice_Id_ff: nan | Table_No_ff: nan | Order_Type_ff: nan | Answer_ff: nan | Created_ff: nan | Customer_Name_sf: nan | Date_of_Birth_sf: nan | Date_of_Anniversary_sf: nan | Customer_Phone_sf: nan | From__sf: nan | Customer_Email_sf: nan | Invoice_Id_sf: nan | Table_No_sf: nan | Order_Type_sf: nan | Answer_sf: nan | Created_sf: nan | PAX: nan | Biller_BSR: TAPASH  | First_Print_Date_BSR: 2024-05-05 21:06:54 UTC | Last_Settlement_Date_BSR: 2024-05-05 21:09:01 UTC | Duration__In_Minutes_BSR: 2.0 | Settled_By_BSR: sachind | area_co: nan | order_cancel_reason_co: nan | Cancelled_Invoice_Total_co: nan | Discount_Order_Type_DSR: nan | Biller_Name: nan | Discount_DSR: nan | Reason_DSR: nan | Food_Preparation_Time_Z: nan | Food_Preparation_Time_S: nan | Zomato_Delivery_Time: nan | Swiggy_Delivery_Time: nan | amount_from: nan | amount_to: nan | modified_by: nan | modify_comment: nan | electron_pos: nan | bill_no: nan | invoice_no: nan | date_orap: nan | has_anomaly: No | anomaly_priority: nan | anomaly_payment_mismatch: 0 | anomaly_missing_payment_info: 0 | anomaly_multiple_payment_types: 0 | anomaly_tax_calculation_mismatch: 0 | anomaly_zero_tax_on_taxable: 0 | anomaly_large_order_modification'),\n",
              " Document(metadata={}, page_content=': 0 | anomaly_zero_tax_on_taxable: 0 | anomaly_large_order_modification: 0 | anomaly_modification_without_comment: 0 | anomaly_zomato_invoice_mismatch: 0 | anomaly_swiggy_invoice_mismatch: 0 | anomaly_long_zomato_prep_time: 0 | anomaly_long_swiggy_prep_time: 0 | anomaly_zomato_missing_delivery_time: 0 | anomaly_swiggy_missing_delivery_time: 0 | anomaly_high_discount: 0 | anomaly_discount_without_reason: 0 | anomaly_zomato_status_mismatch: 0 | anomaly_swiggy_status_mismatch: 0 | anomaly_extreme_settlement_time: 0 | anomaly_unusual_settlement_time: 0 | anomaly_long_bill_settlement: 0 | anomaly_missing_server_name: 0 | anomaly_zomato_missing_customer: 0 | anomaly_swiggy_missing_customer: 0 | anomaly_suspicious_pax: 0 | anomaly_price_inconsistency: 0 | pattern_risk: Low Risk | reason_pattern_risk: is_cash'),\n",
              " Document(metadata={}, page_content='Date: 30-08-2024 | Timestamp: 2024-08-30 22:13:37 UTC | Invoice_No_: 8847 | Payment_Type: CARD | Order_Type: Dine In | Area: Garden Table | Item_Name: ROASTED PAPAD | Price: 70 | Qty_: 2.0 | Sub_Total: 140.0 | Discount: 0.0 | Tax: 14.0 | Final_Total: 154.0 | Status: Success | Table_No_: G 5 | Server_Name: TANMOY  | Covers: 6 | Variation: nan | Category: PANTRY SALAD , RAITA & MORE | HSN: nan | Phone: 9819872420 | Name: radhika | Address: nan | GST: nan | Assign_To: TANMOY  | Non_Taxable: 0.0 | CGST_Rate: 2.5 | CGST_Amount: 3.5 | SGST_Rate: 2.5 | SGST_Amount: 3.5 | VAT_Rate: 10 | VAT_Amount: 0.0 | Service_Charge_Rate: 5 | Service_Charge_Amount: 7.0 | Date_z: nan | Invoice_Date_z: nan | Aggregator_Order_No_z: nan | PoS_Invoice_No_z: nan | Order_From_z: nan | Outlet_Name_z: nan | Petpooja_Identifier_z: nan | Order_Type_z: nan | Customer_Name_z: nan | Customer_Phone_z: 9819872420 | Payment_Type_z: nan | Delivery_status_z: nan | Status_z: nan | My_amount_z: nan | Aggregator_Discount_z: nan | Outlet_Discount_z: nan | Delivery_Charges_z: nan | Container_Charges_z: nan | CGST_z: nan | SGST_z: nan | IGST_z: nan | Total_z: nan | Order_Acceptance_Time_z: nan | Order_Delivery_Time_z: nan | Reason_z: nan | Online_Tax_Calculated_z: nan | GST_Paid_by_Merchant_z: nan | GST_Paid_by_Ecommerce'),\n",
              " Document(metadata={}, page_content=' | GST_Paid_by_Merchant_z: nan | GST_Paid_by_Ecommerce_z: nan | Restaurant_ID_z: 872420 | Client_Sharing_Code_z: nan | Identifier_z: nan | Order_ID_z: nan | Order_Status_z: nan | Received_Time_z: nan | Accepted_Time_z: nan | Mark_Ready_Time_z: nan | Rider_Arrival_Time_z: nan | Picked_up_Time_z: nan | Delivered_Time_z: nan | Cancelled_Time_z: nan | Date_s: nan | Invoice_Date_s: nan | Aggregator_Order_No_s: nan | PoS_Invoice_No_s: nan | Order_From_s: nan | Outlet_Name_s: nan | Petpooja_Identifier_s: nan | Order_Type_s: nan | Customer_Name_s: nan | Customer_Phone_s: 9819872420 | Payment_Type_s: nan | Delivery_status_s: nan | Status_s: nan | My_amount_s: nan | Aggregator_Discount_s: nan | Outlet_Discount_s: nan | Delivery_Charges_s: nan | Container_Charges_s: nan | CGST_s: nan | SGST_s: nan | IGST_s: nan | Total_s: nan | Order_Acceptance_Time_s: nan | Order_Delivery_Time_s: nan | Reason_s: nan | Online_Tax_Calculated_s: nan | GST_Paid_by_Merchant_s: nan | GST_Paid_by_Ecommerce_s: nan | Restaurant_ID_s: 872420 | Client_Sharing_Code_s: nan | Identifier_s: nan | Order_ID_s: nan | Order_Status_s: nan | Received_Time_s: nan | Accepted_Time_s: nan | Mark_Ready_Time_s: nan | Rider_Arrival_Time_s: nan | Picked_up_Time_s: nan | Delivered_Time_s: nan | Cancelled_Time_s: nan | Customer_Name_ff:'),\n",
              " Document(metadata={}, page_content=' Delivered_Time_s: nan | Cancelled_Time_s: nan | Customer_Name_ff: nan | Date_of_Birth_ff: nan | Date_of_Anniversary_ff: nan | Customer_Phone_ff: nan | From__ff: nan | Customer_Email_ff: nan | Invoice_Id_ff: nan | Table_No_ff: nan | Order_Type_ff: nan | Answer_ff: nan | Created_ff: nan | Customer_Name_sf: nan | Date_of_Birth_sf: nan | Date_of_Anniversary_sf: nan | Customer_Phone_sf: nan | From__sf: nan | Customer_Email_sf: nan | Invoice_Id_sf: nan | Table_No_sf: nan | Order_Type_sf: nan | Answer_sf: nan | Created_sf: nan | PAX: nan | Biller_BSR: TANMOY  | First_Print_Date_BSR: 2024-08-30 22:13:38 UTC | Last_Settlement_Date_BSR: 2024-08-30 22:15:44 UTC | Duration__In_Minutes_BSR: 2.0 | Settled_By_BSR: vijay ( | area_co: nan | order_cancel_reason_co: nan | Cancelled_Invoice_Total_co: nan | Discount_Order_Type_DSR: nan | Biller_Name: nan | Discount_DSR: nan | Reason_DSR: nan | Food_Preparation_Time_Z: nan | Food_Preparation_Time_S: nan | Zomato_Delivery_Time: nan | Swiggy_Delivery_Time: nan | amount_from: nan | amount_to: nan | modified_by: nan | modify_comment: nan | electron_pos: nan | bill_no: nan | invoice_no: nan | date_orap: nan | has_anomaly: No | anomaly_priority: nan | anomaly_payment_mismatch: 0 | anomaly_missing_payment_info: 0 | anomaly_multiple_payment_types: 0 | anomaly_tax_calculation_mismatch: 0 | anomaly_zero_tax_on_taxable: 0 | anomaly_large_order_modification:'),\n",
              " Document(metadata={}, page_content=' 0 | anomaly_zero_tax_on_taxable: 0 | anomaly_large_order_modification: 0 | anomaly_modification_without_comment: 0 | anomaly_zomato_invoice_mismatch: 0 | anomaly_swiggy_invoice_mismatch: 0 | anomaly_long_zomato_prep_time: 0 | anomaly_long_swiggy_prep_time: 0 | anomaly_zomato_missing_delivery_time: 0 | anomaly_swiggy_missing_delivery_time: 0 | anomaly_high_discount: 0 | anomaly_discount_without_reason: 0 | anomaly_zomato_status_mismatch: 0 | anomaly_swiggy_status_mismatch: 0 | anomaly_extreme_settlement_time: 0 | anomaly_unusual_settlement_time: 0 | anomaly_long_bill_settlement: 0 | anomaly_missing_server_name: 0 | anomaly_zomato_missing_customer: 0 | anomaly_swiggy_missing_customer: 0 | anomaly_suspicious_pax: 0 | anomaly_price_inconsistency: 0 | pattern_risk: Low Risk | reason_pattern_risk: is_card_payment'),\n",
              " Document(metadata={}, page_content='Date: 30-10-2024 | Timestamp: 2024-10-30 15:25:36 UTC | Invoice_No_: 12615 | Payment_Type: CARD | Order_Type: Dine In | Area: Dine in | Item_Name: FRESH LIME SODA | Price: 185 | Qty_: 2.0 | Sub_Total: 370.0 | Discount: 0.0 | Tax: 37.1 | Final_Total: 407.1 | Status: Success | Table_No_: 15 | Server_Name: TANMOY  | Covers: 5 | Variation: nan | Category: BAR BEVERAGES | HSN: nan | Phone: 9813566106 | Name: DR RAJSHREE | Address: nan | GST: nan | Assign_To: TANMOY  | Non_Taxable: 0.0 | CGST_Rate: 2.5 | CGST_Amount: 9.3 | SGST_Rate: 2.5 | SGST_Amount: 9.3 | VAT_Rate: 10 | VAT_Amount: 0.0 | Service_Charge_Rate: 5 | Service_Charge_Amount: 18.5 | Date_z: nan | Invoice_Date_z: nan | Aggregator_Order_No_z: nan | PoS_Invoice_No_z: nan | Order_From_z: nan | Outlet_Name_z: nan | Petpooja_Identifier_z: nan | Order_Type_z: nan | Customer_Name_z: nan | Customer_Phone_z: 9813566106 | Payment_Type_z: nan | Delivery_status_z: nan | Status_z: nan | My_amount_z: nan | Aggregator_Discount_z: nan | Outlet_Discount_z: nan | Delivery_Charges_z: nan | Container_Charges_z: nan | CGST_z: nan | SGST_z: nan | IGST_z: nan | Total_z: nan | Order_Acceptance_Time_z: nan | Order_Delivery_Time_z: nan | Reason_z: nan | Online_Tax_Calculated_z: nan | GST_Paid_by_Merchant_z: nan | GST_Paid_by_Ecommerce_z:'),\n",
              " Document(metadata={}, page_content='Paid_by_Merchant_z: nan | GST_Paid_by_Ecommerce_z: nan | Restaurant_ID_z: 566106 | Client_Sharing_Code_z: nan | Identifier_z: nan | Order_ID_z: nan | Order_Status_z: nan | Received_Time_z: nan | Accepted_Time_z: nan | Mark_Ready_Time_z: nan | Rider_Arrival_Time_z: nan | Picked_up_Time_z: nan | Delivered_Time_z: nan | Cancelled_Time_z: nan | Date_s: nan | Invoice_Date_s: nan | Aggregator_Order_No_s: nan | PoS_Invoice_No_s: nan | Order_From_s: nan | Outlet_Name_s: nan | Petpooja_Identifier_s: nan | Order_Type_s: nan | Customer_Name_s: nan | Customer_Phone_s: 9813566106 | Payment_Type_s: nan | Delivery_status_s: nan | Status_s: nan | My_amount_s: nan | Aggregator_Discount_s: nan | Outlet_Discount_s: nan | Delivery_Charges_s: nan | Container_Charges_s: nan | CGST_s: nan | SGST_s: nan | IGST_s: nan | Total_s: nan | Order_Acceptance_Time_s: nan | Order_Delivery_Time_s: nan | Reason_s: nan | Online_Tax_Calculated_s: nan | GST_Paid_by_Merchant_s: nan | GST_Paid_by_Ecommerce_s: nan | Restaurant_ID_s: 566106 | Client_Sharing_Code_s: nan | Identifier_s: nan | Order_ID_s: nan | Order_Status_s: nan | Received_Time_s: nan | Accepted_Time_s: nan | Mark_Ready_Time_s: nan | Rider_Arrival_Time_s: nan | Picked_up_Time_s: nan | Delivered_Time_s: nan | Cancelled_Time_s: nan | Customer_Name_ff: nan | Date'),\n",
              " Document(metadata={}, page_content='Time_s: nan | Cancelled_Time_s: nan | Customer_Name_ff: nan | Date_of_Birth_ff: nan | Date_of_Anniversary_ff: nan | Customer_Phone_ff: nan | From__ff: nan | Customer_Email_ff: nan | Invoice_Id_ff: nan | Table_No_ff: nan | Order_Type_ff: nan | Answer_ff: nan | Created_ff: nan | Customer_Name_sf: nan | Date_of_Birth_sf: nan | Date_of_Anniversary_sf: nan | Customer_Phone_sf: nan | From__sf: nan | Customer_Email_sf: nan | Invoice_Id_sf: nan | Table_No_sf: nan | Order_Type_sf: nan | Answer_sf: nan | Created_sf: nan | PAX: nan | Biller_BSR: TANMOY  | First_Print_Date_BSR: 2024-10-30 15:25:37 UTC | Last_Settlement_Date_BSR: 2024-10-30 15:42:08 UTC | Duration__In_Minutes_BSR: 16.0 | Settled_By_BSR: vijay ( | area_co: nan | order_cancel_reason_co: nan | Cancelled_Invoice_Total_co: nan | Discount_Order_Type_DSR: nan | Biller_Name: nan | Discount_DSR: nan | Reason_DSR: nan | Food_Preparation_Time_Z: nan | Food_Preparation_Time_S: nan | Zomato_Delivery_Time: nan | Swiggy_Delivery_Time: nan | amount_from: nan | amount_to: nan | modified_by: nan | modify_comment: nan | electron_pos: nan | bill_no: nan | invoice_no: nan | date_orap: nan | has_anomaly: Yes | anomaly_priority: Medium | anomaly_payment_mismatch: 0 | anomaly_missing_payment_info: 0 | anomaly_multiple_payment_types: 0 | anomaly_tax_calculation_mismatch: 0 | anomaly_zero_tax_on_taxable: 0 | anomaly_large_order_modification: 0 | anomaly'),\n",
              " Document(metadata={}, page_content='_zero_tax_on_taxable: 0 | anomaly_large_order_modification: 0 | anomaly_modification_without_comment: 0 | anomaly_zomato_invoice_mismatch: 0 | anomaly_swiggy_invoice_mismatch: 0 | anomaly_long_zomato_prep_time: 0 | anomaly_long_swiggy_prep_time: 0 | anomaly_zomato_missing_delivery_time: 0 | anomaly_swiggy_missing_delivery_time: 0 | anomaly_high_discount: 0 | anomaly_discount_without_reason: 0 | anomaly_zomato_status_mismatch: 0 | anomaly_swiggy_status_mismatch: 0 | anomaly_extreme_settlement_time: 0 | anomaly_unusual_settlement_time: 1 | anomaly_long_bill_settlement: 0 | anomaly_missing_server_name: 0 | anomaly_zomato_missing_customer: 0 | anomaly_swiggy_missing_customer: 0 | anomaly_suspicious_pax: 0 | anomaly_price_inconsistency: 0 | pattern_risk: Low Risk | reason_pattern_risk: is_card_payment'),\n",
              " Document(metadata={}, page_content='Date: 04-10-2024 | Timestamp: 2024-10-04 18:53:25 UTC | Invoice_No_: C1984 | Payment_Type: Cash | Order_Type: Dine In | Area: Garden Table | Item_Name: Lemon Coriander Soup (VEG) | Price: 365 | Qty_: 1.0 | Sub_Total: 365.0 | Discount: 0.0 | Tax: 36.5 | Final_Total: 401.5 | Status: Complimentary | Table_No_: G 5 | Server_Name: TAPASH | Covers: 3 | Variation: VEG | Category: ORIENTAL SOUPS | HSN: nan | Phone: 9843950806 | Name: PHOTO SHOOT | Address: nan | GST: nan | Assign_To: nan | Non_Taxable: 0.0 | CGST_Rate: 2.5 | CGST_Amount: 9.1 | SGST_Rate: 2.5 | SGST_Amount: 9.1 | VAT_Rate: 10 | VAT_Amount: 0.0 | Service_Charge_Rate: 5 | Service_Charge_Amount: 18.3 | Date_z: nan | Invoice_Date_z: nan | Aggregator_Order_No_z: nan | PoS_Invoice_No_z: nan | Order_From_z: nan | Outlet_Name_z: nan | Petpooja_Identifier_z: nan | Order_Type_z: nan | Customer_Name_z: nan | Customer_Phone_z: 9843950806 | Payment_Type_z: nan | Delivery_status_z: nan | Status_z: nan | My_amount_z: nan | Aggregator_Discount_z: nan | Outlet_Discount_z: nan | Delivery_Charges_z: nan | Container_Charges_z: nan | CGST_z: nan | SGST_z: nan | IGST_z: nan | Total_z: nan | Order_Acceptance_Time_z: nan | Order_Delivery_Time_z: nan | Reason_z: nan | Online_Tax_Calculated_z: nan | GST_Paid_by_Merchant_z: nan | GST_Paid_by_Ecommerce_z:'),\n",
              " Document(metadata={}, page_content='Paid_by_Merchant_z: nan | GST_Paid_by_Ecommerce_z: nan | Restaurant_ID_z: 950806 | Client_Sharing_Code_z: nan | Identifier_z: nan | Order_ID_z: nan | Order_Status_z: nan | Received_Time_z: nan | Accepted_Time_z: nan | Mark_Ready_Time_z: nan | Rider_Arrival_Time_z: nan | Picked_up_Time_z: nan | Delivered_Time_z: nan | Cancelled_Time_z: nan | Date_s: nan | Invoice_Date_s: nan | Aggregator_Order_No_s: nan | PoS_Invoice_No_s: nan | Order_From_s: nan | Outlet_Name_s: nan | Petpooja_Identifier_s: nan | Order_Type_s: nan | Customer_Name_s: nan | Customer_Phone_s: 9843950806 | Payment_Type_s: nan | Delivery_status_s: nan | Status_s: nan | My_amount_s: nan | Aggregator_Discount_s: nan | Outlet_Discount_s: nan | Delivery_Charges_s: nan | Container_Charges_s: nan | CGST_s: nan | SGST_s: nan | IGST_s: nan | Total_s: nan | Order_Acceptance_Time_s: nan | Order_Delivery_Time_s: nan | Reason_s: nan | Online_Tax_Calculated_s: nan | GST_Paid_by_Merchant_s: nan | GST_Paid_by_Ecommerce_s: nan | Restaurant_ID_s: 950806 | Client_Sharing_Code_s: nan | Identifier_s: nan | Order_ID_s: nan | Order_Status_s: nan | Received_Time_s: nan | Accepted_Time_s: nan | Mark_Ready_Time_s: nan | Rider_Arrival_Time_s: nan | Picked_up_Time_s: nan | Delivered_Time_s: nan | Cancelled_Time_s: nan | Customer_Name_ff: nan | Date_'),\n",
              " Document(metadata={}, page_content='_s: nan | Cancelled_Time_s: nan | Customer_Name_ff: nan | Date_of_Birth_ff: nan | Date_of_Anniversary_ff: nan | Customer_Phone_ff: nan | From__ff: nan | Customer_Email_ff: nan | Invoice_Id_ff: nan | Table_No_ff: nan | Order_Type_ff: nan | Answer_ff: nan | Created_ff: nan | Customer_Name_sf: nan | Date_of_Birth_sf: nan | Date_of_Anniversary_sf: nan | Customer_Phone_sf: nan | From__sf: nan | Customer_Email_sf: nan | Invoice_Id_sf: nan | Table_No_sf: nan | Order_Type_sf: nan | Answer_sf: nan | Created_sf: nan | PAX: nan | Biller_BSR: nan | First_Print_Date_BSR: nan | Last_Settlement_Date_BSR: nan | Duration__In_Minutes_BSR: nan | Settled_By_BSR: nan | area_co: nan | order_cancel_reason_co: nan | Cancelled_Invoice_Total_co: nan | Discount_Order_Type_DSR: nan | Biller_Name: nan | Discount_DSR: nan | Reason_DSR: nan | Food_Preparation_Time_Z: nan | Food_Preparation_Time_S: nan | Zomato_Delivery_Time: nan | Swiggy_Delivery_Time: nan | amount_from: nan | amount_to: nan | modified_by: nan | modify_comment: nan | electron_pos: nan | bill_no: nan | invoice_no: nan | date_orap: nan | has_anomaly: No | anomaly_priority: nan | anomaly_payment_mismatch: 0 | anomaly_missing_payment_info: 0 | anomaly_multiple_payment_types: 0 | anomaly_tax_calculation_mismatch: 0 | anomaly_zero_tax_on_taxable: 0 | anomaly_large_order_modification: 0 | anomaly_modification_without_comment: 0 | anomaly_zomato_invoice_mismatch: 0 | anomaly_swiggy'),\n",
              " Document(metadata={}, page_content='comment: 0 | anomaly_zomato_invoice_mismatch: 0 | anomaly_swiggy_invoice_mismatch: 0 | anomaly_long_zomato_prep_time: 0 | anomaly_long_swiggy_prep_time: 0 | anomaly_zomato_missing_delivery_time: 0 | anomaly_swiggy_missing_delivery_time: 0 | anomaly_high_discount: 0 | anomaly_discount_without_reason: 0 | anomaly_zomato_status_mismatch: 0 | anomaly_swiggy_status_mismatch: 0 | anomaly_extreme_settlement_time: 0 | anomaly_unusual_settlement_time: 0 | anomaly_long_bill_settlement: 0 | anomaly_missing_server_name: 0 | anomaly_zomato_missing_customer: 0 | anomaly_swiggy_missing_customer: 0 | anomaly_suspicious_pax: 0 | anomaly_price_inconsistency: 0 | pattern_risk: Low Risk | reason_pattern_risk: is_cash'),\n",
              " Document(metadata={}, page_content='Date: 04-10-2024 | Timestamp: 2024-10-04 18:53:25 UTC | Invoice_No_: C1984 | Payment_Type: Cash | Order_Type: Dine In | Area: Garden Table | Item_Name: Sweet Corn Soup (CHICKEN) | Price: 365 | Qty_: 1.0 | Sub_Total: 365.0 | Discount: 0.0 | Tax: 36.5 | Final_Total: 401.5 | Status: Complimentary | Table_No_: G 5 | Server_Name: TAPASH | Covers: 3 | Variation: CHICKEN | Category: ORIENTAL SOUPS | HSN: nan | Phone: 9843950806 | Name: PHOTO SHOOT | Address: nan | GST: nan | Assign_To: nan | Non_Taxable: 0.0 | CGST_Rate: 2.5 | CGST_Amount: 9.1 | SGST_Rate: 2.5 | SGST_Amount: 9.1 | VAT_Rate: 10 | VAT_Amount: 0.0 | Service_Charge_Rate: 5 | Service_Charge_Amount: 18.3 | Date_z: nan | Invoice_Date_z: nan | Aggregator_Order_No_z: nan | PoS_Invoice_No_z: nan | Order_From_z: nan | Outlet_Name_z: nan | Petpooja_Identifier_z: nan | Order_Type_z: nan | Customer_Name_z: nan | Customer_Phone_z: 9843950806 | Payment_Type_z: nan | Delivery_status_z: nan | Status_z: nan | My_amount_z: nan | Aggregator_Discount_z: nan | Outlet_Discount_z: nan | Delivery_Charges_z: nan | Container_Charges_z: nan | CGST_z: nan | SGST_z: nan | IGST_z: nan | Total_z: nan | Order_Acceptance_Time_z: nan | Order_Delivery_Time_z: nan | Reason_z: nan | Online_Tax_Calculated_z: nan | GST_Paid_by_Merchant_z: nan | GST_Paid_by_Ecommerce_z:'),\n",
              " Document(metadata={}, page_content='Paid_by_Merchant_z: nan | GST_Paid_by_Ecommerce_z: nan | Restaurant_ID_z: 950806 | Client_Sharing_Code_z: nan | Identifier_z: nan | Order_ID_z: nan | Order_Status_z: nan | Received_Time_z: nan | Accepted_Time_z: nan | Mark_Ready_Time_z: nan | Rider_Arrival_Time_z: nan | Picked_up_Time_z: nan | Delivered_Time_z: nan | Cancelled_Time_z: nan | Date_s: nan | Invoice_Date_s: nan | Aggregator_Order_No_s: nan | PoS_Invoice_No_s: nan | Order_From_s: nan | Outlet_Name_s: nan | Petpooja_Identifier_s: nan | Order_Type_s: nan | Customer_Name_s: nan | Customer_Phone_s: 9843950806 | Payment_Type_s: nan | Delivery_status_s: nan | Status_s: nan | My_amount_s: nan | Aggregator_Discount_s: nan | Outlet_Discount_s: nan | Delivery_Charges_s: nan | Container_Charges_s: nan | CGST_s: nan | SGST_s: nan | IGST_s: nan | Total_s: nan | Order_Acceptance_Time_s: nan | Order_Delivery_Time_s: nan | Reason_s: nan | Online_Tax_Calculated_s: nan | GST_Paid_by_Merchant_s: nan | GST_Paid_by_Ecommerce_s: nan | Restaurant_ID_s: 950806 | Client_Sharing_Code_s: nan | Identifier_s: nan | Order_ID_s: nan | Order_Status_s: nan | Received_Time_s: nan | Accepted_Time_s: nan | Mark_Ready_Time_s: nan | Rider_Arrival_Time_s: nan | Picked_up_Time_s: nan | Delivered_Time_s: nan | Cancelled_Time_s: nan | Customer_Name_ff: nan | Date_'),\n",
              " Document(metadata={}, page_content='_s: nan | Cancelled_Time_s: nan | Customer_Name_ff: nan | Date_of_Birth_ff: nan | Date_of_Anniversary_ff: nan | Customer_Phone_ff: nan | From__ff: nan | Customer_Email_ff: nan | Invoice_Id_ff: nan | Table_No_ff: nan | Order_Type_ff: nan | Answer_ff: nan | Created_ff: nan | Customer_Name_sf: nan | Date_of_Birth_sf: nan | Date_of_Anniversary_sf: nan | Customer_Phone_sf: nan | From__sf: nan | Customer_Email_sf: nan | Invoice_Id_sf: nan | Table_No_sf: nan | Order_Type_sf: nan | Answer_sf: nan | Created_sf: nan | PAX: nan | Biller_BSR: nan | First_Print_Date_BSR: nan | Last_Settlement_Date_BSR: nan | Duration__In_Minutes_BSR: nan | Settled_By_BSR: nan | area_co: nan | order_cancel_reason_co: nan | Cancelled_Invoice_Total_co: nan | Discount_Order_Type_DSR: nan | Biller_Name: nan | Discount_DSR: nan | Reason_DSR: nan | Food_Preparation_Time_Z: nan | Food_Preparation_Time_S: nan | Zomato_Delivery_Time: nan | Swiggy_Delivery_Time: nan | amount_from: nan | amount_to: nan | modified_by: nan | modify_comment: nan | electron_pos: nan | bill_no: nan | invoice_no: nan | date_orap: nan | has_anomaly: No | anomaly_priority: nan | anomaly_payment_mismatch: 0 | anomaly_missing_payment_info: 0 | anomaly_multiple_payment_types: 0 | anomaly_tax_calculation_mismatch: 0 | anomaly_zero_tax_on_taxable: 0 | anomaly_large_order_modification: 0 | anomaly_modification_without_comment: 0 | anomaly_zomato_invoice_mismatch: 0 | anomaly_swiggy'),\n",
              " Document(metadata={}, page_content='comment: 0 | anomaly_zomato_invoice_mismatch: 0 | anomaly_swiggy_invoice_mismatch: 0 | anomaly_long_zomato_prep_time: 0 | anomaly_long_swiggy_prep_time: 0 | anomaly_zomato_missing_delivery_time: 0 | anomaly_swiggy_missing_delivery_time: 0 | anomaly_high_discount: 0 | anomaly_discount_without_reason: 0 | anomaly_zomato_status_mismatch: 0 | anomaly_swiggy_status_mismatch: 0 | anomaly_extreme_settlement_time: 0 | anomaly_unusual_settlement_time: 0 | anomaly_long_bill_settlement: 0 | anomaly_missing_server_name: 0 | anomaly_zomato_missing_customer: 0 | anomaly_swiggy_missing_customer: 0 | anomaly_suspicious_pax: 0 | anomaly_price_inconsistency: 0 | pattern_risk: Low Risk | reason_pattern_risk: is_cash'),\n",
              " Document(metadata={}, page_content='Date: 29-03-2025 | Timestamp: 2025-03-29 22:45:03 UTC | Invoice_No_: 22351 | Payment_Type: Other [ZOMATO PAY] | Order_Type: Dine In | Area: Dine in | Item_Name: Roti | Price: 85 | Qty_: 1.0 | Sub_Total: 85.0 | Discount: 0.0 | Tax: 4.2 | Final_Total: 89.2 | Status: Success | Table_No_: 30 | Server_Name: SANDEEP | Covers: 9 | Variation: nan | Category: TANDOOR BREADS | HSN: nan | Phone: 9844043557 | Name: YASH PAREKH | Address: nan | GST: nan | Assign_To: SANDEEP | Non_Taxable: 0.0 | CGST_Rate: 2.5 | CGST_Amount: 2.1 | SGST_Rate: 2.5 | SGST_Amount: 2.1 | VAT_Rate: 10 | VAT_Amount: 0.0 | Service_Charge_Rate: 5 | Service_Charge_Amount: 0.0 | Date_z: nan | Invoice_Date_z: nan | Aggregator_Order_No_z: nan | PoS_Invoice_No_z: nan | Order_From_z: nan | Outlet_Name_z: nan | Petpooja_Identifier_z: nan | Order_Type_z: nan | Customer_Name_z: nan | Customer_Phone_z: 9844043557 | Payment_Type_z: nan | Delivery_status_z: nan | Status_z: nan | My_amount_z: nan | Aggregator_Discount_z: nan | Outlet_Discount_z: nan | Delivery_Charges_z: nan | Container_Charges_z: nan | CGST_z: nan | SGST_z: nan | IGST_z: nan | Total_z: nan | Order_Acceptance_Time_z: nan | Order_Delivery_Time_z: nan | Reason_z: nan | Online_Tax_Calculated_z: nan | GST_Paid_by_Merchant_z: nan | GST_Paid_by_E'),\n",
              " Document(metadata={}, page_content=' nan | GST_Paid_by_Merchant_z: nan | GST_Paid_by_Ecommerce_z: nan | Restaurant_ID_z: 43557 | Client_Sharing_Code_z: nan | Identifier_z: nan | Order_ID_z: nan | Order_Status_z: nan | Received_Time_z: nan | Accepted_Time_z: nan | Mark_Ready_Time_z: nan | Rider_Arrival_Time_z: nan | Picked_up_Time_z: nan | Delivered_Time_z: nan | Cancelled_Time_z: nan | Date_s: nan | Invoice_Date_s: nan | Aggregator_Order_No_s: nan | PoS_Invoice_No_s: nan | Order_From_s: nan | Outlet_Name_s: nan | Petpooja_Identifier_s: nan | Order_Type_s: nan | Customer_Name_s: nan | Customer_Phone_s: 9844043557 | Payment_Type_s: nan | Delivery_status_s: nan | Status_s: nan | My_amount_s: nan | Aggregator_Discount_s: nan | Outlet_Discount_s: nan | Delivery_Charges_s: nan | Container_Charges_s: nan | CGST_s: nan | SGST_s: nan | IGST_s: nan | Total_s: nan | Order_Acceptance_Time_s: nan | Order_Delivery_Time_s: nan | Reason_s: nan | Online_Tax_Calculated_s: nan | GST_Paid_by_Merchant_s: nan | GST_Paid_by_Ecommerce_s: nan | Restaurant_ID_s: 43557 | Client_Sharing_Code_s: nan | Identifier_s: nan | Order_ID_s: nan | Order_Status_s: nan | Received_Time_s: nan | Accepted_Time_s: nan | Mark_Ready_Time_s: nan | Rider_Arrival_Time_s: nan | Picked_up_Time_s: nan | Delivered_Time_s: nan | Cancelled_Time_s: nan | Customer_Name_ff:'),\n",
              " Document(metadata={}, page_content=' Delivered_Time_s: nan | Cancelled_Time_s: nan | Customer_Name_ff: nan | Date_of_Birth_ff: nan | Date_of_Anniversary_ff: nan | Customer_Phone_ff: nan | From__ff: nan | Customer_Email_ff: nan | Invoice_Id_ff: nan | Table_No_ff: nan | Order_Type_ff: nan | Answer_ff: nan | Created_ff: nan | Customer_Name_sf: nan | Date_of_Birth_sf: nan | Date_of_Anniversary_sf: nan | Customer_Phone_sf: nan | From__sf: nan | Customer_Email_sf: nan | Invoice_Id_sf: nan | Table_No_sf: nan | Order_Type_sf: nan | Answer_sf: nan | Created_sf: nan | PAX: nan | Biller_BSR: SANDEEP | First_Print_Date_BSR: 2025-03-29 22:45:04 UTC | Last_Settlement_Date_BSR: 2025-03-29 22:54:05 UTC | Duration__In_Minutes_BSR: 9.0 | Settled_By_BSR: vijay ( | area_co: nan | order_cancel_reason_co: nan | Cancelled_Invoice_Total_co: nan | Discount_Order_Type_DSR: nan | Biller_Name: nan | Discount_DSR: nan | Reason_DSR: nan | Food_Preparation_Time_Z: nan | Food_Preparation_Time_S: nan | Zomato_Delivery_Time: nan | Swiggy_Delivery_Time: nan | amount_from: 9801.0 | amount_to: 9335.0 | modified_by: vijay ( | modify_comment: removed sc | electron_pos: 2025-03-29 22:46:42 UTC | bill_no: F22351 | invoice_no: 22351.0 | date_orap: 2025-03-29 22:45:03 UTC | has_anomaly: No | anomaly_priority: nan | anomaly_payment_mismatch: 0 | anomaly_missing_payment_info: 0 | anomaly_multiple_payment_types: 0 | anomaly_'),\n",
              " Document(metadata={}, page_content=' 0 | anomaly_missing_payment_info: 0 | anomaly_multiple_payment_types: 0 | anomaly_tax_calculation_mismatch: 0 | anomaly_zero_tax_on_taxable: 0 | anomaly_large_order_modification: 0 | anomaly_modification_without_comment: 0 | anomaly_zomato_invoice_mismatch: 0 | anomaly_swiggy_invoice_mismatch: 0 | anomaly_long_zomato_prep_time: 0 | anomaly_long_swiggy_prep_time: 0 | anomaly_zomato_missing_delivery_time: 0 | anomaly_swiggy_missing_delivery_time: 0 | anomaly_high_discount: 0 | anomaly_discount_without_reason: 0 | anomaly_zomato_status_mismatch: 0 | anomaly_swiggy_status_mismatch: 0 | anomaly_extreme_settlement_time: 0 | anomaly_unusual_settlement_time: 0 | anomaly_long_bill_settlement: 0 | anomaly_missing_server_name: 0 | anomaly_zomato_missing_customer: 0 | anomaly_swiggy_missing_customer: 0 | anomaly_suspicious_pax: 0 | anomaly_price_inconsistency: 0 | pattern_risk: Low Risk | reason_pattern_risk: nan'),\n",
              " Document(metadata={}, page_content='Date: 30-10-2024 | Timestamp: 2024-10-30 15:25:36 UTC | Invoice_No_: 12615 | Payment_Type: CARD | Order_Type: Dine In | Area: Dine in | Item_Name: ONION KULCHA | Price: 260 | Qty_: 1.0 | Sub_Total: 260.0 | Discount: 0.0 | Tax: 26.0 | Final_Total: 286.0 | Status: Success | Table_No_: 15 | Server_Name: TANMOY  | Covers: 5 | Variation: nan | Category: TANDOOR BREADS | HSN: nan | Phone: 9813566106 | Name: DR RAJSHREE | Address: nan | GST: nan | Assign_To: TANMOY  | Non_Taxable: 0.0 | CGST_Rate: 2.5 | CGST_Amount: 6.5 | SGST_Rate: 2.5 | SGST_Amount: 6.5 | VAT_Rate: 10 | VAT_Amount: 0.0 | Service_Charge_Rate: 5 | Service_Charge_Amount: 13.0 | Date_z: nan | Invoice_Date_z: nan | Aggregator_Order_No_z: nan | PoS_Invoice_No_z: nan | Order_From_z: nan | Outlet_Name_z: nan | Petpooja_Identifier_z: nan | Order_Type_z: nan | Customer_Name_z: nan | Customer_Phone_z: 9813566106 | Payment_Type_z: nan | Delivery_status_z: nan | Status_z: nan | My_amount_z: nan | Aggregator_Discount_z: nan | Outlet_Discount_z: nan | Delivery_Charges_z: nan | Container_Charges_z: nan | CGST_z: nan | SGST_z: nan | IGST_z: nan | Total_z: nan | Order_Acceptance_Time_z: nan | Order_Delivery_Time_z: nan | Reason_z: nan | Online_Tax_Calculated_z: nan | GST_Paid_by_Merchant_z: nan | GST_Paid_by_Ecommerce_z'),\n",
              " Document(metadata={}, page_content='_Paid_by_Merchant_z: nan | GST_Paid_by_Ecommerce_z: nan | Restaurant_ID_z: 566106 | Client_Sharing_Code_z: nan | Identifier_z: nan | Order_ID_z: nan | Order_Status_z: nan | Received_Time_z: nan | Accepted_Time_z: nan | Mark_Ready_Time_z: nan | Rider_Arrival_Time_z: nan | Picked_up_Time_z: nan | Delivered_Time_z: nan | Cancelled_Time_z: nan | Date_s: nan | Invoice_Date_s: nan | Aggregator_Order_No_s: nan | PoS_Invoice_No_s: nan | Order_From_s: nan | Outlet_Name_s: nan | Petpooja_Identifier_s: nan | Order_Type_s: nan | Customer_Name_s: nan | Customer_Phone_s: 9813566106 | Payment_Type_s: nan | Delivery_status_s: nan | Status_s: nan | My_amount_s: nan | Aggregator_Discount_s: nan | Outlet_Discount_s: nan | Delivery_Charges_s: nan | Container_Charges_s: nan | CGST_s: nan | SGST_s: nan | IGST_s: nan | Total_s: nan | Order_Acceptance_Time_s: nan | Order_Delivery_Time_s: nan | Reason_s: nan | Online_Tax_Calculated_s: nan | GST_Paid_by_Merchant_s: nan | GST_Paid_by_Ecommerce_s: nan | Restaurant_ID_s: 566106 | Client_Sharing_Code_s: nan | Identifier_s: nan | Order_ID_s: nan | Order_Status_s: nan | Received_Time_s: nan | Accepted_Time_s: nan | Mark_Ready_Time_s: nan | Rider_Arrival_Time_s: nan | Picked_up_Time_s: nan | Delivered_Time_s: nan | Cancelled_Time_s: nan | Customer_Name_ff: nan |'),\n",
              " Document(metadata={}, page_content='_Time_s: nan | Cancelled_Time_s: nan | Customer_Name_ff: nan | Date_of_Birth_ff: nan | Date_of_Anniversary_ff: nan | Customer_Phone_ff: nan | From__ff: nan | Customer_Email_ff: nan | Invoice_Id_ff: nan | Table_No_ff: nan | Order_Type_ff: nan | Answer_ff: nan | Created_ff: nan | Customer_Name_sf: nan | Date_of_Birth_sf: nan | Date_of_Anniversary_sf: nan | Customer_Phone_sf: nan | From__sf: nan | Customer_Email_sf: nan | Invoice_Id_sf: nan | Table_No_sf: nan | Order_Type_sf: nan | Answer_sf: nan | Created_sf: nan | PAX: nan | Biller_BSR: TANMOY  | First_Print_Date_BSR: 2024-10-30 15:25:37 UTC | Last_Settlement_Date_BSR: 2024-10-30 15:42:08 UTC | Duration__In_Minutes_BSR: 16.0 | Settled_By_BSR: vijay ( | area_co: nan | order_cancel_reason_co: nan | Cancelled_Invoice_Total_co: nan | Discount_Order_Type_DSR: nan | Biller_Name: nan | Discount_DSR: nan | Reason_DSR: nan | Food_Preparation_Time_Z: nan | Food_Preparation_Time_S: nan | Zomato_Delivery_Time: nan | Swiggy_Delivery_Time: nan | amount_from: nan | amount_to: nan | modified_by: nan | modify_comment: nan | electron_pos: nan | bill_no: nan | invoice_no: nan | date_orap: nan | has_anomaly: Yes | anomaly_priority: Medium | anomaly_payment_mismatch: 0 | anomaly_missing_payment_info: 0 | anomaly_multiple_payment_types: 0 | anomaly_tax_calculation_mismatch: 0 | anomaly_zero_tax_on_taxable: 0 | anomaly_large_order_modification: 0 |'),\n",
              " Document(metadata={}, page_content=' anomaly_zero_tax_on_taxable: 0 | anomaly_large_order_modification: 0 | anomaly_modification_without_comment: 0 | anomaly_zomato_invoice_mismatch: 0 | anomaly_swiggy_invoice_mismatch: 0 | anomaly_long_zomato_prep_time: 0 | anomaly_long_swiggy_prep_time: 0 | anomaly_zomato_missing_delivery_time: 0 | anomaly_swiggy_missing_delivery_time: 0 | anomaly_high_discount: 0 | anomaly_discount_without_reason: 0 | anomaly_zomato_status_mismatch: 0 | anomaly_swiggy_status_mismatch: 0 | anomaly_extreme_settlement_time: 0 | anomaly_unusual_settlement_time: 1 | anomaly_long_bill_settlement: 0 | anomaly_missing_server_name: 0 | anomaly_zomato_missing_customer: 0 | anomaly_swiggy_missing_customer: 0 | anomaly_suspicious_pax: 0 | anomaly_price_inconsistency: 0 | pattern_risk: Low Risk | reason_pattern_risk: is_card_payment'),\n",
              " Document(metadata={}, page_content='Date: 30-08-2024 | Timestamp: 2024-08-30 22:13:37 UTC | Invoice_No_: 8847 | Payment_Type: CARD | Order_Type: Dine In | Area: Garden Table | Item_Name: Roti | Price: 85 | Qty_: 1.0 | Sub_Total: 85.0 | Discount: 0.0 | Tax: 8.5 | Final_Total: 93.5 | Status: Success | Table_No_: G 5 | Server_Name: TANMOY  | Covers: 6 | Variation: nan | Category: TANDOOR BREADS | HSN: nan | Phone: 9819872420 | Name: radhika | Address: nan | GST: nan | Assign_To: TANMOY  | Non_Taxable: 0.0 | CGST_Rate: 2.5 | CGST_Amount: 2.1 | SGST_Rate: 2.5 | SGST_Amount: 2.1 | VAT_Rate: 10 | VAT_Amount: 0.0 | Service_Charge_Rate: 5 | Service_Charge_Amount: 4.3 | Date_z: nan | Invoice_Date_z: nan | Aggregator_Order_No_z: nan | PoS_Invoice_No_z: nan | Order_From_z: nan | Outlet_Name_z: nan | Petpooja_Identifier_z: nan | Order_Type_z: nan | Customer_Name_z: nan | Customer_Phone_z: 9819872420 | Payment_Type_z: nan | Delivery_status_z: nan | Status_z: nan | My_amount_z: nan | Aggregator_Discount_z: nan | Outlet_Discount_z: nan | Delivery_Charges_z: nan | Container_Charges_z: nan | CGST_z: nan | SGST_z: nan | IGST_z: nan | Total_z: nan | Order_Acceptance_Time_z: nan | Order_Delivery_Time_z: nan | Reason_z: nan | Online_Tax_Calculated_z: nan | GST_Paid_by_Merchant_z: nan | GST_Paid_by_Ecommerce_z: nan | Restaurant_'),\n",
              " Document(metadata={}, page_content='_Merchant_z: nan | GST_Paid_by_Ecommerce_z: nan | Restaurant_ID_z: 872420 | Client_Sharing_Code_z: nan | Identifier_z: nan | Order_ID_z: nan | Order_Status_z: nan | Received_Time_z: nan | Accepted_Time_z: nan | Mark_Ready_Time_z: nan | Rider_Arrival_Time_z: nan | Picked_up_Time_z: nan | Delivered_Time_z: nan | Cancelled_Time_z: nan | Date_s: nan | Invoice_Date_s: nan | Aggregator_Order_No_s: nan | PoS_Invoice_No_s: nan | Order_From_s: nan | Outlet_Name_s: nan | Petpooja_Identifier_s: nan | Order_Type_s: nan | Customer_Name_s: nan | Customer_Phone_s: 9819872420 | Payment_Type_s: nan | Delivery_status_s: nan | Status_s: nan | My_amount_s: nan | Aggregator_Discount_s: nan | Outlet_Discount_s: nan | Delivery_Charges_s: nan | Container_Charges_s: nan | CGST_s: nan | SGST_s: nan | IGST_s: nan | Total_s: nan | Order_Acceptance_Time_s: nan | Order_Delivery_Time_s: nan | Reason_s: nan | Online_Tax_Calculated_s: nan | GST_Paid_by_Merchant_s: nan | GST_Paid_by_Ecommerce_s: nan | Restaurant_ID_s: 872420 | Client_Sharing_Code_s: nan | Identifier_s: nan | Order_ID_s: nan | Order_Status_s: nan | Received_Time_s: nan | Accepted_Time_s: nan | Mark_Ready_Time_s: nan | Rider_Arrival_Time_s: nan | Picked_up_Time_s: nan | Delivered_Time_s: nan | Cancelled_Time_s: nan | Customer_Name_ff: nan | Date_of_Birth'),\n",
              " Document(metadata={}, page_content=' nan | Cancelled_Time_s: nan | Customer_Name_ff: nan | Date_of_Birth_ff: nan | Date_of_Anniversary_ff: nan | Customer_Phone_ff: nan | From__ff: nan | Customer_Email_ff: nan | Invoice_Id_ff: nan | Table_No_ff: nan | Order_Type_ff: nan | Answer_ff: nan | Created_ff: nan | Customer_Name_sf: nan | Date_of_Birth_sf: nan | Date_of_Anniversary_sf: nan | Customer_Phone_sf: nan | From__sf: nan | Customer_Email_sf: nan | Invoice_Id_sf: nan | Table_No_sf: nan | Order_Type_sf: nan | Answer_sf: nan | Created_sf: nan | PAX: nan | Biller_BSR: TANMOY  | First_Print_Date_BSR: 2024-08-30 22:13:38 UTC | Last_Settlement_Date_BSR: 2024-08-30 22:15:44 UTC | Duration__In_Minutes_BSR: 2.0 | Settled_By_BSR: vijay ( | area_co: nan | order_cancel_reason_co: nan | Cancelled_Invoice_Total_co: nan | Discount_Order_Type_DSR: nan | Biller_Name: nan | Discount_DSR: nan | Reason_DSR: nan | Food_Preparation_Time_Z: nan | Food_Preparation_Time_S: nan | Zomato_Delivery_Time: nan | Swiggy_Delivery_Time: nan | amount_from: nan | amount_to: nan | modified_by: nan | modify_comment: nan | electron_pos: nan | bill_no: nan | invoice_no: nan | date_orap: nan | has_anomaly: No | anomaly_priority: nan | anomaly_payment_mismatch: 0 | anomaly_missing_payment_info: 0 | anomaly_multiple_payment_types: 0 | anomaly_tax_calculation_mismatch: 0 | anomaly_zero_tax_on_taxable: 0 | anomaly_large_order_modification: 0 | anomaly_modification_'),\n",
              " Document(metadata={}, page_content='_on_taxable: 0 | anomaly_large_order_modification: 0 | anomaly_modification_without_comment: 0 | anomaly_zomato_invoice_mismatch: 0 | anomaly_swiggy_invoice_mismatch: 0 | anomaly_long_zomato_prep_time: 0 | anomaly_long_swiggy_prep_time: 0 | anomaly_zomato_missing_delivery_time: 0 | anomaly_swiggy_missing_delivery_time: 0 | anomaly_high_discount: 0 | anomaly_discount_without_reason: 0 | anomaly_zomato_status_mismatch: 0 | anomaly_swiggy_status_mismatch: 0 | anomaly_extreme_settlement_time: 0 | anomaly_unusual_settlement_time: 0 | anomaly_long_bill_settlement: 0 | anomaly_missing_server_name: 0 | anomaly_zomato_missing_customer: 0 | anomaly_swiggy_missing_customer: 0 | anomaly_suspicious_pax: 0 | anomaly_price_inconsistency: 0 | pattern_risk: Low Risk | reason_pattern_risk: is_card_payment'),\n",
              " Document(metadata={}, page_content='Date: 30-08-2024 | Timestamp: 2024-08-30 22:13:37 UTC | Invoice_No_: 8847 | Payment_Type: CARD | Order_Type: Dine In | Area: Garden Table | Item_Name: Subzi Lahori | Price: 795 | Qty_: 1.0 | Sub_Total: 795.0 | Discount: 0.0 | Tax: 79.6 | Final_Total: 874.6 | Status: Success | Table_No_: G 5 | Server_Name: TANMOY  | Covers: 6 | Variation: nan | Category: INDIAN MAIN COURSE | HSN: nan | Phone: 9819872420 | Name: radhika | Address: nan | GST: nan | Assign_To: TANMOY  | Non_Taxable: 0.0 | CGST_Rate: 2.5 | CGST_Amount: 19.9 | SGST_Rate: 2.5 | SGST_Amount: 19.9 | VAT_Rate: 10 | VAT_Amount: 0.0 | Service_Charge_Rate: 5 | Service_Charge_Amount: 39.8 | Date_z: nan | Invoice_Date_z: nan | Aggregator_Order_No_z: nan | PoS_Invoice_No_z: nan | Order_From_z: nan | Outlet_Name_z: nan | Petpooja_Identifier_z: nan | Order_Type_z: nan | Customer_Name_z: nan | Customer_Phone_z: 9819872420 | Payment_Type_z: nan | Delivery_status_z: nan | Status_z: nan | My_amount_z: nan | Aggregator_Discount_z: nan | Outlet_Discount_z: nan | Delivery_Charges_z: nan | Container_Charges_z: nan | CGST_z: nan | SGST_z: nan | IGST_z: nan | Total_z: nan | Order_Acceptance_Time_z: nan | Order_Delivery_Time_z: nan | Reason_z: nan | Online_Tax_Calculated_z: nan | GST_Paid_by_Merchant_z: nan | GST_Paid_by_Ecommerce_z:'),\n",
              " Document(metadata={}, page_content='Paid_by_Merchant_z: nan | GST_Paid_by_Ecommerce_z: nan | Restaurant_ID_z: 872420 | Client_Sharing_Code_z: nan | Identifier_z: nan | Order_ID_z: nan | Order_Status_z: nan | Received_Time_z: nan | Accepted_Time_z: nan | Mark_Ready_Time_z: nan | Rider_Arrival_Time_z: nan | Picked_up_Time_z: nan | Delivered_Time_z: nan | Cancelled_Time_z: nan | Date_s: nan | Invoice_Date_s: nan | Aggregator_Order_No_s: nan | PoS_Invoice_No_s: nan | Order_From_s: nan | Outlet_Name_s: nan | Petpooja_Identifier_s: nan | Order_Type_s: nan | Customer_Name_s: nan | Customer_Phone_s: 9819872420 | Payment_Type_s: nan | Delivery_status_s: nan | Status_s: nan | My_amount_s: nan | Aggregator_Discount_s: nan | Outlet_Discount_s: nan | Delivery_Charges_s: nan | Container_Charges_s: nan | CGST_s: nan | SGST_s: nan | IGST_s: nan | Total_s: nan | Order_Acceptance_Time_s: nan | Order_Delivery_Time_s: nan | Reason_s: nan | Online_Tax_Calculated_s: nan | GST_Paid_by_Merchant_s: nan | GST_Paid_by_Ecommerce_s: nan | Restaurant_ID_s: 872420 | Client_Sharing_Code_s: nan | Identifier_s: nan | Order_ID_s: nan | Order_Status_s: nan | Received_Time_s: nan | Accepted_Time_s: nan | Mark_Ready_Time_s: nan | Rider_Arrival_Time_s: nan | Picked_up_Time_s: nan | Delivered_Time_s: nan | Cancelled_Time_s: nan | Customer_Name_ff: nan | Date'),\n",
              " Document(metadata={}, page_content='Time_s: nan | Cancelled_Time_s: nan | Customer_Name_ff: nan | Date_of_Birth_ff: nan | Date_of_Anniversary_ff: nan | Customer_Phone_ff: nan | From__ff: nan | Customer_Email_ff: nan | Invoice_Id_ff: nan | Table_No_ff: nan | Order_Type_ff: nan | Answer_ff: nan | Created_ff: nan | Customer_Name_sf: nan | Date_of_Birth_sf: nan | Date_of_Anniversary_sf: nan | Customer_Phone_sf: nan | From__sf: nan | Customer_Email_sf: nan | Invoice_Id_sf: nan | Table_No_sf: nan | Order_Type_sf: nan | Answer_sf: nan | Created_sf: nan | PAX: nan | Biller_BSR: TANMOY  | First_Print_Date_BSR: 2024-08-30 22:13:38 UTC | Last_Settlement_Date_BSR: 2024-08-30 22:15:44 UTC | Duration__In_Minutes_BSR: 2.0 | Settled_By_BSR: vijay ( | area_co: nan | order_cancel_reason_co: nan | Cancelled_Invoice_Total_co: nan | Discount_Order_Type_DSR: nan | Biller_Name: nan | Discount_DSR: nan | Reason_DSR: nan | Food_Preparation_Time_Z: nan | Food_Preparation_Time_S: nan | Zomato_Delivery_Time: nan | Swiggy_Delivery_Time: nan | amount_from: nan | amount_to: nan | modified_by: nan | modify_comment: nan | electron_pos: nan | bill_no: nan | invoice_no: nan | date_orap: nan | has_anomaly: No | anomaly_priority: nan | anomaly_payment_mismatch: 0 | anomaly_missing_payment_info: 0 | anomaly_multiple_payment_types: 0 | anomaly_tax_calculation_mismatch: 0 | anomaly_zero_tax_on_taxable: 0 | anomaly_large_order_modification: 0 | anomaly'),\n",
              " Document(metadata={}, page_content='_zero_tax_on_taxable: 0 | anomaly_large_order_modification: 0 | anomaly_modification_without_comment: 0 | anomaly_zomato_invoice_mismatch: 0 | anomaly_swiggy_invoice_mismatch: 0 | anomaly_long_zomato_prep_time: 0 | anomaly_long_swiggy_prep_time: 0 | anomaly_zomato_missing_delivery_time: 0 | anomaly_swiggy_missing_delivery_time: 0 | anomaly_high_discount: 0 | anomaly_discount_without_reason: 0 | anomaly_zomato_status_mismatch: 0 | anomaly_swiggy_status_mismatch: 0 | anomaly_extreme_settlement_time: 0 | anomaly_unusual_settlement_time: 0 | anomaly_long_bill_settlement: 0 | anomaly_missing_server_name: 0 | anomaly_zomato_missing_customer: 0 | anomaly_swiggy_missing_customer: 0 | anomaly_suspicious_pax: 0 | anomaly_price_inconsistency: 0 | pattern_risk: Low Risk | reason_pattern_risk: is_card_payment'),\n",
              " Document(metadata={}, page_content='Date: 04-10-2024 | Timestamp: 2024-10-04 18:53:25 UTC | Invoice_No_: C1984 | Payment_Type: Cash | Order_Type: Dine In | Area: Garden Table | Item_Name: FRIED RICE (VEG) | Price: 765 | Qty_: 1.0 | Sub_Total: 765.0 | Discount: 0.0 | Tax: 76.5 | Final_Total: 841.5 | Status: Complimentary | Table_No_: G 5 | Server_Name: TAPASH | Covers: 3 | Variation: VEG | Category: ORIENTAL RICE & NOODLES | HSN: nan | Phone: 9843950806 | Name: PHOTO SHOOT | Address: nan | GST: nan | Assign_To: nan | Non_Taxable: 0.0 | CGST_Rate: 2.5 | CGST_Amount: 19.1 | SGST_Rate: 2.5 | SGST_Amount: 19.1 | VAT_Rate: 10 | VAT_Amount: 0.0 | Service_Charge_Rate: 5 | Service_Charge_Amount: 38.3 | Date_z: nan | Invoice_Date_z: nan | Aggregator_Order_No_z: nan | PoS_Invoice_No_z: nan | Order_From_z: nan | Outlet_Name_z: nan | Petpooja_Identifier_z: nan | Order_Type_z: nan | Customer_Name_z: nan | Customer_Phone_z: 9843950806 | Payment_Type_z: nan | Delivery_status_z: nan | Status_z: nan | My_amount_z: nan | Aggregator_Discount_z: nan | Outlet_Discount_z: nan | Delivery_Charges_z: nan | Container_Charges_z: nan | CGST_z: nan | SGST_z: nan | IGST_z: nan | Total_z: nan | Order_Acceptance_Time_z: nan | Order_Delivery_Time_z: nan | Reason_z: nan | Online_Tax_Calculated_z: nan | GST_Paid_by_Merchant_z: nan | GST_Paid_by'),\n",
              " Document(metadata={}, page_content='z: nan | GST_Paid_by_Merchant_z: nan | GST_Paid_by_Ecommerce_z: nan | Restaurant_ID_z: 950806 | Client_Sharing_Code_z: nan | Identifier_z: nan | Order_ID_z: nan | Order_Status_z: nan | Received_Time_z: nan | Accepted_Time_z: nan | Mark_Ready_Time_z: nan | Rider_Arrival_Time_z: nan | Picked_up_Time_z: nan | Delivered_Time_z: nan | Cancelled_Time_z: nan | Date_s: nan | Invoice_Date_s: nan | Aggregator_Order_No_s: nan | PoS_Invoice_No_s: nan | Order_From_s: nan | Outlet_Name_s: nan | Petpooja_Identifier_s: nan | Order_Type_s: nan | Customer_Name_s: nan | Customer_Phone_s: 9843950806 | Payment_Type_s: nan | Delivery_status_s: nan | Status_s: nan | My_amount_s: nan | Aggregator_Discount_s: nan | Outlet_Discount_s: nan | Delivery_Charges_s: nan | Container_Charges_s: nan | CGST_s: nan | SGST_s: nan | IGST_s: nan | Total_s: nan | Order_Acceptance_Time_s: nan | Order_Delivery_Time_s: nan | Reason_s: nan | Online_Tax_Calculated_s: nan | GST_Paid_by_Merchant_s: nan | GST_Paid_by_Ecommerce_s: nan | Restaurant_ID_s: 950806 | Client_Sharing_Code_s: nan | Identifier_s: nan | Order_ID_s: nan | Order_Status_s: nan | Received_Time_s: nan | Accepted_Time_s: nan | Mark_Ready_Time_s: nan | Rider_Arrival_Time_s: nan | Picked_up_Time_s: nan | Delivered_Time_s: nan | Cancelled_Time_s: nan | Customer_Name_'),\n",
              " Document(metadata={}, page_content=' nan | Delivered_Time_s: nan | Cancelled_Time_s: nan | Customer_Name_ff: nan | Date_of_Birth_ff: nan | Date_of_Anniversary_ff: nan | Customer_Phone_ff: nan | From__ff: nan | Customer_Email_ff: nan | Invoice_Id_ff: nan | Table_No_ff: nan | Order_Type_ff: nan | Answer_ff: nan | Created_ff: nan | Customer_Name_sf: nan | Date_of_Birth_sf: nan | Date_of_Anniversary_sf: nan | Customer_Phone_sf: nan | From__sf: nan | Customer_Email_sf: nan | Invoice_Id_sf: nan | Table_No_sf: nan | Order_Type_sf: nan | Answer_sf: nan | Created_sf: nan | PAX: nan | Biller_BSR: nan | First_Print_Date_BSR: nan | Last_Settlement_Date_BSR: nan | Duration__In_Minutes_BSR: nan | Settled_By_BSR: nan | area_co: nan | order_cancel_reason_co: nan | Cancelled_Invoice_Total_co: nan | Discount_Order_Type_DSR: nan | Biller_Name: nan | Discount_DSR: nan | Reason_DSR: nan | Food_Preparation_Time_Z: nan | Food_Preparation_Time_S: nan | Zomato_Delivery_Time: nan | Swiggy_Delivery_Time: nan | amount_from: nan | amount_to: nan | modified_by: nan | modify_comment: nan | electron_pos: nan | bill_no: nan | invoice_no: nan | date_orap: nan | has_anomaly: No | anomaly_priority: nan | anomaly_payment_mismatch: 0 | anomaly_missing_payment_info: 0 | anomaly_multiple_payment_types: 0 | anomaly_tax_calculation_mismatch: 0 | anomaly_zero_tax_on_taxable: 0 | anomaly_large_order_modification: 0 | anomaly_modification_without_comment: 0 | anomaly_zomato_invoice_mismatch: 0'),\n",
              " Document(metadata={}, page_content='_modification_without_comment: 0 | anomaly_zomato_invoice_mismatch: 0 | anomaly_swiggy_invoice_mismatch: 0 | anomaly_long_zomato_prep_time: 0 | anomaly_long_swiggy_prep_time: 0 | anomaly_zomato_missing_delivery_time: 0 | anomaly_swiggy_missing_delivery_time: 0 | anomaly_high_discount: 0 | anomaly_discount_without_reason: 0 | anomaly_zomato_status_mismatch: 0 | anomaly_swiggy_status_mismatch: 0 | anomaly_extreme_settlement_time: 0 | anomaly_unusual_settlement_time: 0 | anomaly_long_bill_settlement: 0 | anomaly_missing_server_name: 0 | anomaly_zomato_missing_customer: 0 | anomaly_swiggy_missing_customer: 0 | anomaly_suspicious_pax: 0 | anomaly_price_inconsistency: 0 | pattern_risk: Low Risk | reason_pattern_risk: is_cash'),\n",
              " Document(metadata={}, page_content='Date: 29-03-2025 | Timestamp: 2025-03-29 22:45:03 UTC | Invoice_No_: 22351 | Payment_Type: Other [ZOMATO PAY] | Order_Type: Dine In | Area: Dine in | Item_Name: French Fries | Price: 300 | Qty_: 1.0 | Sub_Total: 300.0 | Discount: 0.0 | Tax: 15.0 | Final_Total: 315.0 | Status: Success | Table_No_: 30 | Server_Name: SANDEEP | Covers: 9 | Variation: nan | Category: PANTRY | HSN: nan | Phone: 9844043557 | Name: YASH PAREKH | Address: nan | GST: nan | Assign_To: SANDEEP | Non_Taxable: 0.0 | CGST_Rate: 2.5 | CGST_Amount: 7.5 | SGST_Rate: 2.5 | SGST_Amount: 7.5 | VAT_Rate: 10 | VAT_Amount: 0.0 | Service_Charge_Rate: 5 | Service_Charge_Amount: 0.0 | Date_z: nan | Invoice_Date_z: nan | Aggregator_Order_No_z: nan | PoS_Invoice_No_z: nan | Order_From_z: nan | Outlet_Name_z: nan | Petpooja_Identifier_z: nan | Order_Type_z: nan | Customer_Name_z: nan | Customer_Phone_z: 9844043557 | Payment_Type_z: nan | Delivery_status_z: nan | Status_z: nan | My_amount_z: nan | Aggregator_Discount_z: nan | Outlet_Discount_z: nan | Delivery_Charges_z: nan | Container_Charges_z: nan | CGST_z: nan | SGST_z: nan | IGST_z: nan | Total_z: nan | Order_Acceptance_Time_z: nan | Order_Delivery_Time_z: nan | Reason_z: nan | Online_Tax_Calculated_z: nan | GST_Paid_by_Merchant_z: nan | GST_Paid_by_Ecommerce_z:'),\n",
              " Document(metadata={}, page_content='Paid_by_Merchant_z: nan | GST_Paid_by_Ecommerce_z: nan | Restaurant_ID_z: 43557 | Client_Sharing_Code_z: nan | Identifier_z: nan | Order_ID_z: nan | Order_Status_z: nan | Received_Time_z: nan | Accepted_Time_z: nan | Mark_Ready_Time_z: nan | Rider_Arrival_Time_z: nan | Picked_up_Time_z: nan | Delivered_Time_z: nan | Cancelled_Time_z: nan | Date_s: nan | Invoice_Date_s: nan | Aggregator_Order_No_s: nan | PoS_Invoice_No_s: nan | Order_From_s: nan | Outlet_Name_s: nan | Petpooja_Identifier_s: nan | Order_Type_s: nan | Customer_Name_s: nan | Customer_Phone_s: 9844043557 | Payment_Type_s: nan | Delivery_status_s: nan | Status_s: nan | My_amount_s: nan | Aggregator_Discount_s: nan | Outlet_Discount_s: nan | Delivery_Charges_s: nan | Container_Charges_s: nan | CGST_s: nan | SGST_s: nan | IGST_s: nan | Total_s: nan | Order_Acceptance_Time_s: nan | Order_Delivery_Time_s: nan | Reason_s: nan | Online_Tax_Calculated_s: nan | GST_Paid_by_Merchant_s: nan | GST_Paid_by_Ecommerce_s: nan | Restaurant_ID_s: 43557 | Client_Sharing_Code_s: nan | Identifier_s: nan | Order_ID_s: nan | Order_Status_s: nan | Received_Time_s: nan | Accepted_Time_s: nan | Mark_Ready_Time_s: nan | Rider_Arrival_Time_s: nan | Picked_up_Time_s: nan | Delivered_Time_s: nan | Cancelled_Time_s: nan | Customer_Name_ff: nan | Date_'),\n",
              " Document(metadata={}, page_content='_s: nan | Cancelled_Time_s: nan | Customer_Name_ff: nan | Date_of_Birth_ff: nan | Date_of_Anniversary_ff: nan | Customer_Phone_ff: nan | From__ff: nan | Customer_Email_ff: nan | Invoice_Id_ff: nan | Table_No_ff: nan | Order_Type_ff: nan | Answer_ff: nan | Created_ff: nan | Customer_Name_sf: nan | Date_of_Birth_sf: nan | Date_of_Anniversary_sf: nan | Customer_Phone_sf: nan | From__sf: nan | Customer_Email_sf: nan | Invoice_Id_sf: nan | Table_No_sf: nan | Order_Type_sf: nan | Answer_sf: nan | Created_sf: nan | PAX: nan | Biller_BSR: SANDEEP | First_Print_Date_BSR: 2025-03-29 22:45:04 UTC | Last_Settlement_Date_BSR: 2025-03-29 22:54:05 UTC | Duration__In_Minutes_BSR: 9.0 | Settled_By_BSR: vijay ( | area_co: nan | order_cancel_reason_co: nan | Cancelled_Invoice_Total_co: nan | Discount_Order_Type_DSR: nan | Biller_Name: nan | Discount_DSR: nan | Reason_DSR: nan | Food_Preparation_Time_Z: nan | Food_Preparation_Time_S: nan | Zomato_Delivery_Time: nan | Swiggy_Delivery_Time: nan | amount_from: 9801.0 | amount_to: 9335.0 | modified_by: vijay ( | modify_comment: removed sc | electron_pos: 2025-03-29 22:46:42 UTC | bill_no: F22351 | invoice_no: 22351.0 | date_orap: 2025-03-29 22:45:03 UTC | has_anomaly: No | anomaly_priority: nan | anomaly_payment_mismatch: 0 | anomaly_missing_payment_info: 0 | anomaly_multiple_payment_types: 0 | anomaly_tax_calculation'),\n",
              " Document(metadata={}, page_content='missing_payment_info: 0 | anomaly_multiple_payment_types: 0 | anomaly_tax_calculation_mismatch: 0 | anomaly_zero_tax_on_taxable: 0 | anomaly_large_order_modification: 0 | anomaly_modification_without_comment: 0 | anomaly_zomato_invoice_mismatch: 0 | anomaly_swiggy_invoice_mismatch: 0 | anomaly_long_zomato_prep_time: 0 | anomaly_long_swiggy_prep_time: 0 | anomaly_zomato_missing_delivery_time: 0 | anomaly_swiggy_missing_delivery_time: 0 | anomaly_high_discount: 0 | anomaly_discount_without_reason: 0 | anomaly_zomato_status_mismatch: 0 | anomaly_swiggy_status_mismatch: 0 | anomaly_extreme_settlement_time: 0 | anomaly_unusual_settlement_time: 0 | anomaly_long_bill_settlement: 0 | anomaly_missing_server_name: 0 | anomaly_zomato_missing_customer: 0 | anomaly_swiggy_missing_customer: 0 | anomaly_suspicious_pax: 0 | anomaly_price_inconsistency: 0 | pattern_risk: Low Risk | reason_pattern_risk: nan'),\n",
              " Document(metadata={}, page_content='Date: 29-03-2025 | Timestamp: 2025-03-29 22:45:03 UTC | Invoice_No_: 22351 | Payment_Type: Other [ZOMATO PAY] | Order_Type: Dine In | Area: Dine in | Item_Name: Butter Naan | Price: 150 | Qty_: 1.0 | Sub_Total: 150.0 | Discount: 0.0 | Tax: 7.6 | Final_Total: 157.6 | Status: Success | Table_No_: 30 | Server_Name: SANDEEP | Covers: 9 | Variation: nan | Category: TANDOOR BREADS | HSN: nan | Phone: 9844043557 | Name: YASH PAREKH | Address: nan | GST: nan | Assign_To: SANDEEP | Non_Taxable: 0.0 | CGST_Rate: 2.5 | CGST_Amount: 3.8 | SGST_Rate: 2.5 | SGST_Amount: 3.8 | VAT_Rate: 10 | VAT_Amount: 0.0 | Service_Charge_Rate: 5 | Service_Charge_Amount: 0.0 | Date_z: nan | Invoice_Date_z: nan | Aggregator_Order_No_z: nan | PoS_Invoice_No_z: nan | Order_From_z: nan | Outlet_Name_z: nan | Petpooja_Identifier_z: nan | Order_Type_z: nan | Customer_Name_z: nan | Customer_Phone_z: 9844043557 | Payment_Type_z: nan | Delivery_status_z: nan | Status_z: nan | My_amount_z: nan | Aggregator_Discount_z: nan | Outlet_Discount_z: nan | Delivery_Charges_z: nan | Container_Charges_z: nan | CGST_z: nan | SGST_z: nan | IGST_z: nan | Total_z: nan | Order_Acceptance_Time_z: nan | Order_Delivery_Time_z: nan | Reason_z: nan | Online_Tax_Calculated_z: nan | GST_Paid_by_Merchant_z: nan | GST_Paid_by_'),\n",
              " Document(metadata={}, page_content=': nan | GST_Paid_by_Merchant_z: nan | GST_Paid_by_Ecommerce_z: nan | Restaurant_ID_z: 43557 | Client_Sharing_Code_z: nan | Identifier_z: nan | Order_ID_z: nan | Order_Status_z: nan | Received_Time_z: nan | Accepted_Time_z: nan | Mark_Ready_Time_z: nan | Rider_Arrival_Time_z: nan | Picked_up_Time_z: nan | Delivered_Time_z: nan | Cancelled_Time_z: nan | Date_s: nan | Invoice_Date_s: nan | Aggregator_Order_No_s: nan | PoS_Invoice_No_s: nan | Order_From_s: nan | Outlet_Name_s: nan | Petpooja_Identifier_s: nan | Order_Type_s: nan | Customer_Name_s: nan | Customer_Phone_s: 9844043557 | Payment_Type_s: nan | Delivery_status_s: nan | Status_s: nan | My_amount_s: nan | Aggregator_Discount_s: nan | Outlet_Discount_s: nan | Delivery_Charges_s: nan | Container_Charges_s: nan | CGST_s: nan | SGST_s: nan | IGST_s: nan | Total_s: nan | Order_Acceptance_Time_s: nan | Order_Delivery_Time_s: nan | Reason_s: nan | Online_Tax_Calculated_s: nan | GST_Paid_by_Merchant_s: nan | GST_Paid_by_Ecommerce_s: nan | Restaurant_ID_s: 43557 | Client_Sharing_Code_s: nan | Identifier_s: nan | Order_ID_s: nan | Order_Status_s: nan | Received_Time_s: nan | Accepted_Time_s: nan | Mark_Ready_Time_s: nan | Rider_Arrival_Time_s: nan | Picked_up_Time_s: nan | Delivered_Time_s: nan | Cancelled_Time_s: nan | Customer_Name_ff'),\n",
              " Document(metadata={}, page_content=' | Delivered_Time_s: nan | Cancelled_Time_s: nan | Customer_Name_ff: nan | Date_of_Birth_ff: nan | Date_of_Anniversary_ff: nan | Customer_Phone_ff: nan | From__ff: nan | Customer_Email_ff: nan | Invoice_Id_ff: nan | Table_No_ff: nan | Order_Type_ff: nan | Answer_ff: nan | Created_ff: nan | Customer_Name_sf: nan | Date_of_Birth_sf: nan | Date_of_Anniversary_sf: nan | Customer_Phone_sf: nan | From__sf: nan | Customer_Email_sf: nan | Invoice_Id_sf: nan | Table_No_sf: nan | Order_Type_sf: nan | Answer_sf: nan | Created_sf: nan | PAX: nan | Biller_BSR: SANDEEP | First_Print_Date_BSR: 2025-03-29 22:45:04 UTC | Last_Settlement_Date_BSR: 2025-03-29 22:54:05 UTC | Duration__In_Minutes_BSR: 9.0 | Settled_By_BSR: vijay ( | area_co: nan | order_cancel_reason_co: nan | Cancelled_Invoice_Total_co: nan | Discount_Order_Type_DSR: nan | Biller_Name: nan | Discount_DSR: nan | Reason_DSR: nan | Food_Preparation_Time_Z: nan | Food_Preparation_Time_S: nan | Zomato_Delivery_Time: nan | Swiggy_Delivery_Time: nan | amount_from: 9801.0 | amount_to: 9335.0 | modified_by: vijay ( | modify_comment: removed sc | electron_pos: 2025-03-29 22:46:42 UTC | bill_no: F22351 | invoice_no: 22351.0 | date_orap: 2025-03-29 22:45:03 UTC | has_anomaly: No | anomaly_priority: nan | anomaly_payment_mismatch: 0 | anomaly_missing_payment_info: 0 | anomaly_multiple_payment_types: 0 | anomaly'),\n",
              " Document(metadata={}, page_content=': 0 | anomaly_missing_payment_info: 0 | anomaly_multiple_payment_types: 0 | anomaly_tax_calculation_mismatch: 0 | anomaly_zero_tax_on_taxable: 0 | anomaly_large_order_modification: 0 | anomaly_modification_without_comment: 0 | anomaly_zomato_invoice_mismatch: 0 | anomaly_swiggy_invoice_mismatch: 0 | anomaly_long_zomato_prep_time: 0 | anomaly_long_swiggy_prep_time: 0 | anomaly_zomato_missing_delivery_time: 0 | anomaly_swiggy_missing_delivery_time: 0 | anomaly_high_discount: 0 | anomaly_discount_without_reason: 0 | anomaly_zomato_status_mismatch: 0 | anomaly_swiggy_status_mismatch: 0 | anomaly_extreme_settlement_time: 0 | anomaly_unusual_settlement_time: 0 | anomaly_long_bill_settlement: 0 | anomaly_missing_server_name: 0 | anomaly_zomato_missing_customer: 0 | anomaly_swiggy_missing_customer: 0 | anomaly_suspicious_pax: 0 | anomaly_price_inconsistency: 0 | pattern_risk: Low Risk | reason_pattern_risk: nan'),\n",
              " Document(metadata={}, page_content='Date: 04-10-2024 | Timestamp: 2024-10-04 18:53:25 UTC | Invoice_No_: C1984 | Payment_Type: Cash | Order_Type: Dine In | Area: Garden Table | Item_Name: Cottage Cheese With Three Peppers | Price: 795 | Qty_: 1.0 | Sub_Total: 795.0 | Discount: 0.0 | Tax: 79.6 | Final_Total: 874.6 | Status: Complimentary | Table_No_: G 5 | Server_Name: TAPASH | Covers: 3 | Variation: nan | Category: ORIENTAL STARTER | HSN: nan | Phone: 9843950806 | Name: PHOTO SHOOT | Address: nan | GST: nan | Assign_To: nan | Non_Taxable: 0.0 | CGST_Rate: 2.5 | CGST_Amount: 19.9 | SGST_Rate: 2.5 | SGST_Amount: 19.9 | VAT_Rate: 10 | VAT_Amount: 0.0 | Service_Charge_Rate: 5 | Service_Charge_Amount: 39.8 | Date_z: nan | Invoice_Date_z: nan | Aggregator_Order_No_z: nan | PoS_Invoice_No_z: nan | Order_From_z: nan | Outlet_Name_z: nan | Petpooja_Identifier_z: nan | Order_Type_z: nan | Customer_Name_z: nan | Customer_Phone_z: 9843950806 | Payment_Type_z: nan | Delivery_status_z: nan | Status_z: nan | My_amount_z: nan | Aggregator_Discount_z: nan | Outlet_Discount_z: nan | Delivery_Charges_z: nan | Container_Charges_z: nan | CGST_z: nan | SGST_z: nan | IGST_z: nan | Total_z: nan | Order_Acceptance_Time_z: nan | Order_Delivery_Time_z: nan | Reason_z: nan | Online_Tax_Calculated_z: nan | GST_Paid_by_Merchant_z: nan | GST_Paid_by_Ecommerce_z:'),\n",
              " Document(metadata={}, page_content='Paid_by_Merchant_z: nan | GST_Paid_by_Ecommerce_z: nan | Restaurant_ID_z: 950806 | Client_Sharing_Code_z: nan | Identifier_z: nan | Order_ID_z: nan | Order_Status_z: nan | Received_Time_z: nan | Accepted_Time_z: nan | Mark_Ready_Time_z: nan | Rider_Arrival_Time_z: nan | Picked_up_Time_z: nan | Delivered_Time_z: nan | Cancelled_Time_z: nan | Date_s: nan | Invoice_Date_s: nan | Aggregator_Order_No_s: nan | PoS_Invoice_No_s: nan | Order_From_s: nan | Outlet_Name_s: nan | Petpooja_Identifier_s: nan | Order_Type_s: nan | Customer_Name_s: nan | Customer_Phone_s: 9843950806 | Payment_Type_s: nan | Delivery_status_s: nan | Status_s: nan | My_amount_s: nan | Aggregator_Discount_s: nan | Outlet_Discount_s: nan | Delivery_Charges_s: nan | Container_Charges_s: nan | CGST_s: nan | SGST_s: nan | IGST_s: nan | Total_s: nan | Order_Acceptance_Time_s: nan | Order_Delivery_Time_s: nan | Reason_s: nan | Online_Tax_Calculated_s: nan | GST_Paid_by_Merchant_s: nan | GST_Paid_by_Ecommerce_s: nan | Restaurant_ID_s: 950806 | Client_Sharing_Code_s: nan | Identifier_s: nan | Order_ID_s: nan | Order_Status_s: nan | Received_Time_s: nan | Accepted_Time_s: nan | Mark_Ready_Time_s: nan | Rider_Arrival_Time_s: nan | Picked_up_Time_s: nan | Delivered_Time_s: nan | Cancelled_Time_s: nan | Customer_Name_ff: nan | Date_'),\n",
              " Document(metadata={}, page_content='_s: nan | Cancelled_Time_s: nan | Customer_Name_ff: nan | Date_of_Birth_ff: nan | Date_of_Anniversary_ff: nan | Customer_Phone_ff: nan | From__ff: nan | Customer_Email_ff: nan | Invoice_Id_ff: nan | Table_No_ff: nan | Order_Type_ff: nan | Answer_ff: nan | Created_ff: nan | Customer_Name_sf: nan | Date_of_Birth_sf: nan | Date_of_Anniversary_sf: nan | Customer_Phone_sf: nan | From__sf: nan | Customer_Email_sf: nan | Invoice_Id_sf: nan | Table_No_sf: nan | Order_Type_sf: nan | Answer_sf: nan | Created_sf: nan | PAX: nan | Biller_BSR: nan | First_Print_Date_BSR: nan | Last_Settlement_Date_BSR: nan | Duration__In_Minutes_BSR: nan | Settled_By_BSR: nan | area_co: nan | order_cancel_reason_co: nan | Cancelled_Invoice_Total_co: nan | Discount_Order_Type_DSR: nan | Biller_Name: nan | Discount_DSR: nan | Reason_DSR: nan | Food_Preparation_Time_Z: nan | Food_Preparation_Time_S: nan | Zomato_Delivery_Time: nan | Swiggy_Delivery_Time: nan | amount_from: nan | amount_to: nan | modified_by: nan | modify_comment: nan | electron_pos: nan | bill_no: nan | invoice_no: nan | date_orap: nan | has_anomaly: No | anomaly_priority: nan | anomaly_payment_mismatch: 0 | anomaly_missing_payment_info: 0 | anomaly_multiple_payment_types: 0 | anomaly_tax_calculation_mismatch: 0 | anomaly_zero_tax_on_taxable: 0 | anomaly_large_order_modification: 0 | anomaly_modification_without_comment: 0 | anomaly_zomato_invoice_mismatch: 0 | anomaly_swiggy'),\n",
              " Document(metadata={}, page_content='comment: 0 | anomaly_zomato_invoice_mismatch: 0 | anomaly_swiggy_invoice_mismatch: 0 | anomaly_long_zomato_prep_time: 0 | anomaly_long_swiggy_prep_time: 0 | anomaly_zomato_missing_delivery_time: 0 | anomaly_swiggy_missing_delivery_time: 0 | anomaly_high_discount: 0 | anomaly_discount_without_reason: 0 | anomaly_zomato_status_mismatch: 0 | anomaly_swiggy_status_mismatch: 0 | anomaly_extreme_settlement_time: 0 | anomaly_unusual_settlement_time: 0 | anomaly_long_bill_settlement: 0 | anomaly_missing_server_name: 0 | anomaly_zomato_missing_customer: 0 | anomaly_swiggy_missing_customer: 0 | anomaly_suspicious_pax: 0 | anomaly_price_inconsistency: 0 | pattern_risk: Low Risk | reason_pattern_risk: is_cash'),\n",
              " Document(metadata={}, page_content='Date: 30-10-2024 | Timestamp: 2024-10-30 15:25:36 UTC | Invoice_No_: 12615 | Payment_Type: CARD | Order_Type: Dine In | Area: Dine in | Item_Name: Dim Sum (VEG) | Price: 725 | Qty_: 1.0 | Sub_Total: 725.0 | Discount: 0.0 | Tax: 72.5 | Final_Total: 797.5 | Status: Success | Table_No_: 15 | Server_Name: TANMOY  | Covers: 5 | Variation: VEG | Category: ORIENTAL STARTER | HSN: nan | Phone: 9813566106 | Name: DR RAJSHREE | Address: nan | GST: nan | Assign_To: TANMOY  | Non_Taxable: 0.0 | CGST_Rate: 2.5 | CGST_Amount: 18.1 | SGST_Rate: 2.5 | SGST_Amount: 18.1 | VAT_Rate: 10 | VAT_Amount: 0.0 | Service_Charge_Rate: 5 | Service_Charge_Amount: 36.3 | Date_z: nan | Invoice_Date_z: nan | Aggregator_Order_No_z: nan | PoS_Invoice_No_z: nan | Order_From_z: nan | Outlet_Name_z: nan | Petpooja_Identifier_z: nan | Order_Type_z: nan | Customer_Name_z: nan | Customer_Phone_z: 9813566106 | Payment_Type_z: nan | Delivery_status_z: nan | Status_z: nan | My_amount_z: nan | Aggregator_Discount_z: nan | Outlet_Discount_z: nan | Delivery_Charges_z: nan | Container_Charges_z: nan | CGST_z: nan | SGST_z: nan | IGST_z: nan | Total_z: nan | Order_Acceptance_Time_z: nan | Order_Delivery_Time_z: nan | Reason_z: nan | Online_Tax_Calculated_z: nan | GST_Paid_by_Merchant_z: nan | GST_Paid_by_E'),\n",
              " Document(metadata={}, page_content=' nan | GST_Paid_by_Merchant_z: nan | GST_Paid_by_Ecommerce_z: nan | Restaurant_ID_z: 566106 | Client_Sharing_Code_z: nan | Identifier_z: nan | Order_ID_z: nan | Order_Status_z: nan | Received_Time_z: nan | Accepted_Time_z: nan | Mark_Ready_Time_z: nan | Rider_Arrival_Time_z: nan | Picked_up_Time_z: nan | Delivered_Time_z: nan | Cancelled_Time_z: nan | Date_s: nan | Invoice_Date_s: nan | Aggregator_Order_No_s: nan | PoS_Invoice_No_s: nan | Order_From_s: nan | Outlet_Name_s: nan | Petpooja_Identifier_s: nan | Order_Type_s: nan | Customer_Name_s: nan | Customer_Phone_s: 9813566106 | Payment_Type_s: nan | Delivery_status_s: nan | Status_s: nan | My_amount_s: nan | Aggregator_Discount_s: nan | Outlet_Discount_s: nan | Delivery_Charges_s: nan | Container_Charges_s: nan | CGST_s: nan | SGST_s: nan | IGST_s: nan | Total_s: nan | Order_Acceptance_Time_s: nan | Order_Delivery_Time_s: nan | Reason_s: nan | Online_Tax_Calculated_s: nan | GST_Paid_by_Merchant_s: nan | GST_Paid_by_Ecommerce_s: nan | Restaurant_ID_s: 566106 | Client_Sharing_Code_s: nan | Identifier_s: nan | Order_ID_s: nan | Order_Status_s: nan | Received_Time_s: nan | Accepted_Time_s: nan | Mark_Ready_Time_s: nan | Rider_Arrival_Time_s: nan | Picked_up_Time_s: nan | Delivered_Time_s: nan | Cancelled_Time_s: nan | Customer_Name_ff'),\n",
              " Document(metadata={}, page_content=' | Delivered_Time_s: nan | Cancelled_Time_s: nan | Customer_Name_ff: nan | Date_of_Birth_ff: nan | Date_of_Anniversary_ff: nan | Customer_Phone_ff: nan | From__ff: nan | Customer_Email_ff: nan | Invoice_Id_ff: nan | Table_No_ff: nan | Order_Type_ff: nan | Answer_ff: nan | Created_ff: nan | Customer_Name_sf: nan | Date_of_Birth_sf: nan | Date_of_Anniversary_sf: nan | Customer_Phone_sf: nan | From__sf: nan | Customer_Email_sf: nan | Invoice_Id_sf: nan | Table_No_sf: nan | Order_Type_sf: nan | Answer_sf: nan | Created_sf: nan | PAX: nan | Biller_BSR: TANMOY  | First_Print_Date_BSR: 2024-10-30 15:25:37 UTC | Last_Settlement_Date_BSR: 2024-10-30 15:42:08 UTC | Duration__In_Minutes_BSR: 16.0 | Settled_By_BSR: vijay ( | area_co: nan | order_cancel_reason_co: nan | Cancelled_Invoice_Total_co: nan | Discount_Order_Type_DSR: nan | Biller_Name: nan | Discount_DSR: nan | Reason_DSR: nan | Food_Preparation_Time_Z: nan | Food_Preparation_Time_S: nan | Zomato_Delivery_Time: nan | Swiggy_Delivery_Time: nan | amount_from: nan | amount_to: nan | modified_by: nan | modify_comment: nan | electron_pos: nan | bill_no: nan | invoice_no: nan | date_orap: nan | has_anomaly: Yes | anomaly_priority: Medium | anomaly_payment_mismatch: 0 | anomaly_missing_payment_info: 0 | anomaly_multiple_payment_types: 0 | anomaly_tax_calculation_mismatch: 0 | anomaly_zero_tax_on_taxable: 0 | anomaly_large_order_modification'),\n",
              " Document(metadata={}, page_content=': 0 | anomaly_zero_tax_on_taxable: 0 | anomaly_large_order_modification: 0 | anomaly_modification_without_comment: 0 | anomaly_zomato_invoice_mismatch: 0 | anomaly_swiggy_invoice_mismatch: 0 | anomaly_long_zomato_prep_time: 0 | anomaly_long_swiggy_prep_time: 0 | anomaly_zomato_missing_delivery_time: 0 | anomaly_swiggy_missing_delivery_time: 0 | anomaly_high_discount: 0 | anomaly_discount_without_reason: 0 | anomaly_zomato_status_mismatch: 0 | anomaly_swiggy_status_mismatch: 0 | anomaly_extreme_settlement_time: 0 | anomaly_unusual_settlement_time: 1 | anomaly_long_bill_settlement: 0 | anomaly_missing_server_name: 0 | anomaly_zomato_missing_customer: 0 | anomaly_swiggy_missing_customer: 0 | anomaly_suspicious_pax: 0 | anomaly_price_inconsistency: 0 | pattern_risk: Low Risk | reason_pattern_risk: is_card_payment'),\n",
              " Document(metadata={}, page_content='Date: 04-10-2024 | Timestamp: 2024-10-04 18:53:25 UTC | Invoice_No_: C1984 | Payment_Type: Cash | Order_Type: Dine In | Area: Garden Table | Item_Name: Amritsari Dal | Price: 525 | Qty_: 1.0 | Sub_Total: 525.0 | Discount: 0.0 | Tax: 52.5 | Final_Total: 577.5 | Status: Complimentary | Table_No_: G 5 | Server_Name: TAPASH | Covers: 3 | Variation: nan | Category: INDIAN MAIN COURSE | HSN: nan | Phone: 9843950806 | Name: PHOTO SHOOT | Address: nan | GST: nan | Assign_To: nan | Non_Taxable: 0.0 | CGST_Rate: 2.5 | CGST_Amount: 13.1 | SGST_Rate: 2.5 | SGST_Amount: 13.1 | VAT_Rate: 10 | VAT_Amount: 0.0 | Service_Charge_Rate: 5 | Service_Charge_Amount: 26.3 | Date_z: nan | Invoice_Date_z: nan | Aggregator_Order_No_z: nan | PoS_Invoice_No_z: nan | Order_From_z: nan | Outlet_Name_z: nan | Petpooja_Identifier_z: nan | Order_Type_z: nan | Customer_Name_z: nan | Customer_Phone_z: 9843950806 | Payment_Type_z: nan | Delivery_status_z: nan | Status_z: nan | My_amount_z: nan | Aggregator_Discount_z: nan | Outlet_Discount_z: nan | Delivery_Charges_z: nan | Container_Charges_z: nan | CGST_z: nan | SGST_z: nan | IGST_z: nan | Total_z: nan | Order_Acceptance_Time_z: nan | Order_Delivery_Time_z: nan | Reason_z: nan | Online_Tax_Calculated_z: nan | GST_Paid_by_Merchant_z: nan | GST_Paid_by_Ecommerce_z: nan | Restaurant'),\n",
              " Document(metadata={}, page_content='by_Merchant_z: nan | GST_Paid_by_Ecommerce_z: nan | Restaurant_ID_z: 950806 | Client_Sharing_Code_z: nan | Identifier_z: nan | Order_ID_z: nan | Order_Status_z: nan | Received_Time_z: nan | Accepted_Time_z: nan | Mark_Ready_Time_z: nan | Rider_Arrival_Time_z: nan | Picked_up_Time_z: nan | Delivered_Time_z: nan | Cancelled_Time_z: nan | Date_s: nan | Invoice_Date_s: nan | Aggregator_Order_No_s: nan | PoS_Invoice_No_s: nan | Order_From_s: nan | Outlet_Name_s: nan | Petpooja_Identifier_s: nan | Order_Type_s: nan | Customer_Name_s: nan | Customer_Phone_s: 9843950806 | Payment_Type_s: nan | Delivery_status_s: nan | Status_s: nan | My_amount_s: nan | Aggregator_Discount_s: nan | Outlet_Discount_s: nan | Delivery_Charges_s: nan | Container_Charges_s: nan | CGST_s: nan | SGST_s: nan | IGST_s: nan | Total_s: nan | Order_Acceptance_Time_s: nan | Order_Delivery_Time_s: nan | Reason_s: nan | Online_Tax_Calculated_s: nan | GST_Paid_by_Merchant_s: nan | GST_Paid_by_Ecommerce_s: nan | Restaurant_ID_s: 950806 | Client_Sharing_Code_s: nan | Identifier_s: nan | Order_ID_s: nan | Order_Status_s: nan | Received_Time_s: nan | Accepted_Time_s: nan | Mark_Ready_Time_s: nan | Rider_Arrival_Time_s: nan | Picked_up_Time_s: nan | Delivered_Time_s: nan | Cancelled_Time_s: nan | Customer_Name_ff: nan | Date_of_Birth'),\n",
              " Document(metadata={}, page_content=' nan | Cancelled_Time_s: nan | Customer_Name_ff: nan | Date_of_Birth_ff: nan | Date_of_Anniversary_ff: nan | Customer_Phone_ff: nan | From__ff: nan | Customer_Email_ff: nan | Invoice_Id_ff: nan | Table_No_ff: nan | Order_Type_ff: nan | Answer_ff: nan | Created_ff: nan | Customer_Name_sf: nan | Date_of_Birth_sf: nan | Date_of_Anniversary_sf: nan | Customer_Phone_sf: nan | From__sf: nan | Customer_Email_sf: nan | Invoice_Id_sf: nan | Table_No_sf: nan | Order_Type_sf: nan | Answer_sf: nan | Created_sf: nan | PAX: nan | Biller_BSR: nan | First_Print_Date_BSR: nan | Last_Settlement_Date_BSR: nan | Duration__In_Minutes_BSR: nan | Settled_By_BSR: nan | area_co: nan | order_cancel_reason_co: nan | Cancelled_Invoice_Total_co: nan | Discount_Order_Type_DSR: nan | Biller_Name: nan | Discount_DSR: nan | Reason_DSR: nan | Food_Preparation_Time_Z: nan | Food_Preparation_Time_S: nan | Zomato_Delivery_Time: nan | Swiggy_Delivery_Time: nan | amount_from: nan | amount_to: nan | modified_by: nan | modify_comment: nan | electron_pos: nan | bill_no: nan | invoice_no: nan | date_orap: nan | has_anomaly: No | anomaly_priority: nan | anomaly_payment_mismatch: 0 | anomaly_missing_payment_info: 0 | anomaly_multiple_payment_types: 0 | anomaly_tax_calculation_mismatch: 0 | anomaly_zero_tax_on_taxable: 0 | anomaly_large_order_modification: 0 | anomaly_modification_without_comment: 0 | anomaly_zomato_invoice_mismatch: 0 | anomaly_swiggy_invoice'),\n",
              " Document(metadata={}, page_content=' | anomaly_zomato_invoice_mismatch: 0 | anomaly_swiggy_invoice_mismatch: 0 | anomaly_long_zomato_prep_time: 0 | anomaly_long_swiggy_prep_time: 0 | anomaly_zomato_missing_delivery_time: 0 | anomaly_swiggy_missing_delivery_time: 0 | anomaly_high_discount: 0 | anomaly_discount_without_reason: 0 | anomaly_zomato_status_mismatch: 0 | anomaly_swiggy_status_mismatch: 0 | anomaly_extreme_settlement_time: 0 | anomaly_unusual_settlement_time: 0 | anomaly_long_bill_settlement: 0 | anomaly_missing_server_name: 0 | anomaly_zomato_missing_customer: 0 | anomaly_swiggy_missing_customer: 0 | anomaly_suspicious_pax: 0 | anomaly_price_inconsistency: 0 | pattern_risk: Low Risk | reason_pattern_risk: is_cash'),\n",
              " Document(metadata={}, page_content='Date: 30-08-2024 | Timestamp: 2024-08-30 22:13:37 UTC | Invoice_No_: 8847 | Payment_Type: CARD | Order_Type: Dine In | Area: Garden Table | Item_Name: Butter Naan | Price: 150 | Qty_: 1.0 | Sub_Total: 150.0 | Discount: 0.0 | Tax: 15.1 | Final_Total: 165.1 | Status: Success | Table_No_: G 5 | Server_Name: TANMOY  | Covers: 6 | Variation: nan | Category: TANDOOR BREADS | HSN: nan | Phone: 9819872420 | Name: radhika | Address: nan | GST: nan | Assign_To: TANMOY  | Non_Taxable: 0.0 | CGST_Rate: 2.5 | CGST_Amount: 3.8 | SGST_Rate: 2.5 | SGST_Amount: 3.8 | VAT_Rate: 10 | VAT_Amount: 0.0 | Service_Charge_Rate: 5 | Service_Charge_Amount: 7.5 | Date_z: nan | Invoice_Date_z: nan | Aggregator_Order_No_z: nan | PoS_Invoice_No_z: nan | Order_From_z: nan | Outlet_Name_z: nan | Petpooja_Identifier_z: nan | Order_Type_z: nan | Customer_Name_z: nan | Customer_Phone_z: 9819872420 | Payment_Type_z: nan | Delivery_status_z: nan | Status_z: nan | My_amount_z: nan | Aggregator_Discount_z: nan | Outlet_Discount_z: nan | Delivery_Charges_z: nan | Container_Charges_z: nan | CGST_z: nan | SGST_z: nan | IGST_z: nan | Total_z: nan | Order_Acceptance_Time_z: nan | Order_Delivery_Time_z: nan | Reason_z: nan | Online_Tax_Calculated_z: nan | GST_Paid_by_Merchant_z: nan | GST_Paid_by_Ecommerce_z: nan | Restaurant'),\n",
              " Document(metadata={}, page_content='by_Merchant_z: nan | GST_Paid_by_Ecommerce_z: nan | Restaurant_ID_z: 872420 | Client_Sharing_Code_z: nan | Identifier_z: nan | Order_ID_z: nan | Order_Status_z: nan | Received_Time_z: nan | Accepted_Time_z: nan | Mark_Ready_Time_z: nan | Rider_Arrival_Time_z: nan | Picked_up_Time_z: nan | Delivered_Time_z: nan | Cancelled_Time_z: nan | Date_s: nan | Invoice_Date_s: nan | Aggregator_Order_No_s: nan | PoS_Invoice_No_s: nan | Order_From_s: nan | Outlet_Name_s: nan | Petpooja_Identifier_s: nan | Order_Type_s: nan | Customer_Name_s: nan | Customer_Phone_s: 9819872420 | Payment_Type_s: nan | Delivery_status_s: nan | Status_s: nan | My_amount_s: nan | Aggregator_Discount_s: nan | Outlet_Discount_s: nan | Delivery_Charges_s: nan | Container_Charges_s: nan | CGST_s: nan | SGST_s: nan | IGST_s: nan | Total_s: nan | Order_Acceptance_Time_s: nan | Order_Delivery_Time_s: nan | Reason_s: nan | Online_Tax_Calculated_s: nan | GST_Paid_by_Merchant_s: nan | GST_Paid_by_Ecommerce_s: nan | Restaurant_ID_s: 872420 | Client_Sharing_Code_s: nan | Identifier_s: nan | Order_ID_s: nan | Order_Status_s: nan | Received_Time_s: nan | Accepted_Time_s: nan | Mark_Ready_Time_s: nan | Rider_Arrival_Time_s: nan | Picked_up_Time_s: nan | Delivered_Time_s: nan | Cancelled_Time_s: nan | Customer_Name_ff: nan | Date_of_'),\n",
              " Document(metadata={}, page_content=': nan | Cancelled_Time_s: nan | Customer_Name_ff: nan | Date_of_Birth_ff: nan | Date_of_Anniversary_ff: nan | Customer_Phone_ff: nan | From__ff: nan | Customer_Email_ff: nan | Invoice_Id_ff: nan | Table_No_ff: nan | Order_Type_ff: nan | Answer_ff: nan | Created_ff: nan | Customer_Name_sf: nan | Date_of_Birth_sf: nan | Date_of_Anniversary_sf: nan | Customer_Phone_sf: nan | From__sf: nan | Customer_Email_sf: nan | Invoice_Id_sf: nan | Table_No_sf: nan | Order_Type_sf: nan | Answer_sf: nan | Created_sf: nan | PAX: nan | Biller_BSR: TANMOY  | First_Print_Date_BSR: 2024-08-30 22:13:38 UTC | Last_Settlement_Date_BSR: 2024-08-30 22:15:44 UTC | Duration__In_Minutes_BSR: 2.0 | Settled_By_BSR: vijay ( | area_co: nan | order_cancel_reason_co: nan | Cancelled_Invoice_Total_co: nan | Discount_Order_Type_DSR: nan | Biller_Name: nan | Discount_DSR: nan | Reason_DSR: nan | Food_Preparation_Time_Z: nan | Food_Preparation_Time_S: nan | Zomato_Delivery_Time: nan | Swiggy_Delivery_Time: nan | amount_from: nan | amount_to: nan | modified_by: nan | modify_comment: nan | electron_pos: nan | bill_no: nan | invoice_no: nan | date_orap: nan | has_anomaly: No | anomaly_priority: nan | anomaly_payment_mismatch: 0 | anomaly_missing_payment_info: 0 | anomaly_multiple_payment_types: 0 | anomaly_tax_calculation_mismatch: 0 | anomaly_zero_tax_on_taxable: 0 | anomaly_large_order_modification: 0 | anomaly_modification'),\n",
              " Document(metadata={}, page_content='tax_on_taxable: 0 | anomaly_large_order_modification: 0 | anomaly_modification_without_comment: 0 | anomaly_zomato_invoice_mismatch: 0 | anomaly_swiggy_invoice_mismatch: 0 | anomaly_long_zomato_prep_time: 0 | anomaly_long_swiggy_prep_time: 0 | anomaly_zomato_missing_delivery_time: 0 | anomaly_swiggy_missing_delivery_time: 0 | anomaly_high_discount: 0 | anomaly_discount_without_reason: 0 | anomaly_zomato_status_mismatch: 0 | anomaly_swiggy_status_mismatch: 0 | anomaly_extreme_settlement_time: 0 | anomaly_unusual_settlement_time: 0 | anomaly_long_bill_settlement: 0 | anomaly_missing_server_name: 0 | anomaly_zomato_missing_customer: 0 | anomaly_swiggy_missing_customer: 0 | anomaly_suspicious_pax: 0 | anomaly_price_inconsistency: 0 | pattern_risk: Low Risk | reason_pattern_risk: is_card_payment'),\n",
              " Document(metadata={}, page_content='Date: 30-08-2024 | Timestamp: 2024-08-30 22:13:37 UTC | Invoice_No_: 8847 | Payment_Type: CARD | Order_Type: Dine In | Area: Garden Table | Item_Name: Mushroom Galauti | Price: 795 | Qty_: 1.0 | Sub_Total: 795.0 | Discount: 0.0 | Tax: 79.6 | Final_Total: 874.6 | Status: Success | Table_No_: G 5 | Server_Name: TANMOY  | Covers: 6 | Variation: nan | Category: TANDOOR STARTER | HSN: nan | Phone: 9819872420 | Name: radhika | Address: nan | GST: nan | Assign_To: TANMOY  | Non_Taxable: 0.0 | CGST_Rate: 2.5 | CGST_Amount: 19.9 | SGST_Rate: 2.5 | SGST_Amount: 19.9 | VAT_Rate: 10 | VAT_Amount: 0.0 | Service_Charge_Rate: 5 | Service_Charge_Amount: 39.8 | Date_z: nan | Invoice_Date_z: nan | Aggregator_Order_No_z: nan | PoS_Invoice_No_z: nan | Order_From_z: nan | Outlet_Name_z: nan | Petpooja_Identifier_z: nan | Order_Type_z: nan | Customer_Name_z: nan | Customer_Phone_z: 9819872420 | Payment_Type_z: nan | Delivery_status_z: nan | Status_z: nan | My_amount_z: nan | Aggregator_Discount_z: nan | Outlet_Discount_z: nan | Delivery_Charges_z: nan | Container_Charges_z: nan | CGST_z: nan | SGST_z: nan | IGST_z: nan | Total_z: nan | Order_Acceptance_Time_z: nan | Order_Delivery_Time_z: nan | Reason_z: nan | Online_Tax_Calculated_z: nan | GST_Paid_by_Merchant_z: nan | GST_Paid_by_Ecommerce_z:'),\n",
              " Document(metadata={}, page_content='Paid_by_Merchant_z: nan | GST_Paid_by_Ecommerce_z: nan | Restaurant_ID_z: 872420 | Client_Sharing_Code_z: nan | Identifier_z: nan | Order_ID_z: nan | Order_Status_z: nan | Received_Time_z: nan | Accepted_Time_z: nan | Mark_Ready_Time_z: nan | Rider_Arrival_Time_z: nan | Picked_up_Time_z: nan | Delivered_Time_z: nan | Cancelled_Time_z: nan | Date_s: nan | Invoice_Date_s: nan | Aggregator_Order_No_s: nan | PoS_Invoice_No_s: nan | Order_From_s: nan | Outlet_Name_s: nan | Petpooja_Identifier_s: nan | Order_Type_s: nan | Customer_Name_s: nan | Customer_Phone_s: 9819872420 | Payment_Type_s: nan | Delivery_status_s: nan | Status_s: nan | My_amount_s: nan | Aggregator_Discount_s: nan | Outlet_Discount_s: nan | Delivery_Charges_s: nan | Container_Charges_s: nan | CGST_s: nan | SGST_s: nan | IGST_s: nan | Total_s: nan | Order_Acceptance_Time_s: nan | Order_Delivery_Time_s: nan | Reason_s: nan | Online_Tax_Calculated_s: nan | GST_Paid_by_Merchant_s: nan | GST_Paid_by_Ecommerce_s: nan | Restaurant_ID_s: 872420 | Client_Sharing_Code_s: nan | Identifier_s: nan | Order_ID_s: nan | Order_Status_s: nan | Received_Time_s: nan | Accepted_Time_s: nan | Mark_Ready_Time_s: nan | Rider_Arrival_Time_s: nan | Picked_up_Time_s: nan | Delivered_Time_s: nan | Cancelled_Time_s: nan | Customer_Name_ff: nan | Date'),\n",
              " Document(metadata={}, page_content='Time_s: nan | Cancelled_Time_s: nan | Customer_Name_ff: nan | Date_of_Birth_ff: nan | Date_of_Anniversary_ff: nan | Customer_Phone_ff: nan | From__ff: nan | Customer_Email_ff: nan | Invoice_Id_ff: nan | Table_No_ff: nan | Order_Type_ff: nan | Answer_ff: nan | Created_ff: nan | Customer_Name_sf: nan | Date_of_Birth_sf: nan | Date_of_Anniversary_sf: nan | Customer_Phone_sf: nan | From__sf: nan | Customer_Email_sf: nan | Invoice_Id_sf: nan | Table_No_sf: nan | Order_Type_sf: nan | Answer_sf: nan | Created_sf: nan | PAX: nan | Biller_BSR: TANMOY  | First_Print_Date_BSR: 2024-08-30 22:13:38 UTC | Last_Settlement_Date_BSR: 2024-08-30 22:15:44 UTC | Duration__In_Minutes_BSR: 2.0 | Settled_By_BSR: vijay ( | area_co: nan | order_cancel_reason_co: nan | Cancelled_Invoice_Total_co: nan | Discount_Order_Type_DSR: nan | Biller_Name: nan | Discount_DSR: nan | Reason_DSR: nan | Food_Preparation_Time_Z: nan | Food_Preparation_Time_S: nan | Zomato_Delivery_Time: nan | Swiggy_Delivery_Time: nan | amount_from: nan | amount_to: nan | modified_by: nan | modify_comment: nan | electron_pos: nan | bill_no: nan | invoice_no: nan | date_orap: nan | has_anomaly: No | anomaly_priority: nan | anomaly_payment_mismatch: 0 | anomaly_missing_payment_info: 0 | anomaly_multiple_payment_types: 0 | anomaly_tax_calculation_mismatch: 0 | anomaly_zero_tax_on_taxable: 0 | anomaly_large_order_modification: 0 | anomaly'),\n",
              " Document(metadata={}, page_content='_zero_tax_on_taxable: 0 | anomaly_large_order_modification: 0 | anomaly_modification_without_comment: 0 | anomaly_zomato_invoice_mismatch: 0 | anomaly_swiggy_invoice_mismatch: 0 | anomaly_long_zomato_prep_time: 0 | anomaly_long_swiggy_prep_time: 0 | anomaly_zomato_missing_delivery_time: 0 | anomaly_swiggy_missing_delivery_time: 0 | anomaly_high_discount: 0 | anomaly_discount_without_reason: 0 | anomaly_zomato_status_mismatch: 0 | anomaly_swiggy_status_mismatch: 0 | anomaly_extreme_settlement_time: 0 | anomaly_unusual_settlement_time: 0 | anomaly_long_bill_settlement: 0 | anomaly_missing_server_name: 0 | anomaly_zomato_missing_customer: 0 | anomaly_swiggy_missing_customer: 0 | anomaly_suspicious_pax: 0 | anomaly_price_inconsistency: 0 | pattern_risk: Low Risk | reason_pattern_risk: is_card_payment'),\n",
              " Document(metadata={}, page_content='Date: 29-03-2025 | Timestamp: 2025-03-29 22:45:03 UTC | Invoice_No_: 22351 | Payment_Type: Other [ZOMATO PAY] | Order_Type: Dine In | Area: Dine in | Item_Name: BUTTER GARLIC NAAN | Price: 165 | Qty_: 1.0 | Sub_Total: 165.0 | Discount: 0.0 | Tax: 8.2 | Final_Total: 173.2 | Status: Success | Table_No_: 30 | Server_Name: SANDEEP | Covers: 9 | Variation: nan | Category: TANDOOR BREADS | HSN: nan | Phone: 9844043557 | Name: YASH PAREKH | Address: nan | GST: nan | Assign_To: SANDEEP | Non_Taxable: 0.0 | CGST_Rate: 2.5 | CGST_Amount: 4.1 | SGST_Rate: 2.5 | SGST_Amount: 4.1 | VAT_Rate: 10 | VAT_Amount: 0.0 | Service_Charge_Rate: 5 | Service_Charge_Amount: 0.0 | Date_z: nan | Invoice_Date_z: nan | Aggregator_Order_No_z: nan | PoS_Invoice_No_z: nan | Order_From_z: nan | Outlet_Name_z: nan | Petpooja_Identifier_z: nan | Order_Type_z: nan | Customer_Name_z: nan | Customer_Phone_z: 9844043557 | Payment_Type_z: nan | Delivery_status_z: nan | Status_z: nan | My_amount_z: nan | Aggregator_Discount_z: nan | Outlet_Discount_z: nan | Delivery_Charges_z: nan | Container_Charges_z: nan | CGST_z: nan | SGST_z: nan | IGST_z: nan | Total_z: nan | Order_Acceptance_Time_z: nan | Order_Delivery_Time_z: nan | Reason_z: nan | Online_Tax_Calculated_z: nan | GST_Paid_by_Merchant_z: nan | GST_'),\n",
              " Document(metadata={}, page_content='_Calculated_z: nan | GST_Paid_by_Merchant_z: nan | GST_Paid_by_Ecommerce_z: nan | Restaurant_ID_z: 43557 | Client_Sharing_Code_z: nan | Identifier_z: nan | Order_ID_z: nan | Order_Status_z: nan | Received_Time_z: nan | Accepted_Time_z: nan | Mark_Ready_Time_z: nan | Rider_Arrival_Time_z: nan | Picked_up_Time_z: nan | Delivered_Time_z: nan | Cancelled_Time_z: nan | Date_s: nan | Invoice_Date_s: nan | Aggregator_Order_No_s: nan | PoS_Invoice_No_s: nan | Order_From_s: nan | Outlet_Name_s: nan | Petpooja_Identifier_s: nan | Order_Type_s: nan | Customer_Name_s: nan | Customer_Phone_s: 9844043557 | Payment_Type_s: nan | Delivery_status_s: nan | Status_s: nan | My_amount_s: nan | Aggregator_Discount_s: nan | Outlet_Discount_s: nan | Delivery_Charges_s: nan | Container_Charges_s: nan | CGST_s: nan | SGST_s: nan | IGST_s: nan | Total_s: nan | Order_Acceptance_Time_s: nan | Order_Delivery_Time_s: nan | Reason_s: nan | Online_Tax_Calculated_s: nan | GST_Paid_by_Merchant_s: nan | GST_Paid_by_Ecommerce_s: nan | Restaurant_ID_s: 43557 | Client_Sharing_Code_s: nan | Identifier_s: nan | Order_ID_s: nan | Order_Status_s: nan | Received_Time_s: nan | Accepted_Time_s: nan | Mark_Ready_Time_s: nan | Rider_Arrival_Time_s: nan | Picked_up_Time_s: nan | Delivered_Time_s: nan | Cancelled_Time_s: nan |'),\n",
              " Document(metadata={}, page_content='Time_s: nan | Delivered_Time_s: nan | Cancelled_Time_s: nan | Customer_Name_ff: nan | Date_of_Birth_ff: nan | Date_of_Anniversary_ff: nan | Customer_Phone_ff: nan | From__ff: nan | Customer_Email_ff: nan | Invoice_Id_ff: nan | Table_No_ff: nan | Order_Type_ff: nan | Answer_ff: nan | Created_ff: nan | Customer_Name_sf: nan | Date_of_Birth_sf: nan | Date_of_Anniversary_sf: nan | Customer_Phone_sf: nan | From__sf: nan | Customer_Email_sf: nan | Invoice_Id_sf: nan | Table_No_sf: nan | Order_Type_sf: nan | Answer_sf: nan | Created_sf: nan | PAX: nan | Biller_BSR: SANDEEP | First_Print_Date_BSR: 2025-03-29 22:45:04 UTC | Last_Settlement_Date_BSR: 2025-03-29 22:54:05 UTC | Duration__In_Minutes_BSR: 9.0 | Settled_By_BSR: vijay ( | area_co: nan | order_cancel_reason_co: nan | Cancelled_Invoice_Total_co: nan | Discount_Order_Type_DSR: nan | Biller_Name: nan | Discount_DSR: nan | Reason_DSR: nan | Food_Preparation_Time_Z: nan | Food_Preparation_Time_S: nan | Zomato_Delivery_Time: nan | Swiggy_Delivery_Time: nan | amount_from: 9801.0 | amount_to: 9335.0 | modified_by: vijay ( | modify_comment: removed sc | electron_pos: 2025-03-29 22:46:42 UTC | bill_no: F22351 | invoice_no: 22351.0 | date_orap: 2025-03-29 22:45:03 UTC | has_anomaly: No | anomaly_priority: nan | anomaly_payment_mismatch: 0 | anomaly_missing_payment_info: 0 | anomaly_multiple_payment_'),\n",
              " Document(metadata={}, page_content='payment_mismatch: 0 | anomaly_missing_payment_info: 0 | anomaly_multiple_payment_types: 0 | anomaly_tax_calculation_mismatch: 0 | anomaly_zero_tax_on_taxable: 0 | anomaly_large_order_modification: 0 | anomaly_modification_without_comment: 0 | anomaly_zomato_invoice_mismatch: 0 | anomaly_swiggy_invoice_mismatch: 0 | anomaly_long_zomato_prep_time: 0 | anomaly_long_swiggy_prep_time: 0 | anomaly_zomato_missing_delivery_time: 0 | anomaly_swiggy_missing_delivery_time: 0 | anomaly_high_discount: 0 | anomaly_discount_without_reason: 0 | anomaly_zomato_status_mismatch: 0 | anomaly_swiggy_status_mismatch: 0 | anomaly_extreme_settlement_time: 0 | anomaly_unusual_settlement_time: 0 | anomaly_long_bill_settlement: 0 | anomaly_missing_server_name: 0 | anomaly_zomato_missing_customer: 0 | anomaly_swiggy_missing_customer: 0 | anomaly_suspicious_pax: 0 | anomaly_price_inconsistency: 0 | pattern_risk: Low Risk | reason_pattern_risk: nan'),\n",
              " Document(metadata={}, page_content='Date: 30-08-2024 | Timestamp: 2024-08-30 22:13:37 UTC | Invoice_No_: 8847 | Payment_Type: CARD | Order_Type: Dine In | Area: Garden Table | Item_Name: Tonic Water | Price: 195 | Qty_: 1.0 | Sub_Total: 195.0 | Discount: 0.0 | Tax: 19.6 | Final_Total: 214.6 | Status: Success | Table_No_: G 5 | Server_Name: TANMOY  | Covers: 6 | Variation: nan | Category: BAR BEVERAGES | HSN: nan | Phone: 9819872420 | Name: radhika | Address: nan | GST: nan | Assign_To: TANMOY  | Non_Taxable: 0.0 | CGST_Rate: 2.5 | CGST_Amount: 4.9 | SGST_Rate: 2.5 | SGST_Amount: 4.9 | VAT_Rate: 10 | VAT_Amount: 0.0 | Service_Charge_Rate: 5 | Service_Charge_Amount: 9.8 | Date_z: nan | Invoice_Date_z: nan | Aggregator_Order_No_z: nan | PoS_Invoice_No_z: nan | Order_From_z: nan | Outlet_Name_z: nan | Petpooja_Identifier_z: nan | Order_Type_z: nan | Customer_Name_z: nan | Customer_Phone_z: 9819872420 | Payment_Type_z: nan | Delivery_status_z: nan | Status_z: nan | My_amount_z: nan | Aggregator_Discount_z: nan | Outlet_Discount_z: nan | Delivery_Charges_z: nan | Container_Charges_z: nan | CGST_z: nan | SGST_z: nan | IGST_z: nan | Total_z: nan | Order_Acceptance_Time_z: nan | Order_Delivery_Time_z: nan | Reason_z: nan | Online_Tax_Calculated_z: nan | GST_Paid_by_Merchant_z: nan | GST_Paid_by_Ecommerce_z: nan | Restaurant_ID_'),\n",
              " Document(metadata={}, page_content='chant_z: nan | GST_Paid_by_Ecommerce_z: nan | Restaurant_ID_z: 872420 | Client_Sharing_Code_z: nan | Identifier_z: nan | Order_ID_z: nan | Order_Status_z: nan | Received_Time_z: nan | Accepted_Time_z: nan | Mark_Ready_Time_z: nan | Rider_Arrival_Time_z: nan | Picked_up_Time_z: nan | Delivered_Time_z: nan | Cancelled_Time_z: nan | Date_s: nan | Invoice_Date_s: nan | Aggregator_Order_No_s: nan | PoS_Invoice_No_s: nan | Order_From_s: nan | Outlet_Name_s: nan | Petpooja_Identifier_s: nan | Order_Type_s: nan | Customer_Name_s: nan | Customer_Phone_s: 9819872420 | Payment_Type_s: nan | Delivery_status_s: nan | Status_s: nan | My_amount_s: nan | Aggregator_Discount_s: nan | Outlet_Discount_s: nan | Delivery_Charges_s: nan | Container_Charges_s: nan | CGST_s: nan | SGST_s: nan | IGST_s: nan | Total_s: nan | Order_Acceptance_Time_s: nan | Order_Delivery_Time_s: nan | Reason_s: nan | Online_Tax_Calculated_s: nan | GST_Paid_by_Merchant_s: nan | GST_Paid_by_Ecommerce_s: nan | Restaurant_ID_s: 872420 | Client_Sharing_Code_s: nan | Identifier_s: nan | Order_ID_s: nan | Order_Status_s: nan | Received_Time_s: nan | Accepted_Time_s: nan | Mark_Ready_Time_s: nan | Rider_Arrival_Time_s: nan | Picked_up_Time_s: nan | Delivered_Time_s: nan | Cancelled_Time_s: nan | Customer_Name_ff: nan | Date_of_Birth_ff'),\n",
              " Document(metadata={}, page_content=' Cancelled_Time_s: nan | Customer_Name_ff: nan | Date_of_Birth_ff: nan | Date_of_Anniversary_ff: nan | Customer_Phone_ff: nan | From__ff: nan | Customer_Email_ff: nan | Invoice_Id_ff: nan | Table_No_ff: nan | Order_Type_ff: nan | Answer_ff: nan | Created_ff: nan | Customer_Name_sf: nan | Date_of_Birth_sf: nan | Date_of_Anniversary_sf: nan | Customer_Phone_sf: nan | From__sf: nan | Customer_Email_sf: nan | Invoice_Id_sf: nan | Table_No_sf: nan | Order_Type_sf: nan | Answer_sf: nan | Created_sf: nan | PAX: nan | Biller_BSR: TANMOY  | First_Print_Date_BSR: 2024-08-30 22:13:38 UTC | Last_Settlement_Date_BSR: 2024-08-30 22:15:44 UTC | Duration__In_Minutes_BSR: 2.0 | Settled_By_BSR: vijay ( | area_co: nan | order_cancel_reason_co: nan | Cancelled_Invoice_Total_co: nan | Discount_Order_Type_DSR: nan | Biller_Name: nan | Discount_DSR: nan | Reason_DSR: nan | Food_Preparation_Time_Z: nan | Food_Preparation_Time_S: nan | Zomato_Delivery_Time: nan | Swiggy_Delivery_Time: nan | amount_from: nan | amount_to: nan | modified_by: nan | modify_comment: nan | electron_pos: nan | bill_no: nan | invoice_no: nan | date_orap: nan | has_anomaly: No | anomaly_priority: nan | anomaly_payment_mismatch: 0 | anomaly_missing_payment_info: 0 | anomaly_multiple_payment_types: 0 | anomaly_tax_calculation_mismatch: 0 | anomaly_zero_tax_on_taxable: 0 | anomaly_large_order_modification: 0 | anomaly_modification_without_'),\n",
              " Document(metadata={}, page_content='_taxable: 0 | anomaly_large_order_modification: 0 | anomaly_modification_without_comment: 0 | anomaly_zomato_invoice_mismatch: 0 | anomaly_swiggy_invoice_mismatch: 0 | anomaly_long_zomato_prep_time: 0 | anomaly_long_swiggy_prep_time: 0 | anomaly_zomato_missing_delivery_time: 0 | anomaly_swiggy_missing_delivery_time: 0 | anomaly_high_discount: 0 | anomaly_discount_without_reason: 0 | anomaly_zomato_status_mismatch: 0 | anomaly_swiggy_status_mismatch: 0 | anomaly_extreme_settlement_time: 0 | anomaly_unusual_settlement_time: 0 | anomaly_long_bill_settlement: 0 | anomaly_missing_server_name: 0 | anomaly_zomato_missing_customer: 0 | anomaly_swiggy_missing_customer: 0 | anomaly_suspicious_pax: 0 | anomaly_price_inconsistency: 0 | pattern_risk: Low Risk | reason_pattern_risk: is_card_payment'),\n",
              " Document(metadata={}, page_content=\"Date: 03-08-2024 | Timestamp: 2024-08-04 00:29:02 UTC | Invoice_No_: 2005 | Payment_Type: Cash | Order_Type: Dine In | Area: Dine in | Item_Name: BLENDER'S PRIDE | Price: 275 | Qty_: 1.0 | Sub_Total: 275.0 | Discount: 0.0 | Tax: 41.3 | Final_Total: 316.3 | Status: Success | Table_No_: 12 | Server_Name: vijay s | Covers: 3 | Variation: nan | Category: BAR DOMESTIC WHISKY | HSN: nan | Phone: 9881860034 | Name: nan | Address: nan | GST: 27ABDFR9342Q1ZE | Assign_To: UMESH B | Non_Taxable: 0.0 | CGST_Rate: 2.5 | CGST_Amount: 0.0 | SGST_Rate: 2.5 | SGST_Amount: 0.0 | VAT_Rate: 10 | VAT_Amount: 27.5 | Service_Charge_Rate: 5 | Service_Charge_Amount: 13.8 | Date_z: nan | Invoice_Date_z: nan | Aggregator_Order_No_z: nan | PoS_Invoice_No_z: nan | Order_From_z: nan | Outlet_Name_z: nan | Petpooja_Identifier_z: nan | Order_Type_z: nan | Customer_Name_z: nan | Customer_Phone_z: 9881860034 | Payment_Type_z: nan | Delivery_status_z: nan | Status_z: nan | My_amount_z: nan | Aggregator_Discount_z: nan | Outlet_Discount_z: nan | Delivery_Charges_z: nan | Container_Charges_z: nan | CGST_z: nan | SGST_z: nan | IGST_z: nan | Total_z: nan | Order_Acceptance_Time_z: nan | Order_Delivery_Time_z: nan | Reason_z: nan | Online_Tax_Calculated_z: nan | GST_Paid_by_Merchant_z: nan | GST_Paid_by_\"),\n",
              " Document(metadata={}, page_content=': nan | GST_Paid_by_Merchant_z: nan | GST_Paid_by_Ecommerce_z: nan | Restaurant_ID_z: 860034 | Client_Sharing_Code_z: nan | Identifier_z: nan | Order_ID_z: nan | Order_Status_z: nan | Received_Time_z: nan | Accepted_Time_z: nan | Mark_Ready_Time_z: nan | Rider_Arrival_Time_z: nan | Picked_up_Time_z: nan | Delivered_Time_z: nan | Cancelled_Time_z: nan | Date_s: nan | Invoice_Date_s: nan | Aggregator_Order_No_s: nan | PoS_Invoice_No_s: nan | Order_From_s: nan | Outlet_Name_s: nan | Petpooja_Identifier_s: nan | Order_Type_s: nan | Customer_Name_s: nan | Customer_Phone_s: 9881860034 | Payment_Type_s: nan | Delivery_status_s: nan | Status_s: nan | My_amount_s: nan | Aggregator_Discount_s: nan | Outlet_Discount_s: nan | Delivery_Charges_s: nan | Container_Charges_s: nan | CGST_s: nan | SGST_s: nan | IGST_s: nan | Total_s: nan | Order_Acceptance_Time_s: nan | Order_Delivery_Time_s: nan | Reason_s: nan | Online_Tax_Calculated_s: nan | GST_Paid_by_Merchant_s: nan | GST_Paid_by_Ecommerce_s: nan | Restaurant_ID_s: 860034 | Client_Sharing_Code_s: nan | Identifier_s: nan | Order_ID_s: nan | Order_Status_s: nan | Received_Time_s: nan | Accepted_Time_s: nan | Mark_Ready_Time_s: nan | Rider_Arrival_Time_s: nan | Picked_up_Time_s: nan | Delivered_Time_s: nan | Cancelled_Time_s: nan | Customer_Name'),\n",
              " Document(metadata={}, page_content=': nan | Delivered_Time_s: nan | Cancelled_Time_s: nan | Customer_Name_ff: nan | Date_of_Birth_ff: nan | Date_of_Anniversary_ff: nan | Customer_Phone_ff: nan | From__ff: nan | Customer_Email_ff: nan | Invoice_Id_ff: nan | Table_No_ff: nan | Order_Type_ff: nan | Answer_ff: nan | Created_ff: nan | Customer_Name_sf: nan | Date_of_Birth_sf: nan | Date_of_Anniversary_sf: nan | Customer_Phone_sf: nan | From__sf: nan | Customer_Email_sf: nan | Invoice_Id_sf: nan | Table_No_sf: nan | Order_Type_sf: nan | Answer_sf: nan | Created_sf: nan | PAX: nan | Biller_BSR: vijay ( | First_Print_Date_BSR: 2024-08-04 00:29:02 UTC | Last_Settlement_Date_BSR: 2024-08-04 00:38:16 UTC | Duration__In_Minutes_BSR: 9.0 | Settled_By_BSR: vijay ( | area_co: nan | order_cancel_reason_co: nan | Cancelled_Invoice_Total_co: nan | Discount_Order_Type_DSR: nan | Biller_Name: nan | Discount_DSR: nan | Reason_DSR: nan | Food_Preparation_Time_Z: nan | Food_Preparation_Time_S: nan | Zomato_Delivery_Time: nan | Swiggy_Delivery_Time: nan | amount_from: nan | amount_to: nan | modified_by: nan | modify_comment: nan | electron_pos: nan | bill_no: nan | invoice_no: nan | date_orap: nan | has_anomaly: No | anomaly_priority: nan | anomaly_payment_mismatch: 0 | anomaly_missing_payment_info: 0 | anomaly_multiple_payment_types: 0 | anomaly_tax_calculation_mismatch: 0 | anomaly_zero_tax_on_taxable: 0 | anomaly_large_order_mod'),\n",
              " Document(metadata={}, page_content='atch: 0 | anomaly_zero_tax_on_taxable: 0 | anomaly_large_order_modification: 0 | anomaly_modification_without_comment: 0 | anomaly_zomato_invoice_mismatch: 0 | anomaly_swiggy_invoice_mismatch: 0 | anomaly_long_zomato_prep_time: 0 | anomaly_long_swiggy_prep_time: 0 | anomaly_zomato_missing_delivery_time: 0 | anomaly_swiggy_missing_delivery_time: 0 | anomaly_high_discount: 0 | anomaly_discount_without_reason: 0 | anomaly_zomato_status_mismatch: 0 | anomaly_swiggy_status_mismatch: 0 | anomaly_extreme_settlement_time: 0 | anomaly_unusual_settlement_time: 0 | anomaly_long_bill_settlement: 0 | anomaly_missing_server_name: 0 | anomaly_zomato_missing_customer: 0 | anomaly_swiggy_missing_customer: 0 | anomaly_suspicious_pax: 0 | anomaly_price_inconsistency: 0 | pattern_risk: Low Risk | reason_pattern_risk: is_cash, is_odd_hour'),\n",
              " Document(metadata={}, page_content='Date: 05-05-2024 | Timestamp: 2024-05-05 21:06:53 UTC | Invoice_No_: 2005 | Payment_Type: Cash | Order_Type: Pick Up | Area: Parcel | Item_Name: Roomali Roti | Price: 150 | Qty_: 1.0 | Sub_Total: 150.0 | Discount: 0.0 | Tax: 7.6 | Final_Total: 157.6 | Status: Success | Table_No_: nan | Server_Name: TAPASH | Covers: 0 | Variation: nan | Category: TANDOOR BREADS | HSN: nan | Phone: 9881860034 | Name: KARAN | Address: nan | GST: nan | Assign_To: SAFIK K | Non_Taxable: 0.0 | CGST_Rate: 2.5 | CGST_Amount: 3.8 | SGST_Rate: 2.5 | SGST_Amount: 3.8 | VAT_Rate: 10 | VAT_Amount: 0.0 | Service_Charge_Rate: 5 | Service_Charge_Amount: 0.0 | Date_z: nan | Invoice_Date_z: nan | Aggregator_Order_No_z: nan | PoS_Invoice_No_z: nan | Order_From_z: nan | Outlet_Name_z: nan | Petpooja_Identifier_z: nan | Order_Type_z: nan | Customer_Name_z: nan | Customer_Phone_z: 9881860034 | Payment_Type_z: nan | Delivery_status_z: nan | Status_z: nan | My_amount_z: nan | Aggregator_Discount_z: nan | Outlet_Discount_z: nan | Delivery_Charges_z: nan | Container_Charges_z: nan | CGST_z: nan | SGST_z: nan | IGST_z: nan | Total_z: nan | Order_Acceptance_Time_z: nan | Order_Delivery_Time_z: nan | Reason_z: nan | Online_Tax_Calculated_z: nan | GST_Paid_by_Merchant_z: nan | GST_Paid_by_Ecommerce_z: nan | Restaurant_ID_z'),\n",
              " Document(metadata={}, page_content='_z: nan | GST_Paid_by_Ecommerce_z: nan | Restaurant_ID_z: 860034 | Client_Sharing_Code_z: nan | Identifier_z: nan | Order_ID_z: nan | Order_Status_z: nan | Received_Time_z: nan | Accepted_Time_z: nan | Mark_Ready_Time_z: nan | Rider_Arrival_Time_z: nan | Picked_up_Time_z: nan | Delivered_Time_z: nan | Cancelled_Time_z: nan | Date_s: nan | Invoice_Date_s: nan | Aggregator_Order_No_s: nan | PoS_Invoice_No_s: nan | Order_From_s: nan | Outlet_Name_s: nan | Petpooja_Identifier_s: nan | Order_Type_s: nan | Customer_Name_s: nan | Customer_Phone_s: 9881860034 | Payment_Type_s: nan | Delivery_status_s: nan | Status_s: nan | My_amount_s: nan | Aggregator_Discount_s: nan | Outlet_Discount_s: nan | Delivery_Charges_s: nan | Container_Charges_s: nan | CGST_s: nan | SGST_s: nan | IGST_s: nan | Total_s: nan | Order_Acceptance_Time_s: nan | Order_Delivery_Time_s: nan | Reason_s: nan | Online_Tax_Calculated_s: nan | GST_Paid_by_Merchant_s: nan | GST_Paid_by_Ecommerce_s: nan | Restaurant_ID_s: 860034 | Client_Sharing_Code_s: nan | Identifier_s: nan | Order_ID_s: nan | Order_Status_s: nan | Received_Time_s: nan | Accepted_Time_s: nan | Mark_Ready_Time_s: nan | Rider_Arrival_Time_s: nan | Picked_up_Time_s: nan | Delivered_Time_s: nan | Cancelled_Time_s: nan | Customer_Name_ff: nan | Date_of_Birth_ff'),\n",
              " Document(metadata={}, page_content=' Cancelled_Time_s: nan | Customer_Name_ff: nan | Date_of_Birth_ff: nan | Date_of_Anniversary_ff: nan | Customer_Phone_ff: nan | From__ff: nan | Customer_Email_ff: nan | Invoice_Id_ff: nan | Table_No_ff: nan | Order_Type_ff: nan | Answer_ff: nan | Created_ff: nan | Customer_Name_sf: nan | Date_of_Birth_sf: nan | Date_of_Anniversary_sf: nan | Customer_Phone_sf: nan | From__sf: nan | Customer_Email_sf: nan | Invoice_Id_sf: nan | Table_No_sf: nan | Order_Type_sf: nan | Answer_sf: nan | Created_sf: nan | PAX: nan | Biller_BSR: TAPASH  | First_Print_Date_BSR: 2024-05-05 21:06:54 UTC | Last_Settlement_Date_BSR: 2024-05-05 21:09:01 UTC | Duration__In_Minutes_BSR: 2.0 | Settled_By_BSR: sachind | area_co: nan | order_cancel_reason_co: nan | Cancelled_Invoice_Total_co: nan | Discount_Order_Type_DSR: nan | Biller_Name: nan | Discount_DSR: nan | Reason_DSR: nan | Food_Preparation_Time_Z: nan | Food_Preparation_Time_S: nan | Zomato_Delivery_Time: nan | Swiggy_Delivery_Time: nan | amount_from: nan | amount_to: nan | modified_by: nan | modify_comment: nan | electron_pos: nan | bill_no: nan | invoice_no: nan | date_orap: nan | has_anomaly: No | anomaly_priority: nan | anomaly_payment_mismatch: 0 | anomaly_missing_payment_info: 0 | anomaly_multiple_payment_types: 0 | anomaly_tax_calculation_mismatch: 0 | anomaly_zero_tax_on_taxable: 0 | anomaly_large_order_modification: 0 | anomaly_modification_without_comment:'),\n",
              " Document(metadata={}, page_content='able: 0 | anomaly_large_order_modification: 0 | anomaly_modification_without_comment: 0 | anomaly_zomato_invoice_mismatch: 0 | anomaly_swiggy_invoice_mismatch: 0 | anomaly_long_zomato_prep_time: 0 | anomaly_long_swiggy_prep_time: 0 | anomaly_zomato_missing_delivery_time: 0 | anomaly_swiggy_missing_delivery_time: 0 | anomaly_high_discount: 0 | anomaly_discount_without_reason: 0 | anomaly_zomato_status_mismatch: 0 | anomaly_swiggy_status_mismatch: 0 | anomaly_extreme_settlement_time: 0 | anomaly_unusual_settlement_time: 0 | anomaly_long_bill_settlement: 0 | anomaly_missing_server_name: 0 | anomaly_zomato_missing_customer: 0 | anomaly_swiggy_missing_customer: 0 | anomaly_suspicious_pax: 0 | anomaly_price_inconsistency: 0 | pattern_risk: Low Risk | reason_pattern_risk: is_cash'),\n",
              " Document(metadata={}, page_content='Date: 30-10-2024 | Timestamp: 2024-10-30 15:25:36 UTC | Invoice_No_: 12615 | Payment_Type: CARD | Order_Type: Dine In | Area: Dine in | Item_Name: PANEER TIKKA | Price: 795 | Qty_: 1.0 | Sub_Total: 795.0 | Discount: 0.0 | Tax: 79.6 | Final_Total: 874.6 | Status: Success | Table_No_: 15 | Server_Name: TANMOY  | Covers: 5 | Variation: nan | Category: TANDOOR STARTER | HSN: nan | Phone: 9813566106 | Name: DR RAJSHREE | Address: nan | GST: nan | Assign_To: TANMOY  | Non_Taxable: 0.0 | CGST_Rate: 2.5 | CGST_Amount: 19.9 | SGST_Rate: 2.5 | SGST_Amount: 19.9 | VAT_Rate: 10 | VAT_Amount: 0.0 | Service_Charge_Rate: 5 | Service_Charge_Amount: 39.8 | Date_z: nan | Invoice_Date_z: nan | Aggregator_Order_No_z: nan | PoS_Invoice_No_z: nan | Order_From_z: nan | Outlet_Name_z: nan | Petpooja_Identifier_z: nan | Order_Type_z: nan | Customer_Name_z: nan | Customer_Phone_z: 9813566106 | Payment_Type_z: nan | Delivery_status_z: nan | Status_z: nan | My_amount_z: nan | Aggregator_Discount_z: nan | Outlet_Discount_z: nan | Delivery_Charges_z: nan | Container_Charges_z: nan | CGST_z: nan | SGST_z: nan | IGST_z: nan | Total_z: nan | Order_Acceptance_Time_z: nan | Order_Delivery_Time_z: nan | Reason_z: nan | Online_Tax_Calculated_z: nan | GST_Paid_by_Merchant_z: nan | GST_Paid_by_E'),\n",
              " Document(metadata={}, page_content=' nan | GST_Paid_by_Merchant_z: nan | GST_Paid_by_Ecommerce_z: nan | Restaurant_ID_z: 566106 | Client_Sharing_Code_z: nan | Identifier_z: nan | Order_ID_z: nan | Order_Status_z: nan | Received_Time_z: nan | Accepted_Time_z: nan | Mark_Ready_Time_z: nan | Rider_Arrival_Time_z: nan | Picked_up_Time_z: nan | Delivered_Time_z: nan | Cancelled_Time_z: nan | Date_s: nan | Invoice_Date_s: nan | Aggregator_Order_No_s: nan | PoS_Invoice_No_s: nan | Order_From_s: nan | Outlet_Name_s: nan | Petpooja_Identifier_s: nan | Order_Type_s: nan | Customer_Name_s: nan | Customer_Phone_s: 9813566106 | Payment_Type_s: nan | Delivery_status_s: nan | Status_s: nan | My_amount_s: nan | Aggregator_Discount_s: nan | Outlet_Discount_s: nan | Delivery_Charges_s: nan | Container_Charges_s: nan | CGST_s: nan | SGST_s: nan | IGST_s: nan | Total_s: nan | Order_Acceptance_Time_s: nan | Order_Delivery_Time_s: nan | Reason_s: nan | Online_Tax_Calculated_s: nan | GST_Paid_by_Merchant_s: nan | GST_Paid_by_Ecommerce_s: nan | Restaurant_ID_s: 566106 | Client_Sharing_Code_s: nan | Identifier_s: nan | Order_ID_s: nan | Order_Status_s: nan | Received_Time_s: nan | Accepted_Time_s: nan | Mark_Ready_Time_s: nan | Rider_Arrival_Time_s: nan | Picked_up_Time_s: nan | Delivered_Time_s: nan | Cancelled_Time_s: nan | Customer_Name_ff'),\n",
              " Document(metadata={}, page_content=' | Delivered_Time_s: nan | Cancelled_Time_s: nan | Customer_Name_ff: nan | Date_of_Birth_ff: nan | Date_of_Anniversary_ff: nan | Customer_Phone_ff: nan | From__ff: nan | Customer_Email_ff: nan | Invoice_Id_ff: nan | Table_No_ff: nan | Order_Type_ff: nan | Answer_ff: nan | Created_ff: nan | Customer_Name_sf: nan | Date_of_Birth_sf: nan | Date_of_Anniversary_sf: nan | Customer_Phone_sf: nan | From__sf: nan | Customer_Email_sf: nan | Invoice_Id_sf: nan | Table_No_sf: nan | Order_Type_sf: nan | Answer_sf: nan | Created_sf: nan | PAX: nan | Biller_BSR: TANMOY  | First_Print_Date_BSR: 2024-10-30 15:25:37 UTC | Last_Settlement_Date_BSR: 2024-10-30 15:42:08 UTC | Duration__In_Minutes_BSR: 16.0 | Settled_By_BSR: vijay ( | area_co: nan | order_cancel_reason_co: nan | Cancelled_Invoice_Total_co: nan | Discount_Order_Type_DSR: nan | Biller_Name: nan | Discount_DSR: nan | Reason_DSR: nan | Food_Preparation_Time_Z: nan | Food_Preparation_Time_S: nan | Zomato_Delivery_Time: nan | Swiggy_Delivery_Time: nan | amount_from: nan | amount_to: nan | modified_by: nan | modify_comment: nan | electron_pos: nan | bill_no: nan | invoice_no: nan | date_orap: nan | has_anomaly: Yes | anomaly_priority: Medium | anomaly_payment_mismatch: 0 | anomaly_missing_payment_info: 0 | anomaly_multiple_payment_types: 0 | anomaly_tax_calculation_mismatch: 0 | anomaly_zero_tax_on_taxable: 0 | anomaly_large_order_modification'),\n",
              " Document(metadata={}, page_content=': 0 | anomaly_zero_tax_on_taxable: 0 | anomaly_large_order_modification: 0 | anomaly_modification_without_comment: 0 | anomaly_zomato_invoice_mismatch: 0 | anomaly_swiggy_invoice_mismatch: 0 | anomaly_long_zomato_prep_time: 0 | anomaly_long_swiggy_prep_time: 0 | anomaly_zomato_missing_delivery_time: 0 | anomaly_swiggy_missing_delivery_time: 0 | anomaly_high_discount: 0 | anomaly_discount_without_reason: 0 | anomaly_zomato_status_mismatch: 0 | anomaly_swiggy_status_mismatch: 0 | anomaly_extreme_settlement_time: 0 | anomaly_unusual_settlement_time: 1 | anomaly_long_bill_settlement: 0 | anomaly_missing_server_name: 0 | anomaly_zomato_missing_customer: 0 | anomaly_swiggy_missing_customer: 0 | anomaly_suspicious_pax: 0 | anomaly_price_inconsistency: 0 | pattern_risk: Low Risk | reason_pattern_risk: is_card_payment'),\n",
              " Document(metadata={}, page_content='Date: 04-10-2024 | Timestamp: 2024-10-04 18:53:25 UTC | Invoice_No_: C1984 | Payment_Type: Cash | Order_Type: Dine In | Area: Garden Table | Item_Name: FUTCHI RICE (VEG) | Price: 765 | Qty_: 1.0 | Sub_Total: 765.0 | Discount: 0.0 | Tax: 76.5 | Final_Total: 841.5 | Status: Complimentary | Table_No_: G 5 | Server_Name: TAPASH | Covers: 3 | Variation: VEG | Category: ORIENTAL RICE & NOODLES | HSN: nan | Phone: 9843950806 | Name: PHOTO SHOOT | Address: nan | GST: nan | Assign_To: nan | Non_Taxable: 0.0 | CGST_Rate: 2.5 | CGST_Amount: 19.1 | SGST_Rate: 2.5 | SGST_Amount: 19.1 | VAT_Rate: 10 | VAT_Amount: 0.0 | Service_Charge_Rate: 5 | Service_Charge_Amount: 38.3 | Date_z: nan | Invoice_Date_z: nan | Aggregator_Order_No_z: nan | PoS_Invoice_No_z: nan | Order_From_z: nan | Outlet_Name_z: nan | Petpooja_Identifier_z: nan | Order_Type_z: nan | Customer_Name_z: nan | Customer_Phone_z: 9843950806 | Payment_Type_z: nan | Delivery_status_z: nan | Status_z: nan | My_amount_z: nan | Aggregator_Discount_z: nan | Outlet_Discount_z: nan | Delivery_Charges_z: nan | Container_Charges_z: nan | CGST_z: nan | SGST_z: nan | IGST_z: nan | Total_z: nan | Order_Acceptance_Time_z: nan | Order_Delivery_Time_z: nan | Reason_z: nan | Online_Tax_Calculated_z: nan | GST_Paid_by_Merchant_z: nan | GST_Paid'),\n",
              " Document(metadata={}, page_content='culated_z: nan | GST_Paid_by_Merchant_z: nan | GST_Paid_by_Ecommerce_z: nan | Restaurant_ID_z: 950806 | Client_Sharing_Code_z: nan | Identifier_z: nan | Order_ID_z: nan | Order_Status_z: nan | Received_Time_z: nan | Accepted_Time_z: nan | Mark_Ready_Time_z: nan | Rider_Arrival_Time_z: nan | Picked_up_Time_z: nan | Delivered_Time_z: nan | Cancelled_Time_z: nan | Date_s: nan | Invoice_Date_s: nan | Aggregator_Order_No_s: nan | PoS_Invoice_No_s: nan | Order_From_s: nan | Outlet_Name_s: nan | Petpooja_Identifier_s: nan | Order_Type_s: nan | Customer_Name_s: nan | Customer_Phone_s: 9843950806 | Payment_Type_s: nan | Delivery_status_s: nan | Status_s: nan | My_amount_s: nan | Aggregator_Discount_s: nan | Outlet_Discount_s: nan | Delivery_Charges_s: nan | Container_Charges_s: nan | CGST_s: nan | SGST_s: nan | IGST_s: nan | Total_s: nan | Order_Acceptance_Time_s: nan | Order_Delivery_Time_s: nan | Reason_s: nan | Online_Tax_Calculated_s: nan | GST_Paid_by_Merchant_s: nan | GST_Paid_by_Ecommerce_s: nan | Restaurant_ID_s: 950806 | Client_Sharing_Code_s: nan | Identifier_s: nan | Order_ID_s: nan | Order_Status_s: nan | Received_Time_s: nan | Accepted_Time_s: nan | Mark_Ready_Time_s: nan | Rider_Arrival_Time_s: nan | Picked_up_Time_s: nan | Delivered_Time_s: nan | Cancelled_Time_s: nan | Customer_'),\n",
              " Document(metadata={}, page_content='s: nan | Delivered_Time_s: nan | Cancelled_Time_s: nan | Customer_Name_ff: nan | Date_of_Birth_ff: nan | Date_of_Anniversary_ff: nan | Customer_Phone_ff: nan | From__ff: nan | Customer_Email_ff: nan | Invoice_Id_ff: nan | Table_No_ff: nan | Order_Type_ff: nan | Answer_ff: nan | Created_ff: nan | Customer_Name_sf: nan | Date_of_Birth_sf: nan | Date_of_Anniversary_sf: nan | Customer_Phone_sf: nan | From__sf: nan | Customer_Email_sf: nan | Invoice_Id_sf: nan | Table_No_sf: nan | Order_Type_sf: nan | Answer_sf: nan | Created_sf: nan | PAX: nan | Biller_BSR: nan | First_Print_Date_BSR: nan | Last_Settlement_Date_BSR: nan | Duration__In_Minutes_BSR: nan | Settled_By_BSR: nan | area_co: nan | order_cancel_reason_co: nan | Cancelled_Invoice_Total_co: nan | Discount_Order_Type_DSR: nan | Biller_Name: nan | Discount_DSR: nan | Reason_DSR: nan | Food_Preparation_Time_Z: nan | Food_Preparation_Time_S: nan | Zomato_Delivery_Time: nan | Swiggy_Delivery_Time: nan | amount_from: nan | amount_to: nan | modified_by: nan | modify_comment: nan | electron_pos: nan | bill_no: nan | invoice_no: nan | date_orap: nan | has_anomaly: No | anomaly_priority: nan | anomaly_payment_mismatch: 0 | anomaly_missing_payment_info: 0 | anomaly_multiple_payment_types: 0 | anomaly_tax_calculation_mismatch: 0 | anomaly_zero_tax_on_taxable: 0 | anomaly_large_order_modification: 0 | anomaly_modification_without_comment: 0 | anomaly_zomato_invoice_mismatch'),\n",
              " Document(metadata={}, page_content=' | anomaly_modification_without_comment: 0 | anomaly_zomato_invoice_mismatch: 0 | anomaly_swiggy_invoice_mismatch: 0 | anomaly_long_zomato_prep_time: 0 | anomaly_long_swiggy_prep_time: 0 | anomaly_zomato_missing_delivery_time: 0 | anomaly_swiggy_missing_delivery_time: 0 | anomaly_high_discount: 0 | anomaly_discount_without_reason: 0 | anomaly_zomato_status_mismatch: 0 | anomaly_swiggy_status_mismatch: 0 | anomaly_extreme_settlement_time: 0 | anomaly_unusual_settlement_time: 0 | anomaly_long_bill_settlement: 0 | anomaly_missing_server_name: 0 | anomaly_zomato_missing_customer: 0 | anomaly_swiggy_missing_customer: 0 | anomaly_suspicious_pax: 0 | anomaly_price_inconsistency: 0 | pattern_risk: Low Risk | reason_pattern_risk: is_cash'),\n",
              " Document(metadata={}, page_content='Date: 30-08-2024 | Timestamp: 2024-08-30 22:13:37 UTC | Invoice_No_: 8847 | Payment_Type: CARD | Order_Type: Dine In | Area: Garden Table | Item_Name: Butter Roti | Price: 95 | Qty_: 1.0 | Sub_Total: 95.0 | Discount: 0.0 | Tax: 9.6 | Final_Total: 104.6 | Status: Success | Table_No_: G 5 | Server_Name: TANMOY  | Covers: 6 | Variation: nan | Category: TANDOOR BREADS | HSN: nan | Phone: 9819872420 | Name: radhika | Address: nan | GST: nan | Assign_To: TANMOY  | Non_Taxable: 0.0 | CGST_Rate: 2.5 | CGST_Amount: 2.4 | SGST_Rate: 2.5 | SGST_Amount: 2.4 | VAT_Rate: 10 | VAT_Amount: 0.0 | Service_Charge_Rate: 5 | Service_Charge_Amount: 4.8 | Date_z: nan | Invoice_Date_z: nan | Aggregator_Order_No_z: nan | PoS_Invoice_No_z: nan | Order_From_z: nan | Outlet_Name_z: nan | Petpooja_Identifier_z: nan | Order_Type_z: nan | Customer_Name_z: nan | Customer_Phone_z: 9819872420 | Payment_Type_z: nan | Delivery_status_z: nan | Status_z: nan | My_amount_z: nan | Aggregator_Discount_z: nan | Outlet_Discount_z: nan | Delivery_Charges_z: nan | Container_Charges_z: nan | CGST_z: nan | SGST_z: nan | IGST_z: nan | Total_z: nan | Order_Acceptance_Time_z: nan | Order_Delivery_Time_z: nan | Reason_z: nan | Online_Tax_Calculated_z: nan | GST_Paid_by_Merchant_z: nan | GST_Paid_by_Ecommerce_z: nan | Restaurant'),\n",
              " Document(metadata={}, page_content='by_Merchant_z: nan | GST_Paid_by_Ecommerce_z: nan | Restaurant_ID_z: 872420 | Client_Sharing_Code_z: nan | Identifier_z: nan | Order_ID_z: nan | Order_Status_z: nan | Received_Time_z: nan | Accepted_Time_z: nan | Mark_Ready_Time_z: nan | Rider_Arrival_Time_z: nan | Picked_up_Time_z: nan | Delivered_Time_z: nan | Cancelled_Time_z: nan | Date_s: nan | Invoice_Date_s: nan | Aggregator_Order_No_s: nan | PoS_Invoice_No_s: nan | Order_From_s: nan | Outlet_Name_s: nan | Petpooja_Identifier_s: nan | Order_Type_s: nan | Customer_Name_s: nan | Customer_Phone_s: 9819872420 | Payment_Type_s: nan | Delivery_status_s: nan | Status_s: nan | My_amount_s: nan | Aggregator_Discount_s: nan | Outlet_Discount_s: nan | Delivery_Charges_s: nan | Container_Charges_s: nan | CGST_s: nan | SGST_s: nan | IGST_s: nan | Total_s: nan | Order_Acceptance_Time_s: nan | Order_Delivery_Time_s: nan | Reason_s: nan | Online_Tax_Calculated_s: nan | GST_Paid_by_Merchant_s: nan | GST_Paid_by_Ecommerce_s: nan | Restaurant_ID_s: 872420 | Client_Sharing_Code_s: nan | Identifier_s: nan | Order_ID_s: nan | Order_Status_s: nan | Received_Time_s: nan | Accepted_Time_s: nan | Mark_Ready_Time_s: nan | Rider_Arrival_Time_s: nan | Picked_up_Time_s: nan | Delivered_Time_s: nan | Cancelled_Time_s: nan | Customer_Name_ff: nan | Date_of_'),\n",
              " Document(metadata={}, page_content=': nan | Cancelled_Time_s: nan | Customer_Name_ff: nan | Date_of_Birth_ff: nan | Date_of_Anniversary_ff: nan | Customer_Phone_ff: nan | From__ff: nan | Customer_Email_ff: nan | Invoice_Id_ff: nan | Table_No_ff: nan | Order_Type_ff: nan | Answer_ff: nan | Created_ff: nan | Customer_Name_sf: nan | Date_of_Birth_sf: nan | Date_of_Anniversary_sf: nan | Customer_Phone_sf: nan | From__sf: nan | Customer_Email_sf: nan | Invoice_Id_sf: nan | Table_No_sf: nan | Order_Type_sf: nan | Answer_sf: nan | Created_sf: nan | PAX: nan | Biller_BSR: TANMOY  | First_Print_Date_BSR: 2024-08-30 22:13:38 UTC | Last_Settlement_Date_BSR: 2024-08-30 22:15:44 UTC | Duration__In_Minutes_BSR: 2.0 | Settled_By_BSR: vijay ( | area_co: nan | order_cancel_reason_co: nan | Cancelled_Invoice_Total_co: nan | Discount_Order_Type_DSR: nan | Biller_Name: nan | Discount_DSR: nan | Reason_DSR: nan | Food_Preparation_Time_Z: nan | Food_Preparation_Time_S: nan | Zomato_Delivery_Time: nan | Swiggy_Delivery_Time: nan | amount_from: nan | amount_to: nan | modified_by: nan | modify_comment: nan | electron_pos: nan | bill_no: nan | invoice_no: nan | date_orap: nan | has_anomaly: No | anomaly_priority: nan | anomaly_payment_mismatch: 0 | anomaly_missing_payment_info: 0 | anomaly_multiple_payment_types: 0 | anomaly_tax_calculation_mismatch: 0 | anomaly_zero_tax_on_taxable: 0 | anomaly_large_order_modification: 0 | anomaly_modification'),\n",
              " Document(metadata={}, page_content='tax_on_taxable: 0 | anomaly_large_order_modification: 0 | anomaly_modification_without_comment: 0 | anomaly_zomato_invoice_mismatch: 0 | anomaly_swiggy_invoice_mismatch: 0 | anomaly_long_zomato_prep_time: 0 | anomaly_long_swiggy_prep_time: 0 | anomaly_zomato_missing_delivery_time: 0 | anomaly_swiggy_missing_delivery_time: 0 | anomaly_high_discount: 0 | anomaly_discount_without_reason: 0 | anomaly_zomato_status_mismatch: 0 | anomaly_swiggy_status_mismatch: 0 | anomaly_extreme_settlement_time: 0 | anomaly_unusual_settlement_time: 0 | anomaly_long_bill_settlement: 0 | anomaly_missing_server_name: 0 | anomaly_zomato_missing_customer: 0 | anomaly_swiggy_missing_customer: 0 | anomaly_suspicious_pax: 0 | anomaly_price_inconsistency: 0 | pattern_risk: Low Risk | reason_pattern_risk: is_card_payment'),\n",
              " Document(metadata={}, page_content='Date: 04-10-2024 | Timestamp: 2024-10-04 18:53:25 UTC | Invoice_No_: C1984 | Payment_Type: Cash | Order_Type: Dine In | Area: Garden Table | Item_Name: Neer Dosa(4pc) | Price: 225 | Qty_: 1.0 | Sub_Total: 225.0 | Discount: 0.0 | Tax: 22.5 | Final_Total: 247.5 | Status: Complimentary | Table_No_: G 5 | Server_Name: TAPASH | Covers: 3 | Variation: nan | Category: COASTAL SPECIAL | HSN: nan | Phone: 9843950806 | Name: PHOTO SHOOT | Address: nan | GST: nan | Assign_To: nan | Non_Taxable: 0.0 | CGST_Rate: 2.5 | CGST_Amount: 5.6 | SGST_Rate: 2.5 | SGST_Amount: 5.6 | VAT_Rate: 10 | VAT_Amount: 0.0 | Service_Charge_Rate: 5 | Service_Charge_Amount: 11.3 | Date_z: nan | Invoice_Date_z: nan | Aggregator_Order_No_z: nan | PoS_Invoice_No_z: nan | Order_From_z: nan | Outlet_Name_z: nan | Petpooja_Identifier_z: nan | Order_Type_z: nan | Customer_Name_z: nan | Customer_Phone_z: 9843950806 | Payment_Type_z: nan | Delivery_status_z: nan | Status_z: nan | My_amount_z: nan | Aggregator_Discount_z: nan | Outlet_Discount_z: nan | Delivery_Charges_z: nan | Container_Charges_z: nan | CGST_z: nan | SGST_z: nan | IGST_z: nan | Total_z: nan | Order_Acceptance_Time_z: nan | Order_Delivery_Time_z: nan | Reason_z: nan | Online_Tax_Calculated_z: nan | GST_Paid_by_Merchant_z: nan | GST_Paid_by_Ecommerce_z: nan | Restaurant'),\n",
              " Document(metadata={}, page_content='by_Merchant_z: nan | GST_Paid_by_Ecommerce_z: nan | Restaurant_ID_z: 950806 | Client_Sharing_Code_z: nan | Identifier_z: nan | Order_ID_z: nan | Order_Status_z: nan | Received_Time_z: nan | Accepted_Time_z: nan | Mark_Ready_Time_z: nan | Rider_Arrival_Time_z: nan | Picked_up_Time_z: nan | Delivered_Time_z: nan | Cancelled_Time_z: nan | Date_s: nan | Invoice_Date_s: nan | Aggregator_Order_No_s: nan | PoS_Invoice_No_s: nan | Order_From_s: nan | Outlet_Name_s: nan | Petpooja_Identifier_s: nan | Order_Type_s: nan | Customer_Name_s: nan | Customer_Phone_s: 9843950806 | Payment_Type_s: nan | Delivery_status_s: nan | Status_s: nan | My_amount_s: nan | Aggregator_Discount_s: nan | Outlet_Discount_s: nan | Delivery_Charges_s: nan | Container_Charges_s: nan | CGST_s: nan | SGST_s: nan | IGST_s: nan | Total_s: nan | Order_Acceptance_Time_s: nan | Order_Delivery_Time_s: nan | Reason_s: nan | Online_Tax_Calculated_s: nan | GST_Paid_by_Merchant_s: nan | GST_Paid_by_Ecommerce_s: nan | Restaurant_ID_s: 950806 | Client_Sharing_Code_s: nan | Identifier_s: nan | Order_ID_s: nan | Order_Status_s: nan | Received_Time_s: nan | Accepted_Time_s: nan | Mark_Ready_Time_s: nan | Rider_Arrival_Time_s: nan | Picked_up_Time_s: nan | Delivered_Time_s: nan | Cancelled_Time_s: nan | Customer_Name_ff: nan | Date_of_Birth'),\n",
              " Document(metadata={}, page_content=' nan | Cancelled_Time_s: nan | Customer_Name_ff: nan | Date_of_Birth_ff: nan | Date_of_Anniversary_ff: nan | Customer_Phone_ff: nan | From__ff: nan | Customer_Email_ff: nan | Invoice_Id_ff: nan | Table_No_ff: nan | Order_Type_ff: nan | Answer_ff: nan | Created_ff: nan | Customer_Name_sf: nan | Date_of_Birth_sf: nan | Date_of_Anniversary_sf: nan | Customer_Phone_sf: nan | From__sf: nan | Customer_Email_sf: nan | Invoice_Id_sf: nan | Table_No_sf: nan | Order_Type_sf: nan | Answer_sf: nan | Created_sf: nan | PAX: nan | Biller_BSR: nan | First_Print_Date_BSR: nan | Last_Settlement_Date_BSR: nan | Duration__In_Minutes_BSR: nan | Settled_By_BSR: nan | area_co: nan | order_cancel_reason_co: nan | Cancelled_Invoice_Total_co: nan | Discount_Order_Type_DSR: nan | Biller_Name: nan | Discount_DSR: nan | Reason_DSR: nan | Food_Preparation_Time_Z: nan | Food_Preparation_Time_S: nan | Zomato_Delivery_Time: nan | Swiggy_Delivery_Time: nan | amount_from: nan | amount_to: nan | modified_by: nan | modify_comment: nan | electron_pos: nan | bill_no: nan | invoice_no: nan | date_orap: nan | has_anomaly: No | anomaly_priority: nan | anomaly_payment_mismatch: 0 | anomaly_missing_payment_info: 0 | anomaly_multiple_payment_types: 0 | anomaly_tax_calculation_mismatch: 0 | anomaly_zero_tax_on_taxable: 0 | anomaly_large_order_modification: 0 | anomaly_modification_without_comment: 0 | anomaly_zomato_invoice_mismatch: 0 | anomaly_swiggy_invoice'),\n",
              " Document(metadata={}, page_content=' | anomaly_zomato_invoice_mismatch: 0 | anomaly_swiggy_invoice_mismatch: 0 | anomaly_long_zomato_prep_time: 0 | anomaly_long_swiggy_prep_time: 0 | anomaly_zomato_missing_delivery_time: 0 | anomaly_swiggy_missing_delivery_time: 0 | anomaly_high_discount: 0 | anomaly_discount_without_reason: 0 | anomaly_zomato_status_mismatch: 0 | anomaly_swiggy_status_mismatch: 0 | anomaly_extreme_settlement_time: 0 | anomaly_unusual_settlement_time: 0 | anomaly_long_bill_settlement: 0 | anomaly_missing_server_name: 0 | anomaly_zomato_missing_customer: 0 | anomaly_swiggy_missing_customer: 0 | anomaly_suspicious_pax: 0 | anomaly_price_inconsistency: 0 | pattern_risk: Low Risk | reason_pattern_risk: is_cash'),\n",
              " Document(metadata={}, page_content='Date: 29-03-2025 | Timestamp: 2025-03-29 22:45:03 UTC | Invoice_No_: 22351 | Payment_Type: Other [ZOMATO PAY] | Order_Type: Dine In | Area: Dine in | Item_Name: Garlic Naan | Price: 150 | Qty_: 1.0 | Sub_Total: 150.0 | Discount: 0.0 | Tax: 7.6 | Final_Total: 157.6 | Status: Success | Table_No_: 30 | Server_Name: SANDEEP | Covers: 9 | Variation: nan | Category: TANDOOR BREADS | HSN: nan | Phone: 9844043557 | Name: YASH PAREKH | Address: nan | GST: nan | Assign_To: SANDEEP | Non_Taxable: 0.0 | CGST_Rate: 2.5 | CGST_Amount: 3.8 | SGST_Rate: 2.5 | SGST_Amount: 3.8 | VAT_Rate: 10 | VAT_Amount: 0.0 | Service_Charge_Rate: 5 | Service_Charge_Amount: 0.0 | Date_z: nan | Invoice_Date_z: nan | Aggregator_Order_No_z: nan | PoS_Invoice_No_z: nan | Order_From_z: nan | Outlet_Name_z: nan | Petpooja_Identifier_z: nan | Order_Type_z: nan | Customer_Name_z: nan | Customer_Phone_z: 9844043557 | Payment_Type_z: nan | Delivery_status_z: nan | Status_z: nan | My_amount_z: nan | Aggregator_Discount_z: nan | Outlet_Discount_z: nan | Delivery_Charges_z: nan | Container_Charges_z: nan | CGST_z: nan | SGST_z: nan | IGST_z: nan | Total_z: nan | Order_Acceptance_Time_z: nan | Order_Delivery_Time_z: nan | Reason_z: nan | Online_Tax_Calculated_z: nan | GST_Paid_by_Merchant_z: nan | GST_Paid_by'),\n",
              " Document(metadata={}, page_content='z: nan | GST_Paid_by_Merchant_z: nan | GST_Paid_by_Ecommerce_z: nan | Restaurant_ID_z: 43557 | Client_Sharing_Code_z: nan | Identifier_z: nan | Order_ID_z: nan | Order_Status_z: nan | Received_Time_z: nan | Accepted_Time_z: nan | Mark_Ready_Time_z: nan | Rider_Arrival_Time_z: nan | Picked_up_Time_z: nan | Delivered_Time_z: nan | Cancelled_Time_z: nan | Date_s: nan | Invoice_Date_s: nan | Aggregator_Order_No_s: nan | PoS_Invoice_No_s: nan | Order_From_s: nan | Outlet_Name_s: nan | Petpooja_Identifier_s: nan | Order_Type_s: nan | Customer_Name_s: nan | Customer_Phone_s: 9844043557 | Payment_Type_s: nan | Delivery_status_s: nan | Status_s: nan | My_amount_s: nan | Aggregator_Discount_s: nan | Outlet_Discount_s: nan | Delivery_Charges_s: nan | Container_Charges_s: nan | CGST_s: nan | SGST_s: nan | IGST_s: nan | Total_s: nan | Order_Acceptance_Time_s: nan | Order_Delivery_Time_s: nan | Reason_s: nan | Online_Tax_Calculated_s: nan | GST_Paid_by_Merchant_s: nan | GST_Paid_by_Ecommerce_s: nan | Restaurant_ID_s: 43557 | Client_Sharing_Code_s: nan | Identifier_s: nan | Order_ID_s: nan | Order_Status_s: nan | Received_Time_s: nan | Accepted_Time_s: nan | Mark_Ready_Time_s: nan | Rider_Arrival_Time_s: nan | Picked_up_Time_s: nan | Delivered_Time_s: nan | Cancelled_Time_s: nan | Customer_Name_'),\n",
              " Document(metadata={}, page_content=' nan | Delivered_Time_s: nan | Cancelled_Time_s: nan | Customer_Name_ff: nan | Date_of_Birth_ff: nan | Date_of_Anniversary_ff: nan | Customer_Phone_ff: nan | From__ff: nan | Customer_Email_ff: nan | Invoice_Id_ff: nan | Table_No_ff: nan | Order_Type_ff: nan | Answer_ff: nan | Created_ff: nan | Customer_Name_sf: nan | Date_of_Birth_sf: nan | Date_of_Anniversary_sf: nan | Customer_Phone_sf: nan | From__sf: nan | Customer_Email_sf: nan | Invoice_Id_sf: nan | Table_No_sf: nan | Order_Type_sf: nan | Answer_sf: nan | Created_sf: nan | PAX: nan | Biller_BSR: SANDEEP | First_Print_Date_BSR: 2025-03-29 22:45:04 UTC | Last_Settlement_Date_BSR: 2025-03-29 22:54:05 UTC | Duration__In_Minutes_BSR: 9.0 | Settled_By_BSR: vijay ( | area_co: nan | order_cancel_reason_co: nan | Cancelled_Invoice_Total_co: nan | Discount_Order_Type_DSR: nan | Biller_Name: nan | Discount_DSR: nan | Reason_DSR: nan | Food_Preparation_Time_Z: nan | Food_Preparation_Time_S: nan | Zomato_Delivery_Time: nan | Swiggy_Delivery_Time: nan | amount_from: 9801.0 | amount_to: 9335.0 | modified_by: vijay ( | modify_comment: removed sc | electron_pos: 2025-03-29 22:46:42 UTC | bill_no: F22351 | invoice_no: 22351.0 | date_orap: 2025-03-29 22:45:03 UTC | has_anomaly: No | anomaly_priority: nan | anomaly_payment_mismatch: 0 | anomaly_missing_payment_info: 0 | anomaly_multiple_payment_types: 0 |'),\n",
              " Document(metadata={}, page_content='atch: 0 | anomaly_missing_payment_info: 0 | anomaly_multiple_payment_types: 0 | anomaly_tax_calculation_mismatch: 0 | anomaly_zero_tax_on_taxable: 0 | anomaly_large_order_modification: 0 | anomaly_modification_without_comment: 0 | anomaly_zomato_invoice_mismatch: 0 | anomaly_swiggy_invoice_mismatch: 0 | anomaly_long_zomato_prep_time: 0 | anomaly_long_swiggy_prep_time: 0 | anomaly_zomato_missing_delivery_time: 0 | anomaly_swiggy_missing_delivery_time: 0 | anomaly_high_discount: 0 | anomaly_discount_without_reason: 0 | anomaly_zomato_status_mismatch: 0 | anomaly_swiggy_status_mismatch: 0 | anomaly_extreme_settlement_time: 0 | anomaly_unusual_settlement_time: 0 | anomaly_long_bill_settlement: 0 | anomaly_missing_server_name: 0 | anomaly_zomato_missing_customer: 0 | anomaly_swiggy_missing_customer: 0 | anomaly_suspicious_pax: 0 | anomaly_price_inconsistency: 0 | pattern_risk: Low Risk | reason_pattern_risk: nan'),\n",
              " Document(metadata={}, page_content='Date: 05-05-2024 | Timestamp: 2024-05-05 21:06:53 UTC | Invoice_No_: 2005 | Payment_Type: Cash | Order_Type: Pick Up | Area: Parcel | Item_Name: PANEER CHILLY DRY | Price: 795 | Qty_: 1.0 | Sub_Total: 795.0 | Discount: 0.0 | Tax: 39.8 | Final_Total: 834.8 | Status: Success | Table_No_: nan | Server_Name: TAPASH | Covers: 0 | Variation: nan | Category: ORIENTAL STARTER | HSN: nan | Phone: 9881860034 | Name: KARAN | Address: nan | GST: nan | Assign_To: SAFIK K | Non_Taxable: 0.0 | CGST_Rate: 2.5 | CGST_Amount: 19.9 | SGST_Rate: 2.5 | SGST_Amount: 19.9 | VAT_Rate: 10 | VAT_Amount: 0.0 | Service_Charge_Rate: 5 | Service_Charge_Amount: 0.0 | Date_z: nan | Invoice_Date_z: nan | Aggregator_Order_No_z: nan | PoS_Invoice_No_z: nan | Order_From_z: nan | Outlet_Name_z: nan | Petpooja_Identifier_z: nan | Order_Type_z: nan | Customer_Name_z: nan | Customer_Phone_z: 9881860034 | Payment_Type_z: nan | Delivery_status_z: nan | Status_z: nan | My_amount_z: nan | Aggregator_Discount_z: nan | Outlet_Discount_z: nan | Delivery_Charges_z: nan | Container_Charges_z: nan | CGST_z: nan | SGST_z: nan | IGST_z: nan | Total_z: nan | Order_Acceptance_Time_z: nan | Order_Delivery_Time_z: nan | Reason_z: nan | Online_Tax_Calculated_z: nan | GST_Paid_by_Merchant_z: nan | GST_Paid_by_Ecommerce_z: nan |'),\n",
              " Document(metadata={}, page_content='_by_Merchant_z: nan | GST_Paid_by_Ecommerce_z: nan | Restaurant_ID_z: 860034 | Client_Sharing_Code_z: nan | Identifier_z: nan | Order_ID_z: nan | Order_Status_z: nan | Received_Time_z: nan | Accepted_Time_z: nan | Mark_Ready_Time_z: nan | Rider_Arrival_Time_z: nan | Picked_up_Time_z: nan | Delivered_Time_z: nan | Cancelled_Time_z: nan | Date_s: nan | Invoice_Date_s: nan | Aggregator_Order_No_s: nan | PoS_Invoice_No_s: nan | Order_From_s: nan | Outlet_Name_s: nan | Petpooja_Identifier_s: nan | Order_Type_s: nan | Customer_Name_s: nan | Customer_Phone_s: 9881860034 | Payment_Type_s: nan | Delivery_status_s: nan | Status_s: nan | My_amount_s: nan | Aggregator_Discount_s: nan | Outlet_Discount_s: nan | Delivery_Charges_s: nan | Container_Charges_s: nan | CGST_s: nan | SGST_s: nan | IGST_s: nan | Total_s: nan | Order_Acceptance_Time_s: nan | Order_Delivery_Time_s: nan | Reason_s: nan | Online_Tax_Calculated_s: nan | GST_Paid_by_Merchant_s: nan | GST_Paid_by_Ecommerce_s: nan | Restaurant_ID_s: 860034 | Client_Sharing_Code_s: nan | Identifier_s: nan | Order_ID_s: nan | Order_Status_s: nan | Received_Time_s: nan | Accepted_Time_s: nan | Mark_Ready_Time_s: nan | Rider_Arrival_Time_s: nan | Picked_up_Time_s: nan | Delivered_Time_s: nan | Cancelled_Time_s: nan | Customer_Name_ff: nan | Date_'),\n",
              " Document(metadata={}, page_content='_s: nan | Cancelled_Time_s: nan | Customer_Name_ff: nan | Date_of_Birth_ff: nan | Date_of_Anniversary_ff: nan | Customer_Phone_ff: nan | From__ff: nan | Customer_Email_ff: nan | Invoice_Id_ff: nan | Table_No_ff: nan | Order_Type_ff: nan | Answer_ff: nan | Created_ff: nan | Customer_Name_sf: nan | Date_of_Birth_sf: nan | Date_of_Anniversary_sf: nan | Customer_Phone_sf: nan | From__sf: nan | Customer_Email_sf: nan | Invoice_Id_sf: nan | Table_No_sf: nan | Order_Type_sf: nan | Answer_sf: nan | Created_sf: nan | PAX: nan | Biller_BSR: TAPASH  | First_Print_Date_BSR: 2024-05-05 21:06:54 UTC | Last_Settlement_Date_BSR: 2024-05-05 21:09:01 UTC | Duration__In_Minutes_BSR: 2.0 | Settled_By_BSR: sachind | area_co: nan | order_cancel_reason_co: nan | Cancelled_Invoice_Total_co: nan | Discount_Order_Type_DSR: nan | Biller_Name: nan | Discount_DSR: nan | Reason_DSR: nan | Food_Preparation_Time_Z: nan | Food_Preparation_Time_S: nan | Zomato_Delivery_Time: nan | Swiggy_Delivery_Time: nan | amount_from: nan | amount_to: nan | modified_by: nan | modify_comment: nan | electron_pos: nan | bill_no: nan | invoice_no: nan | date_orap: nan | has_anomaly: No | anomaly_priority: nan | anomaly_payment_mismatch: 0 | anomaly_missing_payment_info: 0 | anomaly_multiple_payment_types: 0 | anomaly_tax_calculation_mismatch: 0 | anomaly_zero_tax_on_taxable: 0 | anomaly_large_order_modification: 0 | anomaly_modification'),\n",
              " Document(metadata={}, page_content='tax_on_taxable: 0 | anomaly_large_order_modification: 0 | anomaly_modification_without_comment: 0 | anomaly_zomato_invoice_mismatch: 0 | anomaly_swiggy_invoice_mismatch: 0 | anomaly_long_zomato_prep_time: 0 | anomaly_long_swiggy_prep_time: 0 | anomaly_zomato_missing_delivery_time: 0 | anomaly_swiggy_missing_delivery_time: 0 | anomaly_high_discount: 0 | anomaly_discount_without_reason: 0 | anomaly_zomato_status_mismatch: 0 | anomaly_swiggy_status_mismatch: 0 | anomaly_extreme_settlement_time: 0 | anomaly_unusual_settlement_time: 0 | anomaly_long_bill_settlement: 0 | anomaly_missing_server_name: 0 | anomaly_zomato_missing_customer: 0 | anomaly_swiggy_missing_customer: 0 | anomaly_suspicious_pax: 0 | anomaly_price_inconsistency: 0 | pattern_risk: Low Risk | reason_pattern_risk: is_cash'),\n",
              " Document(metadata={}, page_content='Date: 29-03-2025 | Timestamp: 2025-03-29 22:45:03 UTC | Invoice_No_: 22351 | Payment_Type: Other [ZOMATO PAY] | Order_Type: Dine In | Area: Dine in | Item_Name: Basil Garlic Cheesy Potato | Price: 795 | Qty_: 1.0 | Sub_Total: 795.0 | Discount: 0.0 | Tax: 39.8 | Final_Total: 834.8 | Status: Success | Table_No_: 30 | Server_Name: SANDEEP | Covers: 9 | Variation: nan | Category: ORIENTAL STARTER | HSN: nan | Phone: 9844043557 | Name: YASH PAREKH | Address: nan | GST: nan | Assign_To: SANDEEP | Non_Taxable: 0.0 | CGST_Rate: 2.5 | CGST_Amount: 19.9 | SGST_Rate: 2.5 | SGST_Amount: 19.9 | VAT_Rate: 10 | VAT_Amount: 0.0 | Service_Charge_Rate: 5 | Service_Charge_Amount: 0.0 | Date_z: nan | Invoice_Date_z: nan | Aggregator_Order_No_z: nan | PoS_Invoice_No_z: nan | Order_From_z: nan | Outlet_Name_z: nan | Petpooja_Identifier_z: nan | Order_Type_z: nan | Customer_Name_z: nan | Customer_Phone_z: 9844043557 | Payment_Type_z: nan | Delivery_status_z: nan | Status_z: nan | My_amount_z: nan | Aggregator_Discount_z: nan | Outlet_Discount_z: nan | Delivery_Charges_z: nan | Container_Charges_z: nan | CGST_z: nan | SGST_z: nan | IGST_z: nan | Total_z: nan | Order_Acceptance_Time_z: nan | Order_Delivery_Time_z: nan | Reason_z: nan | Online_Tax_Calculated_z: nan | GST_Paid_by_Merchant_z: nan | GST_P'),\n",
              " Document(metadata={}, page_content='Calculated_z: nan | GST_Paid_by_Merchant_z: nan | GST_Paid_by_Ecommerce_z: nan | Restaurant_ID_z: 43557 | Client_Sharing_Code_z: nan | Identifier_z: nan | Order_ID_z: nan | Order_Status_z: nan | Received_Time_z: nan | Accepted_Time_z: nan | Mark_Ready_Time_z: nan | Rider_Arrival_Time_z: nan | Picked_up_Time_z: nan | Delivered_Time_z: nan | Cancelled_Time_z: nan | Date_s: nan | Invoice_Date_s: nan | Aggregator_Order_No_s: nan | PoS_Invoice_No_s: nan | Order_From_s: nan | Outlet_Name_s: nan | Petpooja_Identifier_s: nan | Order_Type_s: nan | Customer_Name_s: nan | Customer_Phone_s: 9844043557 | Payment_Type_s: nan | Delivery_status_s: nan | Status_s: nan | My_amount_s: nan | Aggregator_Discount_s: nan | Outlet_Discount_s: nan | Delivery_Charges_s: nan | Container_Charges_s: nan | CGST_s: nan | SGST_s: nan | IGST_s: nan | Total_s: nan | Order_Acceptance_Time_s: nan | Order_Delivery_Time_s: nan | Reason_s: nan | Online_Tax_Calculated_s: nan | GST_Paid_by_Merchant_s: nan | GST_Paid_by_Ecommerce_s: nan | Restaurant_ID_s: 43557 | Client_Sharing_Code_s: nan | Identifier_s: nan | Order_ID_s: nan | Order_Status_s: nan | Received_Time_s: nan | Accepted_Time_s: nan | Mark_Ready_Time_s: nan | Rider_Arrival_Time_s: nan | Picked_up_Time_s: nan | Delivered_Time_s: nan | Cancelled_Time_s: nan | Customer'),\n",
              " Document(metadata={}, page_content='_s: nan | Delivered_Time_s: nan | Cancelled_Time_s: nan | Customer_Name_ff: nan | Date_of_Birth_ff: nan | Date_of_Anniversary_ff: nan | Customer_Phone_ff: nan | From__ff: nan | Customer_Email_ff: nan | Invoice_Id_ff: nan | Table_No_ff: nan | Order_Type_ff: nan | Answer_ff: nan | Created_ff: nan | Customer_Name_sf: nan | Date_of_Birth_sf: nan | Date_of_Anniversary_sf: nan | Customer_Phone_sf: nan | From__sf: nan | Customer_Email_sf: nan | Invoice_Id_sf: nan | Table_No_sf: nan | Order_Type_sf: nan | Answer_sf: nan | Created_sf: nan | PAX: nan | Biller_BSR: SANDEEP | First_Print_Date_BSR: 2025-03-29 22:45:04 UTC | Last_Settlement_Date_BSR: 2025-03-29 22:54:05 UTC | Duration__In_Minutes_BSR: 9.0 | Settled_By_BSR: vijay ( | area_co: nan | order_cancel_reason_co: nan | Cancelled_Invoice_Total_co: nan | Discount_Order_Type_DSR: nan | Biller_Name: nan | Discount_DSR: nan | Reason_DSR: nan | Food_Preparation_Time_Z: nan | Food_Preparation_Time_S: nan | Zomato_Delivery_Time: nan | Swiggy_Delivery_Time: nan | amount_from: 9801.0 | amount_to: 9335.0 | modified_by: vijay ( | modify_comment: removed sc | electron_pos: 2025-03-29 22:46:42 UTC | bill_no: F22351 | invoice_no: 22351.0 | date_orap: 2025-03-29 22:45:03 UTC | has_anomaly: No | anomaly_priority: nan | anomaly_payment_mismatch: 0 | anomaly_missing_payment_info: 0 | anomaly_multiple_payment_types'),\n",
              " Document(metadata={}, page_content='_mismatch: 0 | anomaly_missing_payment_info: 0 | anomaly_multiple_payment_types: 0 | anomaly_tax_calculation_mismatch: 0 | anomaly_zero_tax_on_taxable: 0 | anomaly_large_order_modification: 0 | anomaly_modification_without_comment: 0 | anomaly_zomato_invoice_mismatch: 0 | anomaly_swiggy_invoice_mismatch: 0 | anomaly_long_zomato_prep_time: 0 | anomaly_long_swiggy_prep_time: 0 | anomaly_zomato_missing_delivery_time: 0 | anomaly_swiggy_missing_delivery_time: 0 | anomaly_high_discount: 0 | anomaly_discount_without_reason: 0 | anomaly_zomato_status_mismatch: 0 | anomaly_swiggy_status_mismatch: 0 | anomaly_extreme_settlement_time: 0 | anomaly_unusual_settlement_time: 0 | anomaly_long_bill_settlement: 0 | anomaly_missing_server_name: 0 | anomaly_zomato_missing_customer: 0 | anomaly_swiggy_missing_customer: 0 | anomaly_suspicious_pax: 0 | anomaly_price_inconsistency: 0 | pattern_risk: Low Risk | reason_pattern_risk: nan'),\n",
              " Document(metadata={}, page_content='Date: 04-10-2024 | Timestamp: 2024-10-04 18:53:25 UTC | Invoice_No_: C1984 | Payment_Type: Cash | Order_Type: Dine In | Area: Garden Table | Item_Name: PANEER CHILLY DRY | Price: 795 | Qty_: 1.0 | Sub_Total: 795.0 | Discount: 0.0 | Tax: 79.6 | Final_Total: 874.6 | Status: Complimentary | Table_No_: G 5 | Server_Name: TAPASH | Covers: 3 | Variation: nan | Category: ORIENTAL STARTER | HSN: nan | Phone: 9843950806 | Name: PHOTO SHOOT | Address: nan | GST: nan | Assign_To: nan | Non_Taxable: 0.0 | CGST_Rate: 2.5 | CGST_Amount: 19.9 | SGST_Rate: 2.5 | SGST_Amount: 19.9 | VAT_Rate: 10 | VAT_Amount: 0.0 | Service_Charge_Rate: 5 | Service_Charge_Amount: 39.8 | Date_z: nan | Invoice_Date_z: nan | Aggregator_Order_No_z: nan | PoS_Invoice_No_z: nan | Order_From_z: nan | Outlet_Name_z: nan | Petpooja_Identifier_z: nan | Order_Type_z: nan | Customer_Name_z: nan | Customer_Phone_z: 9843950806 | Payment_Type_z: nan | Delivery_status_z: nan | Status_z: nan | My_amount_z: nan | Aggregator_Discount_z: nan | Outlet_Discount_z: nan | Delivery_Charges_z: nan | Container_Charges_z: nan | CGST_z: nan | SGST_z: nan | IGST_z: nan | Total_z: nan | Order_Acceptance_Time_z: nan | Order_Delivery_Time_z: nan | Reason_z: nan | Online_Tax_Calculated_z: nan | GST_Paid_by_Merchant_z: nan | GST_Paid_by_Ecommerce_z'),\n",
              " Document(metadata={}, page_content='_Paid_by_Merchant_z: nan | GST_Paid_by_Ecommerce_z: nan | Restaurant_ID_z: 950806 | Client_Sharing_Code_z: nan | Identifier_z: nan | Order_ID_z: nan | Order_Status_z: nan | Received_Time_z: nan | Accepted_Time_z: nan | Mark_Ready_Time_z: nan | Rider_Arrival_Time_z: nan | Picked_up_Time_z: nan | Delivered_Time_z: nan | Cancelled_Time_z: nan | Date_s: nan | Invoice_Date_s: nan | Aggregator_Order_No_s: nan | PoS_Invoice_No_s: nan | Order_From_s: nan | Outlet_Name_s: nan | Petpooja_Identifier_s: nan | Order_Type_s: nan | Customer_Name_s: nan | Customer_Phone_s: 9843950806 | Payment_Type_s: nan | Delivery_status_s: nan | Status_s: nan | My_amount_s: nan | Aggregator_Discount_s: nan | Outlet_Discount_s: nan | Delivery_Charges_s: nan | Container_Charges_s: nan | CGST_s: nan | SGST_s: nan | IGST_s: nan | Total_s: nan | Order_Acceptance_Time_s: nan | Order_Delivery_Time_s: nan | Reason_s: nan | Online_Tax_Calculated_s: nan | GST_Paid_by_Merchant_s: nan | GST_Paid_by_Ecommerce_s: nan | Restaurant_ID_s: 950806 | Client_Sharing_Code_s: nan | Identifier_s: nan | Order_ID_s: nan | Order_Status_s: nan | Received_Time_s: nan | Accepted_Time_s: nan | Mark_Ready_Time_s: nan | Rider_Arrival_Time_s: nan | Picked_up_Time_s: nan | Delivered_Time_s: nan | Cancelled_Time_s: nan | Customer_Name_ff: nan | Date'),\n",
              " Document(metadata={}, page_content='Time_s: nan | Cancelled_Time_s: nan | Customer_Name_ff: nan | Date_of_Birth_ff: nan | Date_of_Anniversary_ff: nan | Customer_Phone_ff: nan | From__ff: nan | Customer_Email_ff: nan | Invoice_Id_ff: nan | Table_No_ff: nan | Order_Type_ff: nan | Answer_ff: nan | Created_ff: nan | Customer_Name_sf: nan | Date_of_Birth_sf: nan | Date_of_Anniversary_sf: nan | Customer_Phone_sf: nan | From__sf: nan | Customer_Email_sf: nan | Invoice_Id_sf: nan | Table_No_sf: nan | Order_Type_sf: nan | Answer_sf: nan | Created_sf: nan | PAX: nan | Biller_BSR: nan | First_Print_Date_BSR: nan | Last_Settlement_Date_BSR: nan | Duration__In_Minutes_BSR: nan | Settled_By_BSR: nan | area_co: nan | order_cancel_reason_co: nan | Cancelled_Invoice_Total_co: nan | Discount_Order_Type_DSR: nan | Biller_Name: nan | Discount_DSR: nan | Reason_DSR: nan | Food_Preparation_Time_Z: nan | Food_Preparation_Time_S: nan | Zomato_Delivery_Time: nan | Swiggy_Delivery_Time: nan | amount_from: nan | amount_to: nan | modified_by: nan | modify_comment: nan | electron_pos: nan | bill_no: nan | invoice_no: nan | date_orap: nan | has_anomaly: No | anomaly_priority: nan | anomaly_payment_mismatch: 0 | anomaly_missing_payment_info: 0 | anomaly_multiple_payment_types: 0 | anomaly_tax_calculation_mismatch: 0 | anomaly_zero_tax_on_taxable: 0 | anomaly_large_order_modification: 0 | anomaly_modification_without_comment: 0 | anomaly_zomato_invoice_mismatch: 0 | anomaly_swig'),\n",
              " Document(metadata={}, page_content='_comment: 0 | anomaly_zomato_invoice_mismatch: 0 | anomaly_swiggy_invoice_mismatch: 0 | anomaly_long_zomato_prep_time: 0 | anomaly_long_swiggy_prep_time: 0 | anomaly_zomato_missing_delivery_time: 0 | anomaly_swiggy_missing_delivery_time: 0 | anomaly_high_discount: 0 | anomaly_discount_without_reason: 0 | anomaly_zomato_status_mismatch: 0 | anomaly_swiggy_status_mismatch: 0 | anomaly_extreme_settlement_time: 0 | anomaly_unusual_settlement_time: 0 | anomaly_long_bill_settlement: 0 | anomaly_missing_server_name: 0 | anomaly_zomato_missing_customer: 0 | anomaly_swiggy_missing_customer: 0 | anomaly_suspicious_pax: 0 | anomaly_price_inconsistency: 0 | pattern_risk: Low Risk | reason_pattern_risk: is_cash'),\n",
              " Document(metadata={}, page_content='Date: 30-10-2024 | Timestamp: 2024-10-30 15:25:36 UTC | Invoice_No_: 12615 | Payment_Type: CARD | Order_Type: Dine In | Area: Dine in | Item_Name: Dum Pukht Biryani (VEG) | Price: 795 | Qty_: 1.0 | Sub_Total: 795.0 | Discount: 0.0 | Tax: 79.6 | Final_Total: 874.6 | Status: Success | Table_No_: 15 | Server_Name: TANMOY  | Covers: 5 | Variation: VEG | Category: INDIAN BIRYANI & PULAO | HSN: nan | Phone: 9813566106 | Name: DR RAJSHREE | Address: nan | GST: nan | Assign_To: TANMOY  | Non_Taxable: 0.0 | CGST_Rate: 2.5 | CGST_Amount: 19.9 | SGST_Rate: 2.5 | SGST_Amount: 19.9 | VAT_Rate: 10 | VAT_Amount: 0.0 | Service_Charge_Rate: 5 | Service_Charge_Amount: 39.8 | Date_z: nan | Invoice_Date_z: nan | Aggregator_Order_No_z: nan | PoS_Invoice_No_z: nan | Order_From_z: nan | Outlet_Name_z: nan | Petpooja_Identifier_z: nan | Order_Type_z: nan | Customer_Name_z: nan | Customer_Phone_z: 9813566106 | Payment_Type_z: nan | Delivery_status_z: nan | Status_z: nan | My_amount_z: nan | Aggregator_Discount_z: nan | Outlet_Discount_z: nan | Delivery_Charges_z: nan | Container_Charges_z: nan | CGST_z: nan | SGST_z: nan | IGST_z: nan | Total_z: nan | Order_Acceptance_Time_z: nan | Order_Delivery_Time_z: nan | Reason_z: nan | Online_Tax_Calculated_z: nan | GST_Paid_by_Merchant_z'),\n",
              " Document(metadata={}, page_content=' nan | Online_Tax_Calculated_z: nan | GST_Paid_by_Merchant_z: nan | GST_Paid_by_Ecommerce_z: nan | Restaurant_ID_z: 566106 | Client_Sharing_Code_z: nan | Identifier_z: nan | Order_ID_z: nan | Order_Status_z: nan | Received_Time_z: nan | Accepted_Time_z: nan | Mark_Ready_Time_z: nan | Rider_Arrival_Time_z: nan | Picked_up_Time_z: nan | Delivered_Time_z: nan | Cancelled_Time_z: nan | Date_s: nan | Invoice_Date_s: nan | Aggregator_Order_No_s: nan | PoS_Invoice_No_s: nan | Order_From_s: nan | Outlet_Name_s: nan | Petpooja_Identifier_s: nan | Order_Type_s: nan | Customer_Name_s: nan | Customer_Phone_s: 9813566106 | Payment_Type_s: nan | Delivery_status_s: nan | Status_s: nan | My_amount_s: nan | Aggregator_Discount_s: nan | Outlet_Discount_s: nan | Delivery_Charges_s: nan | Container_Charges_s: nan | CGST_s: nan | SGST_s: nan | IGST_s: nan | Total_s: nan | Order_Acceptance_Time_s: nan | Order_Delivery_Time_s: nan | Reason_s: nan | Online_Tax_Calculated_s: nan | GST_Paid_by_Merchant_s: nan | GST_Paid_by_Ecommerce_s: nan | Restaurant_ID_s: 566106 | Client_Sharing_Code_s: nan | Identifier_s: nan | Order_ID_s: nan | Order_Status_s: nan | Received_Time_s: nan | Accepted_Time_s: nan | Mark_Ready_Time_s: nan | Rider_Arrival_Time_s: nan | Picked_up_Time_s: nan | Delivered_Time_s: nan | Cancelled_'),\n",
              " Document(metadata={}, page_content=' | Picked_up_Time_s: nan | Delivered_Time_s: nan | Cancelled_Time_s: nan | Customer_Name_ff: nan | Date_of_Birth_ff: nan | Date_of_Anniversary_ff: nan | Customer_Phone_ff: nan | From__ff: nan | Customer_Email_ff: nan | Invoice_Id_ff: nan | Table_No_ff: nan | Order_Type_ff: nan | Answer_ff: nan | Created_ff: nan | Customer_Name_sf: nan | Date_of_Birth_sf: nan | Date_of_Anniversary_sf: nan | Customer_Phone_sf: nan | From__sf: nan | Customer_Email_sf: nan | Invoice_Id_sf: nan | Table_No_sf: nan | Order_Type_sf: nan | Answer_sf: nan | Created_sf: nan | PAX: nan | Biller_BSR: TANMOY  | First_Print_Date_BSR: 2024-10-30 15:25:37 UTC | Last_Settlement_Date_BSR: 2024-10-30 15:42:08 UTC | Duration__In_Minutes_BSR: 16.0 | Settled_By_BSR: vijay ( | area_co: nan | order_cancel_reason_co: nan | Cancelled_Invoice_Total_co: nan | Discount_Order_Type_DSR: nan | Biller_Name: nan | Discount_DSR: nan | Reason_DSR: nan | Food_Preparation_Time_Z: nan | Food_Preparation_Time_S: nan | Zomato_Delivery_Time: nan | Swiggy_Delivery_Time: nan | amount_from: nan | amount_to: nan | modified_by: nan | modify_comment: nan | electron_pos: nan | bill_no: nan | invoice_no: nan | date_orap: nan | has_anomaly: Yes | anomaly_priority: Medium | anomaly_payment_mismatch: 0 | anomaly_missing_payment_info: 0 | anomaly_multiple_payment_types: 0 | anomaly_tax_calculation_mismatch: 0 | anomaly_zero_tax_on_taxable'),\n",
              " Document(metadata={}, page_content=' | anomaly_tax_calculation_mismatch: 0 | anomaly_zero_tax_on_taxable: 0 | anomaly_large_order_modification: 0 | anomaly_modification_without_comment: 0 | anomaly_zomato_invoice_mismatch: 0 | anomaly_swiggy_invoice_mismatch: 0 | anomaly_long_zomato_prep_time: 0 | anomaly_long_swiggy_prep_time: 0 | anomaly_zomato_missing_delivery_time: 0 | anomaly_swiggy_missing_delivery_time: 0 | anomaly_high_discount: 0 | anomaly_discount_without_reason: 0 | anomaly_zomato_status_mismatch: 0 | anomaly_swiggy_status_mismatch: 0 | anomaly_extreme_settlement_time: 0 | anomaly_unusual_settlement_time: 1 | anomaly_long_bill_settlement: 0 | anomaly_missing_server_name: 0 | anomaly_zomato_missing_customer: 0 | anomaly_swiggy_missing_customer: 0 | anomaly_suspicious_pax: 0 | anomaly_price_inconsistency: 0 | pattern_risk: Low Risk | reason_pattern_risk: is_card_payment'),\n",
              " Document(metadata={}, page_content='Date: 30-08-2024 | Timestamp: 2024-08-30 22:13:37 UTC | Invoice_No_: 8847 | Payment_Type: CARD | Order_Type: Dine In | Area: Garden Table | Item_Name: BROWNIE SUNDAE | Price: 395 | Qty_: 1.0 | Sub_Total: 395.0 | Discount: 0.0 | Tax: 39.6 | Final_Total: 434.6 | Status: Success | Table_No_: G 5 | Server_Name: TANMOY  | Covers: 6 | Variation: nan | Category: BAKERY DESSERTS | HSN: nan | Phone: 9819872420 | Name: radhika | Address: nan | GST: nan | Assign_To: TANMOY  | Non_Taxable: 0.0 | CGST_Rate: 2.5 | CGST_Amount: 9.9 | SGST_Rate: 2.5 | SGST_Amount: 9.9 | VAT_Rate: 10 | VAT_Amount: 0.0 | Service_Charge_Rate: 5 | Service_Charge_Amount: 19.8 | Date_z: nan | Invoice_Date_z: nan | Aggregator_Order_No_z: nan | PoS_Invoice_No_z: nan | Order_From_z: nan | Outlet_Name_z: nan | Petpooja_Identifier_z: nan | Order_Type_z: nan | Customer_Name_z: nan | Customer_Phone_z: 9819872420 | Payment_Type_z: nan | Delivery_status_z: nan | Status_z: nan | My_amount_z: nan | Aggregator_Discount_z: nan | Outlet_Discount_z: nan | Delivery_Charges_z: nan | Container_Charges_z: nan | CGST_z: nan | SGST_z: nan | IGST_z: nan | Total_z: nan | Order_Acceptance_Time_z: nan | Order_Delivery_Time_z: nan | Reason_z: nan | Online_Tax_Calculated_z: nan | GST_Paid_by_Merchant_z: nan | GST_Paid_by_Ecommerce_z'),\n",
              " Document(metadata={}, page_content='_Paid_by_Merchant_z: nan | GST_Paid_by_Ecommerce_z: nan | Restaurant_ID_z: 872420 | Client_Sharing_Code_z: nan | Identifier_z: nan | Order_ID_z: nan | Order_Status_z: nan | Received_Time_z: nan | Accepted_Time_z: nan | Mark_Ready_Time_z: nan | Rider_Arrival_Time_z: nan | Picked_up_Time_z: nan | Delivered_Time_z: nan | Cancelled_Time_z: nan | Date_s: nan | Invoice_Date_s: nan | Aggregator_Order_No_s: nan | PoS_Invoice_No_s: nan | Order_From_s: nan | Outlet_Name_s: nan | Petpooja_Identifier_s: nan | Order_Type_s: nan | Customer_Name_s: nan | Customer_Phone_s: 9819872420 | Payment_Type_s: nan | Delivery_status_s: nan | Status_s: nan | My_amount_s: nan | Aggregator_Discount_s: nan | Outlet_Discount_s: nan | Delivery_Charges_s: nan | Container_Charges_s: nan | CGST_s: nan | SGST_s: nan | IGST_s: nan | Total_s: nan | Order_Acceptance_Time_s: nan | Order_Delivery_Time_s: nan | Reason_s: nan | Online_Tax_Calculated_s: nan | GST_Paid_by_Merchant_s: nan | GST_Paid_by_Ecommerce_s: nan | Restaurant_ID_s: 872420 | Client_Sharing_Code_s: nan | Identifier_s: nan | Order_ID_s: nan | Order_Status_s: nan | Received_Time_s: nan | Accepted_Time_s: nan | Mark_Ready_Time_s: nan | Rider_Arrival_Time_s: nan | Picked_up_Time_s: nan | Delivered_Time_s: nan | Cancelled_Time_s: nan | Customer_Name_ff: nan |'),\n",
              " Document(metadata={}, page_content='_Time_s: nan | Cancelled_Time_s: nan | Customer_Name_ff: nan | Date_of_Birth_ff: nan | Date_of_Anniversary_ff: nan | Customer_Phone_ff: nan | From__ff: nan | Customer_Email_ff: nan | Invoice_Id_ff: nan | Table_No_ff: nan | Order_Type_ff: nan | Answer_ff: nan | Created_ff: nan | Customer_Name_sf: nan | Date_of_Birth_sf: nan | Date_of_Anniversary_sf: nan | Customer_Phone_sf: nan | From__sf: nan | Customer_Email_sf: nan | Invoice_Id_sf: nan | Table_No_sf: nan | Order_Type_sf: nan | Answer_sf: nan | Created_sf: nan | PAX: nan | Biller_BSR: TANMOY  | First_Print_Date_BSR: 2024-08-30 22:13:38 UTC | Last_Settlement_Date_BSR: 2024-08-30 22:15:44 UTC | Duration__In_Minutes_BSR: 2.0 | Settled_By_BSR: vijay ( | area_co: nan | order_cancel_reason_co: nan | Cancelled_Invoice_Total_co: nan | Discount_Order_Type_DSR: nan | Biller_Name: nan | Discount_DSR: nan | Reason_DSR: nan | Food_Preparation_Time_Z: nan | Food_Preparation_Time_S: nan | Zomato_Delivery_Time: nan | Swiggy_Delivery_Time: nan | amount_from: nan | amount_to: nan | modified_by: nan | modify_comment: nan | electron_pos: nan | bill_no: nan | invoice_no: nan | date_orap: nan | has_anomaly: Yes | anomaly_priority: Low | anomaly_payment_mismatch: 0 | anomaly_missing_payment_info: 0 | anomaly_multiple_payment_types: 0 | anomaly_tax_calculation_mismatch: 0 | anomaly_zero_tax_on_taxable: 0 | anomaly_large_order_modification: 0 |'),\n",
              " Document(metadata={}, page_content=' anomaly_zero_tax_on_taxable: 0 | anomaly_large_order_modification: 0 | anomaly_modification_without_comment: 0 | anomaly_zomato_invoice_mismatch: 0 | anomaly_swiggy_invoice_mismatch: 0 | anomaly_long_zomato_prep_time: 0 | anomaly_long_swiggy_prep_time: 0 | anomaly_zomato_missing_delivery_time: 0 | anomaly_swiggy_missing_delivery_time: 0 | anomaly_high_discount: 0 | anomaly_discount_without_reason: 0 | anomaly_zomato_status_mismatch: 0 | anomaly_swiggy_status_mismatch: 0 | anomaly_extreme_settlement_time: 0 | anomaly_unusual_settlement_time: 0 | anomaly_long_bill_settlement: 0 | anomaly_missing_server_name: 0 | anomaly_zomato_missing_customer: 0 | anomaly_swiggy_missing_customer: 0 | anomaly_suspicious_pax: 0 | anomaly_price_inconsistency: 1 | pattern_risk: Low Risk | reason_pattern_risk: is_card_payment'),\n",
              " Document(metadata={}, page_content='Date: 30-10-2024 | Timestamp: 2024-10-30 15:25:36 UTC | Invoice_No_: 12615 | Payment_Type: CARD | Order_Type: Dine In | Area: Dine in | Item_Name: Bottled Water | Price: 0 | Qty_: 2.0 | Sub_Total: 0.0 | Discount: 0.0 | Tax: 0.0 | Final_Total: 0.0 | Status: Success | Table_No_: 15 | Server_Name: TANMOY  | Covers: 5 | Variation: nan | Category: Complementary | HSN: nan | Phone: 9813566106 | Name: DR RAJSHREE | Address: nan | GST: nan | Assign_To: TANMOY  | Non_Taxable: 0.0 | CGST_Rate: 2.5 | CGST_Amount: 0.0 | SGST_Rate: 2.5 | SGST_Amount: 0.0 | VAT_Rate: 10 | VAT_Amount: 0.0 | Service_Charge_Rate: 5 | Service_Charge_Amount: 0.0 | Date_z: nan | Invoice_Date_z: nan | Aggregator_Order_No_z: nan | PoS_Invoice_No_z: nan | Order_From_z: nan | Outlet_Name_z: nan | Petpooja_Identifier_z: nan | Order_Type_z: nan | Customer_Name_z: nan | Customer_Phone_z: 9813566106 | Payment_Type_z: nan | Delivery_status_z: nan | Status_z: nan | My_amount_z: nan | Aggregator_Discount_z: nan | Outlet_Discount_z: nan | Delivery_Charges_z: nan | Container_Charges_z: nan | CGST_z: nan | SGST_z: nan | IGST_z: nan | Total_z: nan | Order_Acceptance_Time_z: nan | Order_Delivery_Time_z: nan | Reason_z: nan | Online_Tax_Calculated_z: nan | GST_Paid_by_Merchant_z: nan | GST_Paid_by_Ecommerce_z: nan | Restaurant_ID'),\n",
              " Document(metadata={}, page_content='Merchant_z: nan | GST_Paid_by_Ecommerce_z: nan | Restaurant_ID_z: 566106 | Client_Sharing_Code_z: nan | Identifier_z: nan | Order_ID_z: nan | Order_Status_z: nan | Received_Time_z: nan | Accepted_Time_z: nan | Mark_Ready_Time_z: nan | Rider_Arrival_Time_z: nan | Picked_up_Time_z: nan | Delivered_Time_z: nan | Cancelled_Time_z: nan | Date_s: nan | Invoice_Date_s: nan | Aggregator_Order_No_s: nan | PoS_Invoice_No_s: nan | Order_From_s: nan | Outlet_Name_s: nan | Petpooja_Identifier_s: nan | Order_Type_s: nan | Customer_Name_s: nan | Customer_Phone_s: 9813566106 | Payment_Type_s: nan | Delivery_status_s: nan | Status_s: nan | My_amount_s: nan | Aggregator_Discount_s: nan | Outlet_Discount_s: nan | Delivery_Charges_s: nan | Container_Charges_s: nan | CGST_s: nan | SGST_s: nan | IGST_s: nan | Total_s: nan | Order_Acceptance_Time_s: nan | Order_Delivery_Time_s: nan | Reason_s: nan | Online_Tax_Calculated_s: nan | GST_Paid_by_Merchant_s: nan | GST_Paid_by_Ecommerce_s: nan | Restaurant_ID_s: 566106 | Client_Sharing_Code_s: nan | Identifier_s: nan | Order_ID_s: nan | Order_Status_s: nan | Received_Time_s: nan | Accepted_Time_s: nan | Mark_Ready_Time_s: nan | Rider_Arrival_Time_s: nan | Picked_up_Time_s: nan | Delivered_Time_s: nan | Cancelled_Time_s: nan | Customer_Name_ff: nan | Date_of_Birth_'),\n",
              " Document(metadata={}, page_content=' | Cancelled_Time_s: nan | Customer_Name_ff: nan | Date_of_Birth_ff: nan | Date_of_Anniversary_ff: nan | Customer_Phone_ff: nan | From__ff: nan | Customer_Email_ff: nan | Invoice_Id_ff: nan | Table_No_ff: nan | Order_Type_ff: nan | Answer_ff: nan | Created_ff: nan | Customer_Name_sf: nan | Date_of_Birth_sf: nan | Date_of_Anniversary_sf: nan | Customer_Phone_sf: nan | From__sf: nan | Customer_Email_sf: nan | Invoice_Id_sf: nan | Table_No_sf: nan | Order_Type_sf: nan | Answer_sf: nan | Created_sf: nan | PAX: 5.0 | Biller_BSR: TANMOY  | First_Print_Date_BSR: 2024-10-30 15:25:37 UTC | Last_Settlement_Date_BSR: 2024-10-30 15:42:08 UTC | Duration__In_Minutes_BSR: 16.0 | Settled_By_BSR: vijay ( | area_co: nan | order_cancel_reason_co: nan | Cancelled_Invoice_Total_co: nan | Discount_Order_Type_DSR: nan | Biller_Name: nan | Discount_DSR: nan | Reason_DSR: nan | Food_Preparation_Time_Z: nan | Food_Preparation_Time_S: nan | Zomato_Delivery_Time: nan | Swiggy_Delivery_Time: nan | amount_from: nan | amount_to: nan | modified_by: nan | modify_comment: nan | electron_pos: nan | bill_no: nan | invoice_no: nan | date_orap: nan | has_anomaly: Yes | anomaly_priority: Medium | anomaly_payment_mismatch: 0 | anomaly_missing_payment_info: 0 | anomaly_multiple_payment_types: 0 | anomaly_tax_calculation_mismatch: 0 | anomaly_zero_tax_on_taxable: 0 | anomaly_large_order_modification: 0 | anomaly_modification'),\n",
              " Document(metadata={}, page_content='tax_on_taxable: 0 | anomaly_large_order_modification: 0 | anomaly_modification_without_comment: 0 | anomaly_zomato_invoice_mismatch: 0 | anomaly_swiggy_invoice_mismatch: 0 | anomaly_long_zomato_prep_time: 0 | anomaly_long_swiggy_prep_time: 0 | anomaly_zomato_missing_delivery_time: 0 | anomaly_swiggy_missing_delivery_time: 0 | anomaly_high_discount: 0 | anomaly_discount_without_reason: 0 | anomaly_zomato_status_mismatch: 0 | anomaly_swiggy_status_mismatch: 0 | anomaly_extreme_settlement_time: 0 | anomaly_unusual_settlement_time: 1 | anomaly_long_bill_settlement: 0 | anomaly_missing_server_name: 0 | anomaly_zomato_missing_customer: 0 | anomaly_swiggy_missing_customer: 0 | anomaly_suspicious_pax: 0 | anomaly_price_inconsistency: 1 | pattern_risk: Low Risk | reason_pattern_risk: is_card_payment'),\n",
              " Document(metadata={}, page_content='Date: 04-10-2024 | Timestamp: 2024-10-04 18:53:25 UTC | Invoice_No_: C1984 | Payment_Type: Cash | Order_Type: Dine In | Area: Garden Table | Item_Name: Sweet Corn Soup (VEG) | Price: 365 | Qty_: 1.0 | Sub_Total: 365.0 | Discount: 0.0 | Tax: 36.5 | Final_Total: 401.5 | Status: Complimentary | Table_No_: G 5 | Server_Name: TAPASH | Covers: 3 | Variation: VEG | Category: ORIENTAL SOUPS | HSN: nan | Phone: 9843950806 | Name: PHOTO SHOOT | Address: nan | GST: nan | Assign_To: nan | Non_Taxable: 0.0 | CGST_Rate: 2.5 | CGST_Amount: 9.1 | SGST_Rate: 2.5 | SGST_Amount: 9.1 | VAT_Rate: 10 | VAT_Amount: 0.0 | Service_Charge_Rate: 5 | Service_Charge_Amount: 18.3 | Date_z: nan | Invoice_Date_z: nan | Aggregator_Order_No_z: nan | PoS_Invoice_No_z: nan | Order_From_z: nan | Outlet_Name_z: nan | Petpooja_Identifier_z: nan | Order_Type_z: nan | Customer_Name_z: nan | Customer_Phone_z: 9843950806 | Payment_Type_z: nan | Delivery_status_z: nan | Status_z: nan | My_amount_z: nan | Aggregator_Discount_z: nan | Outlet_Discount_z: nan | Delivery_Charges_z: nan | Container_Charges_z: nan | CGST_z: nan | SGST_z: nan | IGST_z: nan | Total_z: nan | Order_Acceptance_Time_z: nan | Order_Delivery_Time_z: nan | Reason_z: nan | Online_Tax_Calculated_z: nan | GST_Paid_by_Merchant_z: nan | GST_Paid_by_Ecommerce_z: nan |'),\n",
              " Document(metadata={}, page_content='_by_Merchant_z: nan | GST_Paid_by_Ecommerce_z: nan | Restaurant_ID_z: 950806 | Client_Sharing_Code_z: nan | Identifier_z: nan | Order_ID_z: nan | Order_Status_z: nan | Received_Time_z: nan | Accepted_Time_z: nan | Mark_Ready_Time_z: nan | Rider_Arrival_Time_z: nan | Picked_up_Time_z: nan | Delivered_Time_z: nan | Cancelled_Time_z: nan | Date_s: nan | Invoice_Date_s: nan | Aggregator_Order_No_s: nan | PoS_Invoice_No_s: nan | Order_From_s: nan | Outlet_Name_s: nan | Petpooja_Identifier_s: nan | Order_Type_s: nan | Customer_Name_s: nan | Customer_Phone_s: 9843950806 | Payment_Type_s: nan | Delivery_status_s: nan | Status_s: nan | My_amount_s: nan | Aggregator_Discount_s: nan | Outlet_Discount_s: nan | Delivery_Charges_s: nan | Container_Charges_s: nan | CGST_s: nan | SGST_s: nan | IGST_s: nan | Total_s: nan | Order_Acceptance_Time_s: nan | Order_Delivery_Time_s: nan | Reason_s: nan | Online_Tax_Calculated_s: nan | GST_Paid_by_Merchant_s: nan | GST_Paid_by_Ecommerce_s: nan | Restaurant_ID_s: 950806 | Client_Sharing_Code_s: nan | Identifier_s: nan | Order_ID_s: nan | Order_Status_s: nan | Received_Time_s: nan | Accepted_Time_s: nan | Mark_Ready_Time_s: nan | Rider_Arrival_Time_s: nan | Picked_up_Time_s: nan | Delivered_Time_s: nan | Cancelled_Time_s: nan | Customer_Name_ff: nan | Date_of_'),\n",
              " Document(metadata={}, page_content=': nan | Cancelled_Time_s: nan | Customer_Name_ff: nan | Date_of_Birth_ff: nan | Date_of_Anniversary_ff: nan | Customer_Phone_ff: nan | From__ff: nan | Customer_Email_ff: nan | Invoice_Id_ff: nan | Table_No_ff: nan | Order_Type_ff: nan | Answer_ff: nan | Created_ff: nan | Customer_Name_sf: nan | Date_of_Birth_sf: nan | Date_of_Anniversary_sf: nan | Customer_Phone_sf: nan | From__sf: nan | Customer_Email_sf: nan | Invoice_Id_sf: nan | Table_No_sf: nan | Order_Type_sf: nan | Answer_sf: nan | Created_sf: nan | PAX: nan | Biller_BSR: nan | First_Print_Date_BSR: nan | Last_Settlement_Date_BSR: nan | Duration__In_Minutes_BSR: nan | Settled_By_BSR: nan | area_co: nan | order_cancel_reason_co: nan | Cancelled_Invoice_Total_co: nan | Discount_Order_Type_DSR: nan | Biller_Name: nan | Discount_DSR: nan | Reason_DSR: nan | Food_Preparation_Time_Z: nan | Food_Preparation_Time_S: nan | Zomato_Delivery_Time: nan | Swiggy_Delivery_Time: nan | amount_from: nan | amount_to: nan | modified_by: nan | modify_comment: nan | electron_pos: nan | bill_no: nan | invoice_no: nan | date_orap: nan | has_anomaly: No | anomaly_priority: nan | anomaly_payment_mismatch: 0 | anomaly_missing_payment_info: 0 | anomaly_multiple_payment_types: 0 | anomaly_tax_calculation_mismatch: 0 | anomaly_zero_tax_on_taxable: 0 | anomaly_large_order_modification: 0 | anomaly_modification_without_comment: 0 | anomaly_zomato_invoice_mismatch: 0 | anomaly_swiggy_inv'),\n",
              " Document(metadata={}, page_content=' 0 | anomaly_zomato_invoice_mismatch: 0 | anomaly_swiggy_invoice_mismatch: 0 | anomaly_long_zomato_prep_time: 0 | anomaly_long_swiggy_prep_time: 0 | anomaly_zomato_missing_delivery_time: 0 | anomaly_swiggy_missing_delivery_time: 0 | anomaly_high_discount: 0 | anomaly_discount_without_reason: 0 | anomaly_zomato_status_mismatch: 0 | anomaly_swiggy_status_mismatch: 0 | anomaly_extreme_settlement_time: 0 | anomaly_unusual_settlement_time: 0 | anomaly_long_bill_settlement: 0 | anomaly_missing_server_name: 0 | anomaly_zomato_missing_customer: 0 | anomaly_swiggy_missing_customer: 0 | anomaly_suspicious_pax: 0 | anomaly_price_inconsistency: 0 | pattern_risk: Low Risk | reason_pattern_risk: is_cash'),\n",
              " Document(metadata={}, page_content='Date: 29-03-2025 | Timestamp: 2025-03-29 22:45:03 UTC | Invoice_No_: 22351 | Payment_Type: Other [ZOMATO PAY] | Order_Type: Dine In | Area: Dine in | Item_Name: Dal Tadka | Price: 525 | Qty_: 2.0 | Sub_Total: 1050.0 | Discount: 0.0 | Tax: 52.6 | Final_Total: 1102.6 | Status: Success | Table_No_: 30 | Server_Name: SANDEEP | Covers: 9 | Variation: nan | Category: INDIAN MAIN COURSE | HSN: nan | Phone: 9844043557 | Name: YASH PAREKH | Address: nan | GST: nan | Assign_To: SANDEEP | Non_Taxable: 0.0 | CGST_Rate: 2.5 | CGST_Amount: 26.3 | SGST_Rate: 2.5 | SGST_Amount: 26.3 | VAT_Rate: 10 | VAT_Amount: 0.0 | Service_Charge_Rate: 5 | Service_Charge_Amount: 0.0 | Date_z: nan | Invoice_Date_z: nan | Aggregator_Order_No_z: nan | PoS_Invoice_No_z: nan | Order_From_z: nan | Outlet_Name_z: nan | Petpooja_Identifier_z: nan | Order_Type_z: nan | Customer_Name_z: nan | Customer_Phone_z: 9844043557 | Payment_Type_z: nan | Delivery_status_z: nan | Status_z: nan | My_amount_z: nan | Aggregator_Discount_z: nan | Outlet_Discount_z: nan | Delivery_Charges_z: nan | Container_Charges_z: nan | CGST_z: nan | SGST_z: nan | IGST_z: nan | Total_z: nan | Order_Acceptance_Time_z: nan | Order_Delivery_Time_z: nan | Reason_z: nan | Online_Tax_Calculated_z: nan | GST_Paid_by_Merchant_z: nan | GST_Paid_by_'),\n",
              " Document(metadata={}, page_content=': nan | GST_Paid_by_Merchant_z: nan | GST_Paid_by_Ecommerce_z: nan | Restaurant_ID_z: 43557 | Client_Sharing_Code_z: nan | Identifier_z: nan | Order_ID_z: nan | Order_Status_z: nan | Received_Time_z: nan | Accepted_Time_z: nan | Mark_Ready_Time_z: nan | Rider_Arrival_Time_z: nan | Picked_up_Time_z: nan | Delivered_Time_z: nan | Cancelled_Time_z: nan | Date_s: nan | Invoice_Date_s: nan | Aggregator_Order_No_s: nan | PoS_Invoice_No_s: nan | Order_From_s: nan | Outlet_Name_s: nan | Petpooja_Identifier_s: nan | Order_Type_s: nan | Customer_Name_s: nan | Customer_Phone_s: 9844043557 | Payment_Type_s: nan | Delivery_status_s: nan | Status_s: nan | My_amount_s: nan | Aggregator_Discount_s: nan | Outlet_Discount_s: nan | Delivery_Charges_s: nan | Container_Charges_s: nan | CGST_s: nan | SGST_s: nan | IGST_s: nan | Total_s: nan | Order_Acceptance_Time_s: nan | Order_Delivery_Time_s: nan | Reason_s: nan | Online_Tax_Calculated_s: nan | GST_Paid_by_Merchant_s: nan | GST_Paid_by_Ecommerce_s: nan | Restaurant_ID_s: 43557 | Client_Sharing_Code_s: nan | Identifier_s: nan | Order_ID_s: nan | Order_Status_s: nan | Received_Time_s: nan | Accepted_Time_s: nan | Mark_Ready_Time_s: nan | Rider_Arrival_Time_s: nan | Picked_up_Time_s: nan | Delivered_Time_s: nan | Cancelled_Time_s: nan | Customer_Name_ff'),\n",
              " Document(metadata={}, page_content=' | Delivered_Time_s: nan | Cancelled_Time_s: nan | Customer_Name_ff: nan | Date_of_Birth_ff: nan | Date_of_Anniversary_ff: nan | Customer_Phone_ff: nan | From__ff: nan | Customer_Email_ff: nan | Invoice_Id_ff: nan | Table_No_ff: nan | Order_Type_ff: nan | Answer_ff: nan | Created_ff: nan | Customer_Name_sf: nan | Date_of_Birth_sf: nan | Date_of_Anniversary_sf: nan | Customer_Phone_sf: nan | From__sf: nan | Customer_Email_sf: nan | Invoice_Id_sf: nan | Table_No_sf: nan | Order_Type_sf: nan | Answer_sf: nan | Created_sf: nan | PAX: nan | Biller_BSR: SANDEEP | First_Print_Date_BSR: 2025-03-29 22:45:04 UTC | Last_Settlement_Date_BSR: 2025-03-29 22:54:05 UTC | Duration__In_Minutes_BSR: 9.0 | Settled_By_BSR: vijay ( | area_co: nan | order_cancel_reason_co: nan | Cancelled_Invoice_Total_co: nan | Discount_Order_Type_DSR: nan | Biller_Name: nan | Discount_DSR: nan | Reason_DSR: nan | Food_Preparation_Time_Z: nan | Food_Preparation_Time_S: nan | Zomato_Delivery_Time: nan | Swiggy_Delivery_Time: nan | amount_from: 9801.0 | amount_to: 9335.0 | modified_by: vijay ( | modify_comment: removed sc | electron_pos: 2025-03-29 22:46:42 UTC | bill_no: F22351 | invoice_no: 22351.0 | date_orap: 2025-03-29 22:45:03 UTC | has_anomaly: No | anomaly_priority: nan | anomaly_payment_mismatch: 0 | anomaly_missing_payment_info: 0 | anomaly_multiple_payment_types: 0 | anomaly'),\n",
              " Document(metadata={}, page_content=': 0 | anomaly_missing_payment_info: 0 | anomaly_multiple_payment_types: 0 | anomaly_tax_calculation_mismatch: 0 | anomaly_zero_tax_on_taxable: 0 | anomaly_large_order_modification: 0 | anomaly_modification_without_comment: 0 | anomaly_zomato_invoice_mismatch: 0 | anomaly_swiggy_invoice_mismatch: 0 | anomaly_long_zomato_prep_time: 0 | anomaly_long_swiggy_prep_time: 0 | anomaly_zomato_missing_delivery_time: 0 | anomaly_swiggy_missing_delivery_time: 0 | anomaly_high_discount: 0 | anomaly_discount_without_reason: 0 | anomaly_zomato_status_mismatch: 0 | anomaly_swiggy_status_mismatch: 0 | anomaly_extreme_settlement_time: 0 | anomaly_unusual_settlement_time: 0 | anomaly_long_bill_settlement: 0 | anomaly_missing_server_name: 0 | anomaly_zomato_missing_customer: 0 | anomaly_swiggy_missing_customer: 0 | anomaly_suspicious_pax: 0 | anomaly_price_inconsistency: 0 | pattern_risk: Low Risk | reason_pattern_risk: is_high_value'),\n",
              " Document(metadata={}, page_content='Date: 04-10-2024 | Timestamp: 2024-10-04 18:53:25 UTC | Invoice_No_: C1984 | Payment_Type: Cash | Order_Type: Dine In | Area: Garden Table | Item_Name: Bottled Water | Price: 0 | Qty_: 2.0 | Sub_Total: 0.0 | Discount: 0.0 | Tax: 0.0 | Final_Total: 0.0 | Status: Complimentary | Table_No_: G 5 | Server_Name: TAPASH | Covers: 3 | Variation: nan | Category: Complementary | HSN: nan | Phone: 9843950806 | Name: PHOTO SHOOT | Address: nan | GST: nan | Assign_To: nan | Non_Taxable: 0.0 | CGST_Rate: 2.5 | CGST_Amount: 0.0 | SGST_Rate: 2.5 | SGST_Amount: 0.0 | VAT_Rate: 10 | VAT_Amount: 0.0 | Service_Charge_Rate: 5 | Service_Charge_Amount: 0.0 | Date_z: nan | Invoice_Date_z: nan | Aggregator_Order_No_z: nan | PoS_Invoice_No_z: nan | Order_From_z: nan | Outlet_Name_z: nan | Petpooja_Identifier_z: nan | Order_Type_z: nan | Customer_Name_z: nan | Customer_Phone_z: 9843950806 | Payment_Type_z: nan | Delivery_status_z: nan | Status_z: nan | My_amount_z: nan | Aggregator_Discount_z: nan | Outlet_Discount_z: nan | Delivery_Charges_z: nan | Container_Charges_z: nan | CGST_z: nan | SGST_z: nan | IGST_z: nan | Total_z: nan | Order_Acceptance_Time_z: nan | Order_Delivery_Time_z: nan | Reason_z: nan | Online_Tax_Calculated_z: nan | GST_Paid_by_Merchant_z: nan | GST_Paid_by_Ecommerce_z: nan | Restaurant_ID_z: 950'),\n",
              " Document(metadata={}, page_content=': nan | GST_Paid_by_Ecommerce_z: nan | Restaurant_ID_z: 950806 | Client_Sharing_Code_z: nan | Identifier_z: nan | Order_ID_z: nan | Order_Status_z: nan | Received_Time_z: nan | Accepted_Time_z: nan | Mark_Ready_Time_z: nan | Rider_Arrival_Time_z: nan | Picked_up_Time_z: nan | Delivered_Time_z: nan | Cancelled_Time_z: nan | Date_s: nan | Invoice_Date_s: nan | Aggregator_Order_No_s: nan | PoS_Invoice_No_s: nan | Order_From_s: nan | Outlet_Name_s: nan | Petpooja_Identifier_s: nan | Order_Type_s: nan | Customer_Name_s: nan | Customer_Phone_s: 9843950806 | Payment_Type_s: nan | Delivery_status_s: nan | Status_s: nan | My_amount_s: nan | Aggregator_Discount_s: nan | Outlet_Discount_s: nan | Delivery_Charges_s: nan | Container_Charges_s: nan | CGST_s: nan | SGST_s: nan | IGST_s: nan | Total_s: nan | Order_Acceptance_Time_s: nan | Order_Delivery_Time_s: nan | Reason_s: nan | Online_Tax_Calculated_s: nan | GST_Paid_by_Merchant_s: nan | GST_Paid_by_Ecommerce_s: nan | Restaurant_ID_s: 950806 | Client_Sharing_Code_s: nan | Identifier_s: nan | Order_ID_s: nan | Order_Status_s: nan | Received_Time_s: nan | Accepted_Time_s: nan | Mark_Ready_Time_s: nan | Rider_Arrival_Time_s: nan | Picked_up_Time_s: nan | Delivered_Time_s: nan | Cancelled_Time_s: nan | Customer_Name_ff: nan | Date_of_Birth_ff: nan | Date'),\n",
              " Document(metadata={}, page_content='_s: nan | Customer_Name_ff: nan | Date_of_Birth_ff: nan | Date_of_Anniversary_ff: nan | Customer_Phone_ff: nan | From__ff: nan | Customer_Email_ff: nan | Invoice_Id_ff: nan | Table_No_ff: nan | Order_Type_ff: nan | Answer_ff: nan | Created_ff: nan | Customer_Name_sf: nan | Date_of_Birth_sf: nan | Date_of_Anniversary_sf: nan | Customer_Phone_sf: nan | From__sf: nan | Customer_Email_sf: nan | Invoice_Id_sf: nan | Table_No_sf: nan | Order_Type_sf: nan | Answer_sf: nan | Created_sf: nan | PAX: nan | Biller_BSR: nan | First_Print_Date_BSR: nan | Last_Settlement_Date_BSR: nan | Duration__In_Minutes_BSR: nan | Settled_By_BSR: nan | area_co: nan | order_cancel_reason_co: nan | Cancelled_Invoice_Total_co: nan | Discount_Order_Type_DSR: nan | Biller_Name: nan | Discount_DSR: nan | Reason_DSR: nan | Food_Preparation_Time_Z: nan | Food_Preparation_Time_S: nan | Zomato_Delivery_Time: nan | Swiggy_Delivery_Time: nan | amount_from: nan | amount_to: nan | modified_by: nan | modify_comment: nan | electron_pos: nan | bill_no: nan | invoice_no: nan | date_orap: nan | has_anomaly: Yes | anomaly_priority: Low | anomaly_payment_mismatch: 0 | anomaly_missing_payment_info: 0 | anomaly_multiple_payment_types: 0 | anomaly_tax_calculation_mismatch: 0 | anomaly_zero_tax_on_taxable: 0 | anomaly_large_order_modification: 0 | anomaly_modification_without_comment: 0 | anomaly_zomato_invoice_mismatch: 0 | anomaly_swiggy_invoice_mismatch: 0'),\n",
              " Document(metadata={}, page_content='_invoice_mismatch: 0 | anomaly_swiggy_invoice_mismatch: 0 | anomaly_long_zomato_prep_time: 0 | anomaly_long_swiggy_prep_time: 0 | anomaly_zomato_missing_delivery_time: 0 | anomaly_swiggy_missing_delivery_time: 0 | anomaly_high_discount: 0 | anomaly_discount_without_reason: 0 | anomaly_zomato_status_mismatch: 0 | anomaly_swiggy_status_mismatch: 0 | anomaly_extreme_settlement_time: 0 | anomaly_unusual_settlement_time: 0 | anomaly_long_bill_settlement: 0 | anomaly_missing_server_name: 0 | anomaly_zomato_missing_customer: 0 | anomaly_swiggy_missing_customer: 0 | anomaly_suspicious_pax: 0 | anomaly_price_inconsistency: 1 | pattern_risk: Low Risk | reason_pattern_risk: is_cash'),\n",
              " Document(metadata={}, page_content='Date: 30-08-2024 | Timestamp: 2024-08-30 22:13:37 UTC | Invoice_No_: 8847 | Payment_Type: CARD | Order_Type: Dine In | Area: Garden Table | Item_Name: Butter Kulcha | Price: 135 | Qty_: 1.0 | Sub_Total: 135.0 | Discount: 0.0 | Tax: 13.6 | Final_Total: 148.6 | Status: Success | Table_No_: G 5 | Server_Name: TANMOY  | Covers: 6 | Variation: nan | Category: TANDOOR BREADS | HSN: nan | Phone: 9819872420 | Name: radhika | Address: nan | GST: nan | Assign_To: TANMOY  | Non_Taxable: 0.0 | CGST_Rate: 2.5 | CGST_Amount: 3.4 | SGST_Rate: 2.5 | SGST_Amount: 3.4 | VAT_Rate: 10 | VAT_Amount: 0.0 | Service_Charge_Rate: 5 | Service_Charge_Amount: 6.8 | Date_z: nan | Invoice_Date_z: nan | Aggregator_Order_No_z: nan | PoS_Invoice_No_z: nan | Order_From_z: nan | Outlet_Name_z: nan | Petpooja_Identifier_z: nan | Order_Type_z: nan | Customer_Name_z: nan | Customer_Phone_z: 9819872420 | Payment_Type_z: nan | Delivery_status_z: nan | Status_z: nan | My_amount_z: nan | Aggregator_Discount_z: nan | Outlet_Discount_z: nan | Delivery_Charges_z: nan | Container_Charges_z: nan | CGST_z: nan | SGST_z: nan | IGST_z: nan | Total_z: nan | Order_Acceptance_Time_z: nan | Order_Delivery_Time_z: nan | Reason_z: nan | Online_Tax_Calculated_z: nan | GST_Paid_by_Merchant_z: nan | GST_Paid_by_Ecommerce_z: nan | Restaurant'),\n",
              " Document(metadata={}, page_content='by_Merchant_z: nan | GST_Paid_by_Ecommerce_z: nan | Restaurant_ID_z: 872420 | Client_Sharing_Code_z: nan | Identifier_z: nan | Order_ID_z: nan | Order_Status_z: nan | Received_Time_z: nan | Accepted_Time_z: nan | Mark_Ready_Time_z: nan | Rider_Arrival_Time_z: nan | Picked_up_Time_z: nan | Delivered_Time_z: nan | Cancelled_Time_z: nan | Date_s: nan | Invoice_Date_s: nan | Aggregator_Order_No_s: nan | PoS_Invoice_No_s: nan | Order_From_s: nan | Outlet_Name_s: nan | Petpooja_Identifier_s: nan | Order_Type_s: nan | Customer_Name_s: nan | Customer_Phone_s: 9819872420 | Payment_Type_s: nan | Delivery_status_s: nan | Status_s: nan | My_amount_s: nan | Aggregator_Discount_s: nan | Outlet_Discount_s: nan | Delivery_Charges_s: nan | Container_Charges_s: nan | CGST_s: nan | SGST_s: nan | IGST_s: nan | Total_s: nan | Order_Acceptance_Time_s: nan | Order_Delivery_Time_s: nan | Reason_s: nan | Online_Tax_Calculated_s: nan | GST_Paid_by_Merchant_s: nan | GST_Paid_by_Ecommerce_s: nan | Restaurant_ID_s: 872420 | Client_Sharing_Code_s: nan | Identifier_s: nan | Order_ID_s: nan | Order_Status_s: nan | Received_Time_s: nan | Accepted_Time_s: nan | Mark_Ready_Time_s: nan | Rider_Arrival_Time_s: nan | Picked_up_Time_s: nan | Delivered_Time_s: nan | Cancelled_Time_s: nan | Customer_Name_ff: nan | Date_of_'),\n",
              " Document(metadata={}, page_content=': nan | Cancelled_Time_s: nan | Customer_Name_ff: nan | Date_of_Birth_ff: nan | Date_of_Anniversary_ff: nan | Customer_Phone_ff: nan | From__ff: nan | Customer_Email_ff: nan | Invoice_Id_ff: nan | Table_No_ff: nan | Order_Type_ff: nan | Answer_ff: nan | Created_ff: nan | Customer_Name_sf: nan | Date_of_Birth_sf: nan | Date_of_Anniversary_sf: nan | Customer_Phone_sf: nan | From__sf: nan | Customer_Email_sf: nan | Invoice_Id_sf: nan | Table_No_sf: nan | Order_Type_sf: nan | Answer_sf: nan | Created_sf: nan | PAX: nan | Biller_BSR: TANMOY  | First_Print_Date_BSR: 2024-08-30 22:13:38 UTC | Last_Settlement_Date_BSR: 2024-08-30 22:15:44 UTC | Duration__In_Minutes_BSR: 2.0 | Settled_By_BSR: vijay ( | area_co: nan | order_cancel_reason_co: nan | Cancelled_Invoice_Total_co: nan | Discount_Order_Type_DSR: nan | Biller_Name: nan | Discount_DSR: nan | Reason_DSR: nan | Food_Preparation_Time_Z: nan | Food_Preparation_Time_S: nan | Zomato_Delivery_Time: nan | Swiggy_Delivery_Time: nan | amount_from: nan | amount_to: nan | modified_by: nan | modify_comment: nan | electron_pos: nan | bill_no: nan | invoice_no: nan | date_orap: nan | has_anomaly: No | anomaly_priority: nan | anomaly_payment_mismatch: 0 | anomaly_missing_payment_info: 0 | anomaly_multiple_payment_types: 0 | anomaly_tax_calculation_mismatch: 0 | anomaly_zero_tax_on_taxable: 0 | anomaly_large_order_modification: 0 | anomaly_modification'),\n",
              " Document(metadata={}, page_content='tax_on_taxable: 0 | anomaly_large_order_modification: 0 | anomaly_modification_without_comment: 0 | anomaly_zomato_invoice_mismatch: 0 | anomaly_swiggy_invoice_mismatch: 0 | anomaly_long_zomato_prep_time: 0 | anomaly_long_swiggy_prep_time: 0 | anomaly_zomato_missing_delivery_time: 0 | anomaly_swiggy_missing_delivery_time: 0 | anomaly_high_discount: 0 | anomaly_discount_without_reason: 0 | anomaly_zomato_status_mismatch: 0 | anomaly_swiggy_status_mismatch: 0 | anomaly_extreme_settlement_time: 0 | anomaly_unusual_settlement_time: 0 | anomaly_long_bill_settlement: 0 | anomaly_missing_server_name: 0 | anomaly_zomato_missing_customer: 0 | anomaly_swiggy_missing_customer: 0 | anomaly_suspicious_pax: 0 | anomaly_price_inconsistency: 0 | pattern_risk: Low Risk | reason_pattern_risk: is_card_payment'),\n",
              " Document(metadata={}, page_content='Date: 29-03-2025 | Timestamp: 2025-03-29 22:45:03 UTC | Invoice_No_: 22351 | Payment_Type: Other [ZOMATO PAY] | Order_Type: Dine In | Area: Dine in | Item_Name: FRESH LIME SODA | Price: 185 | Qty_: 1.0 | Sub_Total: 185.0 | Discount: 0.0 | Tax: 9.2 | Final_Total: 194.2 | Status: Success | Table_No_: 30 | Server_Name: SANDEEP | Covers: 9 | Variation: nan | Category: BAR BEVERAGES | HSN: nan | Phone: 9844043557 | Name: YASH PAREKH | Address: nan | GST: nan | Assign_To: SANDEEP | Non_Taxable: 0.0 | CGST_Rate: 2.5 | CGST_Amount: 4.6 | SGST_Rate: 2.5 | SGST_Amount: 4.6 | VAT_Rate: 10 | VAT_Amount: 0.0 | Service_Charge_Rate: 5 | Service_Charge_Amount: 0.0 | Date_z: nan | Invoice_Date_z: nan | Aggregator_Order_No_z: nan | PoS_Invoice_No_z: nan | Order_From_z: nan | Outlet_Name_z: nan | Petpooja_Identifier_z: nan | Order_Type_z: nan | Customer_Name_z: nan | Customer_Phone_z: 9844043557 | Payment_Type_z: nan | Delivery_status_z: nan | Status_z: nan | My_amount_z: nan | Aggregator_Discount_z: nan | Outlet_Discount_z: nan | Delivery_Charges_z: nan | Container_Charges_z: nan | CGST_z: nan | SGST_z: nan | IGST_z: nan | Total_z: nan | Order_Acceptance_Time_z: nan | Order_Delivery_Time_z: nan | Reason_z: nan | Online_Tax_Calculated_z: nan | GST_Paid_by_Merchant_z: nan | GST_Paid_by'),\n",
              " Document(metadata={}, page_content='z: nan | GST_Paid_by_Merchant_z: nan | GST_Paid_by_Ecommerce_z: nan | Restaurant_ID_z: 43557 | Client_Sharing_Code_z: nan | Identifier_z: nan | Order_ID_z: nan | Order_Status_z: nan | Received_Time_z: nan | Accepted_Time_z: nan | Mark_Ready_Time_z: nan | Rider_Arrival_Time_z: nan | Picked_up_Time_z: nan | Delivered_Time_z: nan | Cancelled_Time_z: nan | Date_s: nan | Invoice_Date_s: nan | Aggregator_Order_No_s: nan | PoS_Invoice_No_s: nan | Order_From_s: nan | Outlet_Name_s: nan | Petpooja_Identifier_s: nan | Order_Type_s: nan | Customer_Name_s: nan | Customer_Phone_s: 9844043557 | Payment_Type_s: nan | Delivery_status_s: nan | Status_s: nan | My_amount_s: nan | Aggregator_Discount_s: nan | Outlet_Discount_s: nan | Delivery_Charges_s: nan | Container_Charges_s: nan | CGST_s: nan | SGST_s: nan | IGST_s: nan | Total_s: nan | Order_Acceptance_Time_s: nan | Order_Delivery_Time_s: nan | Reason_s: nan | Online_Tax_Calculated_s: nan | GST_Paid_by_Merchant_s: nan | GST_Paid_by_Ecommerce_s: nan | Restaurant_ID_s: 43557 | Client_Sharing_Code_s: nan | Identifier_s: nan | Order_ID_s: nan | Order_Status_s: nan | Received_Time_s: nan | Accepted_Time_s: nan | Mark_Ready_Time_s: nan | Rider_Arrival_Time_s: nan | Picked_up_Time_s: nan | Delivered_Time_s: nan | Cancelled_Time_s: nan | Customer_Name_'),\n",
              " Document(metadata={}, page_content=' nan | Delivered_Time_s: nan | Cancelled_Time_s: nan | Customer_Name_ff: nan | Date_of_Birth_ff: nan | Date_of_Anniversary_ff: nan | Customer_Phone_ff: nan | From__ff: nan | Customer_Email_ff: nan | Invoice_Id_ff: nan | Table_No_ff: nan | Order_Type_ff: nan | Answer_ff: nan | Created_ff: nan | Customer_Name_sf: nan | Date_of_Birth_sf: nan | Date_of_Anniversary_sf: nan | Customer_Phone_sf: nan | From__sf: nan | Customer_Email_sf: nan | Invoice_Id_sf: nan | Table_No_sf: nan | Order_Type_sf: nan | Answer_sf: nan | Created_sf: nan | PAX: nan | Biller_BSR: SANDEEP | First_Print_Date_BSR: 2025-03-29 22:45:04 UTC | Last_Settlement_Date_BSR: 2025-03-29 22:54:05 UTC | Duration__In_Minutes_BSR: 9.0 | Settled_By_BSR: vijay ( | area_co: nan | order_cancel_reason_co: nan | Cancelled_Invoice_Total_co: nan | Discount_Order_Type_DSR: nan | Biller_Name: nan | Discount_DSR: nan | Reason_DSR: nan | Food_Preparation_Time_Z: nan | Food_Preparation_Time_S: nan | Zomato_Delivery_Time: nan | Swiggy_Delivery_Time: nan | amount_from: 9801.0 | amount_to: 9335.0 | modified_by: vijay ( | modify_comment: removed sc | electron_pos: 2025-03-29 22:46:42 UTC | bill_no: F22351 | invoice_no: 22351.0 | date_orap: 2025-03-29 22:45:03 UTC | has_anomaly: No | anomaly_priority: nan | anomaly_payment_mismatch: 0 | anomaly_missing_payment_info: 0 | anomaly_multiple_payment_types: 0 |'),\n",
              " Document(metadata={}, page_content='atch: 0 | anomaly_missing_payment_info: 0 | anomaly_multiple_payment_types: 0 | anomaly_tax_calculation_mismatch: 0 | anomaly_zero_tax_on_taxable: 0 | anomaly_large_order_modification: 0 | anomaly_modification_without_comment: 0 | anomaly_zomato_invoice_mismatch: 0 | anomaly_swiggy_invoice_mismatch: 0 | anomaly_long_zomato_prep_time: 0 | anomaly_long_swiggy_prep_time: 0 | anomaly_zomato_missing_delivery_time: 0 | anomaly_swiggy_missing_delivery_time: 0 | anomaly_high_discount: 0 | anomaly_discount_without_reason: 0 | anomaly_zomato_status_mismatch: 0 | anomaly_swiggy_status_mismatch: 0 | anomaly_extreme_settlement_time: 0 | anomaly_unusual_settlement_time: 0 | anomaly_long_bill_settlement: 0 | anomaly_missing_server_name: 0 | anomaly_zomato_missing_customer: 0 | anomaly_swiggy_missing_customer: 0 | anomaly_suspicious_pax: 0 | anomaly_price_inconsistency: 0 | pattern_risk: Low Risk | reason_pattern_risk: nan'),\n",
              " Document(metadata={}, page_content=\"Date: 03-08-2024 | Timestamp: 2024-08-04 00:29:02 UTC | Invoice_No_: 2005 | Payment_Type: Cash | Order_Type: Dine In | Area: Dine in | Item_Name: BLENDER'S PRIDE | Price: 275 | Qty_: 2.0 | Sub_Total: 550.0 | Discount: 0.0 | Tax: 82.5 | Final_Total: 632.5 | Status: Success | Table_No_: 12 | Server_Name: vijay s | Covers: 3 | Variation: nan | Category: BAR DOMESTIC WHISKY | HSN: nan | Phone: 9881860034 | Name: nan | Address: nan | GST: 27ABDFR9342Q1ZE | Assign_To: UMESH B | Non_Taxable: 0.0 | CGST_Rate: 2.5 | CGST_Amount: 0.0 | SGST_Rate: 2.5 | SGST_Amount: 0.0 | VAT_Rate: 10 | VAT_Amount: 55.0 | Service_Charge_Rate: 5 | Service_Charge_Amount: 27.5 | Date_z: nan | Invoice_Date_z: nan | Aggregator_Order_No_z: nan | PoS_Invoice_No_z: nan | Order_From_z: nan | Outlet_Name_z: nan | Petpooja_Identifier_z: nan | Order_Type_z: nan | Customer_Name_z: nan | Customer_Phone_z: 9881860034 | Payment_Type_z: nan | Delivery_status_z: nan | Status_z: nan | My_amount_z: nan | Aggregator_Discount_z: nan | Outlet_Discount_z: nan | Delivery_Charges_z: nan | Container_Charges_z: nan | CGST_z: nan | SGST_z: nan | IGST_z: nan | Total_z: nan | Order_Acceptance_Time_z: nan | Order_Delivery_Time_z: nan | Reason_z: nan | Online_Tax_Calculated_z: nan | GST_Paid_by_Merchant_z: nan | GST_Paid_by\"),\n",
              " Document(metadata={}, page_content='z: nan | GST_Paid_by_Merchant_z: nan | GST_Paid_by_Ecommerce_z: nan | Restaurant_ID_z: 860034 | Client_Sharing_Code_z: nan | Identifier_z: nan | Order_ID_z: nan | Order_Status_z: nan | Received_Time_z: nan | Accepted_Time_z: nan | Mark_Ready_Time_z: nan | Rider_Arrival_Time_z: nan | Picked_up_Time_z: nan | Delivered_Time_z: nan | Cancelled_Time_z: nan | Date_s: nan | Invoice_Date_s: nan | Aggregator_Order_No_s: nan | PoS_Invoice_No_s: nan | Order_From_s: nan | Outlet_Name_s: nan | Petpooja_Identifier_s: nan | Order_Type_s: nan | Customer_Name_s: nan | Customer_Phone_s: 9881860034 | Payment_Type_s: nan | Delivery_status_s: nan | Status_s: nan | My_amount_s: nan | Aggregator_Discount_s: nan | Outlet_Discount_s: nan | Delivery_Charges_s: nan | Container_Charges_s: nan | CGST_s: nan | SGST_s: nan | IGST_s: nan | Total_s: nan | Order_Acceptance_Time_s: nan | Order_Delivery_Time_s: nan | Reason_s: nan | Online_Tax_Calculated_s: nan | GST_Paid_by_Merchant_s: nan | GST_Paid_by_Ecommerce_s: nan | Restaurant_ID_s: 860034 | Client_Sharing_Code_s: nan | Identifier_s: nan | Order_ID_s: nan | Order_Status_s: nan | Received_Time_s: nan | Accepted_Time_s: nan | Mark_Ready_Time_s: nan | Rider_Arrival_Time_s: nan | Picked_up_Time_s: nan | Delivered_Time_s: nan | Cancelled_Time_s: nan | Customer_'),\n",
              " Document(metadata={}, page_content='s: nan | Delivered_Time_s: nan | Cancelled_Time_s: nan | Customer_Name_ff: nan | Date_of_Birth_ff: nan | Date_of_Anniversary_ff: nan | Customer_Phone_ff: nan | From__ff: nan | Customer_Email_ff: nan | Invoice_Id_ff: nan | Table_No_ff: nan | Order_Type_ff: nan | Answer_ff: nan | Created_ff: nan | Customer_Name_sf: nan | Date_of_Birth_sf: nan | Date_of_Anniversary_sf: nan | Customer_Phone_sf: nan | From__sf: nan | Customer_Email_sf: nan | Invoice_Id_sf: nan | Table_No_sf: nan | Order_Type_sf: nan | Answer_sf: nan | Created_sf: nan | PAX: nan | Biller_BSR: vijay ( | First_Print_Date_BSR: 2024-08-04 00:29:02 UTC | Last_Settlement_Date_BSR: 2024-08-04 00:38:16 UTC | Duration__In_Minutes_BSR: 9.0 | Settled_By_BSR: vijay ( | area_co: nan | order_cancel_reason_co: nan | Cancelled_Invoice_Total_co: nan | Discount_Order_Type_DSR: nan | Biller_Name: nan | Discount_DSR: nan | Reason_DSR: nan | Food_Preparation_Time_Z: nan | Food_Preparation_Time_S: nan | Zomato_Delivery_Time: nan | Swiggy_Delivery_Time: nan | amount_from: nan | amount_to: nan | modified_by: nan | modify_comment: nan | electron_pos: nan | bill_no: nan | invoice_no: nan | date_orap: nan | has_anomaly: No | anomaly_priority: nan | anomaly_payment_mismatch: 0 | anomaly_missing_payment_info: 0 | anomaly_multiple_payment_types: 0 | anomaly_tax_calculation_mismatch: 0 | anomaly_zero_tax_on_taxable: 0 | anomaly_large_order_'),\n",
              " Document(metadata={}, page_content='ismatch: 0 | anomaly_zero_tax_on_taxable: 0 | anomaly_large_order_modification: 0 | anomaly_modification_without_comment: 0 | anomaly_zomato_invoice_mismatch: 0 | anomaly_swiggy_invoice_mismatch: 0 | anomaly_long_zomato_prep_time: 0 | anomaly_long_swiggy_prep_time: 0 | anomaly_zomato_missing_delivery_time: 0 | anomaly_swiggy_missing_delivery_time: 0 | anomaly_high_discount: 0 | anomaly_discount_without_reason: 0 | anomaly_zomato_status_mismatch: 0 | anomaly_swiggy_status_mismatch: 0 | anomaly_extreme_settlement_time: 0 | anomaly_unusual_settlement_time: 0 | anomaly_long_bill_settlement: 0 | anomaly_missing_server_name: 0 | anomaly_zomato_missing_customer: 0 | anomaly_swiggy_missing_customer: 0 | anomaly_suspicious_pax: 0 | anomaly_price_inconsistency: 0 | pattern_risk: Low Risk | reason_pattern_risk: is_cash, is_odd_hour'),\n",
              " Document(metadata={}, page_content='Date: 30-08-2024 | Timestamp: 2024-08-30 22:13:37 UTC | Invoice_No_: 8847 | Payment_Type: CARD | Order_Type: Dine In | Area: Garden Table | Item_Name: Ginger Ale | Price: 195 | Qty_: 1.0 | Sub_Total: 195.0 | Discount: 0.0 | Tax: 19.6 | Final_Total: 214.6 | Status: Success | Table_No_: G 5 | Server_Name: TANMOY  | Covers: 6 | Variation: nan | Category: BAR BEVERAGES | HSN: nan | Phone: 9819872420 | Name: radhika | Address: nan | GST: nan | Assign_To: TANMOY  | Non_Taxable: 0.0 | CGST_Rate: 2.5 | CGST_Amount: 4.9 | SGST_Rate: 2.5 | SGST_Amount: 4.9 | VAT_Rate: 10 | VAT_Amount: 0.0 | Service_Charge_Rate: 5 | Service_Charge_Amount: 9.8 | Date_z: nan | Invoice_Date_z: nan | Aggregator_Order_No_z: nan | PoS_Invoice_No_z: nan | Order_From_z: nan | Outlet_Name_z: nan | Petpooja_Identifier_z: nan | Order_Type_z: nan | Customer_Name_z: nan | Customer_Phone_z: 9819872420 | Payment_Type_z: nan | Delivery_status_z: nan | Status_z: nan | My_amount_z: nan | Aggregator_Discount_z: nan | Outlet_Discount_z: nan | Delivery_Charges_z: nan | Container_Charges_z: nan | CGST_z: nan | SGST_z: nan | IGST_z: nan | Total_z: nan | Order_Acceptance_Time_z: nan | Order_Delivery_Time_z: nan | Reason_z: nan | Online_Tax_Calculated_z: nan | GST_Paid_by_Merchant_z: nan | GST_Paid_by_Ecommerce_z: nan | Restaurant_ID_z'),\n",
              " Document(metadata={}, page_content='_z: nan | GST_Paid_by_Ecommerce_z: nan | Restaurant_ID_z: 872420 | Client_Sharing_Code_z: nan | Identifier_z: nan | Order_ID_z: nan | Order_Status_z: nan | Received_Time_z: nan | Accepted_Time_z: nan | Mark_Ready_Time_z: nan | Rider_Arrival_Time_z: nan | Picked_up_Time_z: nan | Delivered_Time_z: nan | Cancelled_Time_z: nan | Date_s: nan | Invoice_Date_s: nan | Aggregator_Order_No_s: nan | PoS_Invoice_No_s: nan | Order_From_s: nan | Outlet_Name_s: nan | Petpooja_Identifier_s: nan | Order_Type_s: nan | Customer_Name_s: nan | Customer_Phone_s: 9819872420 | Payment_Type_s: nan | Delivery_status_s: nan | Status_s: nan | My_amount_s: nan | Aggregator_Discount_s: nan | Outlet_Discount_s: nan | Delivery_Charges_s: nan | Container_Charges_s: nan | CGST_s: nan | SGST_s: nan | IGST_s: nan | Total_s: nan | Order_Acceptance_Time_s: nan | Order_Delivery_Time_s: nan | Reason_s: nan | Online_Tax_Calculated_s: nan | GST_Paid_by_Merchant_s: nan | GST_Paid_by_Ecommerce_s: nan | Restaurant_ID_s: 872420 | Client_Sharing_Code_s: nan | Identifier_s: nan | Order_ID_s: nan | Order_Status_s: nan | Received_Time_s: nan | Accepted_Time_s: nan | Mark_Ready_Time_s: nan | Rider_Arrival_Time_s: nan | Picked_up_Time_s: nan | Delivered_Time_s: nan | Cancelled_Time_s: nan | Customer_Name_ff: nan | Date_of_Birth_ff:'),\n",
              " Document(metadata={}, page_content='lled_Time_s: nan | Customer_Name_ff: nan | Date_of_Birth_ff: nan | Date_of_Anniversary_ff: nan | Customer_Phone_ff: nan | From__ff: nan | Customer_Email_ff: nan | Invoice_Id_ff: nan | Table_No_ff: nan | Order_Type_ff: nan | Answer_ff: nan | Created_ff: nan | Customer_Name_sf: nan | Date_of_Birth_sf: nan | Date_of_Anniversary_sf: nan | Customer_Phone_sf: nan | From__sf: nan | Customer_Email_sf: nan | Invoice_Id_sf: nan | Table_No_sf: nan | Order_Type_sf: nan | Answer_sf: nan | Created_sf: nan | PAX: nan | Biller_BSR: TANMOY  | First_Print_Date_BSR: 2024-08-30 22:13:38 UTC | Last_Settlement_Date_BSR: 2024-08-30 22:15:44 UTC | Duration__In_Minutes_BSR: 2.0 | Settled_By_BSR: vijay ( | area_co: nan | order_cancel_reason_co: nan | Cancelled_Invoice_Total_co: nan | Discount_Order_Type_DSR: nan | Biller_Name: nan | Discount_DSR: nan | Reason_DSR: nan | Food_Preparation_Time_Z: nan | Food_Preparation_Time_S: nan | Zomato_Delivery_Time: nan | Swiggy_Delivery_Time: nan | amount_from: nan | amount_to: nan | modified_by: nan | modify_comment: nan | electron_pos: nan | bill_no: nan | invoice_no: nan | date_orap: nan | has_anomaly: No | anomaly_priority: nan | anomaly_payment_mismatch: 0 | anomaly_missing_payment_info: 0 | anomaly_multiple_payment_types: 0 | anomaly_tax_calculation_mismatch: 0 | anomaly_zero_tax_on_taxable: 0 | anomaly_large_order_modification: 0 | anomaly_modification_without_comment'),\n",
              " Document(metadata={}, page_content='taxable: 0 | anomaly_large_order_modification: 0 | anomaly_modification_without_comment: 0 | anomaly_zomato_invoice_mismatch: 0 | anomaly_swiggy_invoice_mismatch: 0 | anomaly_long_zomato_prep_time: 0 | anomaly_long_swiggy_prep_time: 0 | anomaly_zomato_missing_delivery_time: 0 | anomaly_swiggy_missing_delivery_time: 0 | anomaly_high_discount: 0 | anomaly_discount_without_reason: 0 | anomaly_zomato_status_mismatch: 0 | anomaly_swiggy_status_mismatch: 0 | anomaly_extreme_settlement_time: 0 | anomaly_unusual_settlement_time: 0 | anomaly_long_bill_settlement: 0 | anomaly_missing_server_name: 0 | anomaly_zomato_missing_customer: 0 | anomaly_swiggy_missing_customer: 0 | anomaly_suspicious_pax: 0 | anomaly_price_inconsistency: 0 | pattern_risk: Low Risk | reason_pattern_risk: is_card_payment'),\n",
              " Document(metadata={}, page_content='Date: 30-08-2024 | Timestamp: 2024-08-30 22:13:37 UTC | Invoice_No_: 8847 | Payment_Type: CARD | Order_Type: Dine In | Area: Garden Table | Item_Name: LASSI | Price: 195 | Qty_: 1.0 | Sub_Total: 195.0 | Discount: 0.0 | Tax: 19.6 | Final_Total: 214.6 | Status: Success | Table_No_: G 5 | Server_Name: TANMOY  | Covers: 6 | Variation: nan | Category: PANTRY | HSN: nan | Phone: 9819872420 | Name: radhika | Address: nan | GST: nan | Assign_To: TANMOY  | Non_Taxable: 0.0 | CGST_Rate: 2.5 | CGST_Amount: 4.9 | SGST_Rate: 2.5 | SGST_Amount: 4.9 | VAT_Rate: 10 | VAT_Amount: 0.0 | Service_Charge_Rate: 5 | Service_Charge_Amount: 9.8 | Date_z: nan | Invoice_Date_z: nan | Aggregator_Order_No_z: nan | PoS_Invoice_No_z: nan | Order_From_z: nan | Outlet_Name_z: nan | Petpooja_Identifier_z: nan | Order_Type_z: nan | Customer_Name_z: nan | Customer_Phone_z: 9819872420 | Payment_Type_z: nan | Delivery_status_z: nan | Status_z: nan | My_amount_z: nan | Aggregator_Discount_z: nan | Outlet_Discount_z: nan | Delivery_Charges_z: nan | Container_Charges_z: nan | CGST_z: nan | SGST_z: nan | IGST_z: nan | Total_z: nan | Order_Acceptance_Time_z: nan | Order_Delivery_Time_z: nan | Reason_z: nan | Online_Tax_Calculated_z: nan | GST_Paid_by_Merchant_z: nan | GST_Paid_by_Ecommerce_z: nan | Restaurant_ID_z:'),\n",
              " Document(metadata={}, page_content='z: nan | GST_Paid_by_Ecommerce_z: nan | Restaurant_ID_z: 872420 | Client_Sharing_Code_z: nan | Identifier_z: nan | Order_ID_z: nan | Order_Status_z: nan | Received_Time_z: nan | Accepted_Time_z: nan | Mark_Ready_Time_z: nan | Rider_Arrival_Time_z: nan | Picked_up_Time_z: nan | Delivered_Time_z: nan | Cancelled_Time_z: nan | Date_s: nan | Invoice_Date_s: nan | Aggregator_Order_No_s: nan | PoS_Invoice_No_s: nan | Order_From_s: nan | Outlet_Name_s: nan | Petpooja_Identifier_s: nan | Order_Type_s: nan | Customer_Name_s: nan | Customer_Phone_s: 9819872420 | Payment_Type_s: nan | Delivery_status_s: nan | Status_s: nan | My_amount_s: nan | Aggregator_Discount_s: nan | Outlet_Discount_s: nan | Delivery_Charges_s: nan | Container_Charges_s: nan | CGST_s: nan | SGST_s: nan | IGST_s: nan | Total_s: nan | Order_Acceptance_Time_s: nan | Order_Delivery_Time_s: nan | Reason_s: nan | Online_Tax_Calculated_s: nan | GST_Paid_by_Merchant_s: nan | GST_Paid_by_Ecommerce_s: nan | Restaurant_ID_s: 872420 | Client_Sharing_Code_s: nan | Identifier_s: nan | Order_ID_s: nan | Order_Status_s: nan | Received_Time_s: nan | Accepted_Time_s: nan | Mark_Ready_Time_s: nan | Rider_Arrival_Time_s: nan | Picked_up_Time_s: nan | Delivered_Time_s: nan | Cancelled_Time_s: nan | Customer_Name_ff: nan | Date_of_Birth_ff: nan'),\n",
              " Document(metadata={}, page_content='_Time_s: nan | Customer_Name_ff: nan | Date_of_Birth_ff: nan | Date_of_Anniversary_ff: nan | Customer_Phone_ff: nan | From__ff: nan | Customer_Email_ff: nan | Invoice_Id_ff: nan | Table_No_ff: nan | Order_Type_ff: nan | Answer_ff: nan | Created_ff: nan | Customer_Name_sf: nan | Date_of_Birth_sf: nan | Date_of_Anniversary_sf: nan | Customer_Phone_sf: nan | From__sf: nan | Customer_Email_sf: nan | Invoice_Id_sf: nan | Table_No_sf: nan | Order_Type_sf: nan | Answer_sf: nan | Created_sf: nan | PAX: nan | Biller_BSR: TANMOY  | First_Print_Date_BSR: 2024-08-30 22:13:38 UTC | Last_Settlement_Date_BSR: 2024-08-30 22:15:44 UTC | Duration__In_Minutes_BSR: 2.0 | Settled_By_BSR: vijay ( | area_co: nan | order_cancel_reason_co: nan | Cancelled_Invoice_Total_co: nan | Discount_Order_Type_DSR: nan | Biller_Name: nan | Discount_DSR: nan | Reason_DSR: nan | Food_Preparation_Time_Z: nan | Food_Preparation_Time_S: nan | Zomato_Delivery_Time: nan | Swiggy_Delivery_Time: nan | amount_from: nan | amount_to: nan | modified_by: nan | modify_comment: nan | electron_pos: nan | bill_no: nan | invoice_no: nan | date_orap: nan | has_anomaly: No | anomaly_priority: nan | anomaly_payment_mismatch: 0 | anomaly_missing_payment_info: 0 | anomaly_multiple_payment_types: 0 | anomaly_tax_calculation_mismatch: 0 | anomaly_zero_tax_on_taxable: 0 | anomaly_large_order_modification: 0 | anomaly_modification_without_comment:'),\n",
              " Document(metadata={}, page_content='able: 0 | anomaly_large_order_modification: 0 | anomaly_modification_without_comment: 0 | anomaly_zomato_invoice_mismatch: 0 | anomaly_swiggy_invoice_mismatch: 0 | anomaly_long_zomato_prep_time: 0 | anomaly_long_swiggy_prep_time: 0 | anomaly_zomato_missing_delivery_time: 0 | anomaly_swiggy_missing_delivery_time: 0 | anomaly_high_discount: 0 | anomaly_discount_without_reason: 0 | anomaly_zomato_status_mismatch: 0 | anomaly_swiggy_status_mismatch: 0 | anomaly_extreme_settlement_time: 0 | anomaly_unusual_settlement_time: 0 | anomaly_long_bill_settlement: 0 | anomaly_missing_server_name: 0 | anomaly_zomato_missing_customer: 0 | anomaly_swiggy_missing_customer: 0 | anomaly_suspicious_pax: 0 | anomaly_price_inconsistency: 0 | pattern_risk: Low Risk | reason_pattern_risk: is_card_payment'),\n",
              " Document(metadata={}, page_content='Date: 30-10-2024 | Timestamp: 2024-10-30 15:25:36 UTC | Invoice_No_: 12615 | Payment_Type: CARD | Order_Type: Dine In | Area: Dine in | Item_Name: Suimono Soup (CHICKEN) | Price: 365 | Qty_: 1.0 | Sub_Total: 365.0 | Discount: 0.0 | Tax: 36.5 | Final_Total: 401.5 | Status: Success | Table_No_: 15 | Server_Name: TANMOY  | Covers: 5 | Variation: CHICKEN | Category: ORIENTAL SOUPS | HSN: nan | Phone: 9813566106 | Name: DR RAJSHREE | Address: nan | GST: nan | Assign_To: TANMOY  | Non_Taxable: 0.0 | CGST_Rate: 2.5 | CGST_Amount: 9.1 | SGST_Rate: 2.5 | SGST_Amount: 9.1 | VAT_Rate: 10 | VAT_Amount: 0.0 | Service_Charge_Rate: 5 | Service_Charge_Amount: 18.3 | Date_z: nan | Invoice_Date_z: nan | Aggregator_Order_No_z: nan | PoS_Invoice_No_z: nan | Order_From_z: nan | Outlet_Name_z: nan | Petpooja_Identifier_z: nan | Order_Type_z: nan | Customer_Name_z: nan | Customer_Phone_z: 9813566106 | Payment_Type_z: nan | Delivery_status_z: nan | Status_z: nan | My_amount_z: nan | Aggregator_Discount_z: nan | Outlet_Discount_z: nan | Delivery_Charges_z: nan | Container_Charges_z: nan | CGST_z: nan | SGST_z: nan | IGST_z: nan | Total_z: nan | Order_Acceptance_Time_z: nan | Order_Delivery_Time_z: nan | Reason_z: nan | Online_Tax_Calculated_z: nan | GST_Paid_by_Merchant_z: nan | GST_Paid_by_'),\n",
              " Document(metadata={}, page_content=': nan | GST_Paid_by_Merchant_z: nan | GST_Paid_by_Ecommerce_z: nan | Restaurant_ID_z: 566106 | Client_Sharing_Code_z: nan | Identifier_z: nan | Order_ID_z: nan | Order_Status_z: nan | Received_Time_z: nan | Accepted_Time_z: nan | Mark_Ready_Time_z: nan | Rider_Arrival_Time_z: nan | Picked_up_Time_z: nan | Delivered_Time_z: nan | Cancelled_Time_z: nan | Date_s: nan | Invoice_Date_s: nan | Aggregator_Order_No_s: nan | PoS_Invoice_No_s: nan | Order_From_s: nan | Outlet_Name_s: nan | Petpooja_Identifier_s: nan | Order_Type_s: nan | Customer_Name_s: nan | Customer_Phone_s: 9813566106 | Payment_Type_s: nan | Delivery_status_s: nan | Status_s: nan | My_amount_s: nan | Aggregator_Discount_s: nan | Outlet_Discount_s: nan | Delivery_Charges_s: nan | Container_Charges_s: nan | CGST_s: nan | SGST_s: nan | IGST_s: nan | Total_s: nan | Order_Acceptance_Time_s: nan | Order_Delivery_Time_s: nan | Reason_s: nan | Online_Tax_Calculated_s: nan | GST_Paid_by_Merchant_s: nan | GST_Paid_by_Ecommerce_s: nan | Restaurant_ID_s: 566106 | Client_Sharing_Code_s: nan | Identifier_s: nan | Order_ID_s: nan | Order_Status_s: nan | Received_Time_s: nan | Accepted_Time_s: nan | Mark_Ready_Time_s: nan | Rider_Arrival_Time_s: nan | Picked_up_Time_s: nan | Delivered_Time_s: nan | Cancelled_Time_s: nan | Customer_Name_'),\n",
              " Document(metadata={}, page_content=' nan | Delivered_Time_s: nan | Cancelled_Time_s: nan | Customer_Name_ff: nan | Date_of_Birth_ff: nan | Date_of_Anniversary_ff: nan | Customer_Phone_ff: nan | From__ff: nan | Customer_Email_ff: nan | Invoice_Id_ff: nan | Table_No_ff: nan | Order_Type_ff: nan | Answer_ff: nan | Created_ff: nan | Customer_Name_sf: nan | Date_of_Birth_sf: nan | Date_of_Anniversary_sf: nan | Customer_Phone_sf: nan | From__sf: nan | Customer_Email_sf: nan | Invoice_Id_sf: nan | Table_No_sf: nan | Order_Type_sf: nan | Answer_sf: nan | Created_sf: nan | PAX: nan | Biller_BSR: TANMOY  | First_Print_Date_BSR: 2024-10-30 15:25:37 UTC | Last_Settlement_Date_BSR: 2024-10-30 15:42:08 UTC | Duration__In_Minutes_BSR: 16.0 | Settled_By_BSR: vijay ( | area_co: nan | order_cancel_reason_co: nan | Cancelled_Invoice_Total_co: nan | Discount_Order_Type_DSR: nan | Biller_Name: nan | Discount_DSR: nan | Reason_DSR: nan | Food_Preparation_Time_Z: nan | Food_Preparation_Time_S: nan | Zomato_Delivery_Time: nan | Swiggy_Delivery_Time: nan | amount_from: nan | amount_to: nan | modified_by: nan | modify_comment: nan | electron_pos: nan | bill_no: nan | invoice_no: nan | date_orap: nan | has_anomaly: Yes | anomaly_priority: Medium | anomaly_payment_mismatch: 0 | anomaly_missing_payment_info: 0 | anomaly_multiple_payment_types: 0 | anomaly_tax_calculation_mismatch: 0 | anomaly_zero_tax_on_taxable: 0 | anomaly_large_order_mod'),\n",
              " Document(metadata={}, page_content='atch: 0 | anomaly_zero_tax_on_taxable: 0 | anomaly_large_order_modification: 0 | anomaly_modification_without_comment: 0 | anomaly_zomato_invoice_mismatch: 0 | anomaly_swiggy_invoice_mismatch: 0 | anomaly_long_zomato_prep_time: 0 | anomaly_long_swiggy_prep_time: 0 | anomaly_zomato_missing_delivery_time: 0 | anomaly_swiggy_missing_delivery_time: 0 | anomaly_high_discount: 0 | anomaly_discount_without_reason: 0 | anomaly_zomato_status_mismatch: 0 | anomaly_swiggy_status_mismatch: 0 | anomaly_extreme_settlement_time: 0 | anomaly_unusual_settlement_time: 1 | anomaly_long_bill_settlement: 0 | anomaly_missing_server_name: 0 | anomaly_zomato_missing_customer: 0 | anomaly_swiggy_missing_customer: 0 | anomaly_suspicious_pax: 0 | anomaly_price_inconsistency: 0 | pattern_risk: Low Risk | reason_pattern_risk: is_card_payment'),\n",
              " Document(metadata={}, page_content='Date: 04-10-2024 | Timestamp: 2024-10-04 18:53:25 UTC | Invoice_No_: C1984 | Payment_Type: Cash | Order_Type: Dine In | Area: Garden Table | Item_Name: Vegetable Gassi | Price: 795 | Qty_: 0.5 | Sub_Total: 397.5 | Discount: 0.0 | Tax: 39.7 | Final_Total: 437.2 | Status: Complimentary | Table_No_: G 5 | Server_Name: TAPASH | Covers: 3 | Variation: nan | Category: COASTAL SPECIAL | HSN: nan | Phone: 9843950806 | Name: PHOTO SHOOT | Address: nan | GST: nan | Assign_To: nan | Non_Taxable: 0.0 | CGST_Rate: 2.5 | CGST_Amount: 9.9 | SGST_Rate: 2.5 | SGST_Amount: 9.9 | VAT_Rate: 10 | VAT_Amount: 0.0 | Service_Charge_Rate: 5 | Service_Charge_Amount: 19.9 | Date_z: nan | Invoice_Date_z: nan | Aggregator_Order_No_z: nan | PoS_Invoice_No_z: nan | Order_From_z: nan | Outlet_Name_z: nan | Petpooja_Identifier_z: nan | Order_Type_z: nan | Customer_Name_z: nan | Customer_Phone_z: 9843950806 | Payment_Type_z: nan | Delivery_status_z: nan | Status_z: nan | My_amount_z: nan | Aggregator_Discount_z: nan | Outlet_Discount_z: nan | Delivery_Charges_z: nan | Container_Charges_z: nan | CGST_z: nan | SGST_z: nan | IGST_z: nan | Total_z: nan | Order_Acceptance_Time_z: nan | Order_Delivery_Time_z: nan | Reason_z: nan | Online_Tax_Calculated_z: nan | GST_Paid_by_Merchant_z: nan | GST_Paid_by_Ecommerce_z: nan | Restaurant_'),\n",
              " Document(metadata={}, page_content='_Merchant_z: nan | GST_Paid_by_Ecommerce_z: nan | Restaurant_ID_z: 950806 | Client_Sharing_Code_z: nan | Identifier_z: nan | Order_ID_z: nan | Order_Status_z: nan | Received_Time_z: nan | Accepted_Time_z: nan | Mark_Ready_Time_z: nan | Rider_Arrival_Time_z: nan | Picked_up_Time_z: nan | Delivered_Time_z: nan | Cancelled_Time_z: nan | Date_s: nan | Invoice_Date_s: nan | Aggregator_Order_No_s: nan | PoS_Invoice_No_s: nan | Order_From_s: nan | Outlet_Name_s: nan | Petpooja_Identifier_s: nan | Order_Type_s: nan | Customer_Name_s: nan | Customer_Phone_s: 9843950806 | Payment_Type_s: nan | Delivery_status_s: nan | Status_s: nan | My_amount_s: nan | Aggregator_Discount_s: nan | Outlet_Discount_s: nan | Delivery_Charges_s: nan | Container_Charges_s: nan | CGST_s: nan | SGST_s: nan | IGST_s: nan | Total_s: nan | Order_Acceptance_Time_s: nan | Order_Delivery_Time_s: nan | Reason_s: nan | Online_Tax_Calculated_s: nan | GST_Paid_by_Merchant_s: nan | GST_Paid_by_Ecommerce_s: nan | Restaurant_ID_s: 950806 | Client_Sharing_Code_s: nan | Identifier_s: nan | Order_ID_s: nan | Order_Status_s: nan | Received_Time_s: nan | Accepted_Time_s: nan | Mark_Ready_Time_s: nan | Rider_Arrival_Time_s: nan | Picked_up_Time_s: nan | Delivered_Time_s: nan | Cancelled_Time_s: nan | Customer_Name_ff: nan | Date_of_Birth_'),\n",
              " Document(metadata={}, page_content=' | Cancelled_Time_s: nan | Customer_Name_ff: nan | Date_of_Birth_ff: nan | Date_of_Anniversary_ff: nan | Customer_Phone_ff: nan | From__ff: nan | Customer_Email_ff: nan | Invoice_Id_ff: nan | Table_No_ff: nan | Order_Type_ff: nan | Answer_ff: nan | Created_ff: nan | Customer_Name_sf: nan | Date_of_Birth_sf: nan | Date_of_Anniversary_sf: nan | Customer_Phone_sf: nan | From__sf: nan | Customer_Email_sf: nan | Invoice_Id_sf: nan | Table_No_sf: nan | Order_Type_sf: nan | Answer_sf: nan | Created_sf: nan | PAX: nan | Biller_BSR: nan | First_Print_Date_BSR: nan | Last_Settlement_Date_BSR: nan | Duration__In_Minutes_BSR: nan | Settled_By_BSR: nan | area_co: nan | order_cancel_reason_co: nan | Cancelled_Invoice_Total_co: nan | Discount_Order_Type_DSR: nan | Biller_Name: nan | Discount_DSR: nan | Reason_DSR: nan | Food_Preparation_Time_Z: nan | Food_Preparation_Time_S: nan | Zomato_Delivery_Time: nan | Swiggy_Delivery_Time: nan | amount_from: nan | amount_to: nan | modified_by: nan | modify_comment: nan | electron_pos: nan | bill_no: nan | invoice_no: nan | date_orap: nan | has_anomaly: No | anomaly_priority: nan | anomaly_payment_mismatch: 0 | anomaly_missing_payment_info: 0 | anomaly_multiple_payment_types: 0 | anomaly_tax_calculation_mismatch: 0 | anomaly_zero_tax_on_taxable: 0 | anomaly_large_order_modification: 0 | anomaly_modification_without_comment: 0 | anomaly_zomato_invoice_mismatch: 0 | anomaly_swiggy_invoice_'),\n",
              " Document(metadata={}, page_content=' anomaly_zomato_invoice_mismatch: 0 | anomaly_swiggy_invoice_mismatch: 0 | anomaly_long_zomato_prep_time: 0 | anomaly_long_swiggy_prep_time: 0 | anomaly_zomato_missing_delivery_time: 0 | anomaly_swiggy_missing_delivery_time: 0 | anomaly_high_discount: 0 | anomaly_discount_without_reason: 0 | anomaly_zomato_status_mismatch: 0 | anomaly_swiggy_status_mismatch: 0 | anomaly_extreme_settlement_time: 0 | anomaly_unusual_settlement_time: 0 | anomaly_long_bill_settlement: 0 | anomaly_missing_server_name: 0 | anomaly_zomato_missing_customer: 0 | anomaly_swiggy_missing_customer: 0 | anomaly_suspicious_pax: 0 | anomaly_price_inconsistency: 0 | pattern_risk: Low Risk | reason_pattern_risk: is_cash'),\n",
              " Document(metadata={}, page_content='Date: 29-03-2025 | Timestamp: 2025-03-29 22:45:03 UTC | Invoice_No_: 22351 | Payment_Type: Other [ZOMATO PAY] | Order_Type: Dine In | Area: Dine in | Item_Name: Butter Roti | Price: 95 | Qty_: 1.0 | Sub_Total: 95.0 | Discount: 0.0 | Tax: 4.8 | Final_Total: 99.8 | Status: Success | Table_No_: 30 | Server_Name: SANDEEP | Covers: 9 | Variation: nan | Category: TANDOOR BREADS | HSN: nan | Phone: 9844043557 | Name: YASH PAREKH | Address: nan | GST: nan | Assign_To: SANDEEP | Non_Taxable: 0.0 | CGST_Rate: 2.5 | CGST_Amount: 2.4 | SGST_Rate: 2.5 | SGST_Amount: 2.4 | VAT_Rate: 10 | VAT_Amount: 0.0 | Service_Charge_Rate: 5 | Service_Charge_Amount: 0.0 | Date_z: nan | Invoice_Date_z: nan | Aggregator_Order_No_z: nan | PoS_Invoice_No_z: nan | Order_From_z: nan | Outlet_Name_z: nan | Petpooja_Identifier_z: nan | Order_Type_z: nan | Customer_Name_z: nan | Customer_Phone_z: 9844043557 | Payment_Type_z: nan | Delivery_status_z: nan | Status_z: nan | My_amount_z: nan | Aggregator_Discount_z: nan | Outlet_Discount_z: nan | Delivery_Charges_z: nan | Container_Charges_z: nan | CGST_z: nan | SGST_z: nan | IGST_z: nan | Total_z: nan | Order_Acceptance_Time_z: nan | Order_Delivery_Time_z: nan | Reason_z: nan | Online_Tax_Calculated_z: nan | GST_Paid_by_Merchant_z: nan | GST_Paid_by_'),\n",
              " Document(metadata={}, page_content=': nan | GST_Paid_by_Merchant_z: nan | GST_Paid_by_Ecommerce_z: nan | Restaurant_ID_z: 43557 | Client_Sharing_Code_z: nan | Identifier_z: nan | Order_ID_z: nan | Order_Status_z: nan | Received_Time_z: nan | Accepted_Time_z: nan | Mark_Ready_Time_z: nan | Rider_Arrival_Time_z: nan | Picked_up_Time_z: nan | Delivered_Time_z: nan | Cancelled_Time_z: nan | Date_s: nan | Invoice_Date_s: nan | Aggregator_Order_No_s: nan | PoS_Invoice_No_s: nan | Order_From_s: nan | Outlet_Name_s: nan | Petpooja_Identifier_s: nan | Order_Type_s: nan | Customer_Name_s: nan | Customer_Phone_s: 9844043557 | Payment_Type_s: nan | Delivery_status_s: nan | Status_s: nan | My_amount_s: nan | Aggregator_Discount_s: nan | Outlet_Discount_s: nan | Delivery_Charges_s: nan | Container_Charges_s: nan | CGST_s: nan | SGST_s: nan | IGST_s: nan | Total_s: nan | Order_Acceptance_Time_s: nan | Order_Delivery_Time_s: nan | Reason_s: nan | Online_Tax_Calculated_s: nan | GST_Paid_by_Merchant_s: nan | GST_Paid_by_Ecommerce_s: nan | Restaurant_ID_s: 43557 | Client_Sharing_Code_s: nan | Identifier_s: nan | Order_ID_s: nan | Order_Status_s: nan | Received_Time_s: nan | Accepted_Time_s: nan | Mark_Ready_Time_s: nan | Rider_Arrival_Time_s: nan | Picked_up_Time_s: nan | Delivered_Time_s: nan | Cancelled_Time_s: nan | Customer_Name_ff'),\n",
              " Document(metadata={}, page_content=' | Delivered_Time_s: nan | Cancelled_Time_s: nan | Customer_Name_ff: nan | Date_of_Birth_ff: nan | Date_of_Anniversary_ff: nan | Customer_Phone_ff: nan | From__ff: nan | Customer_Email_ff: nan | Invoice_Id_ff: nan | Table_No_ff: nan | Order_Type_ff: nan | Answer_ff: nan | Created_ff: nan | Customer_Name_sf: nan | Date_of_Birth_sf: nan | Date_of_Anniversary_sf: nan | Customer_Phone_sf: nan | From__sf: nan | Customer_Email_sf: nan | Invoice_Id_sf: nan | Table_No_sf: nan | Order_Type_sf: nan | Answer_sf: nan | Created_sf: nan | PAX: nan | Biller_BSR: SANDEEP | First_Print_Date_BSR: 2025-03-29 22:45:04 UTC | Last_Settlement_Date_BSR: 2025-03-29 22:54:05 UTC | Duration__In_Minutes_BSR: 9.0 | Settled_By_BSR: vijay ( | area_co: nan | order_cancel_reason_co: nan | Cancelled_Invoice_Total_co: nan | Discount_Order_Type_DSR: nan | Biller_Name: nan | Discount_DSR: nan | Reason_DSR: nan | Food_Preparation_Time_Z: nan | Food_Preparation_Time_S: nan | Zomato_Delivery_Time: nan | Swiggy_Delivery_Time: nan | amount_from: 9801.0 | amount_to: 9335.0 | modified_by: vijay ( | modify_comment: removed sc | electron_pos: 2025-03-29 22:46:42 UTC | bill_no: F22351 | invoice_no: 22351.0 | date_orap: 2025-03-29 22:45:03 UTC | has_anomaly: No | anomaly_priority: nan | anomaly_payment_mismatch: 0 | anomaly_missing_payment_info: 0 | anomaly_multiple_payment_types: 0 | anomaly'),\n",
              " Document(metadata={}, page_content=': 0 | anomaly_missing_payment_info: 0 | anomaly_multiple_payment_types: 0 | anomaly_tax_calculation_mismatch: 0 | anomaly_zero_tax_on_taxable: 0 | anomaly_large_order_modification: 0 | anomaly_modification_without_comment: 0 | anomaly_zomato_invoice_mismatch: 0 | anomaly_swiggy_invoice_mismatch: 0 | anomaly_long_zomato_prep_time: 0 | anomaly_long_swiggy_prep_time: 0 | anomaly_zomato_missing_delivery_time: 0 | anomaly_swiggy_missing_delivery_time: 0 | anomaly_high_discount: 0 | anomaly_discount_without_reason: 0 | anomaly_zomato_status_mismatch: 0 | anomaly_swiggy_status_mismatch: 0 | anomaly_extreme_settlement_time: 0 | anomaly_unusual_settlement_time: 0 | anomaly_long_bill_settlement: 0 | anomaly_missing_server_name: 0 | anomaly_zomato_missing_customer: 0 | anomaly_swiggy_missing_customer: 0 | anomaly_suspicious_pax: 0 | anomaly_price_inconsistency: 0 | pattern_risk: Low Risk | reason_pattern_risk: nan'),\n",
              " Document(metadata={}, page_content='Date: 30-10-2024 | Timestamp: 2024-10-30 15:25:36 UTC | Invoice_No_: 12615 | Payment_Type: CARD | Order_Type: Dine In | Area: Dine in | Item_Name: Manchow Soup (VEG) | Price: 365 | Qty_: 1.0 | Sub_Total: 365.0 | Discount: 0.0 | Tax: 36.5 | Final_Total: 401.5 | Status: Success | Table_No_: 15 | Server_Name: TANMOY  | Covers: 5 | Variation: VEG | Category: ORIENTAL SOUPS | HSN: nan | Phone: 9813566106 | Name: DR RAJSHREE | Address: nan | GST: nan | Assign_To: TANMOY  | Non_Taxable: 0.0 | CGST_Rate: 2.5 | CGST_Amount: 9.1 | SGST_Rate: 2.5 | SGST_Amount: 9.1 | VAT_Rate: 10 | VAT_Amount: 0.0 | Service_Charge_Rate: 5 | Service_Charge_Amount: 18.3 | Date_z: nan | Invoice_Date_z: nan | Aggregator_Order_No_z: nan | PoS_Invoice_No_z: nan | Order_From_z: nan | Outlet_Name_z: nan | Petpooja_Identifier_z: nan | Order_Type_z: nan | Customer_Name_z: nan | Customer_Phone_z: 9813566106 | Payment_Type_z: nan | Delivery_status_z: nan | Status_z: nan | My_amount_z: nan | Aggregator_Discount_z: nan | Outlet_Discount_z: nan | Delivery_Charges_z: nan | Container_Charges_z: nan | CGST_z: nan | SGST_z: nan | IGST_z: nan | Total_z: nan | Order_Acceptance_Time_z: nan | Order_Delivery_Time_z: nan | Reason_z: nan | Online_Tax_Calculated_z: nan | GST_Paid_by_Merchant_z: nan | GST_Paid_by_Ecommerce'),\n",
              " Document(metadata={}, page_content=' | GST_Paid_by_Merchant_z: nan | GST_Paid_by_Ecommerce_z: nan | Restaurant_ID_z: 566106 | Client_Sharing_Code_z: nan | Identifier_z: nan | Order_ID_z: nan | Order_Status_z: nan | Received_Time_z: nan | Accepted_Time_z: nan | Mark_Ready_Time_z: nan | Rider_Arrival_Time_z: nan | Picked_up_Time_z: nan | Delivered_Time_z: nan | Cancelled_Time_z: nan | Date_s: nan | Invoice_Date_s: nan | Aggregator_Order_No_s: nan | PoS_Invoice_No_s: nan | Order_From_s: nan | Outlet_Name_s: nan | Petpooja_Identifier_s: nan | Order_Type_s: nan | Customer_Name_s: nan | Customer_Phone_s: 9813566106 | Payment_Type_s: nan | Delivery_status_s: nan | Status_s: nan | My_amount_s: nan | Aggregator_Discount_s: nan | Outlet_Discount_s: nan | Delivery_Charges_s: nan | Container_Charges_s: nan | CGST_s: nan | SGST_s: nan | IGST_s: nan | Total_s: nan | Order_Acceptance_Time_s: nan | Order_Delivery_Time_s: nan | Reason_s: nan | Online_Tax_Calculated_s: nan | GST_Paid_by_Merchant_s: nan | GST_Paid_by_Ecommerce_s: nan | Restaurant_ID_s: 566106 | Client_Sharing_Code_s: nan | Identifier_s: nan | Order_ID_s: nan | Order_Status_s: nan | Received_Time_s: nan | Accepted_Time_s: nan | Mark_Ready_Time_s: nan | Rider_Arrival_Time_s: nan | Picked_up_Time_s: nan | Delivered_Time_s: nan | Cancelled_Time_s: nan | Customer_Name_ff:'),\n",
              " Document(metadata={}, page_content=' Delivered_Time_s: nan | Cancelled_Time_s: nan | Customer_Name_ff: nan | Date_of_Birth_ff: nan | Date_of_Anniversary_ff: nan | Customer_Phone_ff: nan | From__ff: nan | Customer_Email_ff: nan | Invoice_Id_ff: nan | Table_No_ff: nan | Order_Type_ff: nan | Answer_ff: nan | Created_ff: nan | Customer_Name_sf: nan | Date_of_Birth_sf: nan | Date_of_Anniversary_sf: nan | Customer_Phone_sf: nan | From__sf: nan | Customer_Email_sf: nan | Invoice_Id_sf: nan | Table_No_sf: nan | Order_Type_sf: nan | Answer_sf: nan | Created_sf: nan | PAX: nan | Biller_BSR: TANMOY  | First_Print_Date_BSR: 2024-10-30 15:25:37 UTC | Last_Settlement_Date_BSR: 2024-10-30 15:42:08 UTC | Duration__In_Minutes_BSR: 16.0 | Settled_By_BSR: vijay ( | area_co: nan | order_cancel_reason_co: nan | Cancelled_Invoice_Total_co: nan | Discount_Order_Type_DSR: nan | Biller_Name: nan | Discount_DSR: nan | Reason_DSR: nan | Food_Preparation_Time_Z: nan | Food_Preparation_Time_S: nan | Zomato_Delivery_Time: nan | Swiggy_Delivery_Time: nan | amount_from: nan | amount_to: nan | modified_by: nan | modify_comment: nan | electron_pos: nan | bill_no: nan | invoice_no: nan | date_orap: nan | has_anomaly: Yes | anomaly_priority: Medium | anomaly_payment_mismatch: 0 | anomaly_missing_payment_info: 0 | anomaly_multiple_payment_types: 0 | anomaly_tax_calculation_mismatch: 0 | anomaly_zero_tax_on_taxable: 0 | anomaly_large_order_modification:'),\n",
              " Document(metadata={}, page_content=' 0 | anomaly_zero_tax_on_taxable: 0 | anomaly_large_order_modification: 0 | anomaly_modification_without_comment: 0 | anomaly_zomato_invoice_mismatch: 0 | anomaly_swiggy_invoice_mismatch: 0 | anomaly_long_zomato_prep_time: 0 | anomaly_long_swiggy_prep_time: 0 | anomaly_zomato_missing_delivery_time: 0 | anomaly_swiggy_missing_delivery_time: 0 | anomaly_high_discount: 0 | anomaly_discount_without_reason: 0 | anomaly_zomato_status_mismatch: 0 | anomaly_swiggy_status_mismatch: 0 | anomaly_extreme_settlement_time: 0 | anomaly_unusual_settlement_time: 1 | anomaly_long_bill_settlement: 0 | anomaly_missing_server_name: 0 | anomaly_zomato_missing_customer: 0 | anomaly_swiggy_missing_customer: 0 | anomaly_suspicious_pax: 0 | anomaly_price_inconsistency: 0 | pattern_risk: Low Risk | reason_pattern_risk: is_card_payment'),\n",
              " Document(metadata={}, page_content='Date: 30-10-2024 | Timestamp: 2024-10-30 15:25:36 UTC | Invoice_No_: 12615 | Payment_Type: CARD | Order_Type: Dine In | Area: Dine in | Item_Name: DAL KHICHDI | Price: 675 | Qty_: 1.0 | Sub_Total: 675.0 | Discount: 0.0 | Tax: 67.6 | Final_Total: 742.6 | Status: Success | Table_No_: 15 | Server_Name: TANMOY  | Covers: 5 | Variation: nan | Category: INDIAN BIRYANI & PULAO | HSN: nan | Phone: 9813566106 | Name: DR RAJSHREE | Address: nan | GST: nan | Assign_To: TANMOY  | Non_Taxable: 0.0 | CGST_Rate: 2.5 | CGST_Amount: 16.9 | SGST_Rate: 2.5 | SGST_Amount: 16.9 | VAT_Rate: 10 | VAT_Amount: 0.0 | Service_Charge_Rate: 5 | Service_Charge_Amount: 33.8 | Date_z: nan | Invoice_Date_z: nan | Aggregator_Order_No_z: nan | PoS_Invoice_No_z: nan | Order_From_z: nan | Outlet_Name_z: nan | Petpooja_Identifier_z: nan | Order_Type_z: nan | Customer_Name_z: nan | Customer_Phone_z: 9813566106 | Payment_Type_z: nan | Delivery_status_z: nan | Status_z: nan | My_amount_z: nan | Aggregator_Discount_z: nan | Outlet_Discount_z: nan | Delivery_Charges_z: nan | Container_Charges_z: nan | CGST_z: nan | SGST_z: nan | IGST_z: nan | Total_z: nan | Order_Acceptance_Time_z: nan | Order_Delivery_Time_z: nan | Reason_z: nan | Online_Tax_Calculated_z: nan | GST_Paid_by_Merchant_z: nan | GST_P'),\n",
              " Document(metadata={}, page_content='Calculated_z: nan | GST_Paid_by_Merchant_z: nan | GST_Paid_by_Ecommerce_z: nan | Restaurant_ID_z: 566106 | Client_Sharing_Code_z: nan | Identifier_z: nan | Order_ID_z: nan | Order_Status_z: nan | Received_Time_z: nan | Accepted_Time_z: nan | Mark_Ready_Time_z: nan | Rider_Arrival_Time_z: nan | Picked_up_Time_z: nan | Delivered_Time_z: nan | Cancelled_Time_z: nan | Date_s: nan | Invoice_Date_s: nan | Aggregator_Order_No_s: nan | PoS_Invoice_No_s: nan | Order_From_s: nan | Outlet_Name_s: nan | Petpooja_Identifier_s: nan | Order_Type_s: nan | Customer_Name_s: nan | Customer_Phone_s: 9813566106 | Payment_Type_s: nan | Delivery_status_s: nan | Status_s: nan | My_amount_s: nan | Aggregator_Discount_s: nan | Outlet_Discount_s: nan | Delivery_Charges_s: nan | Container_Charges_s: nan | CGST_s: nan | SGST_s: nan | IGST_s: nan | Total_s: nan | Order_Acceptance_Time_s: nan | Order_Delivery_Time_s: nan | Reason_s: nan | Online_Tax_Calculated_s: nan | GST_Paid_by_Merchant_s: nan | GST_Paid_by_Ecommerce_s: nan | Restaurant_ID_s: 566106 | Client_Sharing_Code_s: nan | Identifier_s: nan | Order_ID_s: nan | Order_Status_s: nan | Received_Time_s: nan | Accepted_Time_s: nan | Mark_Ready_Time_s: nan | Rider_Arrival_Time_s: nan | Picked_up_Time_s: nan | Delivered_Time_s: nan | Cancelled_Time_s: nan |'),\n",
              " Document(metadata={}, page_content='Time_s: nan | Delivered_Time_s: nan | Cancelled_Time_s: nan | Customer_Name_ff: nan | Date_of_Birth_ff: nan | Date_of_Anniversary_ff: nan | Customer_Phone_ff: nan | From__ff: nan | Customer_Email_ff: nan | Invoice_Id_ff: nan | Table_No_ff: nan | Order_Type_ff: nan | Answer_ff: nan | Created_ff: nan | Customer_Name_sf: nan | Date_of_Birth_sf: nan | Date_of_Anniversary_sf: nan | Customer_Phone_sf: nan | From__sf: nan | Customer_Email_sf: nan | Invoice_Id_sf: nan | Table_No_sf: nan | Order_Type_sf: nan | Answer_sf: nan | Created_sf: nan | PAX: nan | Biller_BSR: TANMOY  | First_Print_Date_BSR: 2024-10-30 15:25:37 UTC | Last_Settlement_Date_BSR: 2024-10-30 15:42:08 UTC | Duration__In_Minutes_BSR: 16.0 | Settled_By_BSR: vijay ( | area_co: nan | order_cancel_reason_co: nan | Cancelled_Invoice_Total_co: nan | Discount_Order_Type_DSR: nan | Biller_Name: nan | Discount_DSR: nan | Reason_DSR: nan | Food_Preparation_Time_Z: nan | Food_Preparation_Time_S: nan | Zomato_Delivery_Time: nan | Swiggy_Delivery_Time: nan | amount_from: nan | amount_to: nan | modified_by: nan | modify_comment: nan | electron_pos: nan | bill_no: nan | invoice_no: nan | date_orap: nan | has_anomaly: Yes | anomaly_priority: Medium | anomaly_payment_mismatch: 0 | anomaly_missing_payment_info: 0 | anomaly_multiple_payment_types: 0 | anomaly_tax_calculation_mismatch: 0 | anomaly_zero_tax_on_taxable: 0 | anomaly_large'),\n",
              " Document(metadata={}, page_content='culation_mismatch: 0 | anomaly_zero_tax_on_taxable: 0 | anomaly_large_order_modification: 0 | anomaly_modification_without_comment: 0 | anomaly_zomato_invoice_mismatch: 0 | anomaly_swiggy_invoice_mismatch: 0 | anomaly_long_zomato_prep_time: 0 | anomaly_long_swiggy_prep_time: 0 | anomaly_zomato_missing_delivery_time: 0 | anomaly_swiggy_missing_delivery_time: 0 | anomaly_high_discount: 0 | anomaly_discount_without_reason: 0 | anomaly_zomato_status_mismatch: 0 | anomaly_swiggy_status_mismatch: 0 | anomaly_extreme_settlement_time: 0 | anomaly_unusual_settlement_time: 1 | anomaly_long_bill_settlement: 0 | anomaly_missing_server_name: 0 | anomaly_zomato_missing_customer: 0 | anomaly_swiggy_missing_customer: 0 | anomaly_suspicious_pax: 0 | anomaly_price_inconsistency: 0 | pattern_risk: Low Risk | reason_pattern_risk: is_card_payment'),\n",
              " Document(metadata={}, page_content='Date: 29-03-2025 | Timestamp: 2025-03-29 22:45:03 UTC | Invoice_No_: 22351 | Payment_Type: Other [ZOMATO PAY] | Order_Type: Dine In | Area: Dine in | Item_Name: Veg Cheesy Roll | Price: 795 | Qty_: 1.0 | Sub_Total: 795.0 | Discount: 0.0 | Tax: 39.8 | Final_Total: 834.8 | Status: Success | Table_No_: 30 | Server_Name: SANDEEP | Covers: 9 | Variation: nan | Category: ORIENTAL STARTER | HSN: nan | Phone: 9844043557 | Name: YASH PAREKH | Address: nan | GST: nan | Assign_To: SANDEEP | Non_Taxable: 0.0 | CGST_Rate: 2.5 | CGST_Amount: 19.9 | SGST_Rate: 2.5 | SGST_Amount: 19.9 | VAT_Rate: 10 | VAT_Amount: 0.0 | Service_Charge_Rate: 5 | Service_Charge_Amount: 0.0 | Date_z: nan | Invoice_Date_z: nan | Aggregator_Order_No_z: nan | PoS_Invoice_No_z: nan | Order_From_z: nan | Outlet_Name_z: nan | Petpooja_Identifier_z: nan | Order_Type_z: nan | Customer_Name_z: nan | Customer_Phone_z: 9844043557 | Payment_Type_z: nan | Delivery_status_z: nan | Status_z: nan | My_amount_z: nan | Aggregator_Discount_z: nan | Outlet_Discount_z: nan | Delivery_Charges_z: nan | Container_Charges_z: nan | CGST_z: nan | SGST_z: nan | IGST_z: nan | Total_z: nan | Order_Acceptance_Time_z: nan | Order_Delivery_Time_z: nan | Reason_z: nan | Online_Tax_Calculated_z: nan | GST_Paid_by_Merchant_z: nan | GST_Paid_'),\n",
              " Document(metadata={}, page_content='_z: nan | GST_Paid_by_Merchant_z: nan | GST_Paid_by_Ecommerce_z: nan | Restaurant_ID_z: 43557 | Client_Sharing_Code_z: nan | Identifier_z: nan | Order_ID_z: nan | Order_Status_z: nan | Received_Time_z: nan | Accepted_Time_z: nan | Mark_Ready_Time_z: nan | Rider_Arrival_Time_z: nan | Picked_up_Time_z: nan | Delivered_Time_z: nan | Cancelled_Time_z: nan | Date_s: nan | Invoice_Date_s: nan | Aggregator_Order_No_s: nan | PoS_Invoice_No_s: nan | Order_From_s: nan | Outlet_Name_s: nan | Petpooja_Identifier_s: nan | Order_Type_s: nan | Customer_Name_s: nan | Customer_Phone_s: 9844043557 | Payment_Type_s: nan | Delivery_status_s: nan | Status_s: nan | My_amount_s: nan | Aggregator_Discount_s: nan | Outlet_Discount_s: nan | Delivery_Charges_s: nan | Container_Charges_s: nan | CGST_s: nan | SGST_s: nan | IGST_s: nan | Total_s: nan | Order_Acceptance_Time_s: nan | Order_Delivery_Time_s: nan | Reason_s: nan | Online_Tax_Calculated_s: nan | GST_Paid_by_Merchant_s: nan | GST_Paid_by_Ecommerce_s: nan | Restaurant_ID_s: 43557 | Client_Sharing_Code_s: nan | Identifier_s: nan | Order_ID_s: nan | Order_Status_s: nan | Received_Time_s: nan | Accepted_Time_s: nan | Mark_Ready_Time_s: nan | Rider_Arrival_Time_s: nan | Picked_up_Time_s: nan | Delivered_Time_s: nan | Cancelled_Time_s: nan | Customer_Name'),\n",
              " Document(metadata={}, page_content=': nan | Delivered_Time_s: nan | Cancelled_Time_s: nan | Customer_Name_ff: nan | Date_of_Birth_ff: nan | Date_of_Anniversary_ff: nan | Customer_Phone_ff: nan | From__ff: nan | Customer_Email_ff: nan | Invoice_Id_ff: nan | Table_No_ff: nan | Order_Type_ff: nan | Answer_ff: nan | Created_ff: nan | Customer_Name_sf: nan | Date_of_Birth_sf: nan | Date_of_Anniversary_sf: nan | Customer_Phone_sf: nan | From__sf: nan | Customer_Email_sf: nan | Invoice_Id_sf: nan | Table_No_sf: nan | Order_Type_sf: nan | Answer_sf: nan | Created_sf: nan | PAX: nan | Biller_BSR: SANDEEP | First_Print_Date_BSR: 2025-03-29 22:45:04 UTC | Last_Settlement_Date_BSR: 2025-03-29 22:54:05 UTC | Duration__In_Minutes_BSR: 9.0 | Settled_By_BSR: vijay ( | area_co: nan | order_cancel_reason_co: nan | Cancelled_Invoice_Total_co: nan | Discount_Order_Type_DSR: nan | Biller_Name: nan | Discount_DSR: nan | Reason_DSR: nan | Food_Preparation_Time_Z: nan | Food_Preparation_Time_S: nan | Zomato_Delivery_Time: nan | Swiggy_Delivery_Time: nan | amount_from: 9801.0 | amount_to: 9335.0 | modified_by: vijay ( | modify_comment: removed sc | electron_pos: 2025-03-29 22:46:42 UTC | bill_no: F22351 | invoice_no: 22351.0 | date_orap: 2025-03-29 22:45:03 UTC | has_anomaly: No | anomaly_priority: nan | anomaly_payment_mismatch: 0 | anomaly_missing_payment_info: 0 | anomaly_multiple_payment_types: 0'),\n",
              " Document(metadata={}, page_content='ismatch: 0 | anomaly_missing_payment_info: 0 | anomaly_multiple_payment_types: 0 | anomaly_tax_calculation_mismatch: 0 | anomaly_zero_tax_on_taxable: 0 | anomaly_large_order_modification: 0 | anomaly_modification_without_comment: 0 | anomaly_zomato_invoice_mismatch: 0 | anomaly_swiggy_invoice_mismatch: 0 | anomaly_long_zomato_prep_time: 0 | anomaly_long_swiggy_prep_time: 0 | anomaly_zomato_missing_delivery_time: 0 | anomaly_swiggy_missing_delivery_time: 0 | anomaly_high_discount: 0 | anomaly_discount_without_reason: 0 | anomaly_zomato_status_mismatch: 0 | anomaly_swiggy_status_mismatch: 0 | anomaly_extreme_settlement_time: 0 | anomaly_unusual_settlement_time: 0 | anomaly_long_bill_settlement: 0 | anomaly_missing_server_name: 0 | anomaly_zomato_missing_customer: 0 | anomaly_swiggy_missing_customer: 0 | anomaly_suspicious_pax: 0 | anomaly_price_inconsistency: 0 | pattern_risk: Low Risk | reason_pattern_risk: nan'),\n",
              " Document(metadata={}, page_content='Date: 29-03-2025 | Timestamp: 2025-03-29 22:45:03 UTC | Invoice_No_: 22351 | Payment_Type: Other [ZOMATO PAY] | Order_Type: Dine In | Area: Dine in | Item_Name: Butter Roti | Price: 95 | Qty_: 2.0 | Sub_Total: 190.0 | Discount: 0.0 | Tax: 9.6 | Final_Total: 199.6 | Status: Success | Table_No_: 30 | Server_Name: SANDEEP | Covers: 9 | Variation: nan | Category: TANDOOR BREADS | HSN: nan | Phone: 9844043557 | Name: YASH PAREKH | Address: nan | GST: nan | Assign_To: SANDEEP | Non_Taxable: 0.0 | CGST_Rate: 2.5 | CGST_Amount: 4.8 | SGST_Rate: 2.5 | SGST_Amount: 4.8 | VAT_Rate: 10 | VAT_Amount: 0.0 | Service_Charge_Rate: 5 | Service_Charge_Amount: 0.0 | Date_z: nan | Invoice_Date_z: nan | Aggregator_Order_No_z: nan | PoS_Invoice_No_z: nan | Order_From_z: nan | Outlet_Name_z: nan | Petpooja_Identifier_z: nan | Order_Type_z: nan | Customer_Name_z: nan | Customer_Phone_z: 9844043557 | Payment_Type_z: nan | Delivery_status_z: nan | Status_z: nan | My_amount_z: nan | Aggregator_Discount_z: nan | Outlet_Discount_z: nan | Delivery_Charges_z: nan | Container_Charges_z: nan | CGST_z: nan | SGST_z: nan | IGST_z: nan | Total_z: nan | Order_Acceptance_Time_z: nan | Order_Delivery_Time_z: nan | Reason_z: nan | Online_Tax_Calculated_z: nan | GST_Paid_by_Merchant_z: nan | GST_Paid_by_'),\n",
              " Document(metadata={}, page_content=': nan | GST_Paid_by_Merchant_z: nan | GST_Paid_by_Ecommerce_z: nan | Restaurant_ID_z: 43557 | Client_Sharing_Code_z: nan | Identifier_z: nan | Order_ID_z: nan | Order_Status_z: nan | Received_Time_z: nan | Accepted_Time_z: nan | Mark_Ready_Time_z: nan | Rider_Arrival_Time_z: nan | Picked_up_Time_z: nan | Delivered_Time_z: nan | Cancelled_Time_z: nan | Date_s: nan | Invoice_Date_s: nan | Aggregator_Order_No_s: nan | PoS_Invoice_No_s: nan | Order_From_s: nan | Outlet_Name_s: nan | Petpooja_Identifier_s: nan | Order_Type_s: nan | Customer_Name_s: nan | Customer_Phone_s: 9844043557 | Payment_Type_s: nan | Delivery_status_s: nan | Status_s: nan | My_amount_s: nan | Aggregator_Discount_s: nan | Outlet_Discount_s: nan | Delivery_Charges_s: nan | Container_Charges_s: nan | CGST_s: nan | SGST_s: nan | IGST_s: nan | Total_s: nan | Order_Acceptance_Time_s: nan | Order_Delivery_Time_s: nan | Reason_s: nan | Online_Tax_Calculated_s: nan | GST_Paid_by_Merchant_s: nan | GST_Paid_by_Ecommerce_s: nan | Restaurant_ID_s: 43557 | Client_Sharing_Code_s: nan | Identifier_s: nan | Order_ID_s: nan | Order_Status_s: nan | Received_Time_s: nan | Accepted_Time_s: nan | Mark_Ready_Time_s: nan | Rider_Arrival_Time_s: nan | Picked_up_Time_s: nan | Delivered_Time_s: nan | Cancelled_Time_s: nan | Customer_Name_ff'),\n",
              " Document(metadata={}, page_content=' | Delivered_Time_s: nan | Cancelled_Time_s: nan | Customer_Name_ff: nan | Date_of_Birth_ff: nan | Date_of_Anniversary_ff: nan | Customer_Phone_ff: nan | From__ff: nan | Customer_Email_ff: nan | Invoice_Id_ff: nan | Table_No_ff: nan | Order_Type_ff: nan | Answer_ff: nan | Created_ff: nan | Customer_Name_sf: nan | Date_of_Birth_sf: nan | Date_of_Anniversary_sf: nan | Customer_Phone_sf: nan | From__sf: nan | Customer_Email_sf: nan | Invoice_Id_sf: nan | Table_No_sf: nan | Order_Type_sf: nan | Answer_sf: nan | Created_sf: nan | PAX: nan | Biller_BSR: SANDEEP | First_Print_Date_BSR: 2025-03-29 22:45:04 UTC | Last_Settlement_Date_BSR: 2025-03-29 22:54:05 UTC | Duration__In_Minutes_BSR: 9.0 | Settled_By_BSR: vijay ( | area_co: nan | order_cancel_reason_co: nan | Cancelled_Invoice_Total_co: nan | Discount_Order_Type_DSR: nan | Biller_Name: nan | Discount_DSR: nan | Reason_DSR: nan | Food_Preparation_Time_Z: nan | Food_Preparation_Time_S: nan | Zomato_Delivery_Time: nan | Swiggy_Delivery_Time: nan | amount_from: 9801.0 | amount_to: 9335.0 | modified_by: vijay ( | modify_comment: removed sc | electron_pos: 2025-03-29 22:46:42 UTC | bill_no: F22351 | invoice_no: 22351.0 | date_orap: 2025-03-29 22:45:03 UTC | has_anomaly: No | anomaly_priority: nan | anomaly_payment_mismatch: 0 | anomaly_missing_payment_info: 0 | anomaly_multiple_payment_types: 0 | anomaly'),\n",
              " Document(metadata={}, page_content=': 0 | anomaly_missing_payment_info: 0 | anomaly_multiple_payment_types: 0 | anomaly_tax_calculation_mismatch: 0 | anomaly_zero_tax_on_taxable: 0 | anomaly_large_order_modification: 0 | anomaly_modification_without_comment: 0 | anomaly_zomato_invoice_mismatch: 0 | anomaly_swiggy_invoice_mismatch: 0 | anomaly_long_zomato_prep_time: 0 | anomaly_long_swiggy_prep_time: 0 | anomaly_zomato_missing_delivery_time: 0 | anomaly_swiggy_missing_delivery_time: 0 | anomaly_high_discount: 0 | anomaly_discount_without_reason: 0 | anomaly_zomato_status_mismatch: 0 | anomaly_swiggy_status_mismatch: 0 | anomaly_extreme_settlement_time: 0 | anomaly_unusual_settlement_time: 0 | anomaly_long_bill_settlement: 0 | anomaly_missing_server_name: 0 | anomaly_zomato_missing_customer: 0 | anomaly_swiggy_missing_customer: 0 | anomaly_suspicious_pax: 0 | anomaly_price_inconsistency: 0 | pattern_risk: Low Risk | reason_pattern_risk: nan'),\n",
              " Document(metadata={}, page_content='Date: 30-08-2024 | Timestamp: 2024-08-30 22:13:37 UTC | Invoice_No_: 8847 | Payment_Type: CARD | Order_Type: Dine In | Area: Garden Table | Item_Name: Roomali Roti | Price: 150 | Qty_: 1.0 | Sub_Total: 150.0 | Discount: 0.0 | Tax: 15.1 | Final_Total: 165.1 | Status: Success | Table_No_: G 5 | Server_Name: TANMOY  | Covers: 6 | Variation: nan | Category: TANDOOR BREADS | HSN: nan | Phone: 9819872420 | Name: radhika | Address: nan | GST: nan | Assign_To: TANMOY  | Non_Taxable: 0.0 | CGST_Rate: 2.5 | CGST_Amount: 3.8 | SGST_Rate: 2.5 | SGST_Amount: 3.8 | VAT_Rate: 10 | VAT_Amount: 0.0 | Service_Charge_Rate: 5 | Service_Charge_Amount: 7.5 | Date_z: nan | Invoice_Date_z: nan | Aggregator_Order_No_z: nan | PoS_Invoice_No_z: nan | Order_From_z: nan | Outlet_Name_z: nan | Petpooja_Identifier_z: nan | Order_Type_z: nan | Customer_Name_z: nan | Customer_Phone_z: 9819872420 | Payment_Type_z: nan | Delivery_status_z: nan | Status_z: nan | My_amount_z: nan | Aggregator_Discount_z: nan | Outlet_Discount_z: nan | Delivery_Charges_z: nan | Container_Charges_z: nan | CGST_z: nan | SGST_z: nan | IGST_z: nan | Total_z: nan | Order_Acceptance_Time_z: nan | Order_Delivery_Time_z: nan | Reason_z: nan | Online_Tax_Calculated_z: nan | GST_Paid_by_Merchant_z: nan | GST_Paid_by_Ecommerce_z: nan |'),\n",
              " Document(metadata={}, page_content='_by_Merchant_z: nan | GST_Paid_by_Ecommerce_z: nan | Restaurant_ID_z: 872420 | Client_Sharing_Code_z: nan | Identifier_z: nan | Order_ID_z: nan | Order_Status_z: nan | Received_Time_z: nan | Accepted_Time_z: nan | Mark_Ready_Time_z: nan | Rider_Arrival_Time_z: nan | Picked_up_Time_z: nan | Delivered_Time_z: nan | Cancelled_Time_z: nan | Date_s: nan | Invoice_Date_s: nan | Aggregator_Order_No_s: nan | PoS_Invoice_No_s: nan | Order_From_s: nan | Outlet_Name_s: nan | Petpooja_Identifier_s: nan | Order_Type_s: nan | Customer_Name_s: nan | Customer_Phone_s: 9819872420 | Payment_Type_s: nan | Delivery_status_s: nan | Status_s: nan | My_amount_s: nan | Aggregator_Discount_s: nan | Outlet_Discount_s: nan | Delivery_Charges_s: nan | Container_Charges_s: nan | CGST_s: nan | SGST_s: nan | IGST_s: nan | Total_s: nan | Order_Acceptance_Time_s: nan | Order_Delivery_Time_s: nan | Reason_s: nan | Online_Tax_Calculated_s: nan | GST_Paid_by_Merchant_s: nan | GST_Paid_by_Ecommerce_s: nan | Restaurant_ID_s: 872420 | Client_Sharing_Code_s: nan | Identifier_s: nan | Order_ID_s: nan | Order_Status_s: nan | Received_Time_s: nan | Accepted_Time_s: nan | Mark_Ready_Time_s: nan | Rider_Arrival_Time_s: nan | Picked_up_Time_s: nan | Delivered_Time_s: nan | Cancelled_Time_s: nan | Customer_Name_ff: nan | Date_of'),\n",
              " Document(metadata={}, page_content='s: nan | Cancelled_Time_s: nan | Customer_Name_ff: nan | Date_of_Birth_ff: nan | Date_of_Anniversary_ff: nan | Customer_Phone_ff: nan | From__ff: nan | Customer_Email_ff: nan | Invoice_Id_ff: nan | Table_No_ff: nan | Order_Type_ff: nan | Answer_ff: nan | Created_ff: nan | Customer_Name_sf: nan | Date_of_Birth_sf: nan | Date_of_Anniversary_sf: nan | Customer_Phone_sf: nan | From__sf: nan | Customer_Email_sf: nan | Invoice_Id_sf: nan | Table_No_sf: nan | Order_Type_sf: nan | Answer_sf: nan | Created_sf: nan | PAX: nan | Biller_BSR: TANMOY  | First_Print_Date_BSR: 2024-08-30 22:13:38 UTC | Last_Settlement_Date_BSR: 2024-08-30 22:15:44 UTC | Duration__In_Minutes_BSR: 2.0 | Settled_By_BSR: vijay ( | area_co: nan | order_cancel_reason_co: nan | Cancelled_Invoice_Total_co: nan | Discount_Order_Type_DSR: nan | Biller_Name: nan | Discount_DSR: nan | Reason_DSR: nan | Food_Preparation_Time_Z: nan | Food_Preparation_Time_S: nan | Zomato_Delivery_Time: nan | Swiggy_Delivery_Time: nan | amount_from: nan | amount_to: nan | modified_by: nan | modify_comment: nan | electron_pos: nan | bill_no: nan | invoice_no: nan | date_orap: nan | has_anomaly: No | anomaly_priority: nan | anomaly_payment_mismatch: 0 | anomaly_missing_payment_info: 0 | anomaly_multiple_payment_types: 0 | anomaly_tax_calculation_mismatch: 0 | anomaly_zero_tax_on_taxable: 0 | anomaly_large_order_modification: 0 | anomaly_mod'),\n",
              " Document(metadata={}, page_content='_tax_on_taxable: 0 | anomaly_large_order_modification: 0 | anomaly_modification_without_comment: 0 | anomaly_zomato_invoice_mismatch: 0 | anomaly_swiggy_invoice_mismatch: 0 | anomaly_long_zomato_prep_time: 0 | anomaly_long_swiggy_prep_time: 0 | anomaly_zomato_missing_delivery_time: 0 | anomaly_swiggy_missing_delivery_time: 0 | anomaly_high_discount: 0 | anomaly_discount_without_reason: 0 | anomaly_zomato_status_mismatch: 0 | anomaly_swiggy_status_mismatch: 0 | anomaly_extreme_settlement_time: 0 | anomaly_unusual_settlement_time: 0 | anomaly_long_bill_settlement: 0 | anomaly_missing_server_name: 0 | anomaly_zomato_missing_customer: 0 | anomaly_swiggy_missing_customer: 0 | anomaly_suspicious_pax: 0 | anomaly_price_inconsistency: 0 | pattern_risk: Low Risk | reason_pattern_risk: is_card_payment'),\n",
              " Document(metadata={}, page_content='Date: 29-03-2025 | Timestamp: 2025-03-29 22:45:03 UTC | Invoice_No_: 22351 | Payment_Type: Other [ZOMATO PAY] | Order_Type: Dine In | Area: Dine in | Item_Name: Bottled Water | Price: 0 | Qty_: 4.0 | Sub_Total: 0.0 | Discount: 0.0 | Tax: 0.0 | Final_Total: 0.0 | Status: Success | Table_No_: 30 | Server_Name: SANDEEP | Covers: 9 | Variation: nan | Category: Complementary | HSN: nan | Phone: 9844043557 | Name: YASH PAREKH | Address: nan | GST: nan | Assign_To: SANDEEP | Non_Taxable: 0.0 | CGST_Rate: 2.5 | CGST_Amount: 0.0 | SGST_Rate: 2.5 | SGST_Amount: 0.0 | VAT_Rate: 10 | VAT_Amount: 0.0 | Service_Charge_Rate: 5 | Service_Charge_Amount: 0.0 | Date_z: nan | Invoice_Date_z: nan | Aggregator_Order_No_z: nan | PoS_Invoice_No_z: nan | Order_From_z: nan | Outlet_Name_z: nan | Petpooja_Identifier_z: nan | Order_Type_z: nan | Customer_Name_z: nan | Customer_Phone_z: 9844043557 | Payment_Type_z: nan | Delivery_status_z: nan | Status_z: nan | My_amount_z: nan | Aggregator_Discount_z: nan | Outlet_Discount_z: nan | Delivery_Charges_z: nan | Container_Charges_z: nan | CGST_z: nan | SGST_z: nan | IGST_z: nan | Total_z: nan | Order_Acceptance_Time_z: nan | Order_Delivery_Time_z: nan | Reason_z: nan | Online_Tax_Calculated_z: nan | GST_Paid_by_Merchant_z: nan | GST_Paid_by_Ecommerce_z'),\n",
              " Document(metadata={}, page_content='_Paid_by_Merchant_z: nan | GST_Paid_by_Ecommerce_z: nan | Restaurant_ID_z: 43557 | Client_Sharing_Code_z: nan | Identifier_z: nan | Order_ID_z: nan | Order_Status_z: nan | Received_Time_z: nan | Accepted_Time_z: nan | Mark_Ready_Time_z: nan | Rider_Arrival_Time_z: nan | Picked_up_Time_z: nan | Delivered_Time_z: nan | Cancelled_Time_z: nan | Date_s: nan | Invoice_Date_s: nan | Aggregator_Order_No_s: nan | PoS_Invoice_No_s: nan | Order_From_s: nan | Outlet_Name_s: nan | Petpooja_Identifier_s: nan | Order_Type_s: nan | Customer_Name_s: nan | Customer_Phone_s: 9844043557 | Payment_Type_s: nan | Delivery_status_s: nan | Status_s: nan | My_amount_s: nan | Aggregator_Discount_s: nan | Outlet_Discount_s: nan | Delivery_Charges_s: nan | Container_Charges_s: nan | CGST_s: nan | SGST_s: nan | IGST_s: nan | Total_s: nan | Order_Acceptance_Time_s: nan | Order_Delivery_Time_s: nan | Reason_s: nan | Online_Tax_Calculated_s: nan | GST_Paid_by_Merchant_s: nan | GST_Paid_by_Ecommerce_s: nan | Restaurant_ID_s: 43557 | Client_Sharing_Code_s: nan | Identifier_s: nan | Order_ID_s: nan | Order_Status_s: nan | Received_Time_s: nan | Accepted_Time_s: nan | Mark_Ready_Time_s: nan | Rider_Arrival_Time_s: nan | Picked_up_Time_s: nan | Delivered_Time_s: nan | Cancelled_Time_s: nan | Customer_Name_ff: nan | Date'),\n",
              " Document(metadata={}, page_content='Time_s: nan | Cancelled_Time_s: nan | Customer_Name_ff: nan | Date_of_Birth_ff: nan | Date_of_Anniversary_ff: nan | Customer_Phone_ff: nan | From__ff: nan | Customer_Email_ff: nan | Invoice_Id_ff: nan | Table_No_ff: nan | Order_Type_ff: nan | Answer_ff: nan | Created_ff: nan | Customer_Name_sf: nan | Date_of_Birth_sf: nan | Date_of_Anniversary_sf: nan | Customer_Phone_sf: nan | From__sf: nan | Customer_Email_sf: nan | Invoice_Id_sf: nan | Table_No_sf: nan | Order_Type_sf: nan | Answer_sf: nan | Created_sf: nan | PAX: 9.0 | Biller_BSR: SANDEEP | First_Print_Date_BSR: 2025-03-29 22:45:04 UTC | Last_Settlement_Date_BSR: 2025-03-29 22:54:05 UTC | Duration__In_Minutes_BSR: 9.0 | Settled_By_BSR: vijay ( | area_co: nan | order_cancel_reason_co: nan | Cancelled_Invoice_Total_co: nan | Discount_Order_Type_DSR: nan | Biller_Name: nan | Discount_DSR: nan | Reason_DSR: nan | Food_Preparation_Time_Z: nan | Food_Preparation_Time_S: nan | Zomato_Delivery_Time: nan | Swiggy_Delivery_Time: nan | amount_from: 9801.0 | amount_to: 9335.0 | modified_by: vijay ( | modify_comment: removed sc | electron_pos: 2025-03-29 22:46:42 UTC | bill_no: F22351 | invoice_no: 22351.0 | date_orap: 2025-03-29 22:45:03 UTC | has_anomaly: Yes | anomaly_priority: Low | anomaly_payment_mismatch: 0 | anomaly_missing_payment_info: 0 | anomaly_multiple_payment_types: 0 | anomaly_tax'),\n",
              " Document(metadata={}, page_content=' | anomaly_missing_payment_info: 0 | anomaly_multiple_payment_types: 0 | anomaly_tax_calculation_mismatch: 0 | anomaly_zero_tax_on_taxable: 0 | anomaly_large_order_modification: 0 | anomaly_modification_without_comment: 0 | anomaly_zomato_invoice_mismatch: 0 | anomaly_swiggy_invoice_mismatch: 0 | anomaly_long_zomato_prep_time: 0 | anomaly_long_swiggy_prep_time: 0 | anomaly_zomato_missing_delivery_time: 0 | anomaly_swiggy_missing_delivery_time: 0 | anomaly_high_discount: 0 | anomaly_discount_without_reason: 0 | anomaly_zomato_status_mismatch: 0 | anomaly_swiggy_status_mismatch: 0 | anomaly_extreme_settlement_time: 0 | anomaly_unusual_settlement_time: 0 | anomaly_long_bill_settlement: 0 | anomaly_missing_server_name: 0 | anomaly_zomato_missing_customer: 0 | anomaly_swiggy_missing_customer: 0 | anomaly_suspicious_pax: 0 | anomaly_price_inconsistency: 1 | pattern_risk: Low Risk | reason_pattern_risk: nan'),\n",
              " Document(metadata={}, page_content='Date: 03-08-2024 | Timestamp: 2024-08-04 00:29:02 UTC | Invoice_No_: 2005 | Payment_Type: Cash | Order_Type: Dine In | Area: Dine in | Item_Name: GLENLIVET - 12 YEARS | Price: 950 | Qty_: 1.0 | Sub_Total: 950.0 | Discount: 0.0 | Tax: 142.5 | Final_Total: 1092.5 | Status: Success | Table_No_: 12 | Server_Name: vijay s | Covers: 3 | Variation: nan | Category: BAR MALT WHISKY | HSN: nan | Phone: 9881860034 | Name: nan | Address: nan | GST: 27ABDFR9342Q1ZE | Assign_To: UMESH B | Non_Taxable: 0.0 | CGST_Rate: 2.5 | CGST_Amount: 0.0 | SGST_Rate: 2.5 | SGST_Amount: 0.0 | VAT_Rate: 10 | VAT_Amount: 95.0 | Service_Charge_Rate: 5 | Service_Charge_Amount: 47.5 | Date_z: nan | Invoice_Date_z: nan | Aggregator_Order_No_z: nan | PoS_Invoice_No_z: nan | Order_From_z: nan | Outlet_Name_z: nan | Petpooja_Identifier_z: nan | Order_Type_z: nan | Customer_Name_z: nan | Customer_Phone_z: 9881860034 | Payment_Type_z: nan | Delivery_status_z: nan | Status_z: nan | My_amount_z: nan | Aggregator_Discount_z: nan | Outlet_Discount_z: nan | Delivery_Charges_z: nan | Container_Charges_z: nan | CGST_z: nan | SGST_z: nan | IGST_z: nan | Total_z: nan | Order_Acceptance_Time_z: nan | Order_Delivery_Time_z: nan | Reason_z: nan | Online_Tax_Calculated_z: nan | GST_Paid_by_Merchant_z: nan | GST_Paid_'),\n",
              " Document(metadata={}, page_content='_z: nan | GST_Paid_by_Merchant_z: nan | GST_Paid_by_Ecommerce_z: nan | Restaurant_ID_z: 860034 | Client_Sharing_Code_z: nan | Identifier_z: nan | Order_ID_z: nan | Order_Status_z: nan | Received_Time_z: nan | Accepted_Time_z: nan | Mark_Ready_Time_z: nan | Rider_Arrival_Time_z: nan | Picked_up_Time_z: nan | Delivered_Time_z: nan | Cancelled_Time_z: nan | Date_s: nan | Invoice_Date_s: nan | Aggregator_Order_No_s: nan | PoS_Invoice_No_s: nan | Order_From_s: nan | Outlet_Name_s: nan | Petpooja_Identifier_s: nan | Order_Type_s: nan | Customer_Name_s: nan | Customer_Phone_s: 9881860034 | Payment_Type_s: nan | Delivery_status_s: nan | Status_s: nan | My_amount_s: nan | Aggregator_Discount_s: nan | Outlet_Discount_s: nan | Delivery_Charges_s: nan | Container_Charges_s: nan | CGST_s: nan | SGST_s: nan | IGST_s: nan | Total_s: nan | Order_Acceptance_Time_s: nan | Order_Delivery_Time_s: nan | Reason_s: nan | Online_Tax_Calculated_s: nan | GST_Paid_by_Merchant_s: nan | GST_Paid_by_Ecommerce_s: nan | Restaurant_ID_s: 860034 | Client_Sharing_Code_s: nan | Identifier_s: nan | Order_ID_s: nan | Order_Status_s: nan | Received_Time_s: nan | Accepted_Time_s: nan | Mark_Ready_Time_s: nan | Rider_Arrival_Time_s: nan | Picked_up_Time_s: nan | Delivered_Time_s: nan | Cancelled_Time_s: nan | Customer'),\n",
              " Document(metadata={}, page_content='_s: nan | Delivered_Time_s: nan | Cancelled_Time_s: nan | Customer_Name_ff: nan | Date_of_Birth_ff: nan | Date_of_Anniversary_ff: nan | Customer_Phone_ff: nan | From__ff: nan | Customer_Email_ff: nan | Invoice_Id_ff: nan | Table_No_ff: nan | Order_Type_ff: nan | Answer_ff: nan | Created_ff: nan | Customer_Name_sf: nan | Date_of_Birth_sf: nan | Date_of_Anniversary_sf: nan | Customer_Phone_sf: nan | From__sf: nan | Customer_Email_sf: nan | Invoice_Id_sf: nan | Table_No_sf: nan | Order_Type_sf: nan | Answer_sf: nan | Created_sf: nan | PAX: 3.0 | Biller_BSR: vijay ( | First_Print_Date_BSR: 2024-08-04 00:29:02 UTC | Last_Settlement_Date_BSR: 2024-08-04 00:38:16 UTC | Duration__In_Minutes_BSR: 9.0 | Settled_By_BSR: vijay ( | area_co: nan | order_cancel_reason_co: nan | Cancelled_Invoice_Total_co: nan | Discount_Order_Type_DSR: nan | Biller_Name: nan | Discount_DSR: nan | Reason_DSR: nan | Food_Preparation_Time_Z: nan | Food_Preparation_Time_S: nan | Zomato_Delivery_Time: nan | Swiggy_Delivery_Time: nan | amount_from: nan | amount_to: nan | modified_by: nan | modify_comment: nan | electron_pos: nan | bill_no: nan | invoice_no: nan | date_orap: nan | has_anomaly: No | anomaly_priority: nan | anomaly_payment_mismatch: 0 | anomaly_missing_payment_info: 0 | anomaly_multiple_payment_types: 0 | anomaly_tax_calculation_mismatch: 0 | anomaly_zero_tax_on_taxable: 0 | anomaly_large'),\n",
              " Document(metadata={}, page_content='culation_mismatch: 0 | anomaly_zero_tax_on_taxable: 0 | anomaly_large_order_modification: 0 | anomaly_modification_without_comment: 0 | anomaly_zomato_invoice_mismatch: 0 | anomaly_swiggy_invoice_mismatch: 0 | anomaly_long_zomato_prep_time: 0 | anomaly_long_swiggy_prep_time: 0 | anomaly_zomato_missing_delivery_time: 0 | anomaly_swiggy_missing_delivery_time: 0 | anomaly_high_discount: 0 | anomaly_discount_without_reason: 0 | anomaly_zomato_status_mismatch: 0 | anomaly_swiggy_status_mismatch: 0 | anomaly_extreme_settlement_time: 0 | anomaly_unusual_settlement_time: 0 | anomaly_long_bill_settlement: 0 | anomaly_missing_server_name: 0 | anomaly_zomato_missing_customer: 0 | anomaly_swiggy_missing_customer: 0 | anomaly_suspicious_pax: 0 | anomaly_price_inconsistency: 0 | pattern_risk: High Risk | reason_pattern_risk: is_cash, is_odd_hour, is_high_value'),\n",
              " Document(metadata={}, page_content='Date: 30-08-2024 | Timestamp: 2024-08-30 22:13:37 UTC | Invoice_No_: 8847 | Payment_Type: CARD | Order_Type: Dine In | Area: Garden Table | Item_Name: Paneer Khurchan | Price: 795 | Qty_: 1.0 | Sub_Total: 795.0 | Discount: 0.0 | Tax: 79.6 | Final_Total: 874.6 | Status: Success | Table_No_: G 5 | Server_Name: TANMOY  | Covers: 6 | Variation: nan | Category: INDIAN MAIN COURSE | HSN: nan | Phone: 9819872420 | Name: radhika | Address: nan | GST: nan | Assign_To: TANMOY  | Non_Taxable: 0.0 | CGST_Rate: 2.5 | CGST_Amount: 19.9 | SGST_Rate: 2.5 | SGST_Amount: 19.9 | VAT_Rate: 10 | VAT_Amount: 0.0 | Service_Charge_Rate: 5 | Service_Charge_Amount: 39.8 | Date_z: nan | Invoice_Date_z: nan | Aggregator_Order_No_z: nan | PoS_Invoice_No_z: nan | Order_From_z: nan | Outlet_Name_z: nan | Petpooja_Identifier_z: nan | Order_Type_z: nan | Customer_Name_z: nan | Customer_Phone_z: 9819872420 | Payment_Type_z: nan | Delivery_status_z: nan | Status_z: nan | My_amount_z: nan | Aggregator_Discount_z: nan | Outlet_Discount_z: nan | Delivery_Charges_z: nan | Container_Charges_z: nan | CGST_z: nan | SGST_z: nan | IGST_z: nan | Total_z: nan | Order_Acceptance_Time_z: nan | Order_Delivery_Time_z: nan | Reason_z: nan | Online_Tax_Calculated_z: nan | GST_Paid_by_Merchant_z: nan | GST_Paid_by_Ecommerce_'),\n",
              " Document(metadata={}, page_content=' GST_Paid_by_Merchant_z: nan | GST_Paid_by_Ecommerce_z: nan | Restaurant_ID_z: 872420 | Client_Sharing_Code_z: nan | Identifier_z: nan | Order_ID_z: nan | Order_Status_z: nan | Received_Time_z: nan | Accepted_Time_z: nan | Mark_Ready_Time_z: nan | Rider_Arrival_Time_z: nan | Picked_up_Time_z: nan | Delivered_Time_z: nan | Cancelled_Time_z: nan | Date_s: nan | Invoice_Date_s: nan | Aggregator_Order_No_s: nan | PoS_Invoice_No_s: nan | Order_From_s: nan | Outlet_Name_s: nan | Petpooja_Identifier_s: nan | Order_Type_s: nan | Customer_Name_s: nan | Customer_Phone_s: 9819872420 | Payment_Type_s: nan | Delivery_status_s: nan | Status_s: nan | My_amount_s: nan | Aggregator_Discount_s: nan | Outlet_Discount_s: nan | Delivery_Charges_s: nan | Container_Charges_s: nan | CGST_s: nan | SGST_s: nan | IGST_s: nan | Total_s: nan | Order_Acceptance_Time_s: nan | Order_Delivery_Time_s: nan | Reason_s: nan | Online_Tax_Calculated_s: nan | GST_Paid_by_Merchant_s: nan | GST_Paid_by_Ecommerce_s: nan | Restaurant_ID_s: 872420 | Client_Sharing_Code_s: nan | Identifier_s: nan | Order_ID_s: nan | Order_Status_s: nan | Received_Time_s: nan | Accepted_Time_s: nan | Mark_Ready_Time_s: nan | Rider_Arrival_Time_s: nan | Picked_up_Time_s: nan | Delivered_Time_s: nan | Cancelled_Time_s: nan | Customer_Name_ff: nan'),\n",
              " Document(metadata={}, page_content='ivered_Time_s: nan | Cancelled_Time_s: nan | Customer_Name_ff: nan | Date_of_Birth_ff: nan | Date_of_Anniversary_ff: nan | Customer_Phone_ff: nan | From__ff: nan | Customer_Email_ff: nan | Invoice_Id_ff: nan | Table_No_ff: nan | Order_Type_ff: nan | Answer_ff: nan | Created_ff: nan | Customer_Name_sf: nan | Date_of_Birth_sf: nan | Date_of_Anniversary_sf: nan | Customer_Phone_sf: nan | From__sf: nan | Customer_Email_sf: nan | Invoice_Id_sf: nan | Table_No_sf: nan | Order_Type_sf: nan | Answer_sf: nan | Created_sf: nan | PAX: nan | Biller_BSR: TANMOY  | First_Print_Date_BSR: 2024-08-30 22:13:38 UTC | Last_Settlement_Date_BSR: 2024-08-30 22:15:44 UTC | Duration__In_Minutes_BSR: 2.0 | Settled_By_BSR: vijay ( | area_co: nan | order_cancel_reason_co: nan | Cancelled_Invoice_Total_co: nan | Discount_Order_Type_DSR: nan | Biller_Name: nan | Discount_DSR: nan | Reason_DSR: nan | Food_Preparation_Time_Z: nan | Food_Preparation_Time_S: nan | Zomato_Delivery_Time: nan | Swiggy_Delivery_Time: nan | amount_from: nan | amount_to: nan | modified_by: nan | modify_comment: nan | electron_pos: nan | bill_no: nan | invoice_no: nan | date_orap: nan | has_anomaly: No | anomaly_priority: nan | anomaly_payment_mismatch: 0 | anomaly_missing_payment_info: 0 | anomaly_multiple_payment_types: 0 | anomaly_tax_calculation_mismatch: 0 | anomaly_zero_tax_on_taxable: 0 | anomaly_large_order_modification: 0'),\n",
              " Document(metadata={}, page_content=' | anomaly_zero_tax_on_taxable: 0 | anomaly_large_order_modification: 0 | anomaly_modification_without_comment: 0 | anomaly_zomato_invoice_mismatch: 0 | anomaly_swiggy_invoice_mismatch: 0 | anomaly_long_zomato_prep_time: 0 | anomaly_long_swiggy_prep_time: 0 | anomaly_zomato_missing_delivery_time: 0 | anomaly_swiggy_missing_delivery_time: 0 | anomaly_high_discount: 0 | anomaly_discount_without_reason: 0 | anomaly_zomato_status_mismatch: 0 | anomaly_swiggy_status_mismatch: 0 | anomaly_extreme_settlement_time: 0 | anomaly_unusual_settlement_time: 0 | anomaly_long_bill_settlement: 0 | anomaly_missing_server_name: 0 | anomaly_zomato_missing_customer: 0 | anomaly_swiggy_missing_customer: 0 | anomaly_suspicious_pax: 0 | anomaly_price_inconsistency: 0 | pattern_risk: Low Risk | reason_pattern_risk: is_card_payment'),\n",
              " Document(metadata={}, page_content='Date: 04-10-2024 | Timestamp: 2024-10-04 18:53:25 UTC | Invoice_No_: C1984 | Payment_Type: Cash | Order_Type: Dine In | Area: Garden Table | Item_Name: Burnt Garlic Soup (VEG) | Price: 365 | Qty_: 1.0 | Sub_Total: 365.0 | Discount: 0.0 | Tax: 36.5 | Final_Total: 401.5 | Status: Complimentary | Table_No_: G 5 | Server_Name: TAPASH | Covers: 3 | Variation: VEG | Category: ORIENTAL SOUPS | HSN: nan | Phone: 9843950806 | Name: PHOTO SHOOT | Address: nan | GST: nan | Assign_To: nan | Non_Taxable: 0.0 | CGST_Rate: 2.5 | CGST_Amount: 9.1 | SGST_Rate: 2.5 | SGST_Amount: 9.1 | VAT_Rate: 10 | VAT_Amount: 0.0 | Service_Charge_Rate: 5 | Service_Charge_Amount: 18.3 | Date_z: nan | Invoice_Date_z: nan | Aggregator_Order_No_z: nan | PoS_Invoice_No_z: nan | Order_From_z: nan | Outlet_Name_z: nan | Petpooja_Identifier_z: nan | Order_Type_z: nan | Customer_Name_z: nan | Customer_Phone_z: 9843950806 | Payment_Type_z: nan | Delivery_status_z: nan | Status_z: nan | My_amount_z: nan | Aggregator_Discount_z: nan | Outlet_Discount_z: nan | Delivery_Charges_z: nan | Container_Charges_z: nan | CGST_z: nan | SGST_z: nan | IGST_z: nan | Total_z: nan | Order_Acceptance_Time_z: nan | Order_Delivery_Time_z: nan | Reason_z: nan | Online_Tax_Calculated_z: nan | GST_Paid_by_Merchant_z: nan | GST_Paid_by_Ecommerce_z:'),\n",
              " Document(metadata={}, page_content='Paid_by_Merchant_z: nan | GST_Paid_by_Ecommerce_z: nan | Restaurant_ID_z: 950806 | Client_Sharing_Code_z: nan | Identifier_z: nan | Order_ID_z: nan | Order_Status_z: nan | Received_Time_z: nan | Accepted_Time_z: nan | Mark_Ready_Time_z: nan | Rider_Arrival_Time_z: nan | Picked_up_Time_z: nan | Delivered_Time_z: nan | Cancelled_Time_z: nan | Date_s: nan | Invoice_Date_s: nan | Aggregator_Order_No_s: nan | PoS_Invoice_No_s: nan | Order_From_s: nan | Outlet_Name_s: nan | Petpooja_Identifier_s: nan | Order_Type_s: nan | Customer_Name_s: nan | Customer_Phone_s: 9843950806 | Payment_Type_s: nan | Delivery_status_s: nan | Status_s: nan | My_amount_s: nan | Aggregator_Discount_s: nan | Outlet_Discount_s: nan | Delivery_Charges_s: nan | Container_Charges_s: nan | CGST_s: nan | SGST_s: nan | IGST_s: nan | Total_s: nan | Order_Acceptance_Time_s: nan | Order_Delivery_Time_s: nan | Reason_s: nan | Online_Tax_Calculated_s: nan | GST_Paid_by_Merchant_s: nan | GST_Paid_by_Ecommerce_s: nan | Restaurant_ID_s: 950806 | Client_Sharing_Code_s: nan | Identifier_s: nan | Order_ID_s: nan | Order_Status_s: nan | Received_Time_s: nan | Accepted_Time_s: nan | Mark_Ready_Time_s: nan | Rider_Arrival_Time_s: nan | Picked_up_Time_s: nan | Delivered_Time_s: nan | Cancelled_Time_s: nan | Customer_Name_ff: nan | Date_'),\n",
              " Document(metadata={}, page_content='_s: nan | Cancelled_Time_s: nan | Customer_Name_ff: nan | Date_of_Birth_ff: nan | Date_of_Anniversary_ff: nan | Customer_Phone_ff: nan | From__ff: nan | Customer_Email_ff: nan | Invoice_Id_ff: nan | Table_No_ff: nan | Order_Type_ff: nan | Answer_ff: nan | Created_ff: nan | Customer_Name_sf: nan | Date_of_Birth_sf: nan | Date_of_Anniversary_sf: nan | Customer_Phone_sf: nan | From__sf: nan | Customer_Email_sf: nan | Invoice_Id_sf: nan | Table_No_sf: nan | Order_Type_sf: nan | Answer_sf: nan | Created_sf: nan | PAX: nan | Biller_BSR: nan | First_Print_Date_BSR: nan | Last_Settlement_Date_BSR: nan | Duration__In_Minutes_BSR: nan | Settled_By_BSR: nan | area_co: nan | order_cancel_reason_co: nan | Cancelled_Invoice_Total_co: nan | Discount_Order_Type_DSR: nan | Biller_Name: nan | Discount_DSR: nan | Reason_DSR: nan | Food_Preparation_Time_Z: nan | Food_Preparation_Time_S: nan | Zomato_Delivery_Time: nan | Swiggy_Delivery_Time: nan | amount_from: nan | amount_to: nan | modified_by: nan | modify_comment: nan | electron_pos: nan | bill_no: nan | invoice_no: nan | date_orap: nan | has_anomaly: No | anomaly_priority: nan | anomaly_payment_mismatch: 0 | anomaly_missing_payment_info: 0 | anomaly_multiple_payment_types: 0 | anomaly_tax_calculation_mismatch: 0 | anomaly_zero_tax_on_taxable: 0 | anomaly_large_order_modification: 0 | anomaly_modification_without_comment: 0 | anomaly_zomato_invoice_mismatch: 0 | anomaly_swiggy'),\n",
              " Document(metadata={}, page_content='comment: 0 | anomaly_zomato_invoice_mismatch: 0 | anomaly_swiggy_invoice_mismatch: 0 | anomaly_long_zomato_prep_time: 0 | anomaly_long_swiggy_prep_time: 0 | anomaly_zomato_missing_delivery_time: 0 | anomaly_swiggy_missing_delivery_time: 0 | anomaly_high_discount: 0 | anomaly_discount_without_reason: 0 | anomaly_zomato_status_mismatch: 0 | anomaly_swiggy_status_mismatch: 0 | anomaly_extreme_settlement_time: 0 | anomaly_unusual_settlement_time: 0 | anomaly_long_bill_settlement: 0 | anomaly_missing_server_name: 0 | anomaly_zomato_missing_customer: 0 | anomaly_swiggy_missing_customer: 0 | anomaly_suspicious_pax: 0 | anomaly_price_inconsistency: 0 | pattern_risk: Low Risk | reason_pattern_risk: is_cash'),\n",
              " Document(metadata={}, page_content='Date: 30-08-2024 | Timestamp: 2024-08-30 22:13:37 UTC | Invoice_No_: 8847 | Payment_Type: CARD | Order_Type: Dine In | Area: Garden Table | Item_Name: Butter Naan | Price: 150 | Qty_: 1.0 | Sub_Total: 150.0 | Discount: 0.0 | Tax: 15.1 | Final_Total: 165.1 | Status: Success | Table_No_: G 5 | Server_Name: TANMOY  | Covers: 6 | Variation: nan | Category: TANDOOR BREADS | HSN: nan | Phone: 9819872420 | Name: radhika | Address: nan | GST: nan | Assign_To: TANMOY  | Non_Taxable: 0.0 | CGST_Rate: 2.5 | CGST_Amount: 3.8 | SGST_Rate: 2.5 | SGST_Amount: 3.8 | VAT_Rate: 10 | VAT_Amount: 0.0 | Service_Charge_Rate: 5 | Service_Charge_Amount: 7.5 | Date_z: nan | Invoice_Date_z: nan | Aggregator_Order_No_z: nan | PoS_Invoice_No_z: nan | Order_From_z: nan | Outlet_Name_z: nan | Petpooja_Identifier_z: nan | Order_Type_z: nan | Customer_Name_z: nan | Customer_Phone_z: 9819872420 | Payment_Type_z: nan | Delivery_status_z: nan | Status_z: nan | My_amount_z: nan | Aggregator_Discount_z: nan | Outlet_Discount_z: nan | Delivery_Charges_z: nan | Container_Charges_z: nan | CGST_z: nan | SGST_z: nan | IGST_z: nan | Total_z: nan | Order_Acceptance_Time_z: nan | Order_Delivery_Time_z: nan | Reason_z: nan | Online_Tax_Calculated_z: nan | GST_Paid_by_Merchant_z: nan | GST_Paid_by_Ecommerce_z: nan | Restaurant'),\n",
              " Document(metadata={}, page_content='by_Merchant_z: nan | GST_Paid_by_Ecommerce_z: nan | Restaurant_ID_z: 872420 | Client_Sharing_Code_z: nan | Identifier_z: nan | Order_ID_z: nan | Order_Status_z: nan | Received_Time_z: nan | Accepted_Time_z: nan | Mark_Ready_Time_z: nan | Rider_Arrival_Time_z: nan | Picked_up_Time_z: nan | Delivered_Time_z: nan | Cancelled_Time_z: nan | Date_s: nan | Invoice_Date_s: nan | Aggregator_Order_No_s: nan | PoS_Invoice_No_s: nan | Order_From_s: nan | Outlet_Name_s: nan | Petpooja_Identifier_s: nan | Order_Type_s: nan | Customer_Name_s: nan | Customer_Phone_s: 9819872420 | Payment_Type_s: nan | Delivery_status_s: nan | Status_s: nan | My_amount_s: nan | Aggregator_Discount_s: nan | Outlet_Discount_s: nan | Delivery_Charges_s: nan | Container_Charges_s: nan | CGST_s: nan | SGST_s: nan | IGST_s: nan | Total_s: nan | Order_Acceptance_Time_s: nan | Order_Delivery_Time_s: nan | Reason_s: nan | Online_Tax_Calculated_s: nan | GST_Paid_by_Merchant_s: nan | GST_Paid_by_Ecommerce_s: nan | Restaurant_ID_s: 872420 | Client_Sharing_Code_s: nan | Identifier_s: nan | Order_ID_s: nan | Order_Status_s: nan | Received_Time_s: nan | Accepted_Time_s: nan | Mark_Ready_Time_s: nan | Rider_Arrival_Time_s: nan | Picked_up_Time_s: nan | Delivered_Time_s: nan | Cancelled_Time_s: nan | Customer_Name_ff: nan | Date_of_'),\n",
              " Document(metadata={}, page_content=': nan | Cancelled_Time_s: nan | Customer_Name_ff: nan | Date_of_Birth_ff: nan | Date_of_Anniversary_ff: nan | Customer_Phone_ff: nan | From__ff: nan | Customer_Email_ff: nan | Invoice_Id_ff: nan | Table_No_ff: nan | Order_Type_ff: nan | Answer_ff: nan | Created_ff: nan | Customer_Name_sf: nan | Date_of_Birth_sf: nan | Date_of_Anniversary_sf: nan | Customer_Phone_sf: nan | From__sf: nan | Customer_Email_sf: nan | Invoice_Id_sf: nan | Table_No_sf: nan | Order_Type_sf: nan | Answer_sf: nan | Created_sf: nan | PAX: nan | Biller_BSR: TANMOY  | First_Print_Date_BSR: 2024-08-30 22:13:38 UTC | Last_Settlement_Date_BSR: 2024-08-30 22:15:44 UTC | Duration__In_Minutes_BSR: 2.0 | Settled_By_BSR: vijay ( | area_co: nan | order_cancel_reason_co: nan | Cancelled_Invoice_Total_co: nan | Discount_Order_Type_DSR: nan | Biller_Name: nan | Discount_DSR: nan | Reason_DSR: nan | Food_Preparation_Time_Z: nan | Food_Preparation_Time_S: nan | Zomato_Delivery_Time: nan | Swiggy_Delivery_Time: nan | amount_from: nan | amount_to: nan | modified_by: nan | modify_comment: nan | electron_pos: nan | bill_no: nan | invoice_no: nan | date_orap: nan | has_anomaly: No | anomaly_priority: nan | anomaly_payment_mismatch: 0 | anomaly_missing_payment_info: 0 | anomaly_multiple_payment_types: 0 | anomaly_tax_calculation_mismatch: 0 | anomaly_zero_tax_on_taxable: 0 | anomaly_large_order_modification: 0 | anomaly_modification'),\n",
              " Document(metadata={}, page_content='tax_on_taxable: 0 | anomaly_large_order_modification: 0 | anomaly_modification_without_comment: 0 | anomaly_zomato_invoice_mismatch: 0 | anomaly_swiggy_invoice_mismatch: 0 | anomaly_long_zomato_prep_time: 0 | anomaly_long_swiggy_prep_time: 0 | anomaly_zomato_missing_delivery_time: 0 | anomaly_swiggy_missing_delivery_time: 0 | anomaly_high_discount: 0 | anomaly_discount_without_reason: 0 | anomaly_zomato_status_mismatch: 0 | anomaly_swiggy_status_mismatch: 0 | anomaly_extreme_settlement_time: 0 | anomaly_unusual_settlement_time: 0 | anomaly_long_bill_settlement: 0 | anomaly_missing_server_name: 0 | anomaly_zomato_missing_customer: 0 | anomaly_swiggy_missing_customer: 0 | anomaly_suspicious_pax: 0 | anomaly_price_inconsistency: 0 | pattern_risk: Low Risk | reason_pattern_risk: is_card_payment'),\n",
              " Document(metadata={}, page_content='Date: 29-03-2025 | Timestamp: 2025-03-29 22:45:03 UTC | Invoice_No_: 22351 | Payment_Type: Other [ZOMATO PAY] | Order_Type: Dine In | Area: Dine in | Item_Name: Peach Iced Tea | Price: 185 | Qty_: 1.0 | Sub_Total: 185.0 | Discount: 0.0 | Tax: 9.2 | Final_Total: 194.2 | Status: Success | Table_No_: 30 | Server_Name: SANDEEP | Covers: 9 | Variation: nan | Category: BAR BEVERAGES | HSN: nan | Phone: 9844043557 | Name: YASH PAREKH | Address: nan | GST: nan | Assign_To: SANDEEP | Non_Taxable: 0.0 | CGST_Rate: 2.5 | CGST_Amount: 4.6 | SGST_Rate: 2.5 | SGST_Amount: 4.6 | VAT_Rate: 10 | VAT_Amount: 0.0 | Service_Charge_Rate: 5 | Service_Charge_Amount: 0.0 | Date_z: nan | Invoice_Date_z: nan | Aggregator_Order_No_z: nan | PoS_Invoice_No_z: nan | Order_From_z: nan | Outlet_Name_z: nan | Petpooja_Identifier_z: nan | Order_Type_z: nan | Customer_Name_z: nan | Customer_Phone_z: 9844043557 | Payment_Type_z: nan | Delivery_status_z: nan | Status_z: nan | My_amount_z: nan | Aggregator_Discount_z: nan | Outlet_Discount_z: nan | Delivery_Charges_z: nan | Container_Charges_z: nan | CGST_z: nan | SGST_z: nan | IGST_z: nan | Total_z: nan | Order_Acceptance_Time_z: nan | Order_Delivery_Time_z: nan | Reason_z: nan | Online_Tax_Calculated_z: nan | GST_Paid_by_Merchant_z: nan | GST_Paid_by_Ecommerce'),\n",
              " Document(metadata={}, page_content=' | GST_Paid_by_Merchant_z: nan | GST_Paid_by_Ecommerce_z: nan | Restaurant_ID_z: 43557 | Client_Sharing_Code_z: nan | Identifier_z: nan | Order_ID_z: nan | Order_Status_z: nan | Received_Time_z: nan | Accepted_Time_z: nan | Mark_Ready_Time_z: nan | Rider_Arrival_Time_z: nan | Picked_up_Time_z: nan | Delivered_Time_z: nan | Cancelled_Time_z: nan | Date_s: nan | Invoice_Date_s: nan | Aggregator_Order_No_s: nan | PoS_Invoice_No_s: nan | Order_From_s: nan | Outlet_Name_s: nan | Petpooja_Identifier_s: nan | Order_Type_s: nan | Customer_Name_s: nan | Customer_Phone_s: 9844043557 | Payment_Type_s: nan | Delivery_status_s: nan | Status_s: nan | My_amount_s: nan | Aggregator_Discount_s: nan | Outlet_Discount_s: nan | Delivery_Charges_s: nan | Container_Charges_s: nan | CGST_s: nan | SGST_s: nan | IGST_s: nan | Total_s: nan | Order_Acceptance_Time_s: nan | Order_Delivery_Time_s: nan | Reason_s: nan | Online_Tax_Calculated_s: nan | GST_Paid_by_Merchant_s: nan | GST_Paid_by_Ecommerce_s: nan | Restaurant_ID_s: 43557 | Client_Sharing_Code_s: nan | Identifier_s: nan | Order_ID_s: nan | Order_Status_s: nan | Received_Time_s: nan | Accepted_Time_s: nan | Mark_Ready_Time_s: nan | Rider_Arrival_Time_s: nan | Picked_up_Time_s: nan | Delivered_Time_s: nan | Cancelled_Time_s: nan | Customer_Name_ff: nan'),\n",
              " Document(metadata={}, page_content='ivered_Time_s: nan | Cancelled_Time_s: nan | Customer_Name_ff: nan | Date_of_Birth_ff: nan | Date_of_Anniversary_ff: nan | Customer_Phone_ff: nan | From__ff: nan | Customer_Email_ff: nan | Invoice_Id_ff: nan | Table_No_ff: nan | Order_Type_ff: nan | Answer_ff: nan | Created_ff: nan | Customer_Name_sf: nan | Date_of_Birth_sf: nan | Date_of_Anniversary_sf: nan | Customer_Phone_sf: nan | From__sf: nan | Customer_Email_sf: nan | Invoice_Id_sf: nan | Table_No_sf: nan | Order_Type_sf: nan | Answer_sf: nan | Created_sf: nan | PAX: nan | Biller_BSR: SANDEEP | First_Print_Date_BSR: 2025-03-29 22:45:04 UTC | Last_Settlement_Date_BSR: 2025-03-29 22:54:05 UTC | Duration__In_Minutes_BSR: 9.0 | Settled_By_BSR: vijay ( | area_co: nan | order_cancel_reason_co: nan | Cancelled_Invoice_Total_co: nan | Discount_Order_Type_DSR: nan | Biller_Name: nan | Discount_DSR: nan | Reason_DSR: nan | Food_Preparation_Time_Z: nan | Food_Preparation_Time_S: nan | Zomato_Delivery_Time: nan | Swiggy_Delivery_Time: nan | amount_from: 9801.0 | amount_to: 9335.0 | modified_by: vijay ( | modify_comment: removed sc | electron_pos: 2025-03-29 22:46:42 UTC | bill_no: F22351 | invoice_no: 22351.0 | date_orap: 2025-03-29 22:45:03 UTC | has_anomaly: No | anomaly_priority: nan | anomaly_payment_mismatch: 0 | anomaly_missing_payment_info: 0 | anomaly_multiple_payment_types: 0 | anomaly_tax'),\n",
              " Document(metadata={}, page_content=' | anomaly_missing_payment_info: 0 | anomaly_multiple_payment_types: 0 | anomaly_tax_calculation_mismatch: 0 | anomaly_zero_tax_on_taxable: 0 | anomaly_large_order_modification: 0 | anomaly_modification_without_comment: 0 | anomaly_zomato_invoice_mismatch: 0 | anomaly_swiggy_invoice_mismatch: 0 | anomaly_long_zomato_prep_time: 0 | anomaly_long_swiggy_prep_time: 0 | anomaly_zomato_missing_delivery_time: 0 | anomaly_swiggy_missing_delivery_time: 0 | anomaly_high_discount: 0 | anomaly_discount_without_reason: 0 | anomaly_zomato_status_mismatch: 0 | anomaly_swiggy_status_mismatch: 0 | anomaly_extreme_settlement_time: 0 | anomaly_unusual_settlement_time: 0 | anomaly_long_bill_settlement: 0 | anomaly_missing_server_name: 0 | anomaly_zomato_missing_customer: 0 | anomaly_swiggy_missing_customer: 0 | anomaly_suspicious_pax: 0 | anomaly_price_inconsistency: 0 | pattern_risk: Low Risk | reason_pattern_risk: nan'),\n",
              " Document(metadata={}, page_content=\"Date: 03-08-2024 | Timestamp: 2024-08-04 00:29:02 UTC | Invoice_No_: 2005 | Payment_Type: Cash | Order_Type: Dine In | Area: Dine in | Item_Name: BLENDER'S PRIDE | Price: 275 | Qty_: 2.0 | Sub_Total: 550.0 | Discount: 0.0 | Tax: 82.5 | Final_Total: 632.5 | Status: Success | Table_No_: 12 | Server_Name: vijay s | Covers: 3 | Variation: nan | Category: BAR DOMESTIC WHISKY | HSN: nan | Phone: 9881860034 | Name: nan | Address: nan | GST: 27ABDFR9342Q1ZE | Assign_To: UMESH B | Non_Taxable: 0.0 | CGST_Rate: 2.5 | CGST_Amount: 0.0 | SGST_Rate: 2.5 | SGST_Amount: 0.0 | VAT_Rate: 10 | VAT_Amount: 55.0 | Service_Charge_Rate: 5 | Service_Charge_Amount: 27.5 | Date_z: nan | Invoice_Date_z: nan | Aggregator_Order_No_z: nan | PoS_Invoice_No_z: nan | Order_From_z: nan | Outlet_Name_z: nan | Petpooja_Identifier_z: nan | Order_Type_z: nan | Customer_Name_z: nan | Customer_Phone_z: 9881860034 | Payment_Type_z: nan | Delivery_status_z: nan | Status_z: nan | My_amount_z: nan | Aggregator_Discount_z: nan | Outlet_Discount_z: nan | Delivery_Charges_z: nan | Container_Charges_z: nan | CGST_z: nan | SGST_z: nan | IGST_z: nan | Total_z: nan | Order_Acceptance_Time_z: nan | Order_Delivery_Time_z: nan | Reason_z: nan | Online_Tax_Calculated_z: nan | GST_Paid_by_Merchant_z: nan | GST_Paid_by\"),\n",
              " Document(metadata={}, page_content='z: nan | GST_Paid_by_Merchant_z: nan | GST_Paid_by_Ecommerce_z: nan | Restaurant_ID_z: 860034 | Client_Sharing_Code_z: nan | Identifier_z: nan | Order_ID_z: nan | Order_Status_z: nan | Received_Time_z: nan | Accepted_Time_z: nan | Mark_Ready_Time_z: nan | Rider_Arrival_Time_z: nan | Picked_up_Time_z: nan | Delivered_Time_z: nan | Cancelled_Time_z: nan | Date_s: nan | Invoice_Date_s: nan | Aggregator_Order_No_s: nan | PoS_Invoice_No_s: nan | Order_From_s: nan | Outlet_Name_s: nan | Petpooja_Identifier_s: nan | Order_Type_s: nan | Customer_Name_s: nan | Customer_Phone_s: 9881860034 | Payment_Type_s: nan | Delivery_status_s: nan | Status_s: nan | My_amount_s: nan | Aggregator_Discount_s: nan | Outlet_Discount_s: nan | Delivery_Charges_s: nan | Container_Charges_s: nan | CGST_s: nan | SGST_s: nan | IGST_s: nan | Total_s: nan | Order_Acceptance_Time_s: nan | Order_Delivery_Time_s: nan | Reason_s: nan | Online_Tax_Calculated_s: nan | GST_Paid_by_Merchant_s: nan | GST_Paid_by_Ecommerce_s: nan | Restaurant_ID_s: 860034 | Client_Sharing_Code_s: nan | Identifier_s: nan | Order_ID_s: nan | Order_Status_s: nan | Received_Time_s: nan | Accepted_Time_s: nan | Mark_Ready_Time_s: nan | Rider_Arrival_Time_s: nan | Picked_up_Time_s: nan | Delivered_Time_s: nan | Cancelled_Time_s: nan | Customer_'),\n",
              " Document(metadata={}, page_content='s: nan | Delivered_Time_s: nan | Cancelled_Time_s: nan | Customer_Name_ff: nan | Date_of_Birth_ff: nan | Date_of_Anniversary_ff: nan | Customer_Phone_ff: nan | From__ff: nan | Customer_Email_ff: nan | Invoice_Id_ff: nan | Table_No_ff: nan | Order_Type_ff: nan | Answer_ff: nan | Created_ff: nan | Customer_Name_sf: nan | Date_of_Birth_sf: nan | Date_of_Anniversary_sf: nan | Customer_Phone_sf: nan | From__sf: nan | Customer_Email_sf: nan | Invoice_Id_sf: nan | Table_No_sf: nan | Order_Type_sf: nan | Answer_sf: nan | Created_sf: nan | PAX: nan | Biller_BSR: vijay ( | First_Print_Date_BSR: 2024-08-04 00:29:02 UTC | Last_Settlement_Date_BSR: 2024-08-04 00:38:16 UTC | Duration__In_Minutes_BSR: 9.0 | Settled_By_BSR: vijay ( | area_co: nan | order_cancel_reason_co: nan | Cancelled_Invoice_Total_co: nan | Discount_Order_Type_DSR: nan | Biller_Name: nan | Discount_DSR: nan | Reason_DSR: nan | Food_Preparation_Time_Z: nan | Food_Preparation_Time_S: nan | Zomato_Delivery_Time: nan | Swiggy_Delivery_Time: nan | amount_from: nan | amount_to: nan | modified_by: nan | modify_comment: nan | electron_pos: nan | bill_no: nan | invoice_no: nan | date_orap: nan | has_anomaly: No | anomaly_priority: nan | anomaly_payment_mismatch: 0 | anomaly_missing_payment_info: 0 | anomaly_multiple_payment_types: 0 | anomaly_tax_calculation_mismatch: 0 | anomaly_zero_tax_on_taxable: 0 | anomaly_large_order_'),\n",
              " Document(metadata={}, page_content='ismatch: 0 | anomaly_zero_tax_on_taxable: 0 | anomaly_large_order_modification: 0 | anomaly_modification_without_comment: 0 | anomaly_zomato_invoice_mismatch: 0 | anomaly_swiggy_invoice_mismatch: 0 | anomaly_long_zomato_prep_time: 0 | anomaly_long_swiggy_prep_time: 0 | anomaly_zomato_missing_delivery_time: 0 | anomaly_swiggy_missing_delivery_time: 0 | anomaly_high_discount: 0 | anomaly_discount_without_reason: 0 | anomaly_zomato_status_mismatch: 0 | anomaly_swiggy_status_mismatch: 0 | anomaly_extreme_settlement_time: 0 | anomaly_unusual_settlement_time: 0 | anomaly_long_bill_settlement: 0 | anomaly_missing_server_name: 0 | anomaly_zomato_missing_customer: 0 | anomaly_swiggy_missing_customer: 0 | anomaly_suspicious_pax: 0 | anomaly_price_inconsistency: 0 | pattern_risk: Low Risk | reason_pattern_risk: is_cash, is_odd_hour'),\n",
              " Document(metadata={}, page_content='Date: 30-08-2024 | Timestamp: 2024-08-30 22:13:37 UTC | Invoice_No_: 8847 | Payment_Type: CARD | Order_Type: Dine In | Area: Garden Table | Item_Name: Butter Roti | Price: 95 | Qty_: 1.0 | Sub_Total: 95.0 | Discount: 0.0 | Tax: 9.6 | Final_Total: 104.6 | Status: Success | Table_No_: G 5 | Server_Name: TANMOY  | Covers: 6 | Variation: nan | Category: TANDOOR BREADS | HSN: nan | Phone: 9819872420 | Name: radhika | Address: nan | GST: nan | Assign_To: TANMOY  | Non_Taxable: 0.0 | CGST_Rate: 2.5 | CGST_Amount: 2.4 | SGST_Rate: 2.5 | SGST_Amount: 2.4 | VAT_Rate: 10 | VAT_Amount: 0.0 | Service_Charge_Rate: 5 | Service_Charge_Amount: 4.8 | Date_z: nan | Invoice_Date_z: nan | Aggregator_Order_No_z: nan | PoS_Invoice_No_z: nan | Order_From_z: nan | Outlet_Name_z: nan | Petpooja_Identifier_z: nan | Order_Type_z: nan | Customer_Name_z: nan | Customer_Phone_z: 9819872420 | Payment_Type_z: nan | Delivery_status_z: nan | Status_z: nan | My_amount_z: nan | Aggregator_Discount_z: nan | Outlet_Discount_z: nan | Delivery_Charges_z: nan | Container_Charges_z: nan | CGST_z: nan | SGST_z: nan | IGST_z: nan | Total_z: nan | Order_Acceptance_Time_z: nan | Order_Delivery_Time_z: nan | Reason_z: nan | Online_Tax_Calculated_z: nan | GST_Paid_by_Merchant_z: nan | GST_Paid_by_Ecommerce_z: nan | Restaurant'),\n",
              " Document(metadata={}, page_content='by_Merchant_z: nan | GST_Paid_by_Ecommerce_z: nan | Restaurant_ID_z: 872420 | Client_Sharing_Code_z: nan | Identifier_z: nan | Order_ID_z: nan | Order_Status_z: nan | Received_Time_z: nan | Accepted_Time_z: nan | Mark_Ready_Time_z: nan | Rider_Arrival_Time_z: nan | Picked_up_Time_z: nan | Delivered_Time_z: nan | Cancelled_Time_z: nan | Date_s: nan | Invoice_Date_s: nan | Aggregator_Order_No_s: nan | PoS_Invoice_No_s: nan | Order_From_s: nan | Outlet_Name_s: nan | Petpooja_Identifier_s: nan | Order_Type_s: nan | Customer_Name_s: nan | Customer_Phone_s: 9819872420 | Payment_Type_s: nan | Delivery_status_s: nan | Status_s: nan | My_amount_s: nan | Aggregator_Discount_s: nan | Outlet_Discount_s: nan | Delivery_Charges_s: nan | Container_Charges_s: nan | CGST_s: nan | SGST_s: nan | IGST_s: nan | Total_s: nan | Order_Acceptance_Time_s: nan | Order_Delivery_Time_s: nan | Reason_s: nan | Online_Tax_Calculated_s: nan | GST_Paid_by_Merchant_s: nan | GST_Paid_by_Ecommerce_s: nan | Restaurant_ID_s: 872420 | Client_Sharing_Code_s: nan | Identifier_s: nan | Order_ID_s: nan | Order_Status_s: nan | Received_Time_s: nan | Accepted_Time_s: nan | Mark_Ready_Time_s: nan | Rider_Arrival_Time_s: nan | Picked_up_Time_s: nan | Delivered_Time_s: nan | Cancelled_Time_s: nan | Customer_Name_ff: nan | Date_of_'),\n",
              " Document(metadata={}, page_content=': nan | Cancelled_Time_s: nan | Customer_Name_ff: nan | Date_of_Birth_ff: nan | Date_of_Anniversary_ff: nan | Customer_Phone_ff: nan | From__ff: nan | Customer_Email_ff: nan | Invoice_Id_ff: nan | Table_No_ff: nan | Order_Type_ff: nan | Answer_ff: nan | Created_ff: nan | Customer_Name_sf: nan | Date_of_Birth_sf: nan | Date_of_Anniversary_sf: nan | Customer_Phone_sf: nan | From__sf: nan | Customer_Email_sf: nan | Invoice_Id_sf: nan | Table_No_sf: nan | Order_Type_sf: nan | Answer_sf: nan | Created_sf: nan | PAX: nan | Biller_BSR: TANMOY  | First_Print_Date_BSR: 2024-08-30 22:13:38 UTC | Last_Settlement_Date_BSR: 2024-08-30 22:15:44 UTC | Duration__In_Minutes_BSR: 2.0 | Settled_By_BSR: vijay ( | area_co: nan | order_cancel_reason_co: nan | Cancelled_Invoice_Total_co: nan | Discount_Order_Type_DSR: nan | Biller_Name: nan | Discount_DSR: nan | Reason_DSR: nan | Food_Preparation_Time_Z: nan | Food_Preparation_Time_S: nan | Zomato_Delivery_Time: nan | Swiggy_Delivery_Time: nan | amount_from: nan | amount_to: nan | modified_by: nan | modify_comment: nan | electron_pos: nan | bill_no: nan | invoice_no: nan | date_orap: nan | has_anomaly: No | anomaly_priority: nan | anomaly_payment_mismatch: 0 | anomaly_missing_payment_info: 0 | anomaly_multiple_payment_types: 0 | anomaly_tax_calculation_mismatch: 0 | anomaly_zero_tax_on_taxable: 0 | anomaly_large_order_modification: 0 | anomaly_modification'),\n",
              " Document(metadata={}, page_content='tax_on_taxable: 0 | anomaly_large_order_modification: 0 | anomaly_modification_without_comment: 0 | anomaly_zomato_invoice_mismatch: 0 | anomaly_swiggy_invoice_mismatch: 0 | anomaly_long_zomato_prep_time: 0 | anomaly_long_swiggy_prep_time: 0 | anomaly_zomato_missing_delivery_time: 0 | anomaly_swiggy_missing_delivery_time: 0 | anomaly_high_discount: 0 | anomaly_discount_without_reason: 0 | anomaly_zomato_status_mismatch: 0 | anomaly_swiggy_status_mismatch: 0 | anomaly_extreme_settlement_time: 0 | anomaly_unusual_settlement_time: 0 | anomaly_long_bill_settlement: 0 | anomaly_missing_server_name: 0 | anomaly_zomato_missing_customer: 0 | anomaly_swiggy_missing_customer: 0 | anomaly_suspicious_pax: 0 | anomaly_price_inconsistency: 0 | pattern_risk: Low Risk | reason_pattern_risk: is_card_payment'),\n",
              " Document(metadata={}, page_content='Date: 29-03-2025 | Timestamp: 2025-03-29 22:45:03 UTC | Invoice_No_: 22351 | Payment_Type: Other [ZOMATO PAY] | Order_Type: Dine In | Area: Dine in | Item_Name: PUDINA PARATHA | Price: 135 | Qty_: 1.0 | Sub_Total: 135.0 | Discount: 0.0 | Tax: 6.8 | Final_Total: 141.8 | Status: Success | Table_No_: 30 | Server_Name: SANDEEP | Covers: 9 | Variation: nan | Category: TANDOOR BREADS | HSN: nan | Phone: 9844043557 | Name: YASH PAREKH | Address: nan | GST: nan | Assign_To: SANDEEP | Non_Taxable: 0.0 | CGST_Rate: 2.5 | CGST_Amount: 3.4 | SGST_Rate: 2.5 | SGST_Amount: 3.4 | VAT_Rate: 10 | VAT_Amount: 0.0 | Service_Charge_Rate: 5 | Service_Charge_Amount: 0.0 | Date_z: nan | Invoice_Date_z: nan | Aggregator_Order_No_z: nan | PoS_Invoice_No_z: nan | Order_From_z: nan | Outlet_Name_z: nan | Petpooja_Identifier_z: nan | Order_Type_z: nan | Customer_Name_z: nan | Customer_Phone_z: 9844043557 | Payment_Type_z: nan | Delivery_status_z: nan | Status_z: nan | My_amount_z: nan | Aggregator_Discount_z: nan | Outlet_Discount_z: nan | Delivery_Charges_z: nan | Container_Charges_z: nan | CGST_z: nan | SGST_z: nan | IGST_z: nan | Total_z: nan | Order_Acceptance_Time_z: nan | Order_Delivery_Time_z: nan | Reason_z: nan | Online_Tax_Calculated_z: nan | GST_Paid_by_Merchant_z: nan | GST_Paid'),\n",
              " Document(metadata={}, page_content='culated_z: nan | GST_Paid_by_Merchant_z: nan | GST_Paid_by_Ecommerce_z: nan | Restaurant_ID_z: 43557 | Client_Sharing_Code_z: nan | Identifier_z: nan | Order_ID_z: nan | Order_Status_z: nan | Received_Time_z: nan | Accepted_Time_z: nan | Mark_Ready_Time_z: nan | Rider_Arrival_Time_z: nan | Picked_up_Time_z: nan | Delivered_Time_z: nan | Cancelled_Time_z: nan | Date_s: nan | Invoice_Date_s: nan | Aggregator_Order_No_s: nan | PoS_Invoice_No_s: nan | Order_From_s: nan | Outlet_Name_s: nan | Petpooja_Identifier_s: nan | Order_Type_s: nan | Customer_Name_s: nan | Customer_Phone_s: 9844043557 | Payment_Type_s: nan | Delivery_status_s: nan | Status_s: nan | My_amount_s: nan | Aggregator_Discount_s: nan | Outlet_Discount_s: nan | Delivery_Charges_s: nan | Container_Charges_s: nan | CGST_s: nan | SGST_s: nan | IGST_s: nan | Total_s: nan | Order_Acceptance_Time_s: nan | Order_Delivery_Time_s: nan | Reason_s: nan | Online_Tax_Calculated_s: nan | GST_Paid_by_Merchant_s: nan | GST_Paid_by_Ecommerce_s: nan | Restaurant_ID_s: 43557 | Client_Sharing_Code_s: nan | Identifier_s: nan | Order_ID_s: nan | Order_Status_s: nan | Received_Time_s: nan | Accepted_Time_s: nan | Mark_Ready_Time_s: nan | Rider_Arrival_Time_s: nan | Picked_up_Time_s: nan | Delivered_Time_s: nan | Cancelled_Time_s: nan | Customer_'),\n",
              " Document(metadata={}, page_content='s: nan | Delivered_Time_s: nan | Cancelled_Time_s: nan | Customer_Name_ff: nan | Date_of_Birth_ff: nan | Date_of_Anniversary_ff: nan | Customer_Phone_ff: nan | From__ff: nan | Customer_Email_ff: nan | Invoice_Id_ff: nan | Table_No_ff: nan | Order_Type_ff: nan | Answer_ff: nan | Created_ff: nan | Customer_Name_sf: nan | Date_of_Birth_sf: nan | Date_of_Anniversary_sf: nan | Customer_Phone_sf: nan | From__sf: nan | Customer_Email_sf: nan | Invoice_Id_sf: nan | Table_No_sf: nan | Order_Type_sf: nan | Answer_sf: nan | Created_sf: nan | PAX: nan | Biller_BSR: SANDEEP | First_Print_Date_BSR: 2025-03-29 22:45:04 UTC | Last_Settlement_Date_BSR: 2025-03-29 22:54:05 UTC | Duration__In_Minutes_BSR: 9.0 | Settled_By_BSR: vijay ( | area_co: nan | order_cancel_reason_co: nan | Cancelled_Invoice_Total_co: nan | Discount_Order_Type_DSR: nan | Biller_Name: nan | Discount_DSR: nan | Reason_DSR: nan | Food_Preparation_Time_Z: nan | Food_Preparation_Time_S: nan | Zomato_Delivery_Time: nan | Swiggy_Delivery_Time: nan | amount_from: 9801.0 | amount_to: 9335.0 | modified_by: vijay ( | modify_comment: removed sc | electron_pos: 2025-03-29 22:46:42 UTC | bill_no: F22351 | invoice_no: 22351.0 | date_orap: 2025-03-29 22:45:03 UTC | has_anomaly: No | anomaly_priority: nan | anomaly_payment_mismatch: 0 | anomaly_missing_payment_info: 0 | anomaly_multiple_payment_types:'),\n",
              " Document(metadata={}, page_content='mismatch: 0 | anomaly_missing_payment_info: 0 | anomaly_multiple_payment_types: 0 | anomaly_tax_calculation_mismatch: 0 | anomaly_zero_tax_on_taxable: 0 | anomaly_large_order_modification: 0 | anomaly_modification_without_comment: 0 | anomaly_zomato_invoice_mismatch: 0 | anomaly_swiggy_invoice_mismatch: 0 | anomaly_long_zomato_prep_time: 0 | anomaly_long_swiggy_prep_time: 0 | anomaly_zomato_missing_delivery_time: 0 | anomaly_swiggy_missing_delivery_time: 0 | anomaly_high_discount: 0 | anomaly_discount_without_reason: 0 | anomaly_zomato_status_mismatch: 0 | anomaly_swiggy_status_mismatch: 0 | anomaly_extreme_settlement_time: 0 | anomaly_unusual_settlement_time: 0 | anomaly_long_bill_settlement: 0 | anomaly_missing_server_name: 0 | anomaly_zomato_missing_customer: 0 | anomaly_swiggy_missing_customer: 0 | anomaly_suspicious_pax: 0 | anomaly_price_inconsistency: 0 | pattern_risk: Low Risk | reason_pattern_risk: nan'),\n",
              " Document(metadata={}, page_content='Date: 04-10-2024 | Timestamp: 2024-10-04 18:53:25 UTC | Invoice_No_: C1984 | Payment_Type: Cash | Order_Type: Dine In | Area: Garden Table | Item_Name: Cheese & Garlic Naan | Price: 290 | Qty_: 2.0 | Sub_Total: 580.0 | Discount: 0.0 | Tax: 58.0 | Final_Total: 638.0 | Status: Complimentary | Table_No_: G 5 | Server_Name: TAPASH | Covers: 3 | Variation: nan | Category: TANDOOR BREADS | HSN: nan | Phone: 9843950806 | Name: PHOTO SHOOT | Address: nan | GST: nan | Assign_To: nan | Non_Taxable: 0.0 | CGST_Rate: 2.5 | CGST_Amount: 14.5 | SGST_Rate: 2.5 | SGST_Amount: 14.5 | VAT_Rate: 10 | VAT_Amount: 0.0 | Service_Charge_Rate: 5 | Service_Charge_Amount: 29.0 | Date_z: nan | Invoice_Date_z: nan | Aggregator_Order_No_z: nan | PoS_Invoice_No_z: nan | Order_From_z: nan | Outlet_Name_z: nan | Petpooja_Identifier_z: nan | Order_Type_z: nan | Customer_Name_z: nan | Customer_Phone_z: 9843950806 | Payment_Type_z: nan | Delivery_status_z: nan | Status_z: nan | My_amount_z: nan | Aggregator_Discount_z: nan | Outlet_Discount_z: nan | Delivery_Charges_z: nan | Container_Charges_z: nan | CGST_z: nan | SGST_z: nan | IGST_z: nan | Total_z: nan | Order_Acceptance_Time_z: nan | Order_Delivery_Time_z: nan | Reason_z: nan | Online_Tax_Calculated_z: nan | GST_Paid_by_Merchant_z: nan | GST_Paid_by_Ecommerce_z: nan'),\n",
              " Document(metadata={}, page_content='aid_by_Merchant_z: nan | GST_Paid_by_Ecommerce_z: nan | Restaurant_ID_z: 950806 | Client_Sharing_Code_z: nan | Identifier_z: nan | Order_ID_z: nan | Order_Status_z: nan | Received_Time_z: nan | Accepted_Time_z: nan | Mark_Ready_Time_z: nan | Rider_Arrival_Time_z: nan | Picked_up_Time_z: nan | Delivered_Time_z: nan | Cancelled_Time_z: nan | Date_s: nan | Invoice_Date_s: nan | Aggregator_Order_No_s: nan | PoS_Invoice_No_s: nan | Order_From_s: nan | Outlet_Name_s: nan | Petpooja_Identifier_s: nan | Order_Type_s: nan | Customer_Name_s: nan | Customer_Phone_s: 9843950806 | Payment_Type_s: nan | Delivery_status_s: nan | Status_s: nan | My_amount_s: nan | Aggregator_Discount_s: nan | Outlet_Discount_s: nan | Delivery_Charges_s: nan | Container_Charges_s: nan | CGST_s: nan | SGST_s: nan | IGST_s: nan | Total_s: nan | Order_Acceptance_Time_s: nan | Order_Delivery_Time_s: nan | Reason_s: nan | Online_Tax_Calculated_s: nan | GST_Paid_by_Merchant_s: nan | GST_Paid_by_Ecommerce_s: nan | Restaurant_ID_s: 950806 | Client_Sharing_Code_s: nan | Identifier_s: nan | Order_ID_s: nan | Order_Status_s: nan | Received_Time_s: nan | Accepted_Time_s: nan | Mark_Ready_Time_s: nan | Rider_Arrival_Time_s: nan | Picked_up_Time_s: nan | Delivered_Time_s: nan | Cancelled_Time_s: nan | Customer_Name_ff: nan | Date_of'),\n",
              " Document(metadata={}, page_content='s: nan | Cancelled_Time_s: nan | Customer_Name_ff: nan | Date_of_Birth_ff: nan | Date_of_Anniversary_ff: nan | Customer_Phone_ff: nan | From__ff: nan | Customer_Email_ff: nan | Invoice_Id_ff: nan | Table_No_ff: nan | Order_Type_ff: nan | Answer_ff: nan | Created_ff: nan | Customer_Name_sf: nan | Date_of_Birth_sf: nan | Date_of_Anniversary_sf: nan | Customer_Phone_sf: nan | From__sf: nan | Customer_Email_sf: nan | Invoice_Id_sf: nan | Table_No_sf: nan | Order_Type_sf: nan | Answer_sf: nan | Created_sf: nan | PAX: nan | Biller_BSR: nan | First_Print_Date_BSR: nan | Last_Settlement_Date_BSR: nan | Duration__In_Minutes_BSR: nan | Settled_By_BSR: nan | area_co: nan | order_cancel_reason_co: nan | Cancelled_Invoice_Total_co: nan | Discount_Order_Type_DSR: nan | Biller_Name: nan | Discount_DSR: nan | Reason_DSR: nan | Food_Preparation_Time_Z: nan | Food_Preparation_Time_S: nan | Zomato_Delivery_Time: nan | Swiggy_Delivery_Time: nan | amount_from: nan | amount_to: nan | modified_by: nan | modify_comment: nan | electron_pos: nan | bill_no: nan | invoice_no: nan | date_orap: nan | has_anomaly: No | anomaly_priority: nan | anomaly_payment_mismatch: 0 | anomaly_missing_payment_info: 0 | anomaly_multiple_payment_types: 0 | anomaly_tax_calculation_mismatch: 0 | anomaly_zero_tax_on_taxable: 0 | anomaly_large_order_modification: 0 | anomaly_modification_without_comment: 0 | anomaly_zomato_invoice_mismatch: 0 | anomaly_swiggy_'),\n",
              " Document(metadata={}, page_content=': 0 | anomaly_zomato_invoice_mismatch: 0 | anomaly_swiggy_invoice_mismatch: 0 | anomaly_long_zomato_prep_time: 0 | anomaly_long_swiggy_prep_time: 0 | anomaly_zomato_missing_delivery_time: 0 | anomaly_swiggy_missing_delivery_time: 0 | anomaly_high_discount: 0 | anomaly_discount_without_reason: 0 | anomaly_zomato_status_mismatch: 0 | anomaly_swiggy_status_mismatch: 0 | anomaly_extreme_settlement_time: 0 | anomaly_unusual_settlement_time: 0 | anomaly_long_bill_settlement: 0 | anomaly_missing_server_name: 0 | anomaly_zomato_missing_customer: 0 | anomaly_swiggy_missing_customer: 0 | anomaly_suspicious_pax: 0 | anomaly_price_inconsistency: 0 | pattern_risk: Low Risk | reason_pattern_risk: is_cash'),\n",
              " Document(metadata={}, page_content='Date: 04-10-2024 | Timestamp: 2024-10-04 18:53:25 UTC | Invoice_No_: C1984 | Payment_Type: Cash | Order_Type: Dine In | Area: Garden Table | Item_Name: Crispy Corn | Price: 795 | Qty_: 1.0 | Sub_Total: 795.0 | Discount: 0.0 | Tax: 79.6 | Final_Total: 874.6 | Status: Complimentary | Table_No_: G 5 | Server_Name: TAPASH | Covers: 3 | Variation: nan | Category: ORIENTAL STARTER | HSN: nan | Phone: 9843950806 | Name: PHOTO SHOOT | Address: nan | GST: nan | Assign_To: nan | Non_Taxable: 0.0 | CGST_Rate: 2.5 | CGST_Amount: 19.9 | SGST_Rate: 2.5 | SGST_Amount: 19.9 | VAT_Rate: 10 | VAT_Amount: 0.0 | Service_Charge_Rate: 5 | Service_Charge_Amount: 39.8 | Date_z: nan | Invoice_Date_z: nan | Aggregator_Order_No_z: nan | PoS_Invoice_No_z: nan | Order_From_z: nan | Outlet_Name_z: nan | Petpooja_Identifier_z: nan | Order_Type_z: nan | Customer_Name_z: nan | Customer_Phone_z: 9843950806 | Payment_Type_z: nan | Delivery_status_z: nan | Status_z: nan | My_amount_z: nan | Aggregator_Discount_z: nan | Outlet_Discount_z: nan | Delivery_Charges_z: nan | Container_Charges_z: nan | CGST_z: nan | SGST_z: nan | IGST_z: nan | Total_z: nan | Order_Acceptance_Time_z: nan | Order_Delivery_Time_z: nan | Reason_z: nan | Online_Tax_Calculated_z: nan | GST_Paid_by_Merchant_z: nan | GST_Paid_by_Ecommerce_z: nan | Restaurant_'),\n",
              " Document(metadata={}, page_content='_Merchant_z: nan | GST_Paid_by_Ecommerce_z: nan | Restaurant_ID_z: 950806 | Client_Sharing_Code_z: nan | Identifier_z: nan | Order_ID_z: nan | Order_Status_z: nan | Received_Time_z: nan | Accepted_Time_z: nan | Mark_Ready_Time_z: nan | Rider_Arrival_Time_z: nan | Picked_up_Time_z: nan | Delivered_Time_z: nan | Cancelled_Time_z: nan | Date_s: nan | Invoice_Date_s: nan | Aggregator_Order_No_s: nan | PoS_Invoice_No_s: nan | Order_From_s: nan | Outlet_Name_s: nan | Petpooja_Identifier_s: nan | Order_Type_s: nan | Customer_Name_s: nan | Customer_Phone_s: 9843950806 | Payment_Type_s: nan | Delivery_status_s: nan | Status_s: nan | My_amount_s: nan | Aggregator_Discount_s: nan | Outlet_Discount_s: nan | Delivery_Charges_s: nan | Container_Charges_s: nan | CGST_s: nan | SGST_s: nan | IGST_s: nan | Total_s: nan | Order_Acceptance_Time_s: nan | Order_Delivery_Time_s: nan | Reason_s: nan | Online_Tax_Calculated_s: nan | GST_Paid_by_Merchant_s: nan | GST_Paid_by_Ecommerce_s: nan | Restaurant_ID_s: 950806 | Client_Sharing_Code_s: nan | Identifier_s: nan | Order_ID_s: nan | Order_Status_s: nan | Received_Time_s: nan | Accepted_Time_s: nan | Mark_Ready_Time_s: nan | Rider_Arrival_Time_s: nan | Picked_up_Time_s: nan | Delivered_Time_s: nan | Cancelled_Time_s: nan | Customer_Name_ff: nan | Date_of_Birth_'),\n",
              " Document(metadata={}, page_content=' | Cancelled_Time_s: nan | Customer_Name_ff: nan | Date_of_Birth_ff: nan | Date_of_Anniversary_ff: nan | Customer_Phone_ff: nan | From__ff: nan | Customer_Email_ff: nan | Invoice_Id_ff: nan | Table_No_ff: nan | Order_Type_ff: nan | Answer_ff: nan | Created_ff: nan | Customer_Name_sf: nan | Date_of_Birth_sf: nan | Date_of_Anniversary_sf: nan | Customer_Phone_sf: nan | From__sf: nan | Customer_Email_sf: nan | Invoice_Id_sf: nan | Table_No_sf: nan | Order_Type_sf: nan | Answer_sf: nan | Created_sf: nan | PAX: nan | Biller_BSR: nan | First_Print_Date_BSR: nan | Last_Settlement_Date_BSR: nan | Duration__In_Minutes_BSR: nan | Settled_By_BSR: nan | area_co: nan | order_cancel_reason_co: nan | Cancelled_Invoice_Total_co: nan | Discount_Order_Type_DSR: nan | Biller_Name: nan | Discount_DSR: nan | Reason_DSR: nan | Food_Preparation_Time_Z: nan | Food_Preparation_Time_S: nan | Zomato_Delivery_Time: nan | Swiggy_Delivery_Time: nan | amount_from: nan | amount_to: nan | modified_by: nan | modify_comment: nan | electron_pos: nan | bill_no: nan | invoice_no: nan | date_orap: nan | has_anomaly: No | anomaly_priority: nan | anomaly_payment_mismatch: 0 | anomaly_missing_payment_info: 0 | anomaly_multiple_payment_types: 0 | anomaly_tax_calculation_mismatch: 0 | anomaly_zero_tax_on_taxable: 0 | anomaly_large_order_modification: 0 | anomaly_modification_without_comment: 0 | anomaly_zomato_invoice_mismatch: 0 | anomaly_swiggy_invoice_'),\n",
              " Document(metadata={}, page_content=' anomaly_zomato_invoice_mismatch: 0 | anomaly_swiggy_invoice_mismatch: 0 | anomaly_long_zomato_prep_time: 0 | anomaly_long_swiggy_prep_time: 0 | anomaly_zomato_missing_delivery_time: 0 | anomaly_swiggy_missing_delivery_time: 0 | anomaly_high_discount: 0 | anomaly_discount_without_reason: 0 | anomaly_zomato_status_mismatch: 0 | anomaly_swiggy_status_mismatch: 0 | anomaly_extreme_settlement_time: 0 | anomaly_unusual_settlement_time: 0 | anomaly_long_bill_settlement: 0 | anomaly_missing_server_name: 0 | anomaly_zomato_missing_customer: 0 | anomaly_swiggy_missing_customer: 0 | anomaly_suspicious_pax: 0 | anomaly_price_inconsistency: 0 | pattern_risk: Low Risk | reason_pattern_risk: is_cash')]"
            ]
          },
          "execution_count": 19,
          "metadata": {},
          "output_type": "execute_result"
        }
      ],
      "source": [
        "chunked_documents"
      ]
    },
    {
      "cell_type": "code",
      "execution_count": 20,
      "metadata": {
        "id": "tEtTjJ8z7NPZ"
      },
      "outputs": [],
      "source": [
        "from langchain_openai import ChatOpenAI\n",
        "llm=ChatOpenAI(temperature=0, model_name=\"gpt-4o-mini\")"
      ]
    },
    {
      "cell_type": "code",
      "execution_count": 21,
      "metadata": {
        "id": "kf873SJB-pib"
      },
      "outputs": [],
      "source": [
        "from langchain_experimental.graph_transformers import LLMGraphTransformer\n",
        "llm_transformer = LLMGraphTransformer(llm=llm)"
      ]
    },
    {
      "cell_type": "code",
      "execution_count": 22,
      "metadata": {
        "id": "Ob8dt8JfCC48"
      },
      "outputs": [],
      "source": [
        "graph_documents = llm_transformer.convert_to_graph_documents(chunked_documents)"
      ]
    },
    {
      "cell_type": "code",
      "execution_count": 23,
      "metadata": {
        "id": "72rOf-x5CL6Z"
      },
      "outputs": [],
      "source": [
        "graph.add_graph_documents(\n",
        "    graph_documents,\n",
        "    baseEntityLabel=True,\n",
        "    include_source=True\n",
        ")"
      ]
    },
    {
      "cell_type": "code",
      "execution_count": 24,
      "metadata": {
        "id": "HWRLts6QCL-F"
      },
      "outputs": [],
      "source": [
        "default_cypher = \"MATCH (s)-[r:!MENTIONS]->(t) RETURN s,r,t LIMIT 50\""
      ]
    },
    {
      "cell_type": "code",
      "execution_count": 25,
      "metadata": {
        "id": "5nMeRbjh_RuO"
      },
      "outputs": [],
      "source": [
        "from yfiles_jupyter_graphs import GraphWidget\n",
        "from neo4j import GraphDatabase"
      ]
    },
    {
      "cell_type": "code",
      "execution_count": 26,
      "metadata": {
        "id": "4hJhQBaYEgOn"
      },
      "outputs": [],
      "source": [
        "try:\n",
        "  import google.colab\n",
        "  from google.colab import output\n",
        "  output.enable_custom_widget_manager()\n",
        "except:\n",
        "  pass"
      ]
    },
    {
      "cell_type": "code",
      "execution_count": 27,
      "metadata": {
        "id": "bu5N2iqL_9Sr"
      },
      "outputs": [],
      "source": [
        "def showGraph(cypher: str = default_cypher):\n",
        "    # create a neo4j session to run queries\n",
        "    driver = GraphDatabase.driver(\n",
        "        uri = os.environ[\"NEO4J_URI\"],\n",
        "        auth = (os.environ[\"NEO4J_USERNAME\"],\n",
        "                os.environ[\"NEO4J_PASSWORD\"]))\n",
        "    session = driver.session()\n",
        "    widget = GraphWidget(graph = session.run(cypher).graph())\n",
        "    widget.node_label_mapping = 'id'\n",
        "    display(widget)\n",
        "    return widget"
      ]
    },
    {
      "cell_type": "code",
      "execution_count": 28,
      "metadata": {
        "colab": {
          "base_uri": "https://localhost:8080/",
          "height": 1000,
          "referenced_widgets": [
            "b4f87fbbdbbc430985e94c55168b4a4f",
            "c71a382ddfbb42959bf79c92c3558cf3",
            "3e64ce0949b64b29a4420749e33b29d1"
          ]
        },
        "id": "29OahjpSE-Ju",
        "outputId": "99992a21-9a52-448c-eddb-ba16f08ddc3a"
      },
      "outputs": [
        {
          "data": {
            "application/vnd.jupyter.widget-view+json": {
              "model_id": "b4f87fbbdbbc430985e94c55168b4a4f",
              "version_major": 2,
              "version_minor": 0
            },
            "text/plain": [
              "GraphWidget(layout=Layout(height='800px', width='100%'))"
            ]
          },
          "metadata": {
            "application/vnd.jupyter.widget-view+json": {
              "colab": {
                "custom_widget_manager": {
                  "url": "https://ssl.gstatic.com/colaboratory-static/widgets/colab-cdn-widget-manager/2b70e893a8ba7c0f/manager.min.js"
                }
              }
            }
          },
          "output_type": "display_data"
        },
        {
          "data": {
            "application/vnd.jupyter.widget-view+json": {
              "model_id": "b4f87fbbdbbc430985e94c55168b4a4f",
              "version_major": 2,
              "version_minor": 0
            },
            "text/plain": [
              "GraphWidget(layout=Layout(height='800px', width='100%'))"
            ]
          },
          "metadata": {
            "application/vnd.jupyter.widget-view+json": {
              "colab": {
                "custom_widget_manager": {
                  "url": "https://ssl.gstatic.com/colaboratory-static/widgets/colab-cdn-widget-manager/2b70e893a8ba7c0f/manager.min.js"
                }
              }
            }
          },
          "output_type": "display_data"
        }
      ],
      "source": [
        "showGraph()"
      ]
    },
    {
      "cell_type": "code",
      "execution_count": 29,
      "metadata": {
        "id": "TZgg3enPyt-R"
      },
      "outputs": [],
      "source": [
        "from langchain_community.vectorstores import Neo4jVector\n",
        "from langchain_openai import OpenAIEmbeddings\n",
        "vector_index = Neo4jVector.from_existing_graph(\n",
        "    OpenAIEmbeddings(),\n",
        "    search_type=\"hybrid\",\n",
        "    node_label=\"Document\",\n",
        "    text_node_properties=[\"text\"],\n",
        "    embedding_node_property=\"embedding\"\n",
        ")"
      ]
    },
    {
      "cell_type": "code",
      "execution_count": 30,
      "metadata": {
        "colab": {
          "base_uri": "https://localhost:8080/"
        },
        "id": "PuEDAgqIzIlt",
        "outputId": "764f1c07-14b9-4d73-9659-d63de2683b3a"
      },
      "outputs": [
        {
          "data": {
            "text/plain": [
              "[]"
            ]
          },
          "execution_count": 30,
          "metadata": {},
          "output_type": "execute_result"
        }
      ],
      "source": [
        "graph.query(\"CREATE FULLTEXT INDEX entity IF NOT EXISTS FOR (e:__Entity__) ON EACH [e.id]\")"
      ]
    },
    {
      "cell_type": "code",
      "execution_count": 31,
      "metadata": {
        "colab": {
          "base_uri": "https://localhost:8080/"
        },
        "id": "OsWLFCsvzNUF",
        "outputId": "962560f4-4e90-44d1-f181-947650459150"
      },
      "outputs": [
        {
          "name": "stderr",
          "output_type": "stream",
          "text": [
            "/usr/local/lib/python3.11/dist-packages/IPython/core/interactiveshell.py:3553: LangChainDeprecationWarning: As of langchain-core 0.3.0, LangChain uses pydantic v2 internally. The langchain_core.pydantic_v1 module was a compatibility shim for pydantic v1, and should no longer be used. Please update the code to import from Pydantic directly.\n",
            "\n",
            "For example, replace imports like: `from langchain_core.pydantic_v1 import BaseModel`\n",
            "with: `from pydantic import BaseModel`\n",
            "or the v1 compatibility namespace if you are working in a code base that has not been fully upgraded to pydantic 2 yet. \tfrom pydantic.v1 import BaseModel\n",
            "\n",
            "  exec(code_obj, self.user_global_ns, self.user_ns)\n"
          ]
        }
      ],
      "source": [
        "from langchain_core.pydantic_v1 import BaseModel, Field\n",
        "from typing import List\n",
        "\n",
        "# Extract entities from sales data text\n",
        "class Entities(BaseModel):\n",
        "    \"\"\"Key extracted entities from restaurant sales records.\"\"\"\n",
        "\n",
        "    names: List[str] = Field(\n",
        "        ...,\n",
        "        description=\"List of extracted entities such as server names, customer names, item names, or business-related references present in the record.\",\n",
        "    )\n"
      ]
    },
    {
      "cell_type": "code",
      "execution_count": 32,
      "metadata": {
        "id": "P0xkni6QzQui"
      },
      "outputs": [],
      "source": [
        "from langchain_core.prompts import ChatPromptTemplate\n",
        "\n",
        "prompt = ChatPromptTemplate.from_messages(\n",
        "    [\n",
        "        (\n",
        "            \"system\",\n",
        "            \"You are an intelligent assistant that extracts structured entities from restaurant sales records. \"\n",
        "            \"Focus on extracting relevant entities such as server names, customer names, item names, payment types, and any anomaly indicators.\",\n",
        "        ),\n",
        "        (\n",
        "            \"human\",\n",
        "            \"Extract entities using the specified schema from the following input:\\n\\n{question}\",\n",
        "        ),\n",
        "    ]\n",
        ")\n"
      ]
    },
    {
      "cell_type": "code",
      "execution_count": 33,
      "metadata": {
        "colab": {
          "base_uri": "https://localhost:8080/"
        },
        "id": "gx79dhihzas2",
        "outputId": "534d6cb2-d1df-4a00-d8a3-317b915bd968"
      },
      "outputs": [
        {
          "name": "stderr",
          "output_type": "stream",
          "text": [
            "/usr/local/lib/python3.11/dist-packages/langchain_openai/chat_models/base.py:1624: UserWarning: Received a Pydantic BaseModel V1 schema. This is not supported by method=\"json_schema\". Please use method=\"function_calling\" or specify schema via JSON Schema or Pydantic V2 BaseModel. Overriding to method=\"function_calling\".\n",
            "  warnings.warn(\n"
          ]
        }
      ],
      "source": [
        "entity_chain = prompt | llm.with_structured_output(Entities)"
      ]
    },
    {
      "cell_type": "code",
      "execution_count": 34,
      "metadata": {
        "id": "5o0G4JLYzczP"
      },
      "outputs": [],
      "source": [
        "from langchain_community.vectorstores.neo4j_vector import remove_lucene_chars"
      ]
    },
    {
      "cell_type": "code",
      "execution_count": 35,
      "metadata": {
        "id": "IT6NgXepzgm4"
      },
      "outputs": [],
      "source": [
        "def generate_full_text_query(input: str) -> str:\n",
        "    full_text_query = \"\"\n",
        "    words = [el for el in remove_lucene_chars(input).split() if el]\n",
        "    for word in words[:-1]:\n",
        "        full_text_query += f\" {word}~2 AND\"\n",
        "    full_text_query += f\" {words[-1]}~2\"\n",
        "    return full_text_query.strip()"
      ]
    },
    {
      "cell_type": "code",
      "execution_count": 36,
      "metadata": {
        "id": "znoN6tFuzkMY"
      },
      "outputs": [],
      "source": [
        "def structured_retriever(question: str) -> str:\n",
        "    result = \"\"\n",
        "    entities = entity_chain.invoke({\"question\": question})\n",
        "    for entity in entities.names:\n",
        "        response = graph.query(\n",
        "            \"\"\"CALL db.index.fulltext.queryNodes('entity', $query, {limit:2})\n",
        "            YIELD node,score\n",
        "            CALL {\n",
        "              WITH node\n",
        "              MATCH (node)-[r:!MENTIONS]->(neighbor)\n",
        "              RETURN node.id + ' - ' + type(r) + ' -> ' + neighbor.id AS output\n",
        "              UNION ALL\n",
        "              WITH node\n",
        "              MATCH (node)<-[r:!MENTIONS]-(neighbor)\n",
        "              RETURN neighbor.id + ' - ' + type(r) + ' -> ' +  node.id AS output\n",
        "            }\n",
        "            RETURN output LIMIT 50\n",
        "            \"\"\",\n",
        "            {\"query\": generate_full_text_query(entity)},\n",
        "        )\n",
        "        result += \"\\n\".join([el['output'] for el in response])\n",
        "    return result"
      ]
    },
    {
      "cell_type": "code",
      "execution_count": 37,
      "metadata": {
        "id": "NH1PbV7BzmY1"
      },
      "outputs": [],
      "source": [
        "def retriever(question: str):\n",
        "    print(f\"Search query: {question}\")\n",
        "    structured_data = structured_retriever(question)\n",
        "    unstructured_data = [el.page_content for el in vector_index.similarity_search(question)]\n",
        "    final_data = f\"\"\"Structured data:\n",
        "{structured_data}\n",
        "Unstructured data:\n",
        "{\"#Document \". join(unstructured_data)}\n",
        "    \"\"\"\n",
        "    return final_data"
      ]
    },
    {
      "cell_type": "code",
      "execution_count": 38,
      "metadata": {
        "id": "Tqz5DBzfGQlT"
      },
      "outputs": [],
      "source": [
        "def retriever(question: str):\n",
        "    print(f\"Search query: {question}\")\n",
        "\n",
        "    structured_data = structured_retriever(question)\n",
        "    unstructured_data = [el.page_content for el in vector_index.similarity_search(question)]\n",
        "\n",
        "    final_data = f\"\"\"Structured data:\n",
        "{structured_data}\n",
        "Unstructured data:\n",
        "{\"#Document \".join(unstructured_data)}\n",
        "    \"\"\"\n",
        "    return final_data\n"
      ]
    },
    {
      "cell_type": "code",
      "execution_count": 39,
      "metadata": {
        "id": "m5u5C9I_zqVa"
      },
      "outputs": [],
      "source": [
        "_template = \"\"\"Given the following conversation and a follow up question, rephrase the follow up question to be a standalone question,\n",
        "in its original language.\n",
        "Chat History:\n",
        "{chat_history}\n",
        "Follow Up Input: {question}\n",
        "Standalone question:\"\"\""
      ]
    },
    {
      "cell_type": "code",
      "execution_count": 40,
      "metadata": {
        "id": "sj4FUzeLzspy"
      },
      "outputs": [],
      "source": [
        "CONDENSE_QUESTION_PROMPT = PromptTemplate.from_template(_template)"
      ]
    },
    {
      "cell_type": "code",
      "execution_count": 41,
      "metadata": {
        "id": "pC2j67FCzutI"
      },
      "outputs": [],
      "source": [
        "def _format_chat_history(chat_history: List[Tuple[str, str]]) -> List:\n",
        "    buffer = []\n",
        "    for human, ai in chat_history:\n",
        "        buffer.append(HumanMessage(content=human))\n",
        "        buffer.append(AIMessage(content=ai))\n",
        "    return buffer"
      ]
    },
    {
      "cell_type": "code",
      "execution_count": 42,
      "metadata": {
        "id": "Yz1LzvKyzwiB"
      },
      "outputs": [],
      "source": [
        "_search_query = RunnableBranch(\n",
        "    # If input includes chat_history, we condense it with the follow-up question\n",
        "    (\n",
        "        RunnableLambda(lambda x: bool(x.get(\"chat_history\"))).with_config(\n",
        "            run_name=\"HasChatHistoryCheck\"\n",
        "        ),  # Condense follow-up question and chat into a standalone_question\n",
        "        RunnablePassthrough.assign(\n",
        "            chat_history=lambda x: _format_chat_history(x[\"chat_history\"])\n",
        "        )\n",
        "        | CONDENSE_QUESTION_PROMPT\n",
        "        | ChatOpenAI(temperature=0)\n",
        "        | StrOutputParser(),\n",
        "    ),\n",
        "    # Else, we have no chat history, so just pass through the question\n",
        "    RunnableLambda(lambda x : x[\"question\"]),\n",
        ")\n"
      ]
    },
    {
      "cell_type": "code",
      "execution_count": 43,
      "metadata": {
        "id": "HttFbkgSzy45"
      },
      "outputs": [],
      "source": [
        "template = \"\"\"Answer the question based only on the following context:\n",
        "{context}\n",
        "\n",
        "Question: {question}\n",
        "Use natural language.\n",
        "Answer:\"\"\""
      ]
    },
    {
      "cell_type": "code",
      "execution_count": 44,
      "metadata": {
        "id": "p1sgpVpHz1bV"
      },
      "outputs": [],
      "source": [
        "prompt = ChatPromptTemplate.from_template(template)"
      ]
    },
    {
      "cell_type": "code",
      "execution_count": 45,
      "metadata": {
        "id": "gnDRnO_zz3XR"
      },
      "outputs": [],
      "source": [
        "chain = (\n",
        "    RunnableParallel(\n",
        "        {\n",
        "            \"context\": _search_query | retriever,\n",
        "            \"question\": RunnablePassthrough(),\n",
        "        }\n",
        "    )\n",
        "    | prompt\n",
        "    | llm\n",
        "    | StrOutputParser()\n",
        ")"
      ]
    },
    {
      "cell_type": "code",
      "execution_count": null,
      "metadata": {
        "id": "eV5VZJge0L1D"
      },
      "outputs": [],
      "source": [
        "# print(book_appointment(\"Dr. Alok Sardesai\", \"John Doe\", \"2025-03-22\", \"10:00 AM\"))"
      ]
    },
    {
      "cell_type": "code",
      "execution_count": null,
      "metadata": {
        "id": "YQFgMC0OGbVT"
      },
      "outputs": [],
      "source": [
        "# print(check_availability(\"Dr. Alok Sardesai\", \"2025-03-22\"))"
      ]
    },
    {
      "cell_type": "code",
      "execution_count": 46,
      "metadata": {
        "colab": {
          "base_uri": "https://localhost:8080/",
          "height": 160
        },
        "id": "cETmfqoBz6Ha",
        "outputId": "b1806f5d-1d50-4def-cc90-6e277e478e1b"
      },
      "outputs": [
        {
          "name": "stdout",
          "output_type": "stream",
          "text": [
            "Search query: who is the most busy server?\n"
          ]
        },
        {
          "name": "stderr",
          "output_type": "stream",
          "text": [
            "<ipython-input-35-bcc56ddd5940>:3: LangChainDeprecationWarning: The function `remove_lucene_chars` was deprecated in LangChain 0.3.8 and will be removed in 1.0. An updated version of the function exists in the :meth:`~langchain-neo4j package and should be used instead. To use it run `pip install -U :meth:`~langchain-neo4j` and import as `from :meth:`~langchain_neo4j.vectorstores.neo4j_vector import remove_lucene_chars``.\n",
            "  words = [el for el in remove_lucene_chars(input).split() if el]\n",
            "WARNING:neo4j.notifications:Received notification from DBMS server: {severity: WARNING} {code: Neo.ClientNotification.Statement.FeatureDeprecationWarning} {category: DEPRECATION} {title: This feature is deprecated and will be removed in future versions.} {description: CALL subquery without a variable scope clause is now deprecated. Use CALL (node, node) { ... }} {position: line: 3, column: 13, offset: 104} for query: \"CALL db.index.fulltext.queryNodes('entity', $query, {limit:2})\\n            YIELD node,score\\n            CALL {\\n              WITH node\\n              MATCH (node)-[r:!MENTIONS]->(neighbor)\\n              RETURN node.id + ' - ' + type(r) + ' -> ' + neighbor.id AS output\\n              UNION ALL\\n              WITH node\\n              MATCH (node)<-[r:!MENTIONS]-(neighbor)\\n              RETURN neighbor.id + ' - ' + type(r) + ' -> ' +  node.id AS output\\n            }\\n            RETURN output LIMIT 50\\n            \"\n",
            "WARNING:neo4j.notifications:Received notification from DBMS server: {severity: WARNING} {code: Neo.ClientNotification.Statement.FeatureDeprecationWarning} {category: DEPRECATION} {title: This feature is deprecated and will be removed in future versions.} {description: CALL subquery without a variable scope clause is now deprecated. Use CALL () { ... }} {position: line: 1, column: 1, offset: 0} for query: \"CALL { CALL db.index.vector.queryNodes($index, $k, $embedding) YIELD node, score WITH collect({node:node, score:score}) AS nodes, max(score) AS max UNWIND nodes AS n RETURN n.node AS node, (n.score / max) AS score UNION CALL db.index.fulltext.queryNodes($keyword_index, $query, {limit: $k}) YIELD node, score WITH collect({node:node, score:score}) AS nodes, max(score) AS max UNWIND nodes AS n RETURN n.node AS node, (n.score / max) AS score } WITH node, max(score) AS score ORDER BY score DESC LIMIT $k RETURN reduce(str='', k IN ['text'] | str + '\\\\n' + k + ': ' + coalesce(node[k], '')) AS text, node {.*, `embedding`: Null, id: Null, `text`: Null} AS metadata, score\"\n"
          ]
        },
        {
          "data": {
            "application/vnd.google.colaboratory.intrinsic+json": {
              "type": "string"
            },
            "text/plain": [
              "'Based on the provided data, the most busy server appears to be TAPASH, as they are mentioned in multiple transactions. Specifically, TAPASH served during the orders for \"PANEER CHILLY DRY\" and \"Burnt Garlic Soup (VEG).\" In contrast, TANMOY served only one order for \"Manchow Soup (VEG).\" Therefore, TAPASH is the busiest server among those listed.'"
            ]
          },
          "execution_count": 46,
          "metadata": {},
          "output_type": "execute_result"
        }
      ],
      "source": [
        "chain.invoke({\"question\": \"who is the most busy server?\"})"
      ]
    },
    {
      "cell_type": "code",
      "execution_count": null,
      "metadata": {
        "id": "FxTkU9jSGfaL"
      },
      "outputs": [],
      "source": []
    }
  ],
  "metadata": {
    "colab": {
      "gpuType": "T4",
      "provenance": []
    },
    "kernelspec": {
      "display_name": "Python 3",
      "name": "python3"
    },
    "language_info": {
      "name": "python"
    },
    "widgets": {
      "application/vnd.jupyter.widget-state+json": {
        "3e64ce0949b64b29a4420749e33b29d1": {
          "model_module": "@jupyter-widgets/base",
          "model_module_version": "1.2.0",
          "model_name": "LayoutModel",
          "state": {
            "_model_module": "@jupyter-widgets/base",
            "_model_module_version": "1.2.0",
            "_model_name": "LayoutModel",
            "_view_count": null,
            "_view_module": "@jupyter-widgets/base",
            "_view_module_version": "1.2.0",
            "_view_name": "LayoutView",
            "align_content": null,
            "align_items": null,
            "align_self": null,
            "border": null,
            "bottom": null,
            "display": null,
            "flex": null,
            "flex_flow": null,
            "grid_area": null,
            "grid_auto_columns": null,
            "grid_auto_flow": null,
            "grid_auto_rows": null,
            "grid_column": null,
            "grid_gap": null,
            "grid_row": null,
            "grid_template_areas": null,
            "grid_template_columns": null,
            "grid_template_rows": null,
            "height": "800px",
            "justify_content": null,
            "justify_items": null,
            "left": null,
            "margin": null,
            "max_height": null,
            "max_width": null,
            "min_height": null,
            "min_width": null,
            "object_fit": null,
            "object_position": null,
            "order": null,
            "overflow": null,
            "overflow_x": null,
            "overflow_y": null,
            "padding": null,
            "right": null,
            "top": null,
            "visibility": null,
            "width": "100%"
          }
        },
        "b4f87fbbdbbc430985e94c55168b4a4f": {
          "model_module": "yfiles-jupyter-graphs",
          "model_module_version": "^1.10.2",
          "model_name": "GraphModel",
          "state": {
            "_context_pane_mapping": [
              {
                "id": "Neighborhood",
                "title": "Neighborhood"
              },
              {
                "id": "Data",
                "title": "Data"
              },
              {
                "id": "Search",
                "title": "Search"
              },
              {
                "id": "About",
                "title": "About"
              }
            ],
            "_data_importer": "neo4j",
            "_directed": true,
            "_dom_classes": [],
            "_edges": [
              {
                "color": "#CDDC39",
                "directed": true,
                "end": 2,
                "id": 1152922604118474800,
                "label": "HAS_PAYMENT_TYPE",
                "properties": {
                  "label": "HAS_PAYMENT_TYPE"
                },
                "start": 1,
                "styles": {},
                "thickness_factor": 1
              },
              {
                "color": "#9E9E9E",
                "directed": true,
                "end": 3,
                "id": 1152923703630102500,
                "label": "HAS_ORDER_TYPE",
                "properties": {
                  "label": "HAS_ORDER_TYPE"
                },
                "start": 1,
                "styles": {},
                "thickness_factor": 1
              },
              {
                "color": "#9C27B0",
                "directed": true,
                "end": 4,
                "id": 1152924803141730300,
                "label": "HAS_AREA",
                "properties": {
                  "label": "HAS_AREA"
                },
                "start": 1,
                "styles": {},
                "thickness_factor": 1
              },
              {
                "color": "#2196F3",
                "directed": true,
                "end": 5,
                "id": 1152925902653358000,
                "label": "HAS_ITEM",
                "properties": {
                  "label": "HAS_ITEM"
                },
                "start": 1,
                "styles": {},
                "thickness_factor": 1
              },
              {
                "color": "#2196F3",
                "directed": true,
                "end": 119,
                "id": 6917533425687593000,
                "label": "HAS_ITEM",
                "properties": {
                  "label": "HAS_ITEM"
                },
                "start": 1,
                "styles": {},
                "thickness_factor": 1
              },
              {
                "color": "#2196F3",
                "directed": true,
                "end": 152,
                "id": 6917533425687593000,
                "label": "HAS_ITEM",
                "properties": {
                  "label": "HAS_ITEM"
                },
                "start": 1,
                "styles": {},
                "thickness_factor": 1
              },
              {
                "color": "#2196F3",
                "directed": true,
                "end": 166,
                "id": 6917533425687593000,
                "label": "HAS_ITEM",
                "properties": {
                  "label": "HAS_ITEM"
                },
                "start": 1,
                "styles": {},
                "thickness_factor": 1
              },
              {
                "color": "#2196F3",
                "directed": true,
                "end": 221,
                "id": 6917533425687593000,
                "label": "HAS_ITEM",
                "properties": {
                  "label": "HAS_ITEM"
                },
                "start": 1,
                "styles": {},
                "thickness_factor": 1
              },
              {
                "color": "#2196F3",
                "directed": true,
                "end": 230,
                "id": 6917533425687593000,
                "label": "HAS_ITEM",
                "properties": {
                  "label": "HAS_ITEM"
                },
                "start": 1,
                "styles": {},
                "thickness_factor": 1
              },
              {
                "color": "#2196F3",
                "directed": true,
                "end": 314,
                "id": 6917533425687593000,
                "label": "HAS_ITEM",
                "properties": {
                  "label": "HAS_ITEM"
                },
                "start": 1,
                "styles": {},
                "thickness_factor": 1
              },
              {
                "color": "#2196F3",
                "directed": true,
                "end": 353,
                "id": 6917533425687593000,
                "label": "HAS_ITEM",
                "properties": {
                  "label": "HAS_ITEM"
                },
                "start": 1,
                "styles": {},
                "thickness_factor": 1
              },
              {
                "color": "#2196F3",
                "directed": true,
                "end": 399,
                "id": 6917533425687593000,
                "label": "HAS_ITEM",
                "properties": {
                  "label": "HAS_ITEM"
                },
                "start": 1,
                "styles": {},
                "thickness_factor": 1
              },
              {
                "color": "#2196F3",
                "directed": true,
                "end": 409,
                "id": 6917533425687593000,
                "label": "HAS_ITEM",
                "properties": {
                  "label": "HAS_ITEM"
                },
                "start": 1,
                "styles": {},
                "thickness_factor": 1
              },
              {
                "color": "#2196F3",
                "directed": true,
                "end": 432,
                "id": 6917533425687593000,
                "label": "HAS_ITEM",
                "properties": {
                  "label": "HAS_ITEM"
                },
                "start": 1,
                "styles": {},
                "thickness_factor": 1
              },
              {
                "color": "#2196F3",
                "directed": true,
                "end": 469,
                "id": 6917533425687593000,
                "label": "HAS_ITEM",
                "properties": {
                  "label": "HAS_ITEM"
                },
                "start": 1,
                "styles": {},
                "thickness_factor": 1
              },
              {
                "color": "#2196F3",
                "directed": true,
                "end": 507,
                "id": 6917533425687593000,
                "label": "HAS_ITEM",
                "properties": {
                  "label": "HAS_ITEM"
                },
                "start": 1,
                "styles": {},
                "thickness_factor": 1
              },
              {
                "color": "#2196F3",
                "directed": true,
                "end": 519,
                "id": 6917533425687594000,
                "label": "HAS_ITEM",
                "properties": {
                  "label": "HAS_ITEM"
                },
                "start": 1,
                "styles": {},
                "thickness_factor": 1
              },
              {
                "color": "#2196F3",
                "directed": true,
                "end": 526,
                "id": 6917533425687594000,
                "label": "HAS_ITEM",
                "properties": {
                  "label": "HAS_ITEM"
                },
                "start": 1,
                "styles": {},
                "thickness_factor": 1
              },
              {
                "color": "#4CAF50",
                "directed": true,
                "end": 6,
                "id": 1152927002164985900,
                "label": "HAS_PRICE",
                "properties": {
                  "label": "HAS_PRICE"
                },
                "start": 1,
                "styles": {},
                "thickness_factor": 1
              },
              {
                "color": "#4CAF50",
                "directed": true,
                "end": 49,
                "id": 1155178801978671000,
                "label": "HAS_PRICE",
                "properties": {
                  "label": "HAS_PRICE"
                },
                "start": 1,
                "styles": {},
                "thickness_factor": 1
              },
              {
                "color": "#4CAF50",
                "directed": true,
                "end": 121,
                "id": 6917534525199221000,
                "label": "HAS_PRICE",
                "properties": {
                  "label": "HAS_PRICE"
                },
                "start": 1,
                "styles": {},
                "thickness_factor": 1
              },
              {
                "color": "#4CAF50",
                "directed": true,
                "end": 167,
                "id": 6917534525199221000,
                "label": "HAS_PRICE",
                "properties": {
                  "label": "HAS_PRICE"
                },
                "start": 1,
                "styles": {},
                "thickness_factor": 1
              },
              {
                "color": "#4CAF50",
                "directed": true,
                "end": 400,
                "id": 6917534525199221000,
                "label": "HAS_PRICE",
                "properties": {
                  "label": "HAS_PRICE"
                },
                "start": 1,
                "styles": {},
                "thickness_factor": 1
              },
              {
                "color": "#F44336",
                "directed": true,
                "end": 7,
                "id": 1152928101676613600,
                "label": "HAS_QUANTITY",
                "properties": {
                  "label": "HAS_QUANTITY"
                },
                "start": 1,
                "styles": {},
                "thickness_factor": 1
              },
              {
                "color": "#607D8B",
                "directed": true,
                "end": 8,
                "id": 1152929201188241400,
                "label": "HAS_SUB_TOTAL",
                "properties": {
                  "label": "HAS_SUB_TOTAL"
                },
                "start": 1,
                "styles": {},
                "thickness_factor": 1
              },
              {
                "color": "#607D8B",
                "directed": true,
                "end": 9,
                "id": 6917536724222476000,
                "label": "HAS_SUB_TOTAL",
                "properties": {
                  "label": "HAS_SUB_TOTAL"
                },
                "start": 1,
                "styles": {},
                "thickness_factor": 1
              },
              {
                "color": "#607D8B",
                "directed": true,
                "end": 168,
                "id": 6917536724222476000,
                "label": "HAS_SUB_TOTAL",
                "properties": {
                  "label": "HAS_SUB_TOTAL"
                },
                "start": 1,
                "styles": {},
                "thickness_factor": 1
              },
              {
                "color": "#607D8B",
                "directed": true,
                "end": 401,
                "id": 6917536724222476000,
                "label": "HAS_SUB_TOTAL",
                "properties": {
                  "label": "HAS_SUB_TOTAL"
                },
                "start": 1,
                "styles": {},
                "thickness_factor": 1
              },
              {
                "color": "#607D8B",
                "directed": true,
                "end": 520,
                "id": 6917536724222477000,
                "label": "HAS_SUB_TOTAL",
                "properties": {
                  "label": "HAS_SUB_TOTAL"
                },
                "start": 1,
                "styles": {},
                "thickness_factor": 1
              },
              {
                "color": "#673AB7",
                "directed": true,
                "end": 9,
                "id": 1152930300699869200,
                "label": "HAS_DISCOUNT",
                "properties": {
                  "label": "HAS_DISCOUNT"
                },
                "start": 1,
                "styles": {},
                "thickness_factor": 1
              },
              {
                "color": "#CDDC39",
                "directed": true,
                "end": 9,
                "id": 6917538923245732000,
                "label": "HAS_TAX",
                "properties": {
                  "label": "HAS_TAX"
                },
                "start": 1,
                "styles": {},
                "thickness_factor": 1
              },
              {
                "color": "#CDDC39",
                "directed": true,
                "end": 10,
                "id": 1152931400211497000,
                "label": "HAS_TAX",
                "properties": {
                  "label": "HAS_TAX"
                },
                "start": 1,
                "styles": {},
                "thickness_factor": 1
              },
              {
                "color": "#CDDC39",
                "directed": true,
                "end": 169,
                "id": 6917538923245732000,
                "label": "HAS_TAX",
                "properties": {
                  "label": "HAS_TAX"
                },
                "start": 1,
                "styles": {},
                "thickness_factor": 1
              },
              {
                "color": "#CDDC39",
                "directed": true,
                "end": 402,
                "id": 6917538923245732000,
                "label": "HAS_TAX",
                "properties": {
                  "label": "HAS_TAX"
                },
                "start": 1,
                "styles": {},
                "thickness_factor": 1
              },
              {
                "color": "#CDDC39",
                "directed": true,
                "end": 522,
                "id": 6917538923245733000,
                "label": "HAS_TAX",
                "properties": {
                  "label": "HAS_TAX"
                },
                "start": 1,
                "styles": {},
                "thickness_factor": 1
              },
              {
                "color": "#9E9E9E",
                "directed": true,
                "end": 9,
                "id": 6917540022757360000,
                "label": "HAS_FINAL_TOTAL",
                "properties": {
                  "label": "HAS_FINAL_TOTAL"
                },
                "start": 1,
                "styles": {},
                "thickness_factor": 1
              },
              {
                "color": "#9E9E9E",
                "directed": true,
                "end": 11,
                "id": 1152932499723124700,
                "label": "HAS_FINAL_TOTAL",
                "properties": {
                  "label": "HAS_FINAL_TOTAL"
                },
                "start": 1,
                "styles": {},
                "thickness_factor": 1
              },
              {
                "color": "#9E9E9E",
                "directed": true,
                "end": 122,
                "id": 6917540022757360000,
                "label": "HAS_FINAL_TOTAL",
                "properties": {
                  "label": "HAS_FINAL_TOTAL"
                },
                "start": 1,
                "styles": {},
                "thickness_factor": 1
              },
              {
                "color": "#9E9E9E",
                "directed": true,
                "end": 170,
                "id": 6917540022757360000,
                "label": "HAS_FINAL_TOTAL",
                "properties": {
                  "label": "HAS_FINAL_TOTAL"
                },
                "start": 1,
                "styles": {},
                "thickness_factor": 1
              },
              {
                "color": "#9E9E9E",
                "directed": true,
                "end": 403,
                "id": 6917540022757360000,
                "label": "HAS_FINAL_TOTAL",
                "properties": {
                  "label": "HAS_FINAL_TOTAL"
                },
                "start": 1,
                "styles": {},
                "thickness_factor": 1
              },
              {
                "color": "#9E9E9E",
                "directed": true,
                "end": 470,
                "id": 6917540022757360000,
                "label": "HAS_FINAL_TOTAL",
                "properties": {
                  "label": "HAS_FINAL_TOTAL"
                },
                "start": 1,
                "styles": {},
                "thickness_factor": 1
              },
              {
                "color": "#9E9E9E",
                "directed": true,
                "end": 521,
                "id": 6917540022757361000,
                "label": "HAS_FINAL_TOTAL",
                "properties": {
                  "label": "HAS_FINAL_TOTAL"
                },
                "start": 1,
                "styles": {},
                "thickness_factor": 1
              },
              {
                "color": "#9C27B0",
                "directed": true,
                "end": 12,
                "id": 1152933599234752500,
                "label": "HAS_STATUS",
                "properties": {
                  "label": "HAS_STATUS"
                },
                "start": 1,
                "styles": {},
                "thickness_factor": 1
              },
              {
                "color": "#2196F3",
                "directed": true,
                "end": 13,
                "id": 1152934698746380300,
                "label": "HAS_TABLE",
                "properties": {
                  "label": "HAS_TABLE"
                },
                "start": 1,
                "styles": {},
                "thickness_factor": 1
              },
              {
                "color": "#4CAF50",
                "directed": true,
                "end": 14,
                "id": 1152935798258008000,
                "label": "HAS_SERVER",
                "properties": {
                  "label": "HAS_SERVER"
                },
                "start": 1,
                "styles": {},
                "thickness_factor": 1
              },
              {
                "color": "#F44336",
                "directed": true,
                "end": 15,
                "id": 1152936897769635800,
                "label": "HAS_COVERS",
                "properties": {
                  "label": "HAS_COVERS"
                },
                "start": 1,
                "styles": {},
                "thickness_factor": 1
              },
              {
                "color": "#607D8B",
                "directed": true,
                "end": 16,
                "id": 1152937997281263600,
                "label": "HAS_CATEGORY",
                "properties": {
                  "label": "HAS_CATEGORY"
                },
                "start": 1,
                "styles": {},
                "thickness_factor": 1
              },
              {
                "color": "#607D8B",
                "directed": true,
                "end": 120,
                "id": 6917545520315498000,
                "label": "HAS_CATEGORY",
                "properties": {
                  "label": "HAS_CATEGORY"
                },
                "start": 1,
                "styles": {},
                "thickness_factor": 1
              },
              {
                "color": "#607D8B",
                "directed": true,
                "end": 172,
                "id": 6917545520315498000,
                "label": "HAS_CATEGORY",
                "properties": {
                  "label": "HAS_CATEGORY"
                },
                "start": 1,
                "styles": {},
                "thickness_factor": 1
              },
              {
                "color": "#607D8B",
                "directed": true,
                "end": 196,
                "id": 6917545520315498000,
                "label": "HAS_CATEGORY",
                "properties": {
                  "label": "HAS_CATEGORY"
                },
                "start": 1,
                "styles": {},
                "thickness_factor": 1
              }
            ],
            "_graph_layout": {},
            "_highlight": [],
            "_license": {},
            "_model_module": "yfiles-jupyter-graphs",
            "_model_module_version": "^1.10.2",
            "_model_name": "GraphModel",
            "_neighborhood": {},
            "_nodes": [
              {
                "color": "#2196F3",
                "id": 1,
                "label": "C1984",
                "position": [
                  0,
                  0
                ],
                "properties": {
                  "id": "C1984",
                  "label": "Invoice:__Entity__"
                },
                "scale_factor": 1,
                "size": [
                  55,
                  55
                ],
                "styles": {},
                "type": "#2196F3"
              },
              {
                "color": "#4CAF50",
                "id": 2,
                "label": "Cash",
                "position": [
                  0,
                  0
                ],
                "properties": {
                  "id": "Cash",
                  "label": "Payment_type:Payment type:__Entity__"
                },
                "scale_factor": 1,
                "size": [
                  55,
                  55
                ],
                "styles": {},
                "type": "#4CAF50"
              },
              {
                "color": "#F44336",
                "id": 3,
                "label": "Dine In",
                "position": [
                  0,
                  0
                ],
                "properties": {
                  "id": "Dine In",
                  "label": "Order_type:Ordertype:Order type:Area:__Entity__"
                },
                "scale_factor": 1,
                "size": [
                  55,
                  55
                ],
                "styles": {},
                "type": "#F44336"
              },
              {
                "color": "#607D8B",
                "id": 4,
                "label": "Garden Table",
                "position": [
                  0,
                  0
                ],
                "properties": {
                  "id": "Garden Table",
                  "label": "Area:__Entity__"
                },
                "scale_factor": 1,
                "size": [
                  55,
                  55
                ],
                "styles": {},
                "type": "#607D8B"
              },
              {
                "color": "#673AB7",
                "id": 5,
                "label": "Exotic Stir Fried Vegetable",
                "position": [
                  0,
                  0
                ],
                "properties": {
                  "id": "Exotic Stir Fried Vegetable",
                  "label": "Item:__Entity__"
                },
                "scale_factor": 1,
                "size": [
                  55,
                  55
                ],
                "styles": {},
                "type": "#673AB7"
              },
              {
                "color": "#673AB7",
                "id": 119,
                "label": "Hakka Noodles (Veg)",
                "position": [
                  0,
                  0
                ],
                "properties": {
                  "id": "Hakka Noodles (Veg)",
                  "label": "Item:__Entity__"
                },
                "scale_factor": 1,
                "size": [
                  55,
                  55
                ],
                "styles": {},
                "type": "#673AB7"
              },
              {
                "color": "#CDDC39",
                "id": 152,
                "label": "Bottled Water",
                "position": [
                  0,
                  0
                ],
                "properties": {
                  "id": "Bottled Water",
                  "label": "Item_name:Item:__Entity__"
                },
                "scale_factor": 1,
                "size": [
                  55,
                  55
                ],
                "styles": {},
                "type": "#CDDC39"
              },
              {
                "color": "#673AB7",
                "id": 166,
                "label": "Manchow Soup (Chicken)",
                "position": [
                  0,
                  0
                ],
                "properties": {
                  "id": "Manchow Soup (Chicken)",
                  "label": "Item:__Entity__"
                },
                "scale_factor": 1,
                "size": [
                  55,
                  55
                ],
                "styles": {},
                "type": "#673AB7"
              },
              {
                "color": "#673AB7",
                "id": 221,
                "label": "Manchow Soup (Veg)",
                "position": [
                  0,
                  0
                ],
                "properties": {
                  "id": "Manchow Soup (Veg)",
                  "label": "Item:__Entity__"
                },
                "scale_factor": 1,
                "size": [
                  55,
                  55
                ],
                "styles": {},
                "type": "#673AB7"
              },
              {
                "color": "#673AB7",
                "id": 230,
                "label": "Appam (2Pc)",
                "position": [
                  0,
                  0
                ],
                "properties": {
                  "id": "Appam (2Pc)",
                  "label": "Item:__Entity__"
                },
                "scale_factor": 1,
                "size": [
                  55,
                  55
                ],
                "styles": {},
                "type": "#673AB7"
              },
              {
                "color": "#673AB7",
                "id": 314,
                "label": "Sweet Corn Soup (Chicken)",
                "position": [
                  0,
                  0
                ],
                "properties": {
                  "id": "Sweet Corn Soup (Chicken)",
                  "label": "Item:__Entity__"
                },
                "scale_factor": 1,
                "size": [
                  55,
                  55
                ],
                "styles": {},
                "type": "#673AB7"
              },
              {
                "color": "#9E9E9E",
                "id": 353,
                "label": "Cottage Cheese With Three Peppers",
                "position": [
                  0,
                  0
                ],
                "properties": {
                  "id": "Cottage Cheese With Three Peppers",
                  "label": "Item_name:__Entity__"
                },
                "scale_factor": 1,
                "size": [
                  55,
                  55
                ],
                "styles": {},
                "type": "#9E9E9E"
              },
              {
                "color": "#673AB7",
                "id": 399,
                "label": "Neer Dosa(4Pc)",
                "position": [
                  0,
                  0
                ],
                "properties": {
                  "id": "Neer Dosa(4Pc)",
                  "label": "Item:__Entity__"
                },
                "scale_factor": 1,
                "size": [
                  55,
                  55
                ],
                "styles": {},
                "type": "#673AB7"
              },
              {
                "color": "#673AB7",
                "id": 409,
                "label": "Paneer Chilly Dry",
                "position": [
                  0,
                  0
                ],
                "properties": {
                  "id": "Paneer Chilly Dry",
                  "label": "Item:__Entity__"
                },
                "scale_factor": 1,
                "size": [
                  55,
                  55
                ],
                "styles": {},
                "type": "#673AB7"
              },
              {
                "color": "#673AB7",
                "id": 432,
                "label": "Sweet Corn Soup (Veg)",
                "position": [
                  0,
                  0
                ],
                "properties": {
                  "id": "Sweet Corn Soup (Veg)",
                  "label": "Item:__Entity__"
                },
                "scale_factor": 1,
                "size": [
                  55,
                  55
                ],
                "styles": {},
                "type": "#673AB7"
              },
              {
                "color": "#673AB7",
                "id": 469,
                "label": "Vegetable Gassi",
                "position": [
                  0,
                  0
                ],
                "properties": {
                  "id": "Vegetable Gassi",
                  "label": "Item:__Entity__"
                },
                "scale_factor": 1,
                "size": [
                  55,
                  55
                ],
                "styles": {},
                "type": "#673AB7"
              },
              {
                "color": "#673AB7",
                "id": 507,
                "label": "Burnt Garlic Soup (Veg)",
                "position": [
                  0,
                  0
                ],
                "properties": {
                  "id": "Burnt Garlic Soup (Veg)",
                  "label": "Item:__Entity__"
                },
                "scale_factor": 1,
                "size": [
                  55,
                  55
                ],
                "styles": {},
                "type": "#673AB7"
              },
              {
                "color": "#9E9E9E",
                "id": 519,
                "label": "Cheese & Garlic Naan",
                "position": [
                  0,
                  0
                ],
                "properties": {
                  "id": "Cheese & Garlic Naan",
                  "label": "Item_name:__Entity__"
                },
                "scale_factor": 1,
                "size": [
                  55,
                  55
                ],
                "styles": {},
                "type": "#9E9E9E"
              },
              {
                "color": "#673AB7",
                "id": 526,
                "label": "Crispy Corn",
                "position": [
                  0,
                  0
                ],
                "properties": {
                  "id": "Crispy Corn",
                  "label": "Item:__Entity__"
                },
                "scale_factor": 1,
                "size": [
                  55,
                  55
                ],
                "styles": {},
                "type": "#673AB7"
              },
              {
                "color": "#9C27B0",
                "id": 6,
                "label": "795",
                "position": [
                  0,
                  0
                ],
                "properties": {
                  "id": "795",
                  "label": "Price:__Entity__"
                },
                "scale_factor": 1,
                "size": [
                  55,
                  55
                ],
                "styles": {},
                "type": "#9C27B0"
              },
              {
                "color": "#9C27B0",
                "id": 49,
                "label": "0",
                "position": [
                  0,
                  0
                ],
                "properties": {
                  "id": "0",
                  "label": "Price:__Entity__"
                },
                "scale_factor": 1,
                "size": [
                  55,
                  55
                ],
                "styles": {},
                "type": "#9C27B0"
              },
              {
                "color": "#9C27B0",
                "id": 121,
                "label": "765",
                "position": [
                  0,
                  0
                ],
                "properties": {
                  "id": "765",
                  "label": "Price:__Entity__"
                },
                "scale_factor": 1,
                "size": [
                  55,
                  55
                ],
                "styles": {},
                "type": "#9C27B0"
              },
              {
                "color": "#9C27B0",
                "id": 167,
                "label": "365",
                "position": [
                  0,
                  0
                ],
                "properties": {
                  "id": "365",
                  "label": "Price:__Entity__"
                },
                "scale_factor": 1,
                "size": [
                  55,
                  55
                ],
                "styles": {},
                "type": "#9C27B0"
              },
              {
                "color": "#9C27B0",
                "id": 400,
                "label": "225",
                "position": [
                  0,
                  0
                ],
                "properties": {
                  "id": "225",
                  "label": "Price:__Entity__"
                },
                "scale_factor": 1,
                "size": [
                  55,
                  55
                ],
                "styles": {},
                "type": "#9C27B0"
              },
              {
                "color": "#2196F3",
                "id": 7,
                "label": "1.0",
                "position": [
                  0,
                  0
                ],
                "properties": {
                  "id": "1.0",
                  "label": "Quantity:__Entity__"
                },
                "scale_factor": 1,
                "size": [
                  55,
                  55
                ],
                "styles": {},
                "type": "#2196F3"
              },
              {
                "color": "#4CAF50",
                "id": 8,
                "label": "795.0",
                "position": [
                  0,
                  0
                ],
                "properties": {
                  "id": "795.0",
                  "label": "Sub total:Sub_total:__Entity__"
                },
                "scale_factor": 1,
                "size": [
                  55,
                  55
                ],
                "styles": {},
                "type": "#4CAF50"
              },
              {
                "color": "#F44336",
                "id": 9,
                "label": "0.0",
                "position": [
                  0,
                  0
                ],
                "properties": {
                  "id": "0.0",
                  "label": "Sub_total:Final_total:Discount:Non taxable:Vat amount:Non_taxable:Vat_amount:Tax:__Entity__"
                },
                "scale_factor": 1,
                "size": [
                  55,
                  55
                ],
                "styles": {},
                "type": "#F44336"
              },
              {
                "color": "#607D8B",
                "id": 168,
                "label": "365.0",
                "position": [
                  0,
                  0
                ],
                "properties": {
                  "id": "365.0",
                  "label": "Sub_total:__Entity__"
                },
                "scale_factor": 1,
                "size": [
                  55,
                  55
                ],
                "styles": {},
                "type": "#607D8B"
              },
              {
                "color": "#607D8B",
                "id": 401,
                "label": "225.0",
                "position": [
                  0,
                  0
                ],
                "properties": {
                  "id": "225.0",
                  "label": "Sub_total:__Entity__"
                },
                "scale_factor": 1,
                "size": [
                  55,
                  55
                ],
                "styles": {},
                "type": "#607D8B"
              },
              {
                "color": "#607D8B",
                "id": 520,
                "label": "580.0",
                "position": [
                  0,
                  0
                ],
                "properties": {
                  "id": "580.0",
                  "label": "Sub_total:__Entity__"
                },
                "scale_factor": 1,
                "size": [
                  55,
                  55
                ],
                "styles": {},
                "type": "#607D8B"
              },
              {
                "color": "#673AB7",
                "id": 10,
                "label": "79.6",
                "position": [
                  0,
                  0
                ],
                "properties": {
                  "id": "79.6",
                  "label": "Tax:__Entity__"
                },
                "scale_factor": 1,
                "size": [
                  55,
                  55
                ],
                "styles": {},
                "type": "#673AB7"
              },
              {
                "color": "#673AB7",
                "id": 169,
                "label": "36.5",
                "position": [
                  0,
                  0
                ],
                "properties": {
                  "id": "36.5",
                  "label": "Tax:__Entity__"
                },
                "scale_factor": 1,
                "size": [
                  55,
                  55
                ],
                "styles": {},
                "type": "#673AB7"
              },
              {
                "color": "#673AB7",
                "id": 402,
                "label": "22.5",
                "position": [
                  0,
                  0
                ],
                "properties": {
                  "id": "22.5",
                  "label": "Tax:__Entity__"
                },
                "scale_factor": 1,
                "size": [
                  55,
                  55
                ],
                "styles": {},
                "type": "#673AB7"
              },
              {
                "color": "#673AB7",
                "id": 522,
                "label": "58.0",
                "position": [
                  0,
                  0
                ],
                "properties": {
                  "id": "58.0",
                  "label": "Tax:__Entity__"
                },
                "scale_factor": 1,
                "size": [
                  55,
                  55
                ],
                "styles": {},
                "type": "#673AB7"
              },
              {
                "color": "#CDDC39",
                "id": 11,
                "label": "874.6",
                "position": [
                  0,
                  0
                ],
                "properties": {
                  "id": "874.6",
                  "label": "Final total:Final_total:__Entity__"
                },
                "scale_factor": 1,
                "size": [
                  55,
                  55
                ],
                "styles": {},
                "type": "#CDDC39"
              },
              {
                "color": "#9E9E9E",
                "id": 122,
                "label": "841.5",
                "position": [
                  0,
                  0
                ],
                "properties": {
                  "id": "841.5",
                  "label": "Final_total:__Entity__"
                },
                "scale_factor": 1,
                "size": [
                  55,
                  55
                ],
                "styles": {},
                "type": "#9E9E9E"
              },
              {
                "color": "#9E9E9E",
                "id": 170,
                "label": "401.5",
                "position": [
                  0,
                  0
                ],
                "properties": {
                  "id": "401.5",
                  "label": "Final_total:__Entity__"
                },
                "scale_factor": 1,
                "size": [
                  55,
                  55
                ],
                "styles": {},
                "type": "#9E9E9E"
              },
              {
                "color": "#9E9E9E",
                "id": 403,
                "label": "247.5",
                "position": [
                  0,
                  0
                ],
                "properties": {
                  "id": "247.5",
                  "label": "Final_total:__Entity__"
                },
                "scale_factor": 1,
                "size": [
                  55,
                  55
                ],
                "styles": {},
                "type": "#9E9E9E"
              },
              {
                "color": "#9C27B0",
                "id": 470,
                "label": "437.2",
                "position": [
                  0,
                  0
                ],
                "properties": {
                  "id": "437.2",
                  "label": "Final total:__Entity__"
                },
                "scale_factor": 1,
                "size": [
                  55,
                  55
                ],
                "styles": {},
                "type": "#9C27B0"
              },
              {
                "color": "#9E9E9E",
                "id": 521,
                "label": "638.0",
                "position": [
                  0,
                  0
                ],
                "properties": {
                  "id": "638.0",
                  "label": "Final_total:__Entity__"
                },
                "scale_factor": 1,
                "size": [
                  55,
                  55
                ],
                "styles": {},
                "type": "#9E9E9E"
              },
              {
                "color": "#2196F3",
                "id": 12,
                "label": "Complimentary",
                "position": [
                  0,
                  0
                ],
                "properties": {
                  "id": "Complimentary",
                  "label": "Status:__Entity__"
                },
                "scale_factor": 1,
                "size": [
                  55,
                  55
                ],
                "styles": {},
                "type": "#2196F3"
              },
              {
                "color": "#4CAF50",
                "id": 13,
                "label": "G 5",
                "position": [
                  0,
                  0
                ],
                "properties": {
                  "id": "G 5",
                  "label": "Table:Table_no:__Entity__"
                },
                "scale_factor": 1,
                "size": [
                  55,
                  55
                ],
                "styles": {},
                "type": "#4CAF50"
              },
              {
                "color": "#F44336",
                "id": 14,
                "label": "Tapash",
                "position": [
                  0,
                  0
                ],
                "properties": {
                  "id": "Tapash",
                  "label": "Biller:Server_name:Server:Person:__Entity__"
                },
                "scale_factor": 1,
                "size": [
                  55,
                  55
                ],
                "styles": {},
                "type": "#F44336"
              },
              {
                "color": "#607D8B",
                "id": 15,
                "label": "3",
                "position": [
                  0,
                  0
                ],
                "properties": {
                  "id": "3",
                  "label": "Covers:__Entity__"
                },
                "scale_factor": 1,
                "size": [
                  55,
                  55
                ],
                "styles": {},
                "type": "#607D8B"
              },
              {
                "color": "#673AB7",
                "id": 16,
                "label": "Oriental Starter",
                "position": [
                  0,
                  0
                ],
                "properties": {
                  "id": "Oriental Starter",
                  "label": "Category:__Entity__"
                },
                "scale_factor": 1,
                "size": [
                  55,
                  55
                ],
                "styles": {},
                "type": "#673AB7"
              },
              {
                "color": "#673AB7",
                "id": 120,
                "label": "Oriental Rice & Noodles",
                "position": [
                  0,
                  0
                ],
                "properties": {
                  "id": "Oriental Rice & Noodles",
                  "label": "Category:__Entity__"
                },
                "scale_factor": 1,
                "size": [
                  55,
                  55
                ],
                "styles": {},
                "type": "#673AB7"
              },
              {
                "color": "#673AB7",
                "id": 172,
                "label": "Oriental Soups",
                "position": [
                  0,
                  0
                ],
                "properties": {
                  "id": "Oriental Soups",
                  "label": "Category:__Entity__"
                },
                "scale_factor": 1,
                "size": [
                  55,
                  55
                ],
                "styles": {},
                "type": "#673AB7"
              },
              {
                "color": "#673AB7",
                "id": 196,
                "label": "Complementary",
                "position": [
                  0,
                  0
                ],
                "properties": {
                  "id": "Complementary",
                  "label": "Category:__Entity__"
                },
                "scale_factor": 1,
                "size": [
                  55,
                  55
                ],
                "styles": {},
                "type": "#673AB7"
              }
            ],
            "_overview": {
              "enabled": null,
              "overview_set": false
            },
            "_selected_graph": [
              [],
              []
            ],
            "_sidebar": {
              "enabled": false,
              "start_with": null
            },
            "_view_count": null,
            "_view_module": "yfiles-jupyter-graphs",
            "_view_module_version": "^1.10.2",
            "_view_name": "GraphView",
            "layout": "IPY_MODEL_c71a382ddfbb42959bf79c92c3558cf3"
          }
        },
        "c71a382ddfbb42959bf79c92c3558cf3": {
          "model_module": "@jupyter-widgets/base",
          "model_module_version": "1.2.0",
          "model_name": "LayoutModel",
          "state": {
            "_model_module": "@jupyter-widgets/base",
            "_model_module_version": "1.2.0",
            "_model_name": "LayoutModel",
            "_view_count": null,
            "_view_module": "@jupyter-widgets/base",
            "_view_module_version": "1.2.0",
            "_view_name": "LayoutView",
            "align_content": null,
            "align_items": null,
            "align_self": null,
            "border": null,
            "bottom": null,
            "display": null,
            "flex": null,
            "flex_flow": null,
            "grid_area": null,
            "grid_auto_columns": null,
            "grid_auto_flow": null,
            "grid_auto_rows": null,
            "grid_column": null,
            "grid_gap": null,
            "grid_row": null,
            "grid_template_areas": null,
            "grid_template_columns": null,
            "grid_template_rows": null,
            "height": "800px",
            "justify_content": null,
            "justify_items": null,
            "left": null,
            "margin": null,
            "max_height": null,
            "max_width": null,
            "min_height": null,
            "min_width": null,
            "object_fit": null,
            "object_position": null,
            "order": null,
            "overflow": null,
            "overflow_x": null,
            "overflow_y": null,
            "padding": null,
            "right": null,
            "top": null,
            "visibility": null,
            "width": "100%"
          }
        }
      }
    }
  },
  "nbformat": 4,
  "nbformat_minor": 0
}
